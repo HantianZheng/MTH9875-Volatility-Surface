{
 "cells": [
  {
   "cell_type": "markdown",
   "metadata": {
    "slideshow": {
     "slide_type": "slide"
    }
   },
   "source": [
    "## MTH 9875 The Volatility Surface:    Fall 2019\n",
    "<p>\n",
    "\n",
    "### Lecture 2: Stochastic volatility and local volatility\n",
    "\n",
    "\n",
    "Jim Gatheral   \n",
    "Department of Mathematics   \n",
    "  \n",
    "\n",
    "  \n",
    "  \n",
    "<h3><img src=\"http://mfe.baruch.cuny.edu/wp-content/uploads/2016/04/MFE-Logo.jpg\" align = \"right\" width=500></h3>\n",
    "   \n",
    "  \n",
    "$$\n",
    "\\newcommand{\\E}{\\mathbb{E}}\n",
    "\\newcommand{\\R}{\\mathbb{R}}\n",
    "\\newcommand{\\sigl}{\\sigma_L}\n",
    "\\newcommand{\\BS}{\\rm BS}\n",
    "\\newcommand{\\p}{\\partial}\n",
    "\\newcommand{\\var}{{\\rm var}}\n",
    "\\newcommand{\\cov}{{\\rm cov}}\n",
    "\\newcommand{\\beas}{\\begin{eqnarray*}}\n",
    "\\newcommand{\\eeas}{\\end{eqnarray*}}\n",
    "\\newcommand{\\bea}{\\begin{eqnarray}}\n",
    "\\newcommand{\\eea}{\\end{eqnarray}}\n",
    "\\newcommand{\\ben}{\\begin{enumerate}}\n",
    "\\newcommand{\\een}{\\end{enumerate}}\n",
    "\\newcommand{\\mt}{\\mathbf{t}}\n",
    "\\newcommand{\\mS}{\\mathbf{S}}\n",
    "\\newcommand{\\tC}{\\widetilde{C}}\n",
    "\\newcommand{\\hC}{\\widehat{C}}\n",
    "\\newcommand{\\tH}{\\widetilde{H}}\n",
    "\\newcommand{\\cD}{\\mathcal{D}}\n",
    "\\newcommand{\\cS}{\\mathcal{S}}\n",
    "\\newcommand{\\cR}{\\mathcal{R}}\n",
    "\\newcommand{\\cF}{\\mathcal{F}}\n",
    "\\newcommand{\\cV}{\\mathcal{V}}\n",
    "\\newcommand{\\cG}{\\mathcal{G}}\n",
    "\\newcommand{\\cv}{\\mathcal{v}}\n",
    "\\newcommand{\\cg}{\\mathcal{g}}\n",
    "\\newcommand{\\cO}{\\mathcal{O}}\n",
    "\\newcommand{\\dt}{\\Delta t}\n",
    "\\newcommand{\\tr}{{\\rm tr}}\n",
    "\\newcommand{\\bi}{\\begin{itemize}}\n",
    "\\newcommand{\\ei}{\\end{itemize}}\n",
    "\\newcommand{\\beq}{\\begin{equation}}\n",
    "\\newcommand{\\eeq}{\\end{equation}}\n",
    "\\newcommand{\\bv}{\\begin{verbatim}}\n",
    "\\newcommand{\\ev}{\\end{verbatim}}\n",
    "\\newcommand{\\dsum}{\\displaystyle\\sum}\n",
    "\\newcommand{\\sgn}{\\mathrm{sign}}\n",
    "\\newcommand{\\ee}[1]{{\\mathbb{E}\\left[{#1}\\right]}}\n",
    "\\newcommand{\\eef}[1]{{\\mathbb{E}\\left[\\left.{#1}\\right|\\cF_t\\right]}}\n",
    "\\newcommand{\\angl}[1]{{\\langle{#1}\\rangle}}\n",
    "$$ \n",
    "   \n",
    "   "
   ]
  },
  {
   "cell_type": "markdown",
   "metadata": {
    "slideshow": {
     "slide_type": "slide"
    }
   },
   "source": [
    "### Outline of lecture 2\n",
    "  \n",
    "* Stochastic volatility \n",
    "  \n",
    "    * Motivation for stochastic volatility \n",
    "    * Derivation of the valuation equation \n",
    "    * The market price of volatility risk and market completeness \n",
    "    * Solving the valuation equation \n",
    "    * Examples of stochastic volatility models \n",
    "  "
   ]
  },
  {
   "cell_type": "markdown",
   "metadata": {
    "slideshow": {
     "slide_type": "subslide"
    }
   },
   "source": [
    "* Local volatility \n",
    "  \n",
    "    * Historical development \n",
    "    * The Dupire equation \n",
    "    * Local volatility in terms of implied volatility \n",
    "    * The BBF formula \n",
    "    * Local variance as a conditional expectation of instantaneous variance \n",
    "  \n",
    "  "
   ]
  },
  {
   "cell_type": "markdown",
   "metadata": {
    "slideshow": {
     "slide_type": "slide"
    }
   },
   "source": [
    "## Stochastic volatility"
   ]
  },
  {
   "cell_type": "markdown",
   "metadata": {
    "slideshow": {
     "slide_type": "fragment"
    }
   },
   "source": [
    "### Why stochastic volatility?\n",
    "\n",
    "-   Volatility obviously fluctuates\n",
    "    -   For example, recall the stock market crash of October 1987\n",
    "\n",
    "\n",
    "-   <span>However, it may not be obvious what the benefits of going beyond Black-Scholes might be.</span>"
   ]
  },
  {
   "cell_type": "markdown",
   "metadata": {
    "slideshow": {
     "slide_type": "subslide"
    }
   },
   "source": [
    "-   Stochastic volatility (SV) models are useful because they explain in a self-consistent way why it is that options with different strikes and expirations have different Black-Scholes implied volatilities.\n",
    "    -   the “volatility smile”\n",
    "\n",
    "\n",
    "-   <span>Unlike alternative models that can fit the smile (such as local volatility models for example), SV models assume realistic dynamics for the underlying.</span>"
   ]
  },
  {
   "cell_type": "markdown",
   "metadata": {
    "slideshow": {
     "slide_type": "slide"
    }
   },
   "source": [
    "### Stochastic volatility as volatility in business time\n",
    "\n",
    "-   <span>SV price processes are sometimes accused of being *ad hoc*.</span>\n",
    "\n",
    "\n",
    "-   <span>On the contrary, they can be viewed as arising from Brownian motion subordinated to a random clock.</span>\n",
    "\n",
    "\n",
    "-   <span>As we saw in Lecture 1, this clock time may be identified with integrated variance (as estimated using conventional estimators).\n",
    "    - Since the length of a calendar day in trading time varies, this can generate fat tails in stock returns as observed empirically. \n",
    "\n",
    "</span>\n"
   ]
  },
  {
   "cell_type": "markdown",
   "metadata": {
    "slideshow": {
     "slide_type": "slide"
    }
   },
   "source": [
    "### Engineering considerations\n",
    "\n",
    "-   <span>Hedgers who use the Black-Scholes model must continuously change the volatility assumption in order to match market prices.</span>\n",
    "\n",
    "    -   <span> The BS hedge ratio changes uncontrollably every time the volatility changes.</span>\n",
    "\n",
    "\n",
    "-   <span>SV models bring some order into this chaos.</span>"
   ]
  },
  {
   "cell_type": "markdown",
   "metadata": {
    "slideshow": {
     "slide_type": "subslide"
    }
   },
   "source": [
    "-   <span>The prices of exotic options given by models based on Black-Scholes assumptions can be wildly wrong.</span>\n",
    "\n",
    "\n",
    "-   <span>SV models take the volatility smile into account when pricing exotic options.</span>\n",
    "\n",
    "    -   <span>SV model prices are closer to market prices than BS or local volatility model prices.</span>"
   ]
  },
  {
   "cell_type": "markdown",
   "metadata": {
    "slideshow": {
     "slide_type": "slide"
    }
   },
   "source": [
    "### Log returns of SPX"
   ]
  },
  {
   "cell_type": "code",
   "execution_count": 1,
   "metadata": {
    "slideshow": {
     "slide_type": "fragment"
    }
   },
   "outputs": [
    {
     "name": "stderr",
     "output_type": "stream",
     "text": [
      "Loading required package: xts\n",
      "Loading required package: zoo\n",
      "\n",
      "Attaching package: ‘zoo’\n",
      "\n",
      "The following objects are masked from ‘package:base’:\n",
      "\n",
      "    as.Date, as.Date.numeric\n",
      "\n",
      "Loading required package: TTR\n",
      "Version 0.4-0 included new data defaults. See ?getSymbols.\n",
      "\n",
      "WARNING: There have been significant changes to Yahoo Finance data.\n",
      "Please see the Warning section of ‘?getSymbols.yahoo’ for details.\n",
      "\n",
      "This message is shown once per session and may be disabled by setting\n",
      "options(\"getSymbols.yahoo.warning\"=FALSE).\n"
     ]
    },
    {
     "data": {
      "text/html": [
       "'GSPC'"
      ],
      "text/latex": [
       "'GSPC'"
      ],
      "text/markdown": [
       "'GSPC'"
      ],
      "text/plain": [
       "[1] \"GSPC\""
      ]
     },
     "metadata": {},
     "output_type": "display_data"
    }
   ],
   "source": [
    "library(quantmod)\n",
    "\n",
    "options(\"getSymbols.warning4.0\"=FALSE)\n",
    "\n",
    "getSymbols(\"^GSPC\",from=\"1927-01-01\") #Creates the time series object GSPC\n",
    "\n",
    "ret.spx <- log(Cl(GSPC)/lag(Cl(GSPC)))\n",
    "ret.spx <- ret.spx[!is.na(ret.spx)]  # Remove missing values\n",
    "ret.spx <- ret.spx-mean(ret.spx)"
   ]
  },
  {
   "cell_type": "code",
   "execution_count": 2,
   "metadata": {
    "collapsed": true,
    "slideshow": {
     "slide_type": "fragment"
    }
   },
   "outputs": [],
   "source": [
    "library(repr)\n",
    "options(repr.plot.height=5)"
   ]
  },
  {
   "cell_type": "code",
   "execution_count": 3,
   "metadata": {
    "slideshow": {
     "slide_type": "subslide"
    }
   },
   "outputs": [
    {
     "data": {},
     "metadata": {},
     "output_type": "display_data"
    },
    {
     "data": {
      "image/png": "[encoded data removed]",
      "text/plain": [
       "plot without title"
      ]
     },
     "metadata": {},
     "output_type": "display_data"
    }
   ],
   "source": [
    "plot(ret.spx,main=NA,type=\"l\",col=\"red\")"
   ]
  },
  {
   "cell_type": "markdown",
   "metadata": {
    "slideshow": {
     "slide_type": "fragment"
    }
   },
   "source": [
    "Figure1: Large moves follow large moves and small moves follow small moves:  \"volatility clustering\"."
   ]
  },
  {
   "cell_type": "markdown",
   "metadata": {
    "slideshow": {
     "slide_type": "slide"
    }
   },
   "source": [
    "### Frequency distribution of log returns"
   ]
  },
  {
   "cell_type": "code",
   "execution_count": 4,
   "metadata": {
    "slideshow": {
     "slide_type": "fragment"
    }
   },
   "outputs": [
    {
     "data": {
      "image/png": "[encoded data removed]",
      "text/plain": [
       "Plot with title “NA”"
      ]
     },
     "metadata": {},
     "output_type": "display_data"
    }
   ],
   "source": [
    "breaks <- seq(-.235,.115,.002)\n",
    "spx.hist <- hist(ret.spx,breaks=breaks,plot=F) \n",
    "plot(spx.hist,xlim=c(-.05,.05),freq=F,main=NA,xlab=\"log return\") \n",
    "sig <- sd(as.numeric(ret.spx))\n",
    "curve(dt(x*sqrt(3)/sig,df=3)*sqrt(3)/sig,from=-.05,to=.05,col=\"red\", add=T)\n",
    "curve(dnorm(x,mean=0,sd=sig),from=-.05,to=.05,col=\"blue\", add=T)"
   ]
  },
  {
   "cell_type": "markdown",
   "metadata": {
    "slideshow": {
     "slide_type": "fragment"
    }
   },
   "source": [
    "Figure 2: Frequency distribution of SPX daily log returns (since 1950) compared with the normal distribution (blue) and Student-t with 3 degrees of freedom (red).\n",
    "\n",
    "- Note that the x-axis has been truncated; the $-22.9\\%$ return on 10/19/1987 is not directly visible."
   ]
  },
  {
   "cell_type": "markdown",
   "metadata": {
    "slideshow": {
     "slide_type": "slide"
    }
   },
   "source": [
    "### A toy regime-switching model\n",
    "\n",
    "Suppose that realized volatility over a one-year period can be either $10\\%$ or $30\\%$, each with probability $1/2$ (depending on an initial coin toss say)."
   ]
  },
  {
   "cell_type": "code",
   "execution_count": 5,
   "metadata": {
    "slideshow": {
     "slide_type": "fragment"
    }
   },
   "outputs": [
    {
     "data": {
      "image/png": "[encoded data removed]",
      "text/plain": [
       "plot without title"
      ]
     },
     "metadata": {},
     "output_type": "display_data"
    }
   ],
   "source": [
    "d3010 <- function(x){(dnorm(x,sd=.1)+dnorm(x,sd=.3))/2}\n",
    "curve(d3010(x),from=-.8,to=.8,col=\"blue\",ylim=c(0,4))\n",
    "curve(dnorm(x,sd=.1),from=-.8,to=.8,col=\"red\",lty=2,add=T)\n",
    "curve(dnorm(x,sd=.3),from=-.8,to=.8,col=\"green4\",lty=2,add=T)"
   ]
  },
  {
   "cell_type": "markdown",
   "metadata": {
    "slideshow": {
     "slide_type": "fragment"
    }
   },
   "source": [
    "Figure 3: The two-regime density in blue; $10\\%$ and $30\\%$ volatility distributions in green and red respectively."
   ]
  },
  {
   "cell_type": "markdown",
   "metadata": {
    "slideshow": {
     "slide_type": "subslide"
    }
   },
   "source": [
    "- In some sense, the peak of the distribution is driven by the low volatility regime and the tails by the high volatility regime.\n",
    "\n",
    "- Fat tails and the high central peak are characteristics of mixtures of distributions with different variances."
   ]
  },
  {
   "cell_type": "markdown",
   "metadata": {
    "slideshow": {
     "slide_type": "slide"
    }
   },
   "source": [
    "### Add more regimes\n",
    "\n",
    "Consider the following 20-regime model:"
   ]
  },
  {
   "cell_type": "code",
   "execution_count": 6,
   "metadata": {
    "collapsed": true,
    "slideshow": {
     "slide_type": "fragment"
    }
   },
   "outputs": [],
   "source": [
    "d.20regimes <- function(x){\n",
    "    res <- 0\n",
    "    for (i in 1:20){ res <- res + dnorm(x,sd=i/20)}\n",
    "    return(res/20)\n",
    "}"
   ]
  },
  {
   "cell_type": "markdown",
   "metadata": {
    "slideshow": {
     "slide_type": "fragment"
    }
   },
   "source": [
    "The resulting density is:"
   ]
  },
  {
   "cell_type": "code",
   "execution_count": 7,
   "metadata": {
    "slideshow": {
     "slide_type": "subslide"
    }
   },
   "outputs": [
    {
     "data": {
      "image/png": "[encoded data removed]",
      "text/plain": [
       "plot without title"
      ]
     },
     "metadata": {},
     "output_type": "display_data"
    }
   ],
   "source": [
    "curve(d.20regimes(x),from=-1.5,to=1.5,col=\"blue\")"
   ]
  },
  {
   "cell_type": "markdown",
   "metadata": {
    "slideshow": {
     "slide_type": "fragment"
    }
   },
   "source": [
    "Figure 4: The 20-regime density in blue.  Note the high central peak and fat tails."
   ]
  },
  {
   "cell_type": "markdown",
   "metadata": {
    "slideshow": {
     "slide_type": "slide"
    }
   },
   "source": [
    "### Interpretation\n",
    "\n",
    "-   Fat tails and the high central peak are characteristics of\n",
    "    mixtures of distributions with different variances.\n",
    "    -   This motivates us to model variance as a random\n",
    "        variable.\n",
    "        \n",
    "\n",
    "-   The volatility clustering feature implies that volatility (or\n",
    "    variance) is auto-correlated. \n",
    "    -   In SV models, this is a consequence of continuity of the volatility process.\n",
    "\n",
    "\n",
    "\n",
    "-   Note that simple jump-diffusion models do not have this\n",
    "    volatility clustering property. After a jump, the stock price\n",
    "    volatility does not change.\n",
    "    - Self-exciting jump models can have the clustering property.\n",
    "    \n",
    "   "
   ]
  },
  {
   "cell_type": "markdown",
   "metadata": {
    "slideshow": {
     "slide_type": "slide"
    }
   },
   "source": [
    "### Economic argument for mean reversion\n",
    "\n",
    "-   <span> Consider the distribution of the volatility of IBM in one\n",
    "    hundred years time say. </span>\n",
    "\n",
    "\n",
    "-   <span>If volatility were not mean-reverting (* i.e.* if the\n",
    "    distribution of volatility were not stable), the probability of the\n",
    "    volatility of IBM being between 1% and 100% would be rather low.\n",
    "    </span>\n",
    "\n",
    "\n",
    "-   <span>Since we believe that it is overwhelmingly likely that the\n",
    "    volatility of IBM would in fact lie in that range, we deduce that\n",
    "    volatility must be mean-reverting.</span>"
   ]
  },
  {
   "cell_type": "markdown",
   "metadata": {
    "slideshow": {
     "slide_type": "slide"
    }
   },
   "source": [
    "### A one-factor SV process\n",
    "\n",
    "We suppose that the stock price $S$ and its variance $v$ satisfy the\n",
    "following SDEs:\n",
    "\n",
    "<a name=\"eq1:genstockprocess\"></a>(1)\n",
    "$$\n",
    "dS_t = \\mu_t \\,S_t \\,dt + \\sqrt {v_t}\\, S_t\\, dZ_t\n",
    "$$\n",
    "\n",
    "<a name=\"eq2:genvarprocess\"></a>(2)\n",
    "$$\n",
    "dv_t =   \\alpha (S_t,v_t,t) \\,dt + \\eta \\,\\beta(S_t,v_t,t)\\,\\sqrt{v_t}\\, dW_t\n",
    "$$\n",
    "\n",
    "with \n",
    "\n",
    "$$\\mathbb{E}\\left[dZ_t \\,dW_t \\right]= \\rho \\,{ dt}.$$"
   ]
  },
  {
   "cell_type": "markdown",
   "metadata": {
    "slideshow": {
     "slide_type": "subslide"
    }
   },
   "source": [
    "- $\\mu_t$ is the (deterministic) instantaneous drift of stock price\n",
    "returns\n",
    "- $\\eta$ is the volatility of volatility\n",
    "- $\\rho$ is the\n",
    "correlation between random stock price returns and changes in $v_t$\n",
    "- ${dZ}$ and ${dW}$ are Wiener processes."
   ]
  },
  {
   "cell_type": "markdown",
   "metadata": {
    "slideshow": {
     "slide_type": "slide"
    }
   },
   "source": [
    "### The stock price process\n",
    "\n",
    "-   <span>The stochastic process [(1)](#eq1:genstockprocess) followed by the\n",
    "    stock price is equivalent to the Black-Scholes (BS) process.</span>\n",
    "\n",
    "    - This ensures that the standard time-dependent volatility\n",
    "        version of the Black-Scholes formula may be retrieved in the\n",
    "        limit $ \\eta \\to 0$.\n",
    "    - Moreover, as we saw in Lecture 1, this SDE appears empirically justified.\n",
    "    \n",
    "\n"
   ]
  },
  {
   "cell_type": "markdown",
   "metadata": {
    "slideshow": {
     "slide_type": "slide"
    }
   },
   "source": [
    "### The variance process\n",
    "\n",
    "-   <span>The stochastic process [(2)](#eq2:genvarprocess) followed by the\n",
    "    variance is very general. </span>\n",
    "\n",
    "-   <span>We don’t assume anything about the functional forms of\n",
    "    $\\alpha(\\cdot)$ and $\\beta(\\cdot)$.</span>\n",
    "\n",
    "-   <span> In particular, we don’t assume a square-root process for\n",
    "    variance. </span>"
   ]
  },
  {
   "cell_type": "markdown",
   "metadata": {
    "slideshow": {
     "slide_type": "slide"
    }
   },
   "source": [
    "### The hedge portfolio\n",
    "\n",
    "Following closely the argument of [Wilmott]<sup id=\"cite_ref-Wilmott\" class=\"reference\"><a href=\"#cite_note-Wilmott\"><span>[</span>9<span>]</span></a></sup>\n",
    "\n",
    "-   <span>In the Black-Scholes case, there is only one source of\n",
    "    randomness – the stock price, which can be hedged with stock.</span>\n",
    "\n",
    "-   <span>In the one-factor SV case, random changes in volatility also\n",
    "    need to be hedged in order to form a riskless portfolio.</span>"
   ]
  },
  {
   "cell_type": "markdown",
   "metadata": {
    "slideshow": {
     "slide_type": "subslide"
    }
   },
   "source": [
    "-   <span>We construct a portfolio $\\Pi$ containing the option being\n",
    "    priced whose value we denote by $V(S,v,t)$, a quantity $-\\Delta$ of\n",
    "    the stock and a quantity $-\\Delta_1$ of another asset whose value\n",
    "    $V_1$ depends on volatility.</span>\n",
    "\n",
    "    -   <span>In an $n$-factor stochastic volatility model, we would\n",
    "        have $n$ different such assets in the hedge portfolio.</span>\n",
    "\n",
    "-   <span>The value of the hedge portfolio is given by\n",
    "    $$\\Pi  = V - \\Delta \\,\\,S - \\Delta _1 \\,\\,V_1$$ </span>"
   ]
  },
  {
   "cell_type": "markdown",
   "metadata": {
    "slideshow": {
     "slide_type": "slide"
    }
   },
   "source": [
    "### Evolution of the hedge portfolio\n",
    "\n",
    "An application of Itô’s Lemma gives the change in the value of this\n",
    "portfolio over some small time interval $ \\delta t$:\n",
    "\n",
    "\\begin{eqnarray*}\n",
    "\\delta\\Pi &=& \\left\\{ {\\frac{\\partial V}{\\partial t} +\n",
    "\\frac{1}{2}\\,v\\,S^2\\,\\,\\frac{\\partial ^2 V}{\\partial S^2 } +\n",
    "\\rho\\,\\eta\\,v\\,\\beta\\,S\\,\\frac{\\partial ^2 V}{\\partial v\\,\\partial\n",
    "S} + \\frac{1}{2}\\eta ^2 v\\beta ^2 \\frac{\\partial ^2 V}{\\partial v^2\n",
    "}} \\right\\}\\,\\delta t \\nonumber\\\\\n",
    "&& - \\Delta _1\\, \\left\\{ \\frac{\\partial V_1 }{\\partial t} +\n",
    "\\frac{1}{2}\\,v\\,S^2\\,\\frac{\\partial ^2 V_1}{\\partial S^2}\\right.\\nonumber\\\\\n",
    "&&\\left. + \\rho\\,\\eta \\,v \\,\\beta \\,S\\,\\frac{\\partial ^2 V_1 }{\\partial v\\,\\partial S} + \\frac{1}{2}\\,\\eta^2\\, v\\,\\beta^2 \\,\\frac{\\partial ^2 V_1}{\\partial v^2 }\\right\\}\\,\\delta t \\nonumber\\\\\n",
    "&& + \\left\\{\\frac{\\partial V}{\\partial S}- \\Delta _1\\, \\frac{\\partial V_1}{\\partial S} - \\Delta  \\right\\}\\,\\delta S + \\left\\{{\\frac{\\partial V}{\\partial v} - \\Delta _1\\, \\frac{\\partial V_1}{\\partial v}} \\right\\}\\,\\delta v\n",
    "\\end{eqnarray*}\n"
   ]
  },
  {
   "cell_type": "markdown",
   "metadata": {
    "slideshow": {
     "slide_type": "slide"
    }
   },
   "source": [
    "### Risk neutralization\n",
    "\n",
    "To make the hedge portfolio instantaneously risk-free, we must choose\n",
    "\n",
    "<a name=\"eq3:stockDelta\"></a>(3)\n",
    "$$\\frac{{\\partial V}}{{\\partial S}} - \\Delta _1 \\frac{{\\partial V_1\n",
    "}}{{\\partial S}} - \\Delta  = 0 $$\n",
    "\n",
    "to eliminate the $ \\delta S$ term (*delta hedging*), and\n",
    "\n",
    "<a name=\"eq4:vDelta\"></a>(4)\n",
    "$$\\frac{{\\partial V}}{{\\partial v }} - \\Delta _1 \\frac{{\\partial V_1}}{{\\partial v }} = 0$$\n",
    "\n",
    "to eliminate the $\\delta v $ term (*vega hedging*)."
   ]
  },
  {
   "cell_type": "markdown",
   "metadata": {
    "slideshow": {
     "slide_type": "slide"
    }
   },
   "source": [
    "### The rate of return on a risk neutral portfolio\n",
    "\n",
    "This leaves us with\n",
    "\n",
    "\\begin{eqnarray*}\n",
    "\\delta \\Pi &=& \\left\\{ \\frac{\\partial V}{\\partial t} +\n",
    "\\frac{1}{2}\\, v\\,S^2 \\,\\frac{\\partial ^2 V}{\\partial S^2 } +\n",
    "\\rho\\, \\eta \\, v \\, \\beta \\,S\\,\\frac{\\partial ^2 V}{\\partial v\\partial S} \n",
    "+ \\frac{1}{2}\\,\\eta^2 \\,v \\,\\beta^2\\,\\frac{\\partial ^2 V}{\\partial v^2 } \\right\\}\\delta t \\nonumber\\\\ \n",
    "&& - \\Delta _1\\, \\left\\{ \\frac{\\partial V_1 }{\\partial t} +\n",
    "\\frac{1}{2}\\,v\\,S^2\\,\\frac{\\partial ^2 V_1}{\\partial S^2}\\right.\\nonumber\\\\\n",
    "&&\\left. +  \\rho\\,\\eta \\,v \\,\\beta \\,S\\,\\frac{\\partial ^2 V_1 }{\\partial v\\,\\partial S}\n",
    "+ \\frac{1}{2}\\,\\eta^2\\, v\\,\\beta^2 \\,\\frac{\\partial ^2 V_1}{\\partial v^2 }\\right\\}\\,\\delta t\\nonumber\\\\ \n",
    "&=& r \\, \\Pi \\,\n",
    "\\delta t = r (V-\\Delta S -\\Delta_1 V_1) \\, \\delta  t\n",
    "\\end{eqnarray*}\n",
    "\n",
    "\n",
    "where we have used the fact that the return on a risk-free portfolio\n",
    "must equal the risk-free rate $r$."
   ]
  },
  {
   "cell_type": "markdown",
   "metadata": {
    "slideshow": {
     "slide_type": "slide"
    }
   },
   "source": [
    "Collecting all $V$ terms on the left-hand side and all $V_1$ terms on\n",
    "the right-hand side, and re-expressing $\\Delta$ and $\\Delta_1$ using\n",
    "[(3)](#eq3:stockDelta) and [(4)](#eq4:vDelta) we get\n",
    "\n",
    "\\begin{eqnarray*}\n",
    "&&\\frac{{\\frac{{\\partial V}}{{\\partial t}}{  } + \\frac{1}{2}v\\,S^2 {\n",
    "}\\frac{{\\partial ^2 V}}{{\\partial S^2 }} + \\rho \\eta \\,v\\, \\beta \\,S\n",
    "\\frac{{\\partial ^2 V}}{{\\partial v\\partial S}} + \\frac{1}{2}\\eta ^2\n",
    "v\\beta ^2 \\frac{{\\partial ^2 V}}{{\\partial v^2 }}+r S\n",
    "\\frac{{\\partial V}}{{\\partial S}}-r V}}{{\\frac{{\\partial\n",
    "V}}{{\\partial v }}}} \\nonumber\\\\ &=& \\frac{{\\frac{{\\partial V_1\n",
    "}}{{\\partial t}}{  } + \\frac{1}{2}v\\,S^2{ }\\frac{{\\partial ^2 V_1\n",
    "}}{{\\partial S^2 }} + \\rho \\eta \\,v \\beta \\,S\\frac{{\\partial ^2 V_1\n",
    "}}{{\\partial v\\partial S}} + \\frac{1}{2}\\eta ^2 v\\beta ^2\n",
    "\\frac{{\\partial ^2 V_1 }}{{\\partial v^2 }}+r S \\frac{{\\partial\n",
    "V_1}}{{\\partial S}}-r V_1}}{{\\frac{{\\partial V_1 }}{{\\partial v\n",
    "}}}}{  }\n",
    "\\end{eqnarray*}\n"
   ]
  },
  {
   "cell_type": "markdown",
   "metadata": {
    "slideshow": {
     "slide_type": "slide"
    }
   },
   "source": [
    "### The valuation equation\n",
    "\n",
    "The left-hand side refers only to $V$ and the right-hand side refers\n",
    "only to $V_1$. The only way that this can be is for both sides to be\n",
    "equal to some function $f$ of the *independent* variables $S$, $v$ and\n",
    "$t$. That is,\n",
    "\n",
    "<a name=\"eq5:genval\"></a>(5)\n",
    "\n",
    "\n",
    "\\begin{eqnarray*}\n",
    "&&\\frac{\\partial V}{\\partial t}\n",
    "+\\frac{1}{2}\\,v\\,S^2\\,\\frac{\\partial^2 V}{\\partial S^2 }\n",
    "+\\rho\\,\\eta\\,v\\,\\beta\\,S\\frac{\\partial^2 V}{\\partial v\\,\\partial S} \\\\\n",
    "&&+\\frac{1}{2}\\,\\eta^2\\,v\\,\\beta^2\\,\\frac{\\partial ^2 V}{\\partial v^2}\n",
    "+r\\,S\\,\\frac{\\partial V}{\\partial S}-r\\,V \\\\\n",
    "&=&f(S,v,t)\\,\\frac{\\partial V}{\\partial v}\n",
    "\\end{eqnarray*}\n"
   ]
  },
  {
   "cell_type": "markdown",
   "metadata": {
    "slideshow": {
     "slide_type": "slide"
    }
   },
   "source": [
    "### The market price of volatility risk\n",
    "\n",
    "Consider the portfolio $\\Pi_1$ consisting of a delta-hedged (but\n",
    "not vega-hedged) option $V$. Then\n",
    "\n",
    "$$\\Pi_1  = V - \\frac{\\partial V}{\\partial S}\\,S$$ and again applying\n",
    "Itô’s Lemma,\n",
    "\n",
    "\\begin{eqnarray*}\n",
    "\\delta\\Pi_1 &=& \\left\\{\\frac{\\partial V}{\\partial t} +\n",
    "\\frac{1}{2}\\,v\\,S^2\\,\\frac{\\partial ^2 V}{\\partial S^2 } +\n",
    "\\rho\\,\\eta\\,v\\,\\beta\\,S\\,\\frac{\\partial ^2 V}{\\partial v\\,\\partial\n",
    "S} + \\frac{1}{2}\\eta^2\\,v\\,\\beta^2\\,\\frac{\\partial^2 V}{\\partial v^2} \\right\\}\\,\\delta t \\nonumber\\\\\n",
    "&& + \\left\\{\\frac{\\partial V}{\\partial S} - \\Delta \\right\\}\\,\\delta S +\n",
    "\\left\\{\\frac{\\partial V}{\\partial v}\\right\\}\\,\\delta v\n",
    "\\end{eqnarray*}"
   ]
  },
  {
   "cell_type": "markdown",
   "metadata": {
    "slideshow": {
     "slide_type": "subslide"
    }
   },
   "source": [
    "Because the option is delta-hedged, the coefficient of $\\delta S$ is\n",
    "zero and we are left with\n",
    "\n",
    "\\begin{eqnarray*}\n",
    "&&\\delta\\Pi_1-r\\,\\Pi_1\\,\\delta t \\\\\n",
    "&=& \\left\\{ \\frac{\\partial V}{\\partial t} +\n",
    "\\frac{1}{2}\\,v\\,S^2\\,\\,\\frac{\\partial ^2 V}{\\partial S^2 } +\n",
    "\\rho\\,\\eta\\,v\\,\\beta\\,S\\,\\frac{\\partial ^2 V}{\\partial v\\,\\partial\n",
    "S} \\right.\\\\ &&+\\left. \\frac{1}{2}\\eta ^2\\, v\\,\\beta ^2\\, \\frac{\\partial ^2\n",
    "V}{\\partial v^2} +r\\,S\\,\\frac{\\partial V}{\\partial S}-r\\,V \\right\\}\\,\\delta t+ \\frac{\\partial V}{\\partial v}\\,\\delta v\\\\\n",
    "&=&\\frac{\\partial V}{\\partial\n",
    "v}\\,\\left\\{f(S,v,t)\\,\\delta t+\\delta v\\right\\}\\\\\n",
    "&=& \\frac{\\partial V}{\\partial\n",
    "v}\\,\\left\\{\\left[f(S,v,t) + \\alpha (S_t,v_t,t) \\right]\\,\\delta t + \\eta \\,\\beta(S_t,v_t,t)\\,\\sqrt{v_t}\\, \\delta W_t \\right\\}\\\\\n",
    "&=:& \\eta \\,\\beta(S_t,v_t,t)\\,\\sqrt{v_t}\\,\\frac{\\partial V}{\\partial\n",
    "v}\\,\\left\\{\\phi (S_t,v_t,t) \\,\\delta t+ \\delta W_t \\right\\}\n",
    "\\end{eqnarray*}\n",
    "\n",
    "where we have used both the valuation equation [(5)](#eq5:genval) and the SDE\n",
    "[(2)](#eq2:genvarprocess) for $v$."
   ]
  },
  {
   "cell_type": "markdown",
   "metadata": {
    "slideshow": {
     "slide_type": "subslide"
    }
   },
   "source": [
    "-   <span>The extra return per unit of volatility risk $\\delta Z_2$ is\n",
    "    given by $\\phi(S,v,t)\\,\\delta t$</span>\n",
    "\n",
    "-   <span>In analogy with the Capital Asset Pricing Model, \n",
    "$$\\phi\n",
    "= \\frac{f(S,v,t) + \\alpha (S_t,v_t,t)}{\\eta \\,\\beta(S_t,v_t,t)\\,\\sqrt{v_t}}\n",
    "$$ is\n",
    "    known as the *market price of volatility risk*.</span>\n",
    "    "
   ]
  },
  {
   "cell_type": "markdown",
   "metadata": {
    "slideshow": {
     "slide_type": "slide"
    }
   },
   "source": [
    "### Transforming to the risk-neutral measure\n",
    "\n",
    "Now, defining the *risk-neutral drift* as\n",
    "\n",
    "$$\\alpha'=\\alpha-\\eta\\,\\beta\\,\\sqrt{v}\\,\\phi$$\n",
    "\n",
    "we see that as far as\n",
    "pricing of options is concerned, we could have started with the\n",
    "risk-neutral SDE for $v$\n",
    "\n",
    "$$dv=\\alpha'\\,dt+\\eta\\,\\beta\\,\\sqrt{v}\\,dW$$\n",
    "\n",
    "and got identical results with no explicit price of risk term (because\n",
    "we are in the risk-neutral world).\n",
    "\n"
   ]
  },
  {
   "cell_type": "markdown",
   "metadata": {
    "slideshow": {
     "slide_type": "slide"
    }
   },
   "source": [
    "### In slightly different language\n",
    "\n",
    "Under the physical measure $\\mathbb{P}$,\n",
    "\n",
    "$$dv=\\alpha\\,dt+\\eta\\,\\beta\\,\\sqrt{v}\\,dW^{\\mathbb{P}}.$$\n",
    "\n",
    "Under the pricing measure $\\mathbb{Q}$,\n",
    "\n",
    "$$dv=\\alpha'\\,dt+\\eta\\,\\beta\\,\\sqrt{v}\\,dW^{\\mathbb{Q}}$$\n",
    "\n",
    "where $dW^{\\mathbb{Q}} = dW^{\\mathbb{P}} - \\phi(S,v,t)\\,d t$.\n",
    "\n",
    "- $\\phi$ is the drift in the Girsanov transformation between the physical measure $\\mathbb{P}$ and the pricing measure $\\mathbb{Q}$."
   ]
  },
  {
   "cell_type": "markdown",
   "metadata": {
    "slideshow": {
     "slide_type": "slide"
    }
   },
   "source": [
    "### Risk neutrality and market completeness\n",
    "\n",
    "-   <span>In practical applications of SV models, we always assume that\n",
    "    the SDEs for $S$ and $v$ are in risk-neutral terms because we are\n",
    "    invariably interested in fitting models to option prices.</span>\n",
    "\n",
    "    -   <span>We effectively impute the risk-neutral measure by fitting\n",
    "        the parameters of the process we are imposing.</span>\n",
    "\n",
    "    -   <span>We need $n$ options in the hedge portfolio for an\n",
    "        $n$-factor SV model.</span>"
   ]
  },
  {
   "cell_type": "markdown",
   "metadata": {
    "slideshow": {
     "slide_type": "subslide"
    }
   },
   "source": [
    "-   <span>Only if we were interested in the connection between the\n",
    "    pricing of options and the behavior of the time series of historical\n",
    "    returns of the underlying, would we need to understand the\n",
    "    connection between the statistical measure under which the drift of\n",
    "    the variance process $v$ is $\\alpha$ and the risk-neutral process\n",
    "    under which the drift of the variance process is $\\alpha'$.</span>\n",
    "\n",
    "\n",
    "-   <span>Academics often say that SV models are not complete. This is\n",
    "    true only if there are no traded derivative securities.</span>"
   ]
  },
  {
   "cell_type": "markdown",
   "metadata": {
    "slideshow": {
     "slide_type": "slide"
    }
   },
   "source": [
    "### Solving the valuation equation\n",
    "\n",
    "Recall the valuation equation for a one-factor SV model (with $r=0$ for\n",
    "simplicity):\n",
    "\n",
    "$$\\frac{\\partial V}{\\partial t}\n",
    "+ \\frac{1}{2}\\,v\\,S^2\\,\\frac{\\partial^2 V}{\\partial S^2 }\n",
    "+ \\rho\\,\\eta\\,v\\,\\beta\\,S\\frac{\\partial^2 V}{\\partial v\\,\\partial S}\n",
    "+ \\frac{1}{2}\\,\\eta^2\\,v\\,\\beta^2\\,\\frac{\\partial ^2 V}{\\partial v^2}\n",
    "+\\alpha\\,\\frac{\\partial V}{\\partial v}=0$$\n",
    "\n",
    "How easy this is to solve\n",
    "depends on $\\alpha(\\cdot)$, $\\beta(\\cdot)$ and the boundary conditions."
   ]
  },
  {
   "cell_type": "markdown",
   "metadata": {
    "slideshow": {
     "slide_type": "subslide"
    }
   },
   "source": [
    "-   <span>Fast solutions for European options are needed for calibration\n",
    "    to market option prices.</span>\n",
    "\n",
    "-   <span>The boundary condition for a European call option is\n",
    "    \n",
    "    $$V(S,K,t,T)|_{t=T}=\\left(S-K\\right)^+.$$ </span>"
   ]
  },
  {
   "cell_type": "markdown",
   "metadata": {
    "slideshow": {
     "slide_type": "subslide"
    }
   },
   "source": [
    "-   <span>For general payoffs (*i.e.* boundary conditions), we solve the\n",
    "    valuation equation using numerical PDE or Monte Carlo\n",
    "    techniques.</span>\n",
    "\n",
    "-   <span>This is too slow for efficient calibration.</span>\n",
    "\n",
    "-   <span>Models for which fast exact or approximate European option\n",
    "    solutions exist are consequently the most popular.</span>"
   ]
  },
  {
   "cell_type": "markdown",
   "metadata": {
    "slideshow": {
     "slide_type": "slide"
    }
   },
   "source": [
    "### Examples of stochastic volatility models"
   ]
  },
  {
   "cell_type": "markdown",
   "metadata": {
    "slideshow": {
     "slide_type": "slide"
    }
   },
   "source": [
    "### The Heston model\n",
    "\n",
    "In the Heston model,\n",
    "\n",
    "$$\\alpha = -\\lambda\\,(v-\\bar v);\\, \\beta=1$$\n",
    "\n",
    "So\n",
    "that (again with $r=0$)\n",
    "\n",
    "\\begin{eqnarray*}\n",
    "dS_t & =& \\sqrt {v_t}\\, S_t\\, dZ_1\\\\\n",
    "dv_t  &=&   -\\lambda\\,(v-\\bar v) \\,dt + \\eta \\,\\sqrt{v_t} dZ_2 \n",
    "\\end{eqnarray*}\n",
    "\n",
    "with\n",
    "$\\left\\langle {dZ_1 \\,{dZ_2} } \\right\\rangle = \\rho \\,{ dt}$.\n",
    "\n",
    "The\n",
    "corresponding valuation equation with European boundary conditions may\n",
    "be solved using Fourier techniques leading to a quasi-closed form\n",
    "solution – the famous Heston formula."
   ]
  },
  {
   "cell_type": "markdown",
   "metadata": {
    "slideshow": {
     "slide_type": "slide"
    }
   },
   "source": [
    "### The SABR model\n",
    "\n",
    "The SABR model is usually written in the form\n",
    "\n",
    "\\begin{eqnarray*}\n",
    "dS_t =& \\sigma_t \\, S_t^\\beta\\, dZ_1\\\\\n",
    "d\\sigma_t  =&   \\alpha \\,\\sigma_t \\,dZ_2 \\end{eqnarray*}\n",
    "\n",
    "with $$\\left\\langle {dZ_1 \\,{dZ_2} } \\right\\rangle = \\rho \\,{ dt}$$\n",
    "Hence the name \\`\\`stochastic alpha beta rho model\"."
   ]
  },
  {
   "cell_type": "markdown",
   "metadata": {
    "slideshow": {
     "slide_type": "subslide"
    }
   },
   "source": [
    "-   <span>Note that this formulation is in general inconsistent with our\n",
    "    SV process [(1)](#eq1:genstockprocess) because the stock price\n",
    "    is conditionally lognormal only if $\\beta=1$. We get the CEV model\n",
    "    in the limit $\\alpha \\to 0$.</span>\n",
    "\n",
    "-   <span>There is an accurate asymptotic formula for BS implied\n",
    "    volatility (the SABR formula) in terms of the parameters of the\n",
    "    model permitting easy calibration to the volatility smile.</span>"
   ]
  },
  {
   "cell_type": "markdown",
   "metadata": {
    "slideshow": {
     "slide_type": "slide"
    }
   },
   "source": [
    "### Extension to $n$ factors\n",
    "\n",
    "-   <span>In a one factor SV model, given the stock price $S$ and the\n",
    "    market price of *only one option*, in principle we know the prices\n",
    "    of all options.</span>\n",
    "\n",
    "    -   <span>This is an extreme assumption.</span>"
   ]
  },
  {
   "cell_type": "markdown",
   "metadata": {
    "slideshow": {
     "slide_type": "subslide"
    }
   },
   "source": [
    "-   It may be desirable (essential if jointly calibrating to the prices\n",
    "    of volatility derivatives) to include more factors. For example, in\n",
    "    the Double Mean Reverting (DMR) model [Bayer, Gatheral and Karlsmark]<sup id=\"cite_ref-2BGK\" class=\"reference\"><a href=\"#cite_note-2BGK\"><span>[</span>2<span>]</span></a></sup>:\n",
    "\n",
    "    \\begin{eqnarray*}\n",
    "    dS&=&\\sqrt{v_1}\\,S\\,dZ_1\\\\\n",
    "    dv_1&=&-\\kappa_1\\,(v_1-v_2)\\,dt+\\eta_1\\,{v_1}^{\\alpha_1}\\,dZ_2\\\\\n",
    "    dv_2&=&-\\kappa_2\\,(v_2-\\bar v)\\,dt+\\eta_2\\,{v_2}^{\\alpha_2}\\,dZ_3\n",
    "    \\end{eqnarray*}\n",
    "\n",
    "    with $\\langle dZ_i\\,dZ_j \\rangle=\\rho_{ij}\\,dt$.\n",
    "    \n",
    "\n",
    "-   In the DMR model, we know all option prices given the stock price and the prices of two options."
   ]
  },
  {
   "cell_type": "markdown",
   "metadata": {
    "slideshow": {
     "slide_type": "slide"
    }
   },
   "source": [
    "## Local Volatility"
   ]
  },
  {
   "cell_type": "markdown",
   "metadata": {
    "slideshow": {
     "slide_type": "slide"
    }
   },
   "source": [
    "### Local volatility: Historical development\n",
    "\n",
    "- <span>Stochastic volatility models are hard to handle</span>\n",
    "\n",
    "    - <span>difficult to compute with and hard (impossible) to\n",
    "calibrate.</span>\n",
    "\n",
    "\n",
    "- <span>Practitioners need a simple way of pricing exotic options\n",
    "consistently with the volatility skew.</span>"
   ]
  },
  {
   "cell_type": "markdown",
   "metadata": {
    "slideshow": {
     "slide_type": "slide"
    }
   },
   "source": [
    "### Risk-neutral density from prices\n",
    "\n",
    "The marginal risk-neutral density may be recovered by twice\n",
    "differentiating European call prices wrt strike: $\n",
    "p(K)=\\frac{\\partial^2C}{\\partial K^2}.\n",
    "$\n",
    "\n",
    "\n",
    "\n",
    "\n",
    "#### Proof.\n",
    "$$C(K)={\\mathbb{E} }[(S_T-K)^+]$$ so\n",
    "$$-\\frac{\\partial C}{\\partial K}={\\mathbb{E} }[\\theta(S_T-K)]=\\Pr(S_T>K)$$\n",
    "and\n",
    "$$\\frac{\\partial^2C}{\\partial K^2}={\\mathbb{E} }[\\delta(S_T-K)]=p(K).$$"
   ]
  },
  {
   "cell_type": "markdown",
   "metadata": {
    "slideshow": {
     "slide_type": "slide"
    }
   },
   "source": [
    "### The trader version: The butterfly\n",
    "\n",
    "- <span>Consider the payoff of the following option combination:</span>\n",
    "\n",
    "    - <span>Long a call struck at $K+\\Delta K$,</span>\n",
    "\n",
    "    - <span>short 2 calls struck at $K$,</span>\n",
    "\n",
    "    - <span>long a call struck at $K-\\Delta K$.</span>"
   ]
  },
  {
   "cell_type": "code",
   "execution_count": 8,
   "metadata": {
    "slideshow": {
     "slide_type": "slide"
    }
   },
   "outputs": [
    {
     "data": {
      "image/png": "[encoded data removed]",
      "text/plain": [
       "plot without title"
      ]
     },
     "metadata": {},
     "output_type": "display_data"
    }
   ],
   "source": [
    "callPayoff <- function(x,K){pmax(x-K,0)} \n",
    "putPayoff <- function(x,K){pmax(K-x,0)} \n",
    "\n",
    "butterfly <- function(x){callPayoff(x,.99)-2*callPayoff(x,1)+callPayoff(x,1.01)}\n",
    "\n",
    "curve(butterfly(x),from=.8,to=1.2,ylim=c(-0.005,0.015),col=\"red\",xlab=\"Strike\", ylab=\"Payoff\")"
   ]
  },
  {
   "cell_type": "markdown",
   "metadata": {
    "slideshow": {
     "slide_type": "fragment"
    }
   },
   "source": [
    "Figure 5: Payoff of a butterfly with strikes $\\{0.99,1.00,1.01\\}$."
   ]
  },
  {
   "cell_type": "markdown",
   "metadata": {
    "slideshow": {
     "slide_type": "slide"
    }
   },
   "source": [
    "### The key idea\n",
    "\n",
    "- <span>For as long as options have been traded (probably), it has been\n",
    "understood that the risk-neutral density could be derived from the\n",
    "market prices of European options. </span>\n",
    "\n",
    "    - <span>This is the famous Breeden-Litzenberger result.</span>\n",
    "\n",
    "\n",
    "- <span>The breakthrough came when [Dupire]<sup id=\"cite_ref-5Dupire\" class=\"reference\"><a href=\"#cite_note-5Dupire\"><span>[</span>5<span>]</span></a></sup> and [Derman and Kani]<sup id=\"cite_ref-3DermanKani\" class=\"reference\"><a href=\"#cite_note-3DermanKani\"><span>[</span>3<span>]</span></a></sup> noted that\n",
    "under risk-neutrality, there was a unique diffusion process consistent\n",
    "with these distributions.</span>\n",
    "\n",
    "    - <span>The corresponding unique state-dependent diffusion coefficient\n",
    "$\\sigma_\\ell(S,t)$ consistent with current European option prices is known\n",
    "as the <span>*local volatility function*</span>.</span>"
   ]
  },
  {
   "cell_type": "markdown",
   "metadata": {
    "slideshow": {
     "slide_type": "slide"
    }
   },
   "source": [
    "### Local volatility: Philosophy\n",
    "\n",
    "- <span>It is unlikely that Dupire, Derman and Kani (DDK) ever thought of\n",
    "local volatility as representing a model of how volatilities actually\n",
    "evolve.</span>\n",
    "\n",
    "    - <span>[Dumas, Fleming and Whaley]<sup id=\"cite_ref-4DumasFlemingWhaley\" class=\"reference\"><a href=\"#cite_note-4DumasFlemingWhaley\"><span>[</span>4<span>]</span></a></sup> confirmed empirically that the dynamics of the\n",
    "implied volatility surface were not consistent with the assumption of\n",
    "constant local volatilities. </span>"
   ]
  },
  {
   "cell_type": "markdown",
   "metadata": {
    "slideshow": {
     "slide_type": "subslide"
    }
   },
   "source": [
    "- <span> They likely thought of local volatilities as representing some\n",
    "kind of average over all possible instantaneous volatilities in a\n",
    "stochastic volatility world (an “effective theory”).</span>\n",
    "\n",
    "    - <span>We will prove a precise version of this idea later in this\n",
    "lecture, formalizing the DDK intuition.</span>\n",
    "\n",
    "\n",
    "- <span>Local volatility is the simplest extension of Black-Scholes that\n",
    "allows practitioners to price exotic options consistently with the known\n",
    "prices of vanilla options.</span>"
   ]
  },
  {
   "cell_type": "markdown",
   "metadata": {
    "slideshow": {
     "slide_type": "slide"
    }
   },
   "source": [
    "### A Brief Review of Dupire’s Work\n",
    "\n",
    "- <span> Given $T$-expiration European call prices\n",
    "$\\left\\{ {C\\left( {S_0 ,K,T} \\right)}\\right\\}$, the risk neutral density\n",
    "function $\\varphi$ of the final spot $S_T$ is given by\n",
    "\n",
    "$$\\varphi \\left( {K,T;S_0 } \\right) = \\frac{\\partial ^2 C}{\\partial\n",
    "K^2}.$$ </span>\n",
    "\n",
    "- <span> Dupire showed that there is a unique risk-neutral diffusion\n",
    "process which generates a given marginal distribution of final spot\n",
    "prices $S_T$ for each time $T$, conditional on some starting spot price\n",
    "$S_0$.</span>\n",
    "\n",
    "    - <span>It has become the fashion in the literature to credit Gyöngy with\n",
    "this result.</span>"
   ]
  },
  {
   "cell_type": "markdown",
   "metadata": {
    "slideshow": {
     "slide_type": "subslide"
    }
   },
   "source": [
    "- <span> Equivalently, given the set of all European option prices, we may\n",
    "determine the functional form of the diffusion parameter (local\n",
    "volatility) of the unique risk neutral diffusion process which generates\n",
    "these prices.</span>"
   ]
  },
  {
   "cell_type": "markdown",
   "metadata": {
    "slideshow": {
     "slide_type": "slide"
    }
   },
   "source": [
    "### The Fokker-Planck equation\n",
    "\n",
    "Recall from Lecture 1 that if\n",
    "\n",
    "$$\n",
    "dX_t=\\mu(X_t,t)\\,dt+\\sigma(X_t,t)\\,dW_t,\n",
    "$$\n",
    "\n",
    "the density $p$ evolves as\n",
    "\n",
    "$$\n",
    "\\frac{d p(x,t)}{dt}=-\\frac{\\partial}{\\partial x}\\left(\\mu(x,t)\\,p(x,t)\\right)+\\frac{1}{2}\\,\\frac{\\partial^2}{\\partial x^2}\\,\\left(\\sigma^2(x,t)\\,p(x,t)\\right).\n",
    "$$\n",
    "\n",
    "Thus, if the stock price evolves according to the local volatility SDE\n",
    "\n",
    "$$\\frac{dS_t}{S_t} = \\mu_t\\,dt + \\sigma \\left( {S_t,t} \\right)\\,dW_t,$$\n",
    "\n",
    "the density evolves as\n",
    "\n",
    "$$ \\frac{\\partial p }{\\partial T}=\\frac{1}{2}\\frac{\\partial ^2 }{\\partial S_T ^2 }\\left( \\sigma ^2 S_T\n",
    "^2 \\,p\\right) - \\frac{\\partial }{\\partial S_T }\\left(\n",
    "\\mu_T\\, S_T\\, p  \\right) .$$\n"
   ]
  },
  {
   "cell_type": "markdown",
   "metadata": {
    "slideshow": {
     "slide_type": "slide"
    }
   },
   "source": [
    "### Derivation of the Dupire Equation\n",
    "\n",
    "Suppose the stock price diffuses with risk-neutral drift\n",
    "$ \\mu_t\\,(=r_t-D_t)$ and local volatility $\n",
    "\\sigma \\left( {S,t} \\right)$ according to the equation:\n",
    "\n",
    "$$\\frac{dS_t}{S_t} = \\mu_t\\,dt + \\sigma \\left( {S_t,t} \\right)\\,dZ_t$$ \n",
    "\n",
    "The\n",
    "undiscounted risk-neutral value $ C\\left( {S_t ,K,T} \\right)$ of a\n",
    "European option with strike $K$ and time to expiration $T$ is given by\n",
    "\n",
    "<a name=\"eq6:callintegral\"></a>(6)\n",
    "\\begin{equation}{\n",
    "C\\left( {S_t ,K,T} \\right) = \\int_K^\\infty \\, dS_T \\,p \\left(\n",
    "{S_T ,T } \\right)\\,\\left( S_T  - K \\right)}\n",
    "\\end{equation}\n",
    "\n"
   ]
  },
  {
   "cell_type": "markdown",
   "metadata": {
    "slideshow": {
     "slide_type": "subslide"
    }
   },
   "source": [
    "Then, differentiating [(6)](#eq6:callintegral) with respect to $T$ and applying the Fokker-Planck equation gives\n",
    "\n",
    "\\begin{eqnarray*}\n",
    "\\frac{\\partial C}{\\partial T} &=& \\int_K^\\infty \\,dS_T \\,\\left\\{\n",
    "{\\frac{\\partial}{\\partial T}\\,p \\,\n",
    "\\left( {S_T,T } \\right)\\,} \\right\\}\\left( S_T  - K \\right) \\nonumber\\\\\n",
    "&=& \\int_K^\\infty \\, dS_T \\,\\left\\{ \\frac{1}{2}\\,\\frac{\\partial ^2\n",
    "}{\\partial S_T ^2 }\\,\\left( {\\sigma ^2 S_T ^2\\, p } \\right) -\n",
    "\\frac{\\partial }{{\\partial S_T }} \\left( \\mu_T \\,S_T\\,p\\right)\\,\n",
    "\\right\\}\\,\\left( {S_T  - K} \\right)\n",
    "\\end{eqnarray*}"
   ]
  },
  {
   "cell_type": "markdown",
   "metadata": {
    "slideshow": {
     "slide_type": "subslide"
    }
   },
   "source": [
    "Integrating by parts gives:\n",
    "\n",
    "<a name=\"eq7:Dupire\"></a>(7)\n",
    "\\begin{eqnarray}\n",
    "\\frac{\\partial C}{\\partial T} &=& \\frac{\\sigma ^2\\, K^2\n",
    "}{2}\\,p  + \\int_K^\\infty \\, dS_T \\,\\mu_T\\, S_T\\, p \\nonumber\\\\\n",
    "&=& \\frac{\\sigma ^2 \\,K^2 }{2}\\,\\frac{\\partial ^2 C}{\\partial K^2} +\n",
    "\\mu_T\\,\\left( C - K\\,\\frac{\\partial C}{\\partial K}\\right)\n",
    "\\end{eqnarray}\n",
    "\n",
    "which is the Dupire equation when the underlying stock has risk-neutral\n",
    "drift $\\mu_t$."
   ]
  },
  {
   "cell_type": "markdown",
   "metadata": {
    "slideshow": {
     "slide_type": "subslide"
    }
   },
   "source": [
    "The last part comes from\n",
    "\n",
    "\\begin{eqnarray}\n",
    "\\int_K^\\infty \\, S_T\\, p(S_T)\\, dS_T  &=& \\ee{S_T \\mathbf{1}_{S_T > K}}\\\\\n",
    "&=& \\ee{(S_T-K)\\mathbf{1}_{S_T > K}}+ K\\,\\ee{\\mathbf{1}_{S_T > K}}\\\\ \n",
    "&=& C + K\\,\\Pr(S_T>K)\\\\\n",
    "&=& C - K\\,\\frac{\\p C}{\\p K}.\n",
    "\\end{eqnarray}"
   ]
  },
  {
   "cell_type": "markdown",
   "metadata": {
    "slideshow": {
     "slide_type": "slide"
    }
   },
   "source": [
    "### Under the forward measure\n",
    "\n",
    "As of time $t$, the time $T$ forward price of the stock  is given by\n",
    "$$F_T = S_t \\,\\exp \\left\\{ \\int_t^T \\,\\mu_s\\,ds \\right\\}.$$\n",
    "\n",
    "It is then straightforward to verify using Itô's Lemma that\n",
    "\n",
    "$$\n",
    "dF_t = F_t\\,\\sigma(S_t,t)\\,dZ_t,\n",
    "$$\n",
    "\n",
    "which with some abuse of notation, we may rewrite as \n",
    "\n",
    "$$\n",
    "dF_t = F_t\\,\\sigma(F_t,t)\\,dZ_t.\n",
    "$$"
   ]
  },
  {
   "cell_type": "markdown",
   "metadata": {
    "slideshow": {
     "slide_type": "subslide"
    }
   },
   "source": [
    "In that case (or equivalently if were to set rates and dividends to zero), we would get the \n",
    "get the same expression as [(7)](#eq7:Dupire) without the drift term. That is\n",
    "\n",
    "$$\\frac{{\\partial C}}{{\\partial T}} = \\frac{{1 }}{2}\\,\\sigma\n",
    "^2\\,K^2\\,\\frac{{\\partial ^2 C}}{{\\partial K^2 }}$$\n",
    "\n",
    "where $C$ now\n",
    "represents $C\\left( {F_T ,K,T} \\right)$."
   ]
  },
  {
   "cell_type": "markdown",
   "metadata": {
    "slideshow": {
     "slide_type": "subslide"
    }
   },
   "source": [
    "Inverting this gives the Dupire equation in its simplest form:\n",
    "\n",
    "<br>\n",
    "\n",
    "<blockquote><div style=\"background-color:#add8e6; color:#FFFFFF; font-style: normal;  \" ><h4>\n",
    "The Dupire equation</h4>\n",
    "</div>\n",
    "<div style=\"background-color:#E8E8E8; color:#000000; font-style: normal; \">\n",
    "<br>\n",
    "<a name=\"eq8:localvoldef\"></a>(8)\n",
    "\n",
    "\\begin{equation}\n",
    "\\sigma ^2(K,T)\\,=\\,\\frac { \\frac{{\\partial C}}{{\\partial T}}}\n",
    "{ \\frac{{1 }}{2}\\,\\,K^2\\,\\frac{{\\partial ^2 C}}{{\\partial K^2 }}}\n",
    "\\end{equation}\n",
    "\n",
    "\n",
    "<br>\n",
    "\n",
    "</div>\n",
    "\n",
    "</blockquote>\n",
    "\n",
    "<br>"
   ]
  },
  {
   "cell_type": "markdown",
   "metadata": {
    "slideshow": {
     "slide_type": "subslide"
    }
   },
   "source": [
    "<font color=\"black\">\n",
    "- <span> The right hand side of equation [(8)](#eq8:localvoldef) can in\n",
    "principle be computed from known European option prices. </span>\n",
    "\n",
    "    - <span>Given a complete set of European option prices for all strikes and\n",
    "expirations, local volatilities are given uniquely by equation\n",
    "[(8)](#eq8:localvoldef).</span>\n",
    "\n",
    "    - <span>In words, “local variance is given by the ratio of a calendar\n",
    "spread to a butterfly”.</span>\n",
    "\n",
    "\n",
    "- <span>We can view equation [(8)](#eq8:localvoldef) as a *definition* of the\n",
    "local volatility function regardless of what kind of process (stochastic\n",
    "volatility for example) actually governs the evolution of\n",
    "volatility.</span>"
   ]
  },
  {
   "cell_type": "markdown",
   "metadata": {
    "slideshow": {
     "slide_type": "slide"
    }
   },
   "source": [
    "### Local volatility in terms of implied volatility\n",
    "\n",
    "Market prices of options are quoted in terms of Black-Scholes implied\n",
    "volatility $\n",
    "\\sigma _{BS} \\left( {K,T;S_0 } \\right)$. In other words, we may write\n",
    "\n",
    "$$C\\left( {S_0 ,K,T} \\right) = C_{BS} \\left( {S_0 ,K,\\sigma _{BS}\n",
    "\\left( {K,T} \\right),T} \\right)$$"
   ]
  },
  {
   "cell_type": "markdown",
   "metadata": {
    "slideshow": {
     "slide_type": "subslide"
    }
   },
   "source": [
    "It will be more convenient for us\n",
    "to work in terms of two dimensionless variables: the Black-Scholes\n",
    "<span>*implied total variance*</span> $w$ defined by\n",
    "\n",
    "$${\\mathop{ w}} \\left( {K,T} \\right) := \\sigma _{BS} ^2 \\left(\n",
    "{K,T} \\right)\\,T$$ \n",
    "\n",
    "and the log-strike $k$ defined by\n",
    "\n",
    "$$k = \\log \\left( \\frac{K}{F_T } \\right)$$\n",
    "\n",
    "where\n",
    "$ F_T  = S_0 \\,\\exp \\left\\{\\int_0^T\\,\\mu_t\\,dt \\right \\} $ is the\n",
    "forward price."
   ]
  },
  {
   "cell_type": "markdown",
   "metadata": {
    "slideshow": {
     "slide_type": "slide"
    }
   },
   "source": [
    "### Black-Scholes formula in terms of log-strike and total variance\n",
    "\n",
    "In terms of these variables, the Black-Scholes formula for the\n",
    "undiscounted call price becomes\n",
    "\n",
    "<a name=\"eq9:BS\"></a>(9)\n",
    "\\begin{eqnarray*}\n",
    "C_{BS} &=& \n",
    "F_T\\, \\left\\{N\\left( d_1  \\right) - e^k\\, N\\left( d_2  \\right) \\right\\}\\\\\n",
    "&=& F_T\\, \\left\\{ N \\left( -\\frac{k}{\\sqrt{w}} +\\frac{ \\sqrt{w}}{2} \\right)\n",
    " - e^k \\,  N \\left( -\\frac{k}{ \\sqrt{w} } -\\frac{ \\sqrt{w} }{2} \\right)\n",
    " \\right\\}\n",
    "\\end{eqnarray*}"
   ]
  },
  {
   "cell_type": "markdown",
   "metadata": {
    "slideshow": {
     "slide_type": "subslide"
    }
   },
   "source": [
    "and the Dupire equation [(7)](#eq7:Dupire) becomes\n",
    "\n",
    "<a name=\"eq10:dupirex\"></a>(10)\n",
    "$$\n",
    "\\frac{\\partial C}{\\partial T} = \n",
    "\\frac{v_\\ell }{2}\\,\\left\\{\n",
    "\\frac{\\partial ^2 C}{\\partial k^2 } - \\frac{\\partial C}{\\partial k} \\right\\}\n",
    " + \\mu_T\\, \\,C\n",
    "$$\n",
    "\n",
    "with $v_\\ell = \\sigma ^2 \\left( K,T \\right)$ representing the local\n",
    "variance."
   ]
  },
  {
   "cell_type": "markdown",
   "metadata": {
    "slideshow": {
     "slide_type": "subslide"
    }
   },
   "source": [
    "Now, by taking derivatives of the Black-Scholes formula [(9)](#eq9:BS), we\n",
    "obtain\n",
    "\n",
    "<a name=\"eq11:BSderivatives\"></a>(11)\n",
    "\\begin{eqnarray}\n",
    "\\frac{\\partial ^2 C_{BS} }{\\partial w^2 } &=&\n",
    "\\left(  - \\frac{1}{8} - \\frac{1}{2\\,w} + \\frac{k^2}{2\\,w^2} \\right)\\,\n",
    "\\frac{\\partial C_{BS} }{\\partial w} \\nonumber\\\\\n",
    "\\frac{\\partial ^2 C_{BS}}{\\partial k \\partial w}\n",
    "&=& \\,\\left(  \\frac{1}{2} - \\frac{k}{w}\\right)\\,\n",
    "\\frac{\\partial C_{BS}}{\\partial w}\\nonumber\\\\\n",
    "\\frac{\\partial ^2 C_{BS} }{\\partial k^2 } -\\frac{\\partial C_{BS} }{\\partial k} \n",
    "&=& 2\\,\\frac{\\partial C_{BS} }{\\partial w}\n",
    "\\end{eqnarray}"
   ]
  },
  {
   "cell_type": "markdown",
   "metadata": {
    "slideshow": {
     "slide_type": "slide"
    }
   },
   "source": [
    "### Dupire equation in terms of implied variance\n",
    "\n",
    "We may transform equation [(10)](#eq10:dupirex) into an equation in terms of\n",
    "implied variance by making the substitutions\n",
    "\n",
    "\\begin{eqnarray*}\n",
    "\\frac{\\partial C}{\\partial k} &=& \n",
    "\\frac{\\partial C_{BS}}{\\partial k} + \\frac{\\partial C_{BS}}{\\partial w}\\,\\frac{\\partial w}{\\partial k} \\nonumber\\\\\n",
    "\\frac{\\partial ^2 C}{\\partial k^2 } &=& \n",
    "\\frac{\\partial^2 C_{BS} }{\\partial k^2 } + 2\\,\\frac{\\partial ^2 C_{BS} }{\\partial k \\partial w}\\,\n",
    "\\frac{\\partial w}{\\partial k} + \\frac{\\partial^2 C_{BS} }{\\partial w^2}\\,\n",
    "\\left( \\frac{\\partial w}{\\partial k} \\right)^2\n",
    "+ \\frac{\\partial C_{BS} }{\\partial w}\\,\\frac{\\partial ^2 w}{\\partial k^2 } \\nonumber\\\\\n",
    "\\frac{\\partial C}{\\partial T} &=&\n",
    " \\frac{\\partial C_{BS}}{\\partial T} + \\frac{\\partial C_{BS} }{\\partial w}\\,\\frac{\\partial w}{\\partial T}\n",
    " = \\frac{\\partial C_{BS} }{\\partial w}\\,\\frac{\\partial w}{\\partial T} + \\mu_T\\,C_{BS}\n",
    "\\end{eqnarray*}\n",
    "\n",
    "where the last equality follows from the fact that the only explicit\n",
    "dependence of the option price on $T$ in equation [(9)](#eq9:BS) is through\n",
    "the forward price\n",
    "$ F_T  = S_0 \\exp \\left\\{ \\int_0^T \\,\\mu_t\\,dt \\right\\}\\,$."
   ]
  },
  {
   "cell_type": "markdown",
   "metadata": {
    "slideshow": {
     "slide_type": "subslide"
    }
   },
   "source": [
    "Canceling $\\mu_T\\,C $ terms on each side and using [(11)](#eq11:BSderivatives),\n",
    "equation [(7)](#eq7:Dupire) now becomes\n",
    "\n",
    "\\begin{eqnarray*}\n",
    "&&\\frac{\\partial C_{BS} }{\\partial w}\\,\\frac{\\partial w}{\\partial T}\\\\\n",
    " &=& \\frac{v_\\ell}{2}\\,\\left\\{\n",
    " -\\frac{\\partial C_{BS} }{\\partial k} +\n",
    "\\frac{\\partial ^2 C_{BS} }{\\partial k^2 } - \\frac{\\partial\n",
    "C_{BS} }{\\partial w}\\,\\frac{\\partial w}{\\partial k} + 2\\,\\frac{\\partial ^2 C_{BS} }{\\partial k\\, \\partial w}\\,\\frac{\\partial w}{\\partial k} +\\right.\\nonumber\\\\\n",
    "&\\,& \\left.\n",
    " \\frac{\\partial ^2 C_{BS}}{\\partial w^2 }\\,\\left( \\frac{\\partial w}{\\partial k} \\right)^2  \n",
    " + \\frac{\\partial C_{BS}}{\\partial w}\\,\\frac{\\partial^2 w}{\\partial k^2 } \\right\\}\\nonumber\\\\\n",
    "&=& \\frac{v_\\ell }{2}\\,\\frac{\\partial C_{BS} }{\\partial w}\\,\\left\\{\n",
    "2 - \\frac{\\partial w}{\\partial k} +2\\,\\left(   \\frac{1}{2} - \\frac{k}{w}\\right)\\,\n",
    "\\frac{\\partial w}{\\partial k} \\right.\\nonumber\\\\\n",
    "&\\,& \\left.\n",
    " + \\left(  - \\frac{1}{8} -\\frac{1}{2\\,w} + \\frac{k^2 }{2\\,w^2}\\right)\\,\n",
    " \\left( \\frac{\\partial w}{\\partial k}\\right)^2  \n",
    " + \\frac{\\partial ^2 w}{\\partial k^2 }\\right\\}\n",
    "\\end{eqnarray*}"
   ]
  },
  {
   "cell_type": "markdown",
   "metadata": {
    "slideshow": {
     "slide_type": "slide"
    }
   },
   "source": [
    "### Local variance in terms of implied variance\n",
    "\n",
    "Then, taking out a factor of $ \\frac{\\partial C_{BS}}{\\partial w}$ and\n",
    "simplifying, we get\n",
    "\n",
    "$$\\frac{\\partial w}{\\partial T} = v_\\ell\\,\n",
    " \\left\\{ 1 -\\frac{k}{w}\\,\\frac{\\partial w}{\\partial k} \n",
    " + \\frac{1}{4}\\left(  - \\frac{1}{4} - \\frac{1}{w}+ \\frac{k^2 }{w^2} \\right)\\,\n",
    "\\left( \\frac{\\partial w}{\\partial k} \\right)^2  +\n",
    "\\frac{1}{2}\\,\\frac{\\partial ^2 w}{\\partial k^2}\n",
    "\\right\\}$$\n",
    "\n",
    "Inverting this and rearranging slightly gives our final\n",
    "result:"
   ]
  },
  {
   "cell_type": "markdown",
   "metadata": {
    "slideshow": {
     "slide_type": "subslide"
    }
   },
   "source": [
    "<br>\n",
    "\n",
    "<blockquote><div style=\"background-color:#add8e6; color:#FFFFFF; font-style: normal;  \" ><h4>\n",
    "Local volatility from implied volatility</h4>\n",
    "</div>\n",
    "<div style=\"background-color:#E8E8E8; color:#000000; font-style: normal; \">\n",
    "<br>\n",
    "<a name=\"eq12:localfromimplied\"></a>(12)\n",
    "\n",
    "\\begin{equation}\n",
    "v_\\ell(k,T) = \\frac{\\frac{\\partial w}{\\partial T}}\n",
    "{\\left(1 -\\frac 12\\frac{k}{w}\\,\\frac{\\partial w}{\\partial k}\\right)^2\n",
    " - \\frac14\\,\\left( \\frac{1}{4} + \\frac{1}{w} \\right)\\,\n",
    " \\left( \\frac{\\partial w}{\\partial k} \\right)^2  +\n",
    "\\frac{1}{2}\\,\\frac{\\partial^2 w}{\\partial k^2 }}\n",
    "\\end{equation}\n",
    "\n",
    "\n",
    "<br>\n",
    "\n",
    "</div>\n",
    "\n",
    "</blockquote>\n",
    "\n",
    "<br>"
   ]
  },
  {
   "cell_type": "markdown",
   "metadata": {
    "slideshow": {
     "slide_type": "slide"
    }
   },
   "source": [
    "### Special Case: No Skew\n",
    "\n",
    "If $w$ is a function of $T$ only and not of $k$ (so no skew and no\n",
    "smile), then we must have\n",
    "\n",
    "$$v_\\ell = \\frac{\\partial w}{\\partial T}$$\n",
    "\n",
    "and\n",
    "the local variance reduces to the forward Black-Scholes implied\n",
    "variance. The solution to this is of course\n",
    "$$w\\left( T \\right) = \\int_0^T {v_\\ell \\left( t \\right)\\,dt}$$"
   ]
  },
  {
   "cell_type": "markdown",
   "metadata": {
    "slideshow": {
     "slide_type": "slide"
    }
   },
   "source": [
    "### The Berestycki-Busca-Florent (BBF) formula\n",
    "\n",
    "Following [Berestycki, Busca and Florent]<sup id=\"cite_ref-BBF\" class=\"reference\"><a href=\"#cite_note-BBF\"><span>[</span>1<span>]</span></a></sup>, suppose $\\sigma_{BS}(k,T)=\\sigma_0(k)+\\mathcal{O}(T)$. Then, to zeroth\n",
    "order in $T$, formula [(12)](#eq12:localfromimplied) reads:\n",
    "\n",
    "<a name=\"eq13:13\"></a>(13)\n",
    "\\begin{equation}\n",
    "\\sigma(k,t)^2=v_{\\ell}(k,t)=\\frac{\\sigma_0^2(k)+\\mathcal{O}(t)}{\\left(1-\\frac{k}{2\\,w}\\,\\partial_k w\\right)^2+\\mathcal{O}(t)}.\n",
    "\\end{equation}\n",
    "\n",
    "Noting that\n",
    "$$1-\\frac{k}{2\\,w}\\,\\partial_k w=\\sqrt{w}\\,\\frac{\\partial}{\\partial k}\\left(\\frac{k}{\\sqrt{w}}\\right)= \\sigma_0(k)\\,\\frac{\\partial}{\\partial k}\\left(\\frac{k}{\\sigma_0(k)}\\right),$$\n",
    "we may rearrange [(13)](#eq13:13) to give (to zeroth order in $t$)\n",
    "$$\\frac{\\partial}{\\partial k}\\left(\\frac{k}{\\sigma_0(k)}\\right)=\\frac{1}{\\sigma(k,0).}$$\n",
    "\n",
    "\n",
    "Integrating, we arrive at the solution:\n",
    "\n",
    "<br>\n",
    "\n",
    "<blockquote><div style=\"background-color:#add8e6; color:#FFFFFF; font-style: normal;  \" ><h4>\n",
    "The BBF formula</h4>\n",
    "</div>\n",
    "<div style=\"background-color:#E8E8E8; color:#000000; font-style: normal; \">\n",
    "<br>\n",
    "$$\\frac{1}{\\sigma_0(k)}=\\frac{1}{k}\\,\\int_0^k\\,\\frac{dy}{\\sigma(y,0)}=\\int_0^1\\,\\frac{d\\alpha}{\\sigma(\\alpha\\,k,0)}$$\n",
    "\n",
    "<br>\n",
    "\n",
    "</div>\n",
    "\n",
    "</blockquote>\n",
    "\n",
    "<br>"
   ]
  },
  {
   "cell_type": "markdown",
   "metadata": {
    "slideshow": {
     "slide_type": "slide"
    }
   },
   "source": [
    "### The heat-kernel most-likely-path formula\n",
    "\n",
    "In a more recent paper, [Gatheral and Wang]<sup id=\"cite_ref-8GatheralWang\" class=\"reference\"><a href=\"#cite_note-8GatheralWang\"><span>[</span>8<span>]</span></a></sup> derived the following fancier\n",
    "approximation:\n",
    "\n",
    "$$\\frac{k^2}{\\sigma_{BS}^2} \\approx  T\\,\\int_0^T \\,\\left[ \\frac{\\dot x(t)}{\\sigma(x(t),t)} \\right]^2\\, dt$$\n",
    "\n",
    "where the <span>*variational most likely path (variational MLP)*</span>\n",
    "$x(t)$ is the solution of the following variational problem:\n",
    "\n",
    "<a name=\"eq14:mlp-bvp\"></a>(14)\n",
    "$$\n",
    "\\left\\{\n",
    "\\begin{array}{l}\n",
    "-\\frac {d}{dt}\\left[ \\frac{\\dot x(t)}{\\sigma(x,t)} \\right] + \\frac{\\partial_t \\sigma(x,t)}{\\sigma^2(x,t)} \\dot x(t) = 0, \\\\\n",
    "x(0) = 0, \\quad x(T) = k.\n",
    " \\end{array}\\right.\n",
    "$$\n",
    "\n",
    "\n",
    "\n",
    "This formula reduces to the BBF formula when the local volatility\n",
    "function $\\sigma(x,t)$ is time-homogeneous and is much more accurate\n",
    "otherwise."
   ]
  },
  {
   "cell_type": "markdown",
   "metadata": {
    "slideshow": {
     "slide_type": "slide"
    }
   },
   "source": [
    "### A simplification\n",
    "\n",
    "For simplicity, in what follows, we will assume zero interest rates and\n",
    "zero dividends."
   ]
  },
  {
   "cell_type": "markdown",
   "metadata": {
    "slideshow": {
     "slide_type": "slide"
    }
   },
   "source": [
    "### Local variance as a conditional expectation of instantaneous variance\n",
    "\n",
    "Following Derman and Kani, write\n",
    "\n",
    "$$C\\left( {S_0 ,K,T} \\right)\\,=\\,\\mathbb{ E} \\left [ (S_T - K)^+\n",
    "\\right ]$$\n",
    "\n",
    "As before, differentiating twice with respect to $K$ gives\n",
    "\n",
    "$${\\frac{\\partial ^2 C}{\\partial K^2}}=\\mathbb{ E}\\left[ {\\delta\n",
    "\\left( {S_T-K} \\right)} \\right]$$\n",
    "\n",
    "where $\\delta (\\cdot)$ is the Dirac\n",
    "$\\delta$ function. Now, a formal application of Itô’s Lemma to the\n",
    "terminal payoff of the option gives\n",
    "\n",
    "<a name=\"eq15:TanakaDiff\"></a>(15)\n",
    "$$\n",
    "d\\left( {S_T-K} \\right)^+=\\theta \\left( {S_T-K}\n",
    "\\right)\\,dS_T+\\frac{1}{2}\\,v_T\\,S_T^2\\,\\delta \\left( {S_T-K}\n",
    "\\right)\\,dT\n",
    "$$"
   ]
  },
  {
   "cell_type": "markdown",
   "metadata": {
    "slideshow": {
     "slide_type": "subslide"
    }
   },
   "source": [
    "Taking conditional expectations of each side, and using the fact that\n",
    "$S_T$ is a martingale, we get\n",
    "\n",
    "$$dC\\,=\\,d\\mathbb{ E}\\left[ {\\left( {S_T-K} \\right)^+ }\n",
    "\\right]=\\,\\frac{1}{2}\\, \\mathbb{ E}\\left[ {v_T \\,S_T^2\\,\\delta\n",
    "\\left( {S_T-K} \\right)} \\right]\\,dT$$\n",
    "\n",
    "Also, denoting the final density by $p(S_T,T)$, we can write \n",
    "\n",
    "\\begin{eqnarray*}\n",
    "\\mathbb{ E}\\left[ {\\,v_TS_T^2\\,\\delta \\left( {S_T-K} \\right)}\n",
    "\\right]&=&\\,\\mathbb{ E}\\left[ {v_T\\left| {S_T=K} \\right.}\n",
    "\\right]\\,K^2\\,\\mathbb{ E}\\left[ {\\,\\,\\delta \\left(\n",
    "{S_T-K} \\right)} \\right]\\nonumber\\\\\n",
    " &=&\\mathbb{ E}\\left[ {v_T\\left| {S_T=K} \\right.}\n",
    "\\right]\\,K^2\\,p(K,T)\\nonumber\\\\\n",
    "&=&\\mathbb{ E}\\left[ {v_T\\left| {S_T=K} \\right.}\n",
    "\\right]\\,K^2\\,{\\frac{\\partial ^2 C} {\\partial K^2}}\n",
    "\\end{eqnarray*}\n",
    "\n",
    "Putting this together, we get\n",
    "\n",
    "<a name=\"eq16:conditionalExpectation\"></a>(16)\n",
    "$$\\frac{\\partial C} {\\partial T}= \n",
    "{\\mathbb{E} }\\left[ v_T\\left | S_T=K\\right. \\right]\\,\\frac{1}{2}K^2\\,\\frac{\\partial ^2 C}\n",
    "{\\partial K^2}\n",
    "$$"
   ]
  },
  {
   "cell_type": "markdown",
   "metadata": {
    "slideshow": {
     "slide_type": "subslide"
    }
   },
   "source": [
    "Comparing [(16)](#eq16:conditionalExpectation) with the definition\n",
    "[(8)](#eq8:localvoldef) of local volatility, we get\n",
    "\n",
    "\n",
    "<br>\n",
    "\n",
    "<blockquote><div style=\"background-color:#add8e6; color:#FFFFFF; font-style: normal;  \" ><h4>\n",
    "Local variance as conditional expectation</h4>\n",
    "</div>\n",
    "<div style=\"background-color:#E8E8E8; color:#000000; font-style: normal; \">\n",
    "<br>\n",
    "$$ \\sigma ^2(K,T)\\,=\\, \\mathbb{ E}\\left[ {v_T\\left| {S_T=K}\n",
    "\\right.} \\right] $$ \n",
    "\n",
    "<br>\n",
    "\n",
    "</div>\n",
    "\n",
    "</blockquote>\n",
    "\n",
    "<br>\n",
    "\n",
    "<font color=\"black\">That is, local variance is the risk-neutral expectation of the\n",
    "instantaneous variance conditional on the final stock price $S_T$ being\n",
    "equal to the strike price $K$."
   ]
  },
  {
   "cell_type": "markdown",
   "metadata": {
    "slideshow": {
     "slide_type": "slide"
    }
   },
   "source": [
    "### Tanaka’s formula\n",
    "\n",
    "Sometimes in the literature, we see [(15)](#eq15:TanakaDiff) written in\n",
    "integral form as\n",
    "\n",
    "\\begin{eqnarray*}\n",
    "&&\\left( {S_T-K} \\right)^+\\\\\n",
    "&=&  \\left( {S_0-K} \\right)^+ +  \\int_0^T \\mathbf{1}_{S_t>K}\\,dS_t\n",
    "+\\frac{1}{2}\\,\\int_0^T\\,v_t\\,S_t^2\\,\\delta \\left( {S_t-K}\n",
    "\\right)\\,dt\\end{eqnarray*}\n",
    "\n",
    "This is a form of Tanaka’s formula. It expresses the payoff of a\n",
    "European call as the proceeds of a stop-loss start-gain hedging strategy\n",
    "plus local time."
   ]
  },
  {
   "cell_type": "markdown",
   "metadata": {
    "slideshow": {
     "slide_type": "slide"
    }
   },
   "source": [
    "### References\n",
    "\n",
    "<br />\n",
    "\n",
    "<div class=\"reflist\" style=\"list-style-type: decimal;\">\n",
    "\n",
    "<ol>\n",
    "  \n",
    "  <li id=\"cite_note-BBF\"><span class=\"mw-cite-backlink\"><b><a href=\"#cite_ref-BBF\">^</a></b></span>   Henri Berestycki, Jérôme Busca and Igor Florent, Asymptotics and\n",
    "calibration of local volatility models, <span>*Quantitative\n",
    "Finance*</span> <span>**2**</span>, 61–69 (2002).</li>\n",
    " \n",
    " \n",
    "  <li id=\"cite_note-2BGK\"><span class=\"mw-cite-backlink\"><b><a href=\"#cite_ref-2BGK\">^</a></b></span>   Christian Bayer, Jim Gatheral, and Morten Karlsmark, Fast\n",
    "Ninomiya-Victoir calibration of the double-mean-reverting model,\n",
    "<span>*Quantitative Finance*</span> <span>**13**(11)</span>, 1813–1829 (2013).</li>\n",
    "\n",
    "  <li id=\"cite_note-3DermanKani\"><span class=\"mw-cite-backlink\"><b><a href=\"#cite_ref-3DermanKani\">^</a></b></span>   Derman, Emanuel and Iraj Kani, Riding on a smile. <span>*Risk*</span>\n",
    "<span>**7**</span>(2), 32–39 (1994).</li>\n",
    "\n",
    "  <li id=\"cite_note-4DumasFlemingWhaley\"><span class=\"mw-cite-backlink\"><b><a href=\"#cite_ref-4DumasFlemingWhaley\">^</a></b></span>   Dumas, Bernard, Jeff Fleming and Robert E Whaley, Implied Volatility\n",
    "Functions: Empirical Tests, <span>*Journal of Finance*</span>\n",
    "<span>**53**</span>, 2059–2106 (1998).</li>\n",
    "\n",
    "  <li id=\"cite_note-5Dupire\"><span class=\"mw-cite-backlink\"><b><a href=\"#cite_ref-5Dupire\">^</a></b></span>   Dupire Bruno, <span>Pricing with a smile</span>, <span>*Risk*</span>\n",
    "<span>**7**</span>(1), 18–20 (1994).</li>\n",
    "\n",
    "  <li id=\"cite_note-6Gatheral\"><span class=\"mw-cite-backlink\"><b><a href=\"#cite_ref-6Gatheral\">^</a></b></span>Jim Gatheral, <span>*The Volatility Surface: A Practitioner’s\n",
    "Guide*</span>, John Wiley and Sons, Hoboken, NJ (2006).</li>\n",
    "\n",
    "  <li id=\"cite_note-7Gatheral:Bachelier\"><span class=\"mw-cite-backlink\"><b><a href=\"#cite_ref-7Gatheral:Bachelier\">^</a></b></span>Jim Gatheral, <span>*Consistent Modeling of SPX and VIX Options*</span>,\n",
    "Fifth World Congress of the Bachelier Finance Society (2008).</li>\n",
    "\n",
    "  <li id=\"cite_note-8GatheralWang\"><span class=\"mw-cite-backlink\"><b><a href=\"#cite_ref-8GatheralWang\">^</a></b></span>Jim Gatheral and Tai-Ho Wang, The heat-kernel most-likely-path\n",
    "approximation, <span>*International Journal of Theoretical and Applied\n",
    "Finance*</span> <span>**15**</span>(1) 1250001-1–1250001-18 (2012).</li>\n",
    "\n",
    "  <li id=\"cite_note-Wilmott\"><span class=\"mw-cite-backlink\"><b><a href=\"#cite_ref-Wilmott\">^</a></b></span>Paul Wilmott, <span>*Paul Wilmott Introduces Quantitative\n",
    "Finance*</span>, John Wiley and Sons, Chichester (2007).</li>\n",
    "\n",
    "</ol>"
   ]
  }
 ],
 "metadata": {
  "celltoolbar": "Slideshow",
  "kernelspec": {
   "display_name": "R",
   "language": "R",
   "name": "ir"
  },
  "language_info": {
   "codemirror_mode": "r",
   "file_extension": ".r",
   "mimetype": "text/x-r-source",
   "name": "R",
   "pygments_lexer": "r",
   "version": "3.5.1"
  },
  "latex_envs": {
   "LaTeX_envs_menu_present": true,
   "autoclose": false,
   "autocomplete": false,
   "bibliofile": "biblio.bib",
   "cite_by": "apalike",
   "current_citInitial": 1,
   "eqLabelWithNumbers": false,
   "eqNumInitial": 1,
   "hotkeys": {
    "equation": "Ctrl-E",
    "itemize": "Ctrl-I"
   },
   "labels_anchors": false,
   "latex_user_defs": false,
   "report_style_numbering": false,
   "user_envs_cfg": false
  },
  "varInspector": {
   "cols": {
    "lenName": 16,
    "lenType": 16,
    "lenVar": 40
   },
   "kernels_config": {
    "python": {
     "delete_cmd_postfix": "",
     "delete_cmd_prefix": "del ",
     "library": "var_list.py",
     "varRefreshCmd": "print(var_dic_list())"
    },
    "r": {
     "delete_cmd_postfix": ") ",
     "delete_cmd_prefix": "rm(",
     "library": "var_list.r",
     "varRefreshCmd": "cat(var_dic_list()) "
    }
   },
   "types_to_exclude": [
    "module",
    "function",
    "builtin_function_or_method",
    "instance",
    "_Feature"
   ],
   "window_display": false
  }
 },
 "nbformat": 4,
 "nbformat_minor": 1
}
