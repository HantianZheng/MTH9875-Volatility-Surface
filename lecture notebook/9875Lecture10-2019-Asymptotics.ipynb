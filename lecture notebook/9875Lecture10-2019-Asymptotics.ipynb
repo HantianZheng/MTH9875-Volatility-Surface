{
 "cells": [
  {
   "cell_type": "markdown",
   "metadata": {
    "slideshow": {
     "slide_type": "slide"
    }
   },
   "source": [
    "## MTH 9875 The Volatility Surface: Fall 2019\n",
    "\n",
    "<p>\n",
    "\n",
    "### Lecture 10: Asymptotics and dynamics of the volatility surface\n",
    "\n",
    "\n",
    "Jim Gatheral   \n",
    "Department of Mathematics   \n",
    "  \n",
    "$$\n",
    "\\newcommand{\\beas}{\\begin{eqnarray*}}\n",
    "\\newcommand{\\eeas}{\\end{eqnarray*}}\n",
    "\\newcommand{\\bea}{\\begin{eqnarray}}\n",
    "\\newcommand{\\eea}{\\end{eqnarray}}\n",
    "\\newcommand{\\ben}{\\begin{enumerate}}\n",
    "\\newcommand{\\een}{\\end{enumerate}}\n",
    "\\newcommand{\\bi}{\\begin{itemize}}\n",
    "\\newcommand{\\ei}{\\end{itemize}}\n",
    "\\newcommand{\\beq}{\\begin{equation}}\n",
    "\\newcommand{\\eeq}{\\end{equation}}\n",
    "\\newcommand{\\bv}{\\begin{verbatim}}\n",
    "\\newcommand{\\ev}{\\end{verbatim}}\n",
    "\\newcommand{\\E}{\\mathbb{E}}\n",
    "\\newcommand{\\R}{\\mathbb{R}}\n",
    "\\newcommand{\\mP}{\\mathbbm{P}}\n",
    "\\newcommand{\\mQ}{\\mathbbm{Q}}\n",
    "\\newcommand{\\sigl}{\\sigma_L}\n",
    "\\newcommand{\\BS}{\\rm BS}\n",
    "\\newcommand{\\vix}{\\text{VIX}}\n",
    "\\newcommand{\\p}{\\partial}\n",
    "\\newcommand{\\var}{{\\rm var}}\n",
    "\\newcommand{\\cov}{{\\rm cov}}\n",
    "\\newcommand{\\mt}{\\mathbf{t}}\n",
    "\\newcommand{\\mS}{\\mathbf{S}}\n",
    "\\newcommand{\\tC}{\\widetilde{C}}\n",
    "\\newcommand{\\hC}{\\widehat{C}}\n",
    "\\newcommand{\\cE}{\\mathcal{E}}\n",
    "\\newcommand{\\tH}{\\widetilde{H}}\n",
    "\\newcommand{\\cD}{\\mathcal{D}}\n",
    "\\newcommand{\\cM}{\\mathcal{M}}\n",
    "\\newcommand{\\cS}{\\mathcal{S}}\n",
    "\\newcommand{\\cR}{\\mathcal{R}}\n",
    "\\newcommand{\\cF}{\\mathcal{F}}\n",
    "\\newcommand{\\cV}{\\mathcal{V}}\n",
    "\\newcommand{\\cG}{\\mathcal{G}}\n",
    "\\newcommand{\\cv}{\\mathcal{v}}\n",
    "\\newcommand{\\cg}{\\mathcal{g}}\n",
    "\\newcommand{\\cL}{\\mathcal{L}}\n",
    "\\newcommand{\\cC}{\\mathcal{C}}\n",
    "\\newcommand{\\cO}{\\mathcal{O}}\n",
    "\\newcommand{\\dt}{\\Delta t}\n",
    "\\newcommand{\\dm}{\\diamond}\n",
    "\\newcommand{\\mA}{\\mathbb{A}}\n",
    "\\newcommand{\\mF}{\\mathbb{F}}\n",
    "\\newcommand{\\ui}{\\textrm{i}}\n",
    "\\newcommand{\\tr}{{\\rm tr}}\n",
    "\\newcommand{\\sgn}{\\mathrm{sign}}\n",
    "\\newcommand{\\ee}[1]{\\mathbb{E}\\left[{#1}\\right]}\n",
    "\\newcommand{\\eef}[1]{{\\mathbb{E}\\left[\\left.{#1}\\right|\\cF_t\\right]}}\n",
    "\\newcommand{\\eefm}[2]{{\\mathbb{E}^{#2}\\left[\\left.{#1}\\right|\\cF_t\\right]}}\n",
    "\\newcommand{\\angl}[1]{{\\langle{#1}\\rangle}}\n",
    "\\newcommand{\\covf}[1]{{\\cov\\left[\\left.{#1}\\right|\\cF_t\\right]}}\n",
    "\\newcommand{\\varf}[1]{{\\var\\left[\\left.{#1}\\right|\\cF_t\\right]}}\n",
    "$$\n",
    "\n",
    "  \n",
    "<h3><img src=\"http://mfe.baruch.cuny.edu/wp-content/uploads/2016/04/MFE-Logo.jpg\" align = \"right\" width=500></h3>"
   ]
  },
  {
   "cell_type": "markdown",
   "metadata": {
    "slideshow": {
     "slide_type": "slide"
    }
   },
   "source": [
    "### Outline of lecture 10\n",
    "\n",
    "- <span>Volatility surface asymptotics</span>\n",
    "\n",
    "    - Diamonds\n",
    "\n",
    "    - <span>Short expirations</span>\n",
    "\n",
    "    - <span>Long expirations</span>\n",
    "\n",
    "    - <span>Small volatility of volatility</span>\n",
    "    \n",
    "    - The skew stickiness ratio (SSR)\n",
    "\n",
    "    - <span>Extreme strikes</span>"
   ]
  },
  {
   "cell_type": "markdown",
   "metadata": {
    "slideshow": {
     "slide_type": "subslide"
    }
   },
   "source": [
    "- <span>Volatility surface dynamics</span>\n",
    "\n",
    "    - <span>Under stochastic volatility</span>\n",
    "\n",
    "    - <span>Under local volatility</span>\n",
    "\n",
    "\n",
    "- <span>Stochastic implied volatility models</span>\n",
    "\n",
    "\n",
    "- <span>Digital options and digital cliquets</span>\n",
    "\n",
    "\n",
    "$$\n",
    "\\newcommand{\\bea}{\\begin{eqnarray}}\n",
    "\\newcommand{\\eea}{\\end{eqnarray}}\n",
    "\\newcommand{\\supp}{\\mathrm{supp}}\n",
    "\\newcommand{\\E}{\\mathbb{E} }\n",
    "\\def\\Cov{{ \\mbox{Cov} }}\n",
    "\\def\\Var{{ \\mbox{Var} }}\n",
    "\\newcommand{\\1}{\\mathbf{1} }\n",
    "\\newcommand{\\PP}{\\mathbb{P} }\n",
    "\\newcommand{\\QQ}{\\mathbb{Q} }\n",
    "\\newcommand{\\RR}{\\mathbb{R} }\n",
    "\\newcommand{\\DD}{\\mathbb{D} }\n",
    "\\newcommand{\\HH}{\\mathbb{H} }\n",
    "\\newcommand{\\spn}{\\mathrm{span} }\n",
    "\\newcommand{\\cov}{\\mathrm{cov} }\n",
    "\\newcommand{\\HS}{\\mathcal{L}_{\\mathrm{HS}} }\n",
    "\\newcommand{\\trace}{\\mathrm{trace} }\n",
    "\\newcommand{\\LL}{\\mathcal{L} }\n",
    "\\newcommand{\\s}{\\mathcal{S} }\n",
    "\\newcommand{\\ff}{\\mathcal{F} }\n",
    "\\newcommand{\\hh}{\\mathcal{H} }\n",
    "\\newcommand{\\bb}{\\mathcal{B} }\n",
    "\\newcommand{\\dd}{\\mathcal{D} }\n",
    "\\newcommand{\\g}{\\mathcal{G} }\n",
    "\\newcommand{\\half}{\\frac{1}{2} }\n",
    "\\newcommand{\\T}{\\mathcal{T} }\n",
    "\\newcommand{\\cF}{\\mathcal{F} }\n",
    "\\newcommand{\\cV}{\\mathcal{V} }\n",
    "\\newcommand{\\bi}{\\begin{itemize}}\n",
    "\\newcommand{\\ei}{\\end{itemize}}\n",
    "\\newcommand{\\beq}{\\begin{equation}}\n",
    "\\newcommand{\\eeq}{\\end{equation}}\n",
    "\\newcommand{\\angl}[1]{\\langle{#1}\\rangle}\n",
    "\\newcommand{\\beq}{\\begin{equation}}\n",
    "\\newcommand{\\eeq}{\\end{equation}}\n",
    "\\newcommand{\\beas}{\\begin{eqnarray*}}\n",
    "\\newcommand{\\eeas}{\\end{eqnarray*}}\n",
    "\\newcommand{\\bea}{\\begin{eqnarray}}\n",
    "\\newcommand{\\eea}{\\end{eqnarray}}\n",
    "\\newcommand{\\dsum}{\\displaystyle\\sum}\n",
    "\\newcommand{\\sgn}{\\mathrm{sign}}\n",
    "\\newcommand{\\ee}[1]{{\\mathbb{E}\\left[{#1}\\right]}}\n",
    "\\newcommand{\\eef}[1]{{\\mathbb{E}\\left[\\left.{#1}\\right|\\cF_t\\right]}}\n",
    "$$"
   ]
  },
  {
   "cell_type": "markdown",
   "metadata": {
    "slideshow": {
     "slide_type": "slide"
    }
   },
   "source": [
    "### Volatility surface asymptotics under stochastic volatility with jumps\n",
    "\n",
    "- How does the shape of the volatility surface depend on the choice\n",
    "of model?\n",
    "\n",
    "\n",
    "- In this lecture, we will see that all classical stochastic volatility models with\n",
    "jumps generate volatility surfaces with a similar (unrealistic)\n",
    "shape."
   ]
  },
  {
   "cell_type": "markdown",
   "metadata": {
    "slideshow": {
     "slide_type": "subslide"
    }
   },
   "source": [
    "- Similarly, all rough volatility models generate volatility surfaces with a similar shape.\n",
    "\n",
    "    - It’s practically impossible to deduce anything\n",
    "about the specific form of the volatility dynamics from a single\n",
    "observation of the volatility surface."
   ]
  },
  {
   "cell_type": "markdown",
   "metadata": {
    "slideshow": {
     "slide_type": "slide"
    }
   },
   "source": [
    "### A generic stochastic volatility model\n",
    "\n",
    "Consider a stochastic volatility model written in reasonably generic forward variance form:\n",
    "\n",
    "<a name=\"eq:genericprocess\"></a>(1)\n",
    "\\begin{eqnarray*}\n",
    "dX_t &=& -\\frac 12 \\,\\xi_t(t)\\,dt+\\sqrt{\\xi_t(t)}\\,dZ_t =-\\frac 12 \\,v_t\\,dt+\\sqrt{v_t}\\,dZ_t\\\\\n",
    "d\\xi_t(u) &=& \\eta\\,f(\\xi)\\,\\sqrt{v_t}\\,\\kappa(u-t)\\,dW_t,\n",
    "\\end{eqnarray*}\n",
    "\n",
    "\n",
    "\n",
    " where $d\\angl{W,Z}_t = \\rho\\,dt$, and\n",
    "$\\xi_t(u) = \\eef{v_u}\n",
    "$ is the forward variance curve at time $t$."
   ]
  },
  {
   "cell_type": "markdown",
   "metadata": {
    "slideshow": {
     "slide_type": "subslide"
    }
   },
   "source": [
    "* In particular, the Heston model may be written in this form.\n",
    "* So can more complicated models such as the Bergomi model and rough volatility models."
   ]
  },
  {
   "cell_type": "markdown",
   "metadata": {
    "slideshow": {
     "slide_type": "slide"
    }
   },
   "source": [
    "### Variance swaps\n",
    "\n",
    "We now specify the variance swap $w_t(T)$ (Bergomi-Guyon style) as:\n",
    "\n",
    "$$\n",
    "w_t(T) = (X \\dm X)_t(T) = \\int_t^T \\,\\eef{v_u}\\,du = \\int_t^T \\,\\xi_t(u)\\,du.\n",
    "$$\n",
    "\n",
    "where the $\\xi_t(u)$ are forward variances. \n",
    "  \n",
    "-  $w_t(T)$ then represents the value of the static hedge portfolio (the log-strip) for a variance swap and is thus a *tradable asset* in the terminology of <span>[Fukasawa]<sup id=\"cite_ref-Fukasawa\" class=\"reference\"><a href=\"#cite_note-Fukasawa\"><span>[8]</span></a></sup>.\n",
    "\n",
    "\n",
    "-   For each $u$, $\\xi_t(u)$ is a martingale in $t$ so we may write\n",
    "<p>\n",
    "$$\n",
    "d w_t(T) = -\\sigma_t^2\\,dt + \\int_t^T \\,d\\xi_t(u)\\,du =: -\\sigma_t^2\\,dt + dM_t(T),\n",
    "$$\n",
    "<p>\n",
    "where $M_t(T)=\\eef{\\angl{X}_T}$ is a martingale.\n",
    " "
   ]
  },
  {
   "cell_type": "markdown",
   "metadata": {
    "slideshow": {
     "slide_type": "slide"
    }
   },
   "source": [
    "### Diamond notation: a reminder\n",
    "\n",
    "Let $A_t$ and $B_t$ be continuous semimartingales.  Then\n",
    "\n",
    "$$\n",
    "(A \\dm B)_t(T) = \\eef{\\int_t^T d\\angl{A,B}_s}.\n",
    "$$\n",
    "\n",
    "- Note that $(A \\dm B)_t(T)$ is a conditional expectation and so is a martingale in $t$ (for fixed $T$)."
   ]
  },
  {
   "cell_type": "markdown",
   "metadata": {
    "slideshow": {
     "slide_type": "subslide"
    }
   },
   "source": [
    "- In this lecture, the martingales $A$ and $B$ will be\n",
    "    - the martingale component $M$ of the variance swap process and\n",
    "    - the martingale component $Y_u = \\int_t^u\\,\\sqrt{v_s}\\,dZ_s$ of the log-underlying process.\n",
    "\n",
    "\n",
    "- Thus for example\n",
    "<p>\n",
    "\n",
    "\\begin{eqnarray}\n",
    "(X \\dm M)_t(T) &=&\\eef{\\int_t^T d\\angl{X,M}_s}\\\\\n",
    "\\left( M \\dm M \\right)_t(T) \n",
    "&=& \\eef{\\int_t^T d\\angl{M,M}_s}\\\\\n",
    "\\left(X \\dm (X \\dm M)\\right)_t(T) &=& \\eef{\\int_t^T d\\angl{X,(X \\dm M)}_s},\n",
    "\\end{eqnarray}\n",
    "\n",
    "and so on.  "
   ]
  },
  {
   "cell_type": "markdown",
   "metadata": {
    "slideshow": {
     "slide_type": "subslide"
    }
   },
   "source": [
    "- We will often drop the explicit dependence on $T$ or even on $t$.  So for example, it is to be understood that\n",
    "<p>\n",
    "$$\n",
    "(X \\dm M) = \\eef{\\int_t^T d\\angl{X,M}_s}.\n",
    "$$"
   ]
  },
  {
   "cell_type": "markdown",
   "metadata": {
    "slideshow": {
     "slide_type": "slide"
    }
   },
   "source": [
    "### Diamond functionals as covariances\n",
    "\n",
    "\n",
    "- Diamond (or autocovariance) functionals are intimately related to conventional covariances.\n",
    "<p>\n",
    "<blockquote><div style=\"background-color:#add8e6; color:#FFFFFF; font-style: normal;  \" ><h4>\n",
    "Lemma 1</h4>\n",
    "</div>\n",
    "<div style=\"background-color:#E8E8E8; color:#000000; font-style: normal; \">\n",
    "<br>\n",
    "Let $A$ and $B$ be martingales in the same filtered probability space.  Then\n",
    "<p>\n",
    "$$\n",
    "(A \\dm B)_t(T) = \\eef{A_T B_T} - A_t\\,B_t  = \\covf{A_T,B_T}.\n",
    "$$\n",
    "<br>\n",
    "</div>\n",
    "</blockquote>\n",
    "\n",
    "- By finding the appropriate martingales, it is thus always possible to re-express diamond autocovariance functionals in terms of covariances of terminal quantities.  For example, it is easy to show that\n",
    "<p>\n",
    "$$\n",
    "(M \\dm M)_t(T) = \\varf{\\angl{X}_T}\n",
    "$$.\n",
    "    - A very neat general result!\n"
   ]
  },
  {
   "cell_type": "markdown",
   "metadata": {
    "slideshow": {
     "slide_type": "slide"
    }
   },
   "source": [
    "### Autocovariance functionals vs covariances\n",
    "\n",
    "- Covariances are typically easy to compute using simulation.\n",
    "\n",
    "\n",
    "- Diamond functionals are expressible directly in terms of the formulation of a model in forward variance form.\n"
   ]
  },
  {
   "cell_type": "markdown",
   "metadata": {
    "slideshow": {
     "slide_type": "slide"
    }
   },
   "source": [
    "### Short expiration limit of local volatility\n",
    "\n",
    "- From the model formulation,\n",
    "$$\n",
    "v_u = \\xi_t(u)+ \\int_t^u\\,d\\xi_t(u)\n",
    "$$\n",
    "\n",
    "- Recall that local variance is given by\n",
    "$$\n",
    "v_\\ell(k,u) = \\ee{v_u\\left|x_u=k\\right.}.\n",
    "$$"
   ]
  },
  {
   "cell_type": "markdown",
   "metadata": {
    "slideshow": {
     "slide_type": "subslide"
    }
   },
   "source": [
    "- As in Lecture 6, we approximate the conditional expectation using linear regression:\n",
    "<p>\n",
    "<p>\n",
    "$$\n",
    "v_u =\\xi_u(u)\\approx \\xi_t(u) + \\beta\\,Y_u + \\epsilon\n",
    "$$\n",
    "where $Y_u = \\int_t^u\\,\\sqrt{v_s}\\,dZ_s$.\n",
    "\n",
    "\n",
    "- The regression coefficient is given by\n",
    "<p>\n",
    "<p>\n",
    "$$\n",
    "\\beta =\\frac{(\\xi\\dm Y)_t(T)}{(Y \\dm Y)_t(T)}= \\frac{(\\xi\\dm X)_t(T)}{(X \\dm X)_t(T)} = = \\frac{(\\xi\\dm X)_t(T)}{w_t(T)}.\n",
    "$$\n",
    "\n",
    "- Thus, using $X_u = Y_u - \\frac12\\,w_t(u)$,\n",
    "<p>\n",
    "<a name=\"eq:shorttime\"></a>(2)\n",
    "$$\n",
    "v_\\ell(k,u) \\approx \\xi_t(u) + \\frac{(X \\dm \\xi)_t(T)}{w_t(u)}\\,\\left(k + \\frac 12\\,w_t(u)\\right).\n",
    "$$"
   ]
  },
  {
   "cell_type": "markdown",
   "metadata": {
    "slideshow": {
     "slide_type": "slide"
    }
   },
   "source": [
    "### Implied volatility from local volatility\n",
    "\n",
    "- Recall from Lecture 6 that implied total variance is approximately given by\n",
    "<p>\n",
    "$$\n",
    "w_{\\BS}(k,T) = \\int_t^T\\,v_{\\ell}(\\tilde x_u, u)\\,du\n",
    "$$\n",
    "where $\\tilde x_u$ is the most likely path.\n",
    "\n",
    "\n",
    "- Moreover, again from Lecture 6, the most likely path is approximately given by\n",
    "<p>\n",
    "$$\n",
    "\\tilde x_u  \\approx x_T\\,\\frac{w_t(u)}{w_T(T)}.\n",
    "$$\n"
   ]
  },
  {
   "cell_type": "markdown",
   "metadata": {
    "slideshow": {
     "slide_type": "subslide"
    }
   },
   "source": [
    "- Putting this together,\n",
    "<p>\n",
    "\\begin{eqnarray}\n",
    "&&w_{\\BS}(k,T)\\\\ &=& \\int_t^T\\,v_{\\ell}(\\tilde x_u, u)\\,du\\\\\n",
    "&\\approx & w_t(T) + \\int_t^T\\,\\frac{(X \\dm \\xi)_t(u)}{w_t(u)}\\,\\left(\\tilde x_u + \\frac 12\\,w_t(u)\\right)\\,du\\\\\n",
    "&=& w_t(T) + \\int_t^T\\,\\frac{(X \\dm \\xi)_t(u)}{w_t(u)}\\,\\left(k\\,\\frac{w_t(u)}{w_t(T)} + \\frac 12\\,w_t(u)\\right)\\,du\\\\\n",
    "&=& w_t(T) + \\frac{k + \\frac 12\\,w_t(T)}{w_t(T)}\\int_t^T\\,(X \\dm \\xi)_t(u)\\,du\\\\\n",
    "&=& w_t(T) + \\frac{k + \\frac 12\\,w_t(T)}{w_t(T)}(X \\dm M)_t(T).\\\\\n",
    "\\end{eqnarray}"
   ]
  },
  {
   "cell_type": "markdown",
   "metadata": {
    "slideshow": {
     "slide_type": "subslide"
    }
   },
   "source": [
    "### Term structure of ATM skew\n",
    "\n",
    "- In particular\n",
    "<blockquote>\n",
    "<div style=\"background-color:#E8E8E8; color:#000000; font-style: normal; \">\n",
    "<br>\n",
    "<a name=\"eq:shortBS\"></a>(3)\n",
    "$$\n",
    "\\left.\\p_k w_{\\BS}(k,T)\\right|_{k=0} \\approx \\frac{(X \\dm M)_t(T)}{w_t(T)}.\n",
    "$$\n",
    "<br>\n",
    "</div>\n",
    "</blockquote>\n",
    "<p>\n",
    "\n",
    "\n",
    "\n",
    "- The above argument holds for all stochastic volatility models whether classical or rough."
   ]
  },
  {
   "cell_type": "markdown",
   "metadata": {
    "slideshow": {
     "slide_type": "slide"
    }
   },
   "source": [
    "### Short time limit of implied volatility under classical stochastic volatility\n",
    "\n",
    "We then obtain the following corollary (see also Problem 3 of HW2):\n",
    "\n",
    "\n",
    "<blockquote><div style=\"background-color:#add8e6; color:#FFFFFF; font-style: normal;  \" ><h4>\n",
    "Lemma</h4>\n",
    "</div>\n",
    "<div style=\"background-color:#E8E8E8; color:#000000; font-style: normal; \">\n",
    "<br>\n",
    "Under classical stochastic volatility, the local variance skew is twice as steep as the implied\n",
    "variance skew for short times to expiration\n",
    "\n",
    "\n",
    "<br>\n",
    "<br>\n",
    "\n",
    "</div>\n",
    "\n",
    "</blockquote>\n",
    "\n",
    "\n"
   ]
  },
  {
   "cell_type": "markdown",
   "metadata": {
    "slideshow": {
     "slide_type": "slide"
    }
   },
   "source": [
    "### Ratio of implied and local variance skews\n",
    "\n",
    "- For small times, $\\xi_t(u) \\approx v_t$ and $f(\\xi) \\approx f(v_t)$.  That is, we just freeze the volatility process at its initial value.\n",
    "\n",
    "\n",
    "- It's then clear from the above derivations that the ratio of the implied to local variance skews is given by\n",
    "<p>\n",
    "<p>\n",
    "$$\n",
    "\\theta = \\frac{\\int_t^T\\,\\int_t^u\\,\\kappa(u-s)\\,ds}{(T-t)\\,\\int_t^T\\,\\kappa(T-s)\\,ds}\n",
    "$$"
   ]
  },
  {
   "cell_type": "markdown",
   "metadata": {
    "slideshow": {
     "slide_type": "subslide"
    }
   },
   "source": [
    "- Suppose that for small $\\tau$ and with $\\gamma= \\frac 12 - H$,\n",
    "$$\n",
    "\\kappa(\\tau) \\sim \\frac{1}{\\tau^{\\gamma}},  \\quad H \\leq \\frac 12.\n",
    "$$\n",
    "    \n",
    "    \n",
    "- Then\n",
    "<p>\n",
    "$$\n",
    "\\theta = \\frac{1}{2-\\gamma}= \\frac{1}{\\frac32+H}.\n",
    "$$"
   ]
  },
  {
   "cell_type": "markdown",
   "metadata": {
    "slideshow": {
     "slide_type": "slide"
    }
   },
   "source": [
    "### The classical case $H = \\frac 12$\n",
    "\n",
    "<blockquote><div style=\"background-color:#add8e6; color:#FFFFFF; font-style: normal;  \" ><h4>\n",
    "Corollary</h4>\n",
    "</div>\n",
    "<div style=\"background-color:#E8E8E8; color:#000000; font-style: normal; \">\n",
    "<br>\n",
    "Under classical stochastic volatility, the local variance skew is twice as steep as the implied\n",
    "variance skew for short times to expiration\n",
    "\n",
    "\n",
    "<br>\n",
    "<br>\n",
    "\n",
    "</div>\n",
    "\n",
    "</blockquote>"
   ]
  },
  {
   "cell_type": "markdown",
   "metadata": {
    "slideshow": {
     "slide_type": "subslide"
    }
   },
   "source": [
    "### Diagrammatic proof in the classical case\n",
    "\n",
    "<h3><img src=\"http://mfe.baruch.cuny.edu/wp-content/uploads/2014/10/integratinglocalvariance2.png\" align = \"left\" width=700></h3>"
   ]
  },
  {
   "cell_type": "markdown",
   "metadata": {
    "slideshow": {
     "slide_type": "fragment"
    }
   },
   "source": [
    "Figure 1: For short expirations, the most probable path is approximately a\n",
    "straight line from spot on the valuation date to the strike at\n",
    "expiration. It follows that $\\sigma_{BS}^2 \\left(k,T \\right)\\approx\n",
    "\\left[v_{\\ell}(0,0)+v_{\\ell}(k,T)\\right]/2$   and the implied variance skew\n",
    "is roughly one half of the local variance\n",
    "skew."
   ]
  },
  {
   "cell_type": "markdown",
   "metadata": {
    "slideshow": {
     "slide_type": "slide"
    }
   },
   "source": [
    "### Example: ATM variance skew in the rough Heston model\n",
    "\n",
    "- In the rough Heston model,\n",
    "<p>\n",
    "    \n",
    "\\begin{eqnarray}\n",
    "dX_t &=& -\\frac12\\, v_t\\,dt + \\sqrt{v_t}\\,dZ_t\\\\\n",
    "d\\xi_t(u) &=& \\frac{\\nu}{\\Gamma(\\alpha)}\\,(u-t)^\\alpha\\,\\sqrt{v_t}\\,dW_t\n",
    "\\end{eqnarray}\n",
    "    \n",
    "where $\\alpha = H + \\frac12$."
   ]
  },
  {
   "cell_type": "markdown",
   "metadata": {
    "slideshow": {
     "slide_type": "slide"
    }
   },
   "source": [
    "- Then\n",
    "\\begin{eqnarray}\n",
    "dY_t &=& \\sqrt{v_t}\\,dZ_t \\\\\n",
    "dM_t &=& \\int_t^T\\,d\\xi_t(u)\\,du \\\\\n",
    "& =& \\frac{\\eta}{\\Gamma(\\alpha)} \\,\\sqrt{v_t} \\,\\left(\\int_t^T\\,\\frac{du}{(u-t)^\\gamma}\\right)\\,dW_t\\\\\n",
    "& =& \\frac{\\eta\\,(T-t)^\\alpha}{\\Gamma(1+\\alpha)} \\,\\sqrt{v_t} \\,dW_t.\n",
    "\\end{eqnarray}\n",
    "\n",
    "\n"
   ]
  },
  {
   "cell_type": "markdown",
   "metadata": {
    "slideshow": {
     "slide_type": "subslide"
    }
   },
   "source": [
    "Then\n",
    "<p>\n",
    "\\begin{eqnarray}\n",
    "(Y \\dm M)_t(T) &=& \\eef{\\int_t^T d\\angl{Y,M}_s}\\nonumber\\\\\n",
    "&=& \\frac{\\rho\\,\\eta}{\\Gamma(1+\\alpha)} \\,\\eef{\\int_t^T \\,v_s \\,(T-s)^\\alpha\\,ds}\\nonumber\\\\\n",
    "&=& \\frac{\\rho\\,\\eta}{\\Gamma(1+\\alpha)} \\,\\int_t^T \\,\\xi_t(s) \\,(T-s)^\\alpha\\,ds\\\\\n",
    "& \\approx & \\frac{\\rho\\,\\eta}{\\Gamma(2+\\alpha)} \\,v_t\\,(T-t)^{\\alpha+1}\n",
    "\\end{eqnarray}\n",
    "<p>\n",
    "and\n",
    "$$\n",
    "w_t(T) = \\int_t^T \\,\\xi_t(s)\\,ds \\approx v_t\\,(T-t).\n",
    "$$"
   ]
  },
  {
   "cell_type": "markdown",
   "metadata": {
    "slideshow": {
     "slide_type": "subslide"
    }
   },
   "source": [
    "- From equation [(3)](#eq:shortBS), the ATM total variance skew is then given by\n",
    "<p>\n",
    "$$\n",
    "\\left.\\p_k w_{\\BS}(k,T)\\right|_{k=0} \\approx \\frac{(X \\dm M)_t(T)}{w_t(T)}  \\approx \\frac{\\rho\\,\\eta}{\\Gamma(2+\\alpha)} \\,(T-t)^{\\alpha}.\n",
    "$$\n",
    "\n",
    "- Compare with equation (19) of Lecture 6,\n",
    "<p>\n",
    "$$\n",
    "\\sigma_{BS}(k,T)^2 \\approx \\bar v  + \\frac{\\rho\\,\\eta}{\\Gamma(\\alpha+2)}\\,\\left(k+\\frac{\\bar v T}2\\right)\\,T^{\\alpha-1}.\n",
    "$$\n",
    "\n",
    "\n",
    "- Note in particular that equation [(3)](#eq:shortBS) should be true for short times for any stochastic volatility model, not just affine models."
   ]
  },
  {
   "cell_type": "markdown",
   "metadata": {
    "slideshow": {
     "slide_type": "slide"
    }
   },
   "source": [
    "### Medvedev-Scaillet: The no jump case\n",
    "\n",
    "[Medvedev and Scaillet]<sup id=\"cite_ref-MedvedevScaillet:2004\" class=\"reference\"><a href=\"#cite_note-MedvedevScaillet:2004\"><span>[</span>12<span>]</span></a></sup> develop a formal expansion for small times\n",
    "to expiration $\\tau$ and fixed normalized log-strike $z$ defined as\n",
    "\n",
    "$$z:=\\frac{k}{\\sigma_{BS}(k,\\tau)\\,\\sqrt{\\tau}}$$\n",
    "\n",
    "First we specialize their result to the case where the underlying\n",
    "process is a diffusion of the form\n",
    "\n",
    "<a name=\"eq:msGenericNoJump\"></a>(4)\n",
    "\\begin{eqnarray}\n",
    "\\frac{dS_t}{S_t} &=&  \\sigma_t \\, dZ_t \\nonumber\\\\\n",
    " d\\sigma_t &=& a \\left( {\\sigma_t } \\right)dt  \\, + \\,\n",
    "  b \\left( {\\sigma_t } \\right)\\, dW_t\n",
    "\\end{eqnarray}"
   ]
  },
  {
   "cell_type": "markdown",
   "metadata": {
    "slideshow": {
     "slide_type": "subslide"
    }
   },
   "source": [
    "In the no-jump (pure stochastic volatility) case, the implied volatility $I$ has the following short-term\n",
    "asymptotics (with $\\sigma=\\sigma_0$)\n",
    "\n",
    "$$I(z,\\tau;\\sigma)=\\sigma+I_1(z;\\sigma)\\,\\sqrt{\\tau}+I_2(z;\\sigma)\\,\\tau+O(\\tau\\,\\sqrt{\\tau})$$\n",
    "\n",
    "where $I_1$ and $I_2$ are functions of the $z$ and the instantaneous\n",
    "volatility $\\sigma = \\sqrt{v}$ only:\n",
    "\n",
    "<a name=\"eq:diffusionMS\"></a>(5)\n",
    "\\begin{eqnarray}\n",
    "I_1(z;\\sigma)&=&\\frac{\\rho\\,b(\\sigma)\\,z}{2}\\nonumber\\\\\n",
    "I_2(z;\\sigma)&=&\\frac{1}{6}\\,\\left\\{\\frac{b(\\sigma)^2\\,(1-\\rho^2)}{\\sigma}+\\rho^2\\,b(\\sigma)\n",
    "\\,\\partial_{\\sigma} b(\\sigma)\\right\\}\\,z^2\\nonumber\\\\&&\n",
    "+\\frac{a(\\sigma)}{2}+\\frac{\\rho\\,\\sigma\\,b(\\sigma)}{4}+\\frac{1}{24}\\,\\frac{\\rho^2\\,b(\\sigma)^2}{\\sigma}\\nonumber\\\\\n",
    "&&+\\frac{1}{12}\\,\\frac{b(\\sigma)^2}{\\sigma}\n",
    "-\\frac{1}{6}\\,\\rho^2\\,b(\\sigma)\\,\\partial_{\\sigma}\n",
    "b(\\sigma).\\nonumber\n",
    "\\end{eqnarray}"
   ]
  },
  {
   "cell_type": "markdown",
   "metadata": {
    "slideshow": {
     "slide_type": "slide"
    }
   },
   "source": [
    "### Remarks on Medvedev-Scaillet\n",
    "\n",
    "- <span>First note that the limit of implied volatility as the log-strike\n",
    "$k\n",
    "\\rightarrow 0$ and the time to expiration $\\tau \\rightarrow 0$ is just\n",
    "the instantaneous volatility $\\sigma$.</span>\n",
    "\n",
    "    - <span>Critics of stochastic volatility models love to point out that\n",
    "instantaneous volatility is not an observable, supposedly a deficiency\n",
    "of SV models.</span>\n",
    "\n",
    "    - <span>In practice, in liquid option markets, the implied volatility\n",
    "surface is typically very smooth and we can extrapolate to the zero\n",
    "expiration, at-the-money strike limit with little uncertainty.</span>\n",
    "\n",
    "\n",
    "- The Medvedev-Scaillet expansion as originally presented is purely formal. Recently, [El Euch et al.]<sup id=\"cite_ref-FukasawaShort\" class=\"reference\"><a href=\"#cite_note-FukasawaShort\"><span>[6]</span></a></sup> provide a rigourous justification of this expansion.\n",
    "    - One application (naturally) is to rough volatility models."
   ]
  },
  {
   "cell_type": "markdown",
   "metadata": {
    "slideshow": {
     "slide_type": "slide"
    }
   },
   "source": [
    "### The short-dated volatility skew\n",
    "\n",
    "To compute the short-dated volatility skew, we substitute\n",
    "\n",
    "$$z=\\frac{k}{I(z,\\tau;\\sigma)\\,\\sqrt{\\tau}}$$\n",
    "\n",
    "into [(5)](#eq:diffusionMS)\n",
    "and take the limit $\\tau \\rightarrow\n",
    "0$, to obtain\n",
    "\n",
    "<a name=\"eq:shortms\"></a>(6)\n",
    "$$\\left.\\frac{\\partial I}{\\partial k}\\right|_{k=0}\\rightarrow\n",
    "\\frac{\\rho\\,b(\\sigma)}{2\\,\\sigma}$$\n",
    "\n",
    "which proves our earlier result [(3)](#eq:shortBS) derived using heuristic\n",
    "methods."
   ]
  },
  {
   "cell_type": "markdown",
   "metadata": {
    "slideshow": {
     "slide_type": "slide"
    }
   },
   "source": [
    "### Remarks on the short-dated skew in SV models\n",
    "\n",
    "- <span> Under SV, the volatility skew depends only on the form of the volatility process.</span>\n",
    "    - The parameters of this process do not depend on time.\n",
    "\n",
    "\n",
    "- <span>In contrast, as we saw, local volatility models imply that \n",
    "short-dated skews  in the future will be much flatter than today's. </span>"
   ]
  },
  {
   "cell_type": "markdown",
   "metadata": {
    "slideshow": {
     "slide_type": "subslide"
    }
   },
   "source": [
    "- <span>So even if we find a stochastic volatility model and a local\n",
    "volatility model that price all European options identically today,\n",
    "forward-starting options (that is options whose strikes are to be set\n",
    "some time in the future) cannot possibly be priced identically by these\n",
    "two models. </span>\n",
    "\n",
    "    - <span> Both models fit the options market today but the volatility\n",
    "surface dynamics implied by the two models are quite different.</span>"
   ]
  },
  {
   "cell_type": "markdown",
   "metadata": {
    "slideshow": {
     "slide_type": "slide"
    }
   },
   "source": [
    "### A volatility skew conjecture\n",
    "\n",
    "- <span> Equations [(3)](#eq:shortBS) and [(6)](#eq:shortms) suggest a\n",
    "generalization: </span>\n",
    "\n",
    "    - <span>Perhaps all stochastic volatility models, whether analytically\n",
    "tractable or not, generate approximately the same BS implied volatility skew up to a\n",
    "factor of $f(v)$, not just in the limit $\\tau \\rightarrow 0$ but for\n",
    "all $\\tau \\geq 0$?</span>\n",
    "\n",
    "\n",
    "- <span> We will now present some explicit examples that support this conjecture.</span>"
   ]
  },
  {
   "cell_type": "markdown",
   "metadata": {
    "slideshow": {
     "slide_type": "slide"
    }
   },
   "source": [
    "### The SABR model\n",
    "\n",
    "Pat Hagan’s well-known SABR (or “stochastic alpha beta rho”) model [Hagan, Lesniewski et al.]<sup id=\"cite_ref-Hagan:2002\" class=\"reference\"><a href=\"#cite_note-Hagan:2002\"><span>[9]</span></a></sup> has dynamics\n",
    "\n",
    "\\begin{eqnarray}\n",
    "dS_t&=&\\sigma_t\\,{S_t}^{\\beta}\\,dZ_t\\\\\n",
    "d\\sigma_t&=&\\xi\\,\\sigma_t\\,dW_t\\end{eqnarray}\n",
    "\n",
    "with $\\ee{ dZ_t\\,dW_t}=\\rho\\,dt$."
   ]
  },
  {
   "cell_type": "markdown",
   "metadata": {
    "slideshow": {
     "slide_type": "subslide"
    }
   },
   "source": [
    "- <span> Volatility does not mean revert in the SABR model so it is only\n",
    "good for short expirations.</span>\n",
    "\n",
    "\n",
    "- <span> Nevertheless the model has the virtue of having an exact\n",
    "expression for the implied volatility smile in the short-expiration\n",
    "limit $\\tau\\rightarrow 0$</span>\n",
    "\n",
    "    - <span>The resulting functional form can be used to fit observed\n",
    "short-dated implied volatilities and the model parameters $\\alpha$,\n",
    "$\\beta$ and $\\rho$ thereby extracted. </span>"
   ]
  },
  {
   "cell_type": "markdown",
   "metadata": {
    "slideshow": {
     "slide_type": "slide"
    }
   },
   "source": [
    "### The SABR model with $\\beta=1$\n",
    "\n",
    "In the special case $\\beta=1$, the SABR implied volatility formula\n",
    "reduces to\n",
    "\n",
    "<a name=\"eq:sabr\"></a>(7)\n",
    "$$\\sigma_{BS}(k)=\\sigma_0\\,\\frac{y}{f(y)}\\,\\left\\{1+\\left[\\frac{1}{4}\\,\\rho\\,\\xi\\,\\sigma_0+\\frac{2-3\\rho^2}{24}\\,\\xi^2\\right]\\,\\tau\n",
    "+ O(\\tau^2)\\right\\}\n",
    " $$\n",
    "\n",
    "with $$y:=-\\xi\\,\\frac{k}{\\sigma_0}$$ and $$f(y)=\\log\n",
    "\\left\\{\\frac{\\sqrt{1-2\\,\\rho\\,y+y^2}+y-\\rho}{1-\\rho}\\right\\}$$"
   ]
  },
  {
   "cell_type": "markdown",
   "metadata": {
    "slideshow": {
     "slide_type": "slide"
    }
   },
   "source": [
    "### Taylor expansion of the SABR formula\n",
    "\n",
    "Note that the lognormal SABR formula [(7)](#eq:sabr) factorizes with one\n",
    "factor depending only on $y$ and the other factor depending only on\n",
    "$\\tau$.\n",
    "\n",
    "Taylor-expanding [(7)](#eq:sabr) to second order in $y$ and first order in\n",
    "$\\tau$ (*i.e.* with $y \\sim \\sqrt{\\tau}$) gives\n",
    "\n",
    "$$\\sigma_{BS}(k,\\tau)=\\sigma_0\\,\\left\\{1-\\frac{1}{2}\\rho\\,y +\\frac{ 2\n",
    "- 3\\,{\\rho }^2\n",
    "}{12}\\,y^2\\\\+\\left[\\frac{1}{4}\\,\\rho\\,\\xi\\,\\sigma_0+\\frac{2-3\\rho^2}{24}\\,\\xi^2\\right]\\,\\tau+O(\\tau\\,\\sqrt{\\tau})\\right\\}$$"
   ]
  },
  {
   "cell_type": "markdown",
   "metadata": {
    "slideshow": {
     "slide_type": "subslide"
    }
   },
   "source": [
    "Substituting $a(\\sigma)=0$ and $b(\\sigma)=\\xi\\,\\sigma_0$ into equation\n",
    "[(5)](#eq:diffusionMS) gives\n",
    "\n",
    "\\begin{eqnarray}\n",
    "I_1(z;\\sigma_0)&=&\\frac{1}{2}\\,{\\rho\\,\\xi\\,\\sigma_0\\,z}\\nonumber\\\\\n",
    "I_2(z;\\sigma_0)&=&\\frac{1}{6}\\,\\xi^2\\,\\sigma_0\\,z^2\n",
    "+\\frac{1}{4}\\,{\\rho\\,\\xi\\,\\sigma_0^2}\\\\&&+\\frac{1}{24}\\,\\rho^2\\,\\xi^2\\,\\sigma_0+\\frac{1}{12}\\,\\xi^2\\,\\sigma_0\n",
    "-\\frac{1}{6}\\,\\rho^2\\,\\xi^2\\,\\sigma_0\n",
    "\\end{eqnarray}"
   ]
  },
  {
   "cell_type": "markdown",
   "metadata": {
    "slideshow": {
     "slide_type": "slide"
    }
   },
   "source": [
    "### Consistency with Medvedev-Scaillet\n",
    "\n",
    "Then, noting that\n",
    "$$\\xi\\,z\\,\\sqrt{\\tau}=\\xi\\,\\frac{k}{\\sigma_{BS}}=-y\\,\\frac{\\sigma_0}{\\sigma_{BS}}=-y\\,\\left(1+\\frac{1}{2}\\,\\rho\\,y\\right)+O(y^3)$$\n",
    "we obtain\n",
    "\n",
    "\\begin{eqnarray}\n",
    "\\sigma_{BS}(k,\\tau)&=&\\sigma_0+I_1(z;\\sigma_0)\\,\\sqrt{\\tau}+I_2(z;\\sigma_0)\\,\\tau+O(\\tau\\,\\sqrt{\\tau})\\\\\n",
    "&=&\\sigma_0\\left\\{1-\\frac{1}{2}\\rho\\,y +\\frac{ 2 - 3\\,{\\rho }^2\n",
    "}{12}\\,y^2\\right.\\\\&&\\quad\\quad\\quad+\\left.\\left[\\frac{1}{4}\\,\\rho\\,\\xi\\,\\sigma_0+\\frac{2-3\\rho^2}{24}\\,\\xi^2\\right]\\,\\tau+O(\\tau\\,\\sqrt{\\tau})\\right\\}\n",
    "\\end{eqnarray}\n",
    "\n",
    "We see that the Medvedev-Scaillet formula [(5)](#eq:diffusionMS) gives\n",
    "precisely the same result as the SABR implied volatility formula\n",
    "[(7)](#eq:sabr) for small $\\tau$."
   ]
  },
  {
   "cell_type": "markdown",
   "metadata": {
    "slideshow": {
     "slide_type": "slide"
    }
   },
   "source": [
    "### Consistency with our generic short-dated skew formula\n",
    "\n",
    "Finally, we note that the SABR formula implies that\n",
    "\n",
    "$$\\left.\\frac{\\partial \\sigma_{BS}}{\\partial\n",
    "k}\\right|_{k=0}=\\frac{\\rho\\,\\xi}{2}$$\n",
    "\n",
    "which is a special case of the general\n",
    "result [(6)](#eq:shortms) with $\\beta(v)=\\sqrt{v}$ and $\\eta = 2\\,\\xi$.\n",
    "\n",
    "To see this, apply Itô’s Lemma to the SABR volatility process to obtain\n",
    "\n",
    "$$d v=\\xi^2\\,v\\,dt+2\\, \\xi\\,v\\,dZ$$ \n",
    "\n",
    "with $v=\\sigma^2$."
   ]
  },
  {
   "cell_type": "markdown",
   "metadata": {
    "slideshow": {
     "slide_type": "slide"
    }
   },
   "source": [
    "### Long expirations\n",
    "\n",
    "[Fouque, Papanicolaou and Sircar]<sup id=\"cite_ref-FouquePapanicolaouSircar:1999\" class=\"reference\"><a href=\"#cite_note-FouquePapanicolaouSircar:1999\"><span>[7]</span></a></sup> show using a perturbation expansion\n",
    "approach that in any stochastic volatility model where volatility is\n",
    "mean-reverting, BS implied volatility can be well approximated by a\n",
    "simple function of $k$ and $\\tau$ for long-dated options.\n",
    "\n",
    "In particular, they study a model where the log-volatility is a\n",
    "Ornstein-Uhlenbeck process (log-OU for short). That is:\n",
    "\n",
    "\\begin{eqnarray}\n",
    " dx &=&  - \\frac {\\sigma^2}{2}\\, dt \\,  + \\,\\sigma \\, dZ_1 \\nonumber\\\\\n",
    " d\\log(\\sigma) &=& - \\lambda[\\,\\log(\\sigma)-\\overline{\\log(\\sigma)}\\,]dt  \\, + \\,\n",
    " \\xi\\,   dZ_2\n",
    " \\end{eqnarray}"
   ]
  },
  {
   "cell_type": "markdown",
   "metadata": {
    "slideshow": {
     "slide_type": "subslide"
    }
   },
   "source": [
    "They find that the slope of the BS implied volatility skew is given (for\n",
    "large $\\lambda \\,T$ ) by\n",
    "\n",
    "<a name=\"eq:FPSskew\"></a>(10)\n",
    "$$\\frac{\\partial }{\\partial x}\\, \\sigma_{BS} (x,T)\\,\\approx \\,\n",
    "\\frac{\\rho\\,\\xi}{\\lambda \\,T} $$"
   ]
  },
  {
   "cell_type": "markdown",
   "metadata": {
    "slideshow": {
     "slide_type": "slide"
    }
   },
   "source": [
    "### Consistency with skew conjecture\n",
    "\n",
    "To recast this in terms of $v$ to be consistent with the form of the\n",
    "generic process we wrote down in equation [(1)](#eq:genericprocess), we note\n",
    "that (considering random terms only),\n",
    "$d v \\,\\sim 2\\, \\sigma \\,d \\sigma $ and in the log-OU model,\n",
    "\n",
    "$$d \\sigma \\,\\sim \\, \\xi\\, \\sigma dZ_2$$ So\n",
    "$$d v \\,\\sim \\, 2 \\,\\xi\\, v\\, dZ_2$$\n",
    "\n",
    "Then $f(v)$ as defined in\n",
    "equation [(1)](#eq:genericprocess) is given by\n",
    "\n",
    "$$\\eta \\,f(v) \\,=\\,2 \\xi \\,\\sqrt{v}$$ "
   ]
  },
  {
   "cell_type": "markdown",
   "metadata": {
    "slideshow": {
     "slide_type": "subslide"
    }
   },
   "source": [
    "and, from equation\n",
    "[(10)](#eq:FPSskew), the BS implied variance skew is given by\n",
    "\n",
    "$$\\frac{\\partial }{\\partial x}\\, \\sigma_{BS} (x,T)^2\\,\\approx \\,\n",
    "\\frac{2\\,\\rho\\,\\xi \\, \\sqrt{v}}{\\lambda \\,T}\\,=\\,\\frac{\\rho\n",
    "\\,\\eta\\, f(v)}{\\lambda\\, T}$$"
   ]
  },
  {
   "cell_type": "markdown",
   "metadata": {
    "slideshow": {
     "slide_type": "slide"
    }
   },
   "source": [
    "### Consistency with Heston long-dated skew\n",
    "\n",
    "Recall from Lecture 6 that the Heston skew (where $f(v)=1$) has this\n",
    "same behavior for large $\\lambda \\,T$.\n",
    "\n",
    "- <span>It seems that both for long and short expirations, the skew\n",
    "behavior may be identical for all stochastic volatility models up to a\n",
    "factor of $f(v)$.</span>\n",
    "\n",
    "- The natural way to interpolate the asymptotic skew behaviors between\n",
    "    long and short expirations would then be:\n",
    "<p>    \n",
    "<a name=\"eq:skewtermstructure\"></a>(11)\n",
    "$$\\left.{{\\frac{\\partial } {\\partial k}}\\, \\sigma_{BS}(k,T)^2} \\right|_{k=0}\\approx\n",
    "\\,\\frac{\\rho\\, \\eta\\, f(v)}{{\\lambda \\, T}}\\left\\{ {1 -\n",
    "\\frac{{\\left( {1 - e^{ - \\lambda T} } \\right)}}{{\\lambda\\,\n",
    "T}}}\\right\\} $$\n",
    "<p>\n",
    "which is a special case of equation (3) which reads (setting $t=0$ wlog),\n",
    "<p>\n",
    "$$\\left.{{\\frac{\\partial } {\\partial k}}\\, \\sigma_{BS}(k,T)^2\\,T}\\right|_{k=0}\\approx \\frac{(X \\dm M)(T)}{w(T)}.$$\n",
    "\n"
   ]
  },
  {
   "cell_type": "markdown",
   "metadata": {
    "slideshow": {
     "slide_type": "slide"
    }
   },
   "source": [
    "### Including Jumps\n",
    "\n",
    "Medvedev and Scaillet’s main result is a more complicated expression for\n",
    "models that include jumps in the stock price.\n",
    "\n",
    "Specifically, consider the stochastic volatility with jump model\n",
    "\n",
    "<a name=\"eq:msWithJump\"></a>(8)\n",
    "\\begin{eqnarray}\n",
    "\\frac{dS_t}{S_t} &=&  \\sigma_t \\, dZ_1 +J(\\sigma_t)\\,dq_t\\nonumber\\\\\n",
    " d\\sigma_t &=& a \\left( {\\sigma_t } \\right)dt  \\, + \\,\n",
    "  b \\left( {\\sigma_t } \\right)\\, dZ_2\n",
    "\\end{eqnarray}\n",
    "\n",
    "The jump term $dq$ is a standard Poisson process with intensity\n",
    "$\\lambda_J(\\sigma_t)$.\n",
    "\n",
    "\n",
    "In this model, short-dated implied volatilities are given by\n",
    "\n",
    "$$I(z,\\tau;\\sigma)=\\sigma+\\tilde I_1(z;\\sigma)\\,\\sqrt{\\tau} +\\tilde\n",
    "I_2(z;\\sigma)\\,\\tau+O(\\tau\\,\\sqrt{\\tau})$$"
   ]
  },
  {
   "cell_type": "markdown",
   "metadata": {
    "slideshow": {
     "slide_type": "slide"
    }
   },
   "source": [
    "$\\tilde I_1$ and $\\tilde I_2$ are given by\n",
    "\n",
    "<a name=\"eq:SVJMS\"></a>(9)\n",
    "\\begin{eqnarray}\n",
    "\\tilde I_1(z;\\sigma)&=&I_1(z;\\sigma)-\\mu_J\\,g(z)+\\eta_J\\,h(z)\\nonumber\\\\\n",
    "\\tilde\n",
    "I_2(z;\\sigma)&=&I_2(z;\\sigma)+\\frac{1}{2\\,\\sigma}\\,\\left(\\mu_J\\,g(z)-\\eta_J\\,h(z)\\right)^2\\,{z^2}\\nonumber\\\\\n",
    "&&-\\left\\{-\\frac{\\mu_J\\,\\sigma}{2}-\\sigma\\,\\lambda_J+\\frac{\\mu_J^2}{\\sigma}+\\frac{\\mu_J\\,b(\\sigma)\\,\\rho}{2\\,\\sigma}\\right\\}\\,g(z)\\,z\n",
    "\\nonumber\\\\\n",
    "&&-\\left\\{\\frac{\\eta_J\\,\\sigma}{2}+\\sigma\\,\\chi_J-\\frac{\\mu_J\\,\\eta_J}{\\sigma}-\\frac{\\eta_J\\,b(\\sigma)\\,\\rho}{2\\,\\sigma}\\right\\}\\,h(z)\\,z\n",
    "\\nonumber\\\\\n",
    "&&+\\frac{\\rho\\,b(\\sigma)\\,\\mu_J}{2\\,\\sigma}-\\frac{\\rho\\,\\partial_{\\sigma}\n",
    "b(\\sigma)\\,\\mu_J}{2}+\\frac{\\mu_J^2}{2\\,\\sigma}-\\frac{\\sigma\\,\\mu_J}{2}-\\lambda_J\\,\\sigma\n",
    "\\end{eqnarray}"
   ]
  },
  {
   "cell_type": "markdown",
   "metadata": {
    "slideshow": {
     "slide_type": "subslide"
    }
   },
   "source": [
    "where\n",
    "$\\eta_J=\\lambda_J\\,\\int_0^\\infty\\,x\\,f(x)\\,dx,\\,\\chi_J=\\lambda_J\\,\\int_0^\\infty\\,f(x)\\,dx$\n",
    "are respectively the positive part of the jump compensator and the\n",
    "probability of an upwards jump and\n",
    "\n",
    "$$g(z)=\\frac{N(-z)}{N'(z)};\\,h(z)=\\frac{1}{N'(z)}.$$"
   ]
  },
  {
   "cell_type": "markdown",
   "metadata": {
    "slideshow": {
     "slide_type": "subslide"
    }
   },
   "source": [
    "### Corollary\n",
    "\n",
    "In a jump diffusion model (with volatility deterministic) the limit of\n",
    "the implied volatility skew as $\\tau\n",
    "\\rightarrow 0$ is given by\n",
    "\n",
    "$$\\left.\\frac{\\partial I}{\\partial k}\\right|_{k=0}\\rightarrow -\n",
    "\\frac{\\mu_J}{\\sigma}.$$\n",
    "\n",
    "To get this result, note that $g'(0)=1$ and $h'(0)=0$. The result is\n",
    "exactly consistent with our earlier heuristic derivation in Lecture 8."
   ]
  },
  {
   "cell_type": "markdown",
   "metadata": {
    "slideshow": {
     "slide_type": "slide"
    }
   },
   "source": [
    "### Corollary\n",
    "\n",
    "In the SVJ model, the limit of the implied volatility skew as\n",
    "$\\tau \\rightarrow 0$ is given by\n",
    "<p>\n",
    "$$\\left.\\frac{\\partial I}{\\partial k}\\right|_{k=0}\\rightarrow\n",
    "\\frac{\\rho\\,b(\\sigma)}{2\\,\\sigma} - \\frac{\\mu_J}{\\sigma}$$\n",
    "\n",
    "This is consistent with our earlier observation that the jump and\n",
    "stochastic volatility effects on the at-the-money variance skew are\n",
    "approximately additive. In fact we have\n",
    "\n",
    "$$\\left.\\frac{\\partial v_{BS}}{\\partial k}\\right|_{k=0}\\rightarrow\n",
    "{\\rho\\,b(\\sigma)} - 2\\,{\\mu_J} \\textrm{ as }\\tau\\rightarrow 0$$ \n",
    "\n",
    "so they\n",
    "are exactly additive at $\\tau=0$!"
   ]
  },
  {
   "cell_type": "markdown",
   "metadata": {
    "slideshow": {
     "slide_type": "slide"
    }
   },
   "source": [
    "### Volatility of volatility expansions\n",
    "\n",
    "\n",
    "\n",
    "\n",
    "* [Lewis]<sup id=\"cite_ref-Lewis\" class=\"reference\"><a href=\"#cite_note-Lewis\"><span>[</span>11<span>]</span></a></sup> originally did a complicated volatility of volatility perturbation computation for the Heston model years ago. \n",
    "\n",
    "* [Bergomi and Guyon]<sup id=\"cite_ref-BG\" class=\"reference\"><a href=\"#cite_note-BG\">[4]</a></sup> found a general way to do volatility-of-volatility perturbation expansions up to second order in $\\eta$ for a very general stochastic volatility model with any number of factors.\n",
    "\n",
    "    * Their result is almost (but not quite) identical to the Lewis solution in the Heston case.\n",
    "    * The BG expansion works even under rough volatility (*i.e.* even for non-Markovian models)."
   ]
  },
  {
   "cell_type": "markdown",
   "metadata": {
    "slideshow": {
     "slide_type": "slide"
    }
   },
   "source": [
    "### Smile from the characteristic function\n",
    "\n",
    "- Lewis and Bergomi and Guyon get smile expansions by first expressing option prices in terms of the characteristic function, then using the price expansion to get an implied volatility expansion.\n",
    "\n",
    "\n",
    "- In [Jacquier and Lorig] <sup id=\"cite_ref-JacquierLorig\" class=\"reference\"><a href=\"#cite_note-JacquierLorig\"><span>[10]</span></a></sup> present an algorithm to map the expansion coefficients of the characteristic function to the smile expansion directly."
   ]
  },
  {
   "cell_type": "markdown",
   "metadata": {
    "slideshow": {
     "slide_type": "slide"
    }
   },
   "source": [
    "### The forest expansion\n",
    "\n",
    "- More recently, [Alòs, Gatheral and Radoičić] <sup id=\"cite_ref-AGR\" class=\"reference\"><a href=\"#cite_note-AGR\"><span>[</span>1<span>]</span></a></sup> showed how to extend this idea to arbitrary order.\n",
    "    - The idea is to express the cumulant generating function as an infinite sum of BG-style covariance functionals.\n",
    "    \n",
    "    \n",
    "- We may decide to give more details on the forest expansion and its applications in Lecture 13.\n",
    "    "
   ]
  },
  {
   "cell_type": "markdown",
   "metadata": {
    "slideshow": {
     "slide_type": "slide"
    }
   },
   "source": [
    "### The Bergomi and Guyon expansion\n",
    "\n",
    "Using a technique from quantum mechanics, <span>[Bergomi and Guyon]<sup id=\"cite_ref-BG\" class=\"reference\"><a href=\"#cite_note-BG\"><span>[</span>3<span>]</span></a></sup>\n",
    " compute an expansion of the volatility smile up to second order in volatility of volatility for stochastic volatility models written in variance curve form.\n",
    "\n",
    "The Bergomi-Guyon expansion of implied volatility takes the form\n",
    "\n",
    "<a name=\"eq:BGexpansion\"></a>(12)\n",
    "$$\n",
    "\\sigma_\\text{BS}(k,t)=\\hat\\sigma_T + \\mathcal{S}_T\\,k + \\mathcal{C}_T\\,k^2 +O(\\epsilon^3)\n",
    "$$ "
   ]
  },
  {
   "cell_type": "markdown",
   "metadata": {
    "slideshow": {
     "slide_type": "subslide"
    }
   },
   "source": [
    "In diamond notation\n",
    "\n",
    "\\begin{eqnarray*}\n",
    "\\hat\\sigma_T &=& \\sqrt{\\frac w T} \\,\\left\\{ 1 + \\frac{1}{4\\,w}\\,X \\dm M  \\right.\\\\\n",
    "&&\\quad + \\left. \\frac{1}{32\\,w^3}\\,\\left(12\\,(X \\dm M)^2 + w\\,(w+4) M \\dm M + 4\\,w\\,(w-4)\\,(X \\dm X \\dm M)\\right)\\right\\}\\\\\n",
    "\\mathcal{S}_T &=&  \\sqrt{\\frac w T} \\,\\left\\{\\frac{1}{2\\,w^2}\\,X \\dm M + \\frac{1}{8\\,w^3}\\,\n",
    "\\left(4\\,w\\,X \\dm X \\dm M - 3 (X \\dm M)^2\\right)\\right\\}\\\\\n",
    "\\mathcal{C}_T &=& \\sqrt{\\frac w T}\\,\\frac{1}{8\\,w^4}\\,\\left(4\\,w\\,(X \\dm X \\dm M) + w\\,M \\dm M - 6 (X \\dm M)^2\\right)\n",
    "\\end{eqnarray*}\n",
    "\n",
    "where\n",
    "$\n",
    "w = \\int_0^T\\,\\xi_0(s)\\,ds\n",
    "$\n",
    "is total variance to expiration $T$."
   ]
  },
  {
   "cell_type": "markdown",
   "metadata": {
    "slideshow": {
     "slide_type": "slide"
    }
   },
   "source": [
    "### What are these correlation functionals?\n",
    "\n",
    "* $X \\dm M$ is an integral of the term structure of covariances between returns and forward variances.\n",
    "\n",
    "* $M \\dm M$ is an integral of the variance curve autocovariance function. \n",
    "\n",
    "* $X \\dm X \\dm M$ is somewhat more complicated.  Something like the covariance between the skew and underlying returns."
   ]
  },
  {
   "cell_type": "markdown",
   "metadata": {
    "slideshow": {
     "slide_type": "subslide"
    }
   },
   "source": [
    "- The BG expansion gives us a direct correspondence between the implied volatility surface and the joint dynamics of the underlying and the forward variance curve.\n",
    "\n",
    "- In principle (assuming $\\mathbb{Q} = \\mathbb{P}$), we could even compute the covariance functionals from the time series of implied volatility surfaces. "
   ]
  },
  {
   "cell_type": "markdown",
   "metadata": {
    "slideshow": {
     "slide_type": "slide"
    }
   },
   "source": [
    "### Example: The Heston model\n",
    "\n",
    "We computed before that\n",
    "\n",
    "$$\n",
    "\\xi_t(u) = (v_t - \\bar v)\\,e^{-\\kappa\\,(u-t)} + \\bar v.\n",
    "$$\n",
    "\n",
    "It follows that in forward variance form, the Heston model reads\n",
    "\n",
    "$$\n",
    "d\\xi_t(u) = e^{-\\kappa\\,(u-t)}\\,\\eta\\,\\sqrt{v_t}\\,dW_t.\n",
    "$$"
   ]
  },
  {
   "cell_type": "markdown",
   "metadata": {
    "slideshow": {
     "slide_type": "subslide"
    }
   },
   "source": [
    "Thus\n",
    "\n",
    "$$\n",
    "dM_t(T) = \\int_t^T\\,d\\xi_t(u)\\,du =\\frac{\\eta}{\\kappa}\\,\\sqrt{v_t}\\,(1-e^{-\\kappa\\,(T-t)})\\,dW_t.\n",
    "$$\n",
    "\n",
    "$dY_t = \\sqrt{v_t}\\,dZ_t$ so \n",
    "\n",
    "\\begin{eqnarray}\n",
    "(Y \\dm M)_t(T) &=& \\frac{\\rho\\,\\eta}{\\kappa}\\,\\eef{\\int_t^T\\,v_s\\,(1-e^{-\\kappa\\,(T-s)})\\,ds}\\\\\n",
    "&=& \\frac{\\rho\\,\\eta}{\\kappa}\\,\\int_t^T\\,\\xi_t(s)\\,(1-e^{-\\kappa\\,(T-s)})\\,ds.\n",
    "\\end{eqnarray}"
   ]
  },
  {
   "cell_type": "markdown",
   "metadata": {
    "slideshow": {
     "slide_type": "slide"
    }
   },
   "source": [
    "### Term structure of ATM skew in the Heston model\n",
    "\n",
    "Define the at-the-money (ATM) volatility skew\n",
    "\n",
    "$$\n",
    "\\psi(T) = \\left.\\partial_k  \\sigma_{BS}(k,T)\\right|_{k=0}\n",
    "$$\n",
    "\n",
    "\n",
    "It follows from [(12)](#eq:BGexpansion) (with $v_0=\\bar v$ for simplicity) that to first order in $\\eta$,\n",
    "\n",
    "\\begin{eqnarray}\n",
    "\\psi(T) = \\mathcal{S}_T &=& \\sqrt{\\frac w T} \\,\\frac{1}{2\\,w^2}\\,(X \\dm M)\\\\\n",
    "&=& \\frac {\\rho\\,\\eta}{2\\,\\sqrt{\\bar v}}\\,\\frac{1}{\\kappa\\,T}\\,\\left\\{1-\\frac{1-e^{-\\kappa\\,T}}{\\kappa\\,T}\\right\\}.\n",
    "\\end{eqnarray}\n",
    "\n",
    "(Note that $X \\dm M = Y \\dm M$.)"
   ]
  },
  {
   "cell_type": "markdown",
   "metadata": {
    "slideshow": {
     "slide_type": "subslide"
    }
   },
   "source": [
    "- In the Heston model,\n",
    "\n",
    "    - $\\psi(T) \\to $ a constant as $T \\to 0$,\n",
    "    - $\\psi(T) \\sim \\frac 1T $ as $T \\to \\infty$."
   ]
  },
  {
   "cell_type": "markdown",
   "metadata": {
    "slideshow": {
     "slide_type": "slide"
    }
   },
   "source": [
    "### Example: The SABR model\n",
    "\n",
    "$\\eef{\\sigma_u} = \\sigma_t$ so to first order in the volatility of volatility $\\alpha$,\n",
    "\n",
    "$$\n",
    "\\xi_t(u) = v_t.\n",
    "$$\n",
    "\n",
    "It follows that, to first order again,\n",
    "\n",
    "$$\n",
    "d\\xi_t(u) = 2\\,\\sigma_t\\,d\\sigma_t = 2\\,\\alpha\\,\\sigma_t^2\\,dW_t.\n",
    "$$\n",
    "\n",
    "Then\n",
    "\n",
    "$$\n",
    "\\ee{dX_t\\,d\\xi_t(u)} = 2\\,\\rho\\,\\alpha\\,{\\sigma_t}^{3}\\,dt.\n",
    "$$"
   ]
  },
  {
   "cell_type": "markdown",
   "metadata": {
    "slideshow": {
     "slide_type": "subslide"
    }
   },
   "source": [
    "Again to first order in $\\alpha$, we obtain\n",
    "\n",
    "\n",
    "$$\n",
    "dM_t = \\int_t^T\\,d\\xi_t(u)\\,du = 2\\,\\rho\\,\\alpha\\,{\\sigma_t}^{3}\\,(T-t)\\,dt\n",
    "$$\n",
    "\n",
    "and so $X \\dm M = \n",
    "\\rho\\,\\alpha\\,\\sigma_0^{3}\\,T^2.\n",
    "$\n",
    "\n",
    "This gives\n",
    "\n",
    "$$\n",
    "\\psi(T) = \\mathcal{S}_T = \\frac{\\rho\\,\\alpha}{2}.\n",
    "$$\n",
    "\n",
    "- $\\psi(T)$ is independent of $T$ in the SABR model!\n",
    "    - There is no mean reversion and so no term structure of ATM skew."
   ]
  },
  {
   "cell_type": "markdown",
   "metadata": {
    "slideshow": {
     "slide_type": "slide"
    }
   },
   "source": [
    "### The Bergomi model\n",
    "\n",
    "The $n$-factor Bergomi variance curve model<sup id=\"cite_ref-Bergomi2\" class=\"reference\"><a href=\"#cite_note-Bergomi2\"><span>[</span>1<span>]</span></a></sup> reads:\n",
    "\n",
    "<a name=\"eq:Bergomi\"></a>(13)\n",
    "$$\n",
    "\\xi_t(u) = \\xi_0(u)\\,\\exp\\left\\{ \\sum_{i=1}^n\\,\\eta_i\\,\\int_0^t\\,e^{-\\kappa_i\\,(t-s)}\\,dW^{(i)}_s +\\text{ drift } \\right\\}.\n",
    "$$\n",
    "\n",
    "The Bergomi model generates a term structure of volatility skew $\\psi(\\tau)$ that looks something like\n",
    "\n",
    "$$\n",
    "\\psi(\\tau) \\sim \\sum_i\\,\\frac{1}{\\kappa_i\\,\\tau}\\,\\left\\{1-\\frac{1-e^{-\\kappa_i\\,\\tau}}{\\kappa_i\\,T}\\right\\}.\n",
    "$$"
   ]
  },
  {
   "cell_type": "markdown",
   "metadata": {
    "slideshow": {
     "slide_type": "subslide"
    }
   },
   "source": [
    "- This functional form is related to the term structure of the functional $X \\dm M$.\n",
    "   - Which is in turn driven by the exponential kernel in the exponent in [(13)](#eq:Bergomi).\n",
    "   "
   ]
  },
  {
   "cell_type": "markdown",
   "metadata": {
    "slideshow": {
     "slide_type": "slide"
    }
   },
   "source": [
    "### Term structure of ATM skew in classical stochastic volatility models\n",
    "\n",
    "Thus, in general, conventional Markovian stochastic volatility models generate a term structure of ATM skew of the form\n",
    "\n",
    "$$\n",
    "\\psi(\\tau) \\sim \\sum_i\\,\\frac{1}{\\kappa_i\\,\\tau}\\,\\left\\{1-\\frac{1-e^{-\\kappa_i\\,\\tau}}{\\kappa_i\\,\\tau}\\right\\}.\n",
    "$$\n",
    "\n",
    "In contrast, recall from Lecture 1 that we observe empirically something like\n",
    "$\n",
    "\\psi(\\tau) \\sim \\tau^{-\\gamma}\n",
    "$\n",
    "with typically $\\gamma \\approx 0.4$.\n",
    "\n",
    "- Markovian stochastic volatility models are not consistent with the shape of the volatility surface!"
   ]
  },
  {
   "cell_type": "markdown",
   "metadata": {
    "slideshow": {
     "slide_type": "slide"
    }
   },
   "source": [
    "### Term structure of ATM skew in rough volatility models\n",
    "\n",
    "- [Alòs et al.]<sup id=\"cite_ref-Alos\" class=\"reference\"><a href=\"#cite_note-Alos\">[2]</a></sup> and [Fukasawa]<sup id=\"cite_ref-Fukasawa\" class=\"reference\"><a href=\"#cite_note-Fukasawa\">[8]</a></sup> originally showed that in rough volatility models, the short-dated skew behaves as \n",
    "<p>\n",
    "$$\n",
    "\\psi(\\tau) \\sim \\frac{1}{\\tau^\\gamma}\n",
    "$$\n",
    "with $\\gamma = \\frac12 - H$.\n",
    "\n",
    "\n",
    "- We will verify this with an explicit computation in the rough Heston model below."
   ]
  },
  {
   "cell_type": "markdown",
   "metadata": {
    "slideshow": {
     "slide_type": "slide"
    }
   },
   "source": [
    "### The skew-stickiness ratio\n",
    "\n",
    "Recall from Lecture 1 that the *skew-stickiness ratio* or *SSR* is defined as\n",
    "\n",
    "$$\n",
    "\\mathcal{R}(T) = \\frac{\\beta(T)}{\\psi(T)}\n",
    "$$\n",
    "\n",
    "where $\\beta(T)$ is the regression coefficient in the regression\n",
    "\n",
    "$$\n",
    "\\delta \\sigma(T) = \\alpha + \\beta(T)\\,\\frac{\\delta S}{S} + \\text{noise}\n",
    "$$\n",
    "\n",
    "and $\\sigma(T)$ is the $T$-expiration ATM implied volatility.  "
   ]
  },
  {
   "cell_type": "markdown",
   "metadata": {
    "slideshow": {
     "slide_type": "slide"
    }
   },
   "source": [
    "### Computation of the regression coefficient $\\beta(T)$\n",
    "\n",
    "We approximate ATM volatility using the variance swap.\n",
    "- By definition this is\n",
    "    $$\n",
    "    w_t(T) = \\int_t^T\\,\\xi_t(u)\\,du.\n",
    "    $$\n",
    "<p>\n",
    "In other words, we rewrite the regression as \n",
    "<p>\n",
    "$$\n",
    "\\frac{1}{2\\,\\sigma\\,\\tau}\\,\\delta M_t(T) = \\alpha + \\beta_t(T)\\,\\frac{\\delta S_t}{S_t} + \\text{noise}\n",
    "$$\n",
    "<p>\n",
    "where $\\tau = T-t$ and we put $\\sigma\\,\\sqrt{\\tau} = \\sqrt{w_t(T)}$ for short."
   ]
  },
  {
   "cell_type": "markdown",
   "metadata": {
    "slideshow": {
     "slide_type": "subslide"
    }
   },
   "source": [
    "For fixed $T$, the regression coefficient is given by\n",
    "\n",
    "$$\n",
    "\\beta_t(T) = \\frac{\\ee{dM_t(T)\\,dX_t}}{2\\,\\sigma\\,\\tau\\,\\ee{dX_t^2}} \n",
    "\\approx \\frac{-\\frac{d}{dt}(X \\dm M)_t(T)}{2\\,\\sigma^3\\,\\tau} .\n",
    "$$\n",
    "\n",
    "\n",
    "where $X_t = \\log S_t$.\n",
    "\n",
    "Assuming time-homogeneity, $X \\dm M$ should be a function of $\\tau=T-t$ only and $v_t \\approx \\sigma^2$ and so we further approximate\n",
    "\n",
    "$$\n",
    "\\beta(\\tau)  \\approx \\frac{1}{2\\,\\sigma^3\\,\\tau}\\frac{d}{d \\tau}(X \\dm M)(\\tau).\n",
    "$$"
   ]
  },
  {
   "cell_type": "markdown",
   "metadata": {
    "slideshow": {
     "slide_type": "subslide"
    }
   },
   "source": [
    "Also, from the Bergomi-Guyon expansion, the ATM skew is given by\n",
    "\n",
    "$$\n",
    "\\psi(\\tau) \\approx   \\sqrt{\\frac w T} \\,\\frac{1}{2\\,w^2}\\,(X \\dm M)_t(T) \\approx  \\frac{1}{2\\,\\sigma^3}\\,\\frac{1}{\\tau^2}\\,(X \\dm M)(\\tau).\n",
    "$$ \n",
    "\n",
    "Thus \n",
    "\n",
    "$$\n",
    "\\mathcal{R}(\\tau) = \\frac{\\beta(\\tau)}{\\psi(\\tau)} \\approx \\tau\\,\\frac{d}{d\\tau} \\log (X \\dm M)(\\tau).\n",
    "$$\n",
    "\n",
    "\n",
    "<blockquote>\n",
    "<div style=\"background-color:#E8E8E8; color:#000000; font-style: normal; \">\n",
    "\n",
    "<br>\n",
    "For emphasis, to first order in the volatility of volatility, the SSR $\\mathcal{R}$ is given by the time derivative of the spot-volatility correlation functional $X \\dm M$.\n",
    "<p>\n",
    "\n",
    "</div>\n",
    "\n",
    "</blockquote>"
   ]
  },
  {
   "cell_type": "markdown",
   "metadata": {
    "slideshow": {
     "slide_type": "slide"
    }
   },
   "source": [
    "### SSR examples\n",
    "</p>\n",
    "\n",
    "#### The SABR model\n",
    "\n",
    "In the SABR model, $\n",
    "(X \\dm M)(\\tau) \\propto \\tau^2\n",
    "$ so $ \\mathcal{R}(\\tau) \\approx 2$.\n",
    "\n",
    "</p>\n",
    "\n",
    "#### The Heston model\n",
    "$$\n",
    "(X \\dm M)(\\tau) = \\rho\\,\\eta\\,\\bar v\\,\\int_0^\\tau\\,dt\\,\\int_t^\\tau\\,e^{-\\kappa\\,(u-t)}\\,du\n",
    "$$\n",
    "\n",
    "- For $\\tau \\ll 1/\\kappa$, $(X \\dm M)(\\tau) \\sim \\tau^2$ and $ \\mathcal{R}(\\tau) \\approx 2$.\n",
    "- For $\\tau \\gg 1/\\kappa$, $(X \\dm M)(\\tau) \\sim \\tau$ and $ \\mathcal{R}(\\tau) \\approx 1$."
   ]
  },
  {
   "cell_type": "markdown",
   "metadata": {
    "slideshow": {
     "slide_type": "subslide"
    }
   },
   "source": [
    "#### The $n$-factor Bergomi model\n",
    "\n",
    "Let $\\kappa_1$ be the shortest timescale (largest) mean reversion coefficient and $\\kappa_n$ be the longest timescale (smallest) mean reversion coefficient.\n",
    "\n",
    "- For $\\tau \\ll 1/\\kappa_1$, $(X \\dm M)(\\tau) \\sim \\tau^2$ and $ \\mathcal{R}(\\tau) \\approx 2$.\n",
    "- For $\\tau \\gg 1/\\kappa_n$, $(X \\dm M)(\\tau) \\sim \\tau$ and $ \\mathcal{R}(\\tau) \\approx 1$.\n",
    "\n",
    "For stochastic volatility models in general, $\\mathcal{R}(\\tau) \\approx 2$ for $\\tau$ small and $\\mathcal{R}(\\tau) \\approx 1$ for $\\tau$ large."
   ]
  },
  {
   "cell_type": "markdown",
   "metadata": {
    "slideshow": {
     "slide_type": "slide"
    }
   },
   "source": [
    "### Implication for the \"true\" model\n",
    "\n",
    "Recall from Lecture 1 that empirically, we see $\\mathcal{R}(\\tau) \\sim \\frac{3}{2}$ for all $\\tau$.  That is\n",
    "\n",
    "$$\n",
    "\\mathcal{R}(\\tau)  \\approx \\tau\\,\\frac{d}{d\\tau} \\log (X \\dm M)(\\tau) \\approx 2-\\gamma.\n",
    "$$\n",
    "\n",
    "with $\\gamma \\approx 1/2$.  Thus $\n",
    "(X \\dm M)(\\tau) \\sim \\tau^{2-\\gamma}\n",
    "$. An obvious model that would generate $(X \\dm M)(\\tau) \\sim \\tau^{2-\\gamma}$ is\n",
    "\n",
    "$$\n",
    "\\frac{d\\xi_t(u)}{\\xi_t(u)} \\propto \\frac{dW_t}{(u-t)^\\gamma}.\n",
    "$$"
   ]
  },
  {
   "cell_type": "markdown",
   "metadata": {
    "slideshow": {
     "slide_type": "subslide"
    }
   },
   "source": [
    "- In effect, replace all the exponential kernels in the Bergomi model [(13)](#eq:Bergomi) with a power-law kernel.\n",
    "\n",
    "\n",
    "- Such a model would be non-Markovian.  The price of an option would depend on the entire history $\\left\\{W_s,\\,s<t\\right\\}$ of the Brownian motion.\n",
    "\n",
    "\n",
    "- To be consistent with $\\mathcal{R}(\\tau) \\sim \\frac{3}{2}$, we would need $\\gamma \\approx \\frac 12$.\n",
    "    - Such a model would also generate the observed term structure of ATM skew.\n",
    "\n",
    "\n",
    "- This is *exactly* rough volatility!"
   ]
  },
  {
   "cell_type": "markdown",
   "metadata": {
    "slideshow": {
     "slide_type": "slide"
    }
   },
   "source": [
    "### The short-dated skew in the Rough Heston model\n",
    "\n",
    "\n",
    "Once again, the rough Heston model (with no mean reversion) may be written in forward variance form as\n",
    "\n",
    "\\begin{eqnarray}\n",
    "\\frac{dS_t}{S_t} &=& \\sqrt{v_t}\\,dZ_t\\\\\n",
    "d\\xi_t(u) &=& \\frac{\\nu}{\\Gamma(\\alpha)} \\,\\sqrt{v_t}\\,(u-t)^{\\alpha-1}\\,dW_t\n",
    "\\end{eqnarray}\n",
    "\n",
    "where $\\alpha = \\frac 12 + H$.\n",
    "\n",
    "\n",
    "- The rough Heston is thus a natural generalization of the conventional Heston model with the exponential kernel replaced with a power-law kernel."
   ]
  },
  {
   "cell_type": "markdown",
   "metadata": {
    "slideshow": {
     "slide_type": "subslide"
    }
   },
   "source": [
    "Thus\n",
    "\n",
    "$$\n",
    "dM_t(T) = \\frac{\\nu}{\\Gamma(1+\\alpha)} \\,\\sqrt{v_t}\\,(T-t)^{\\alpha}\\,dW_t\n",
    "$$\n",
    "\n",
    "and so \n",
    "\n",
    "$$\n",
    "(X \\dm M)_t(T) = \\frac{\\rho\\,\\nu}{\\Gamma(1+\\alpha)}\\,\\int_t^T\\,\\xi_t(s)\\,(T-s)^\\alpha\\,ds.\n",
    "$$"
   ]
  },
  {
   "cell_type": "markdown",
   "metadata": {
    "slideshow": {
     "slide_type": "subslide"
    }
   },
   "source": [
    "### The skew-stickiness ratio again\n",
    "\n",
    "Rough Heston is thus an explicit example of a model in which\n",
    "\n",
    "$$\n",
    "\\mathcal{R}(\\tau)  \\approx \\tau\\,\\frac{d}{dT} \\log (X \\dm M)_t(T) \\approx 1+\\alpha = H +\\frac 32.\n",
    "$$"
   ]
  },
  {
   "cell_type": "markdown",
   "metadata": {
    "slideshow": {
     "slide_type": "slide"
    }
   },
   "source": [
    "### Asymptotic wing behavior in the Heston model\n",
    "\n",
    "[Drăgulescu and Yakovenko]<sup id=\"cite_ref-DragulescuYakovenko:2002\" class=\"reference\"><a href=\"#cite_note-DragulescuYakovenko:2002\">[5]</a></sup> compute the tail behavior of the Heston\n",
    "probability distribution function $f$ and find it to be linear in\n",
    "$|k|$.  That is, \n",
    " \n",
    " $$\n",
    " f(k) \\sim e^{- k \\,q^+} \\text{ as } k \\to +\\infty\n",
    " $$ \n",
    " \n",
    " and \n",
    " $$\n",
    " f(k) \\sim e^{+ k \\,q^-} \\text{ as } k \\to -\\infty,\n",
    " $$\n",
    "\n",
    " for some constants $q_{\\pm}$.  \n",
    " "
   ]
  },
  {
   "cell_type": "markdown",
   "metadata": {
    "slideshow": {
     "slide_type": "subslide"
    }
   },
   "source": [
    " Thus, the cumulative distribution function $F$ has the tail behavior \n",
    " \n",
    " <a name=\"eq:dyl\"></a>(14)\n",
    " $$\n",
    " F(k) \\sim \\frac{e^{+ k \\,q^-}}{k} \\text{ as } k \\to -\\infty\n",
    " $$\n",
    " \n",
    " and\n",
    " \n",
    " <a name=\"eq:dyr\"></a>(15)\n",
    " $$\n",
    " \\tilde F(k) = 1-F(k) \\sim \\frac{e^{- k \\,q^+}}{k} \\text{ as } k \\to +\\infty.\n",
    " $$\n",
    " "
   ]
  },
  {
   "cell_type": "markdown",
   "metadata": {
    "slideshow": {
     "slide_type": "slide"
    }
   },
   "source": [
    "### Benaim and Friz applied to Drăgulescu and Yakovenko\n",
    "\n",
    "-   <span>[Benaim and Friz]<sup id=\"cite_ref-BenaimFriz\" class=\"reference\"><a href=\"#cite_note-BenaimFriz\">[3]</a></sup> show how to get the tail behavior of the smile from the  cumulative distribution function $F$.\n",
    "\n",
    "\n",
    "-   Specifically, for the right tail, substituting from\n",
    "    [(14)](#eq:dyl) and [(15)](#eq:dyr), we obtain for the right tail\n",
    "\n",
    "    $$\n",
    "    \\frac{\\sigma_{BS}(k,T)^2\\,T}{k}\\sim\n",
    "    g\\left(-1-\\frac{\\log{\\left[1-F(k)\\right]}}{k}\\right) \\sim g\\left(-1 + q^+\\right)\n",
    "    \\textrm{  as\n",
    "    }k\\rightarrow \\infty\n",
    "    $$"
   ]
  },
  {
   "cell_type": "markdown",
   "metadata": {
    "slideshow": {
     "slide_type": "subslide"
    }
   },
   "source": [
    "-    and for the left tail\n",
    "    \n",
    "$$\n",
    "    \\frac{\\sigma_{BS}(-k,T)^2\\,T}{k}\\sim\n",
    "    g\\left(\\frac{-\\log{F(-k)}}{k}\\right)\n",
    "    \\sim g\\left(q^-\\right)\\textrm{ as }k\\rightarrow \\infty.\n",
    "$$\n",
    "\n",
    "So Heston implied variance is linear in the extreme wings.\n",
    "\n",
    "\n",
    "- <span> As noted by Drăgulescu and Yakovenko, qualitatively similar\n",
    "results from other authors suggest that linearity in the tails is a\n",
    "generic feature of stochastic volatility models, not just the Heston\n",
    "model.</span>"
   ]
  },
  {
   "cell_type": "markdown",
   "metadata": {
    "slideshow": {
     "slide_type": "slide"
    }
   },
   "source": [
    "### More on tail asymptotics\n",
    "\n",
    "- In fact, it can be shown that Heaton is a special case where the asymptotic density is such that the asymptotic slope depends on time to expiration.\n",
    "\n",
    "\n",
    "- For models of the form\n",
    "<p>\n",
    "    $$\n",
    "    dv_t = \\alpha(v_t)\\,dt + \\eta\\,v^\\beta\\,dW_t,\n",
    "    $$\n",
    "    <p>\n",
    "    it can be shown that the asymptotic slope of the smile is $2$ if $\\beta > \\tfrac12$."
   ]
  },
  {
   "cell_type": "markdown",
   "metadata": {
    "slideshow": {
     "slide_type": "slide"
    }
   },
   "source": [
    "### Asymptotics in Summary\n",
    "\n",
    "- <span>The general\n",
    "shape of the volatility surface doesn’t seem to depend very much on the specific\n",
    "choice of conventional Markovian stochastic volatility model with jumps. </span>\n",
    "    - <span> Any such model should generate a\n",
    "similar shape of volatility surface with appropriate numerical choices\n",
    "of the parameters.</span>\n",
    "\n",
    "\n",
    "- Rough volatility models appear to be more consistent with the observed implied volatility surface.\n",
    "    - However, as in the classical case, we can't deduce $f(v)$ from the shape of the volatility surface."
   ]
  },
  {
   "cell_type": "markdown",
   "metadata": {
    "slideshow": {
     "slide_type": "slide"
    }
   },
   "source": [
    "### Dynamics of the volatility surface: Model dependence\n",
    "\n",
    "- <span>So it seems that all stochastic volatility models have essentially\n",
    "the same implications for the shape of the volatility surface.</span>\n",
    "\n",
    "\n",
    "- <span>At first it might therefore seem that it would be hard to\n",
    "differentiate between models.</span>\n",
    "\n",
    "    - <span>That would certainly be the case if we were to confine our\n",
    "attention to the shape of the volatility surface today.</span>"
   ]
  },
  {
   "cell_type": "markdown",
   "metadata": {
    "slideshow": {
     "slide_type": "subslide"
    }
   },
   "source": [
    "- <span>If instead we were to study the dynamics of the volatility skew –\n",
    "in particular, how the observed volatility skew depends on the overall\n",
    "level of volatility, we would be able to differentiate between\n",
    "models.</span>"
   ]
  },
  {
   "cell_type": "markdown",
   "metadata": {
    "slideshow": {
     "slide_type": "slide"
    }
   },
   "source": [
    "### Dynamics of the volatility skew under stochastic volatility\n",
    "\n",
    "Empirical studies of the dynamics of the volatility skew show that\n",
    "$\\frac {\\partial}{\\partial k} \\sigma(k,t)$ is approximately independent\n",
    "of volatility level over time. Translating this into a statement about|\n",
    "the implied variance skew, we get\n",
    "\n",
    "$$\\frac {\\partial}{\\partial k}\\, \\sigma_{BS}(k,t)^2\\,=\\,2\\,\n",
    "\\sigma_{BS}(k,t)\\,\\frac {\\partial}{\\partial k}\\,\n",
    "\\sigma_{BS}(k,t)\\,\\sim\\, \\sqrt{v(k,t)}.$$ \n",
    "\n",
    "Comparing this with equation\n",
    "[(11)](#eq:skewtermstructure), we see that this in turn implies that\n",
    "$f(v)\\,\\sim\\,\\sqrt{v}$."
   ]
  },
  {
   "cell_type": "markdown",
   "metadata": {
    "slideshow": {
     "slide_type": "subslide"
    }
   },
   "source": [
    "- <span>Referring back to the definition of $f(v)$ in equation\n",
    "[(1)](#eq:genericprocess), we conclude that $v$ is approximately lognormal\n",
    "in contrast to the square root process assumed by Heston. </span>\n",
    "\n",
    "\n",
    "- <span> This makes intuitive sense given that we would expect volatility\n",
    "to be more volatile if the volatility level is high than if the\n",
    "volatility level itself is low.</span>"
   ]
  },
  {
   "cell_type": "markdown",
   "metadata": {
    "slideshow": {
     "slide_type": "slide"
    }
   },
   "source": [
    "### Does it matter what dynamics we choose?\n",
    "\n",
    "- <span>Does it matter whether we model variance as a square root process\n",
    "or as lognormal?</span>\n",
    "\n",
    "    - <span> In certain cases it does. </span>\n",
    "\n",
    "    - <span>We are using our model to hedge and the hedge should approximately\n",
    "generate the correct payoff at the boundary.</span>\n",
    "\n",
    "    - <span> If the payoff that we are hedging depends (directly or\n",
    "indirectly) on the volatility skew, and our assumption is that the\n",
    "variance skew is independent of the volatility level, we could end up\n",
    "losing a lot of money if that’s not how the market actually\n",
    "behaves.</span>"
   ]
  },
  {
   "cell_type": "markdown",
   "metadata": {
    "slideshow": {
     "slide_type": "subslide"
    }
   },
   "source": [
    "- <span>Is any stochastic volatility model better than none at all?\n",
    "</span>\n",
    "\n",
    "    - <span>Yes! Because whereas having the wrong stochastic volatility model\n",
    "will cause the hedger to generate a payoff corresponding to a skew that\n",
    "may perhaps be off by a factor of 1.5 if volatility doubles,</span>\n",
    "\n",
    "    - <span>Having only a local volatility model will cause the hedger to\n",
    "generate a payoff that corresponds to almost no forward skew at\n",
    "all.</span>"
   ]
  },
  {
   "cell_type": "markdown",
   "metadata": {
    "slideshow": {
     "slide_type": "slide"
    }
   },
   "source": [
    "### Dynamics of the volatility skew under local volatility\n",
    "\n",
    "- <span> Empirically, the slope of the volatility skew decreases with time\n",
    "to expiration. </span>\n",
    "\n",
    "\n",
    "- <span>In the case of mean-reverting single factor stochastic volatility, the term\n",
    "structure of the BS implied variance skew will look something like\n",
    "equation [(11)](#eq:skewtermstructure).</span>\n",
    "   \n",
    "   \n",
    "- Under local volatility, the slope of the volatility skew will decay over time\n",
    "according to the decay of today's volatility with respect to time to expiration.\n",
    "    - As $\\tau^{-0.4}$ say."
   ]
  },
  {
   "cell_type": "markdown",
   "metadata": {
    "slideshow": {
     "slide_type": "subslide"
    }
   },
   "source": [
    "\n",
    "- <span> To get the forward volatility surface in a local volatility\n",
    "model, we integrate over the local volatilities from the (forward)\n",
    "valuation date to the expiration of the option along the most likely\n",
    "path.</span>\n",
    "\n",
    "    - <span>The forward volatility surface will be substantially flatter than\n",
    "today’s because the forward local volatility skews are all\n",
    "flatter.</span>"
   ]
  },
  {
   "cell_type": "markdown",
   "metadata": {
    "slideshow": {
     "slide_type": "subslide"
    }
   },
   "source": [
    "- <span>Contrast this with a stochastic volatility model where implied\n",
    "volatility skews are approximately time-homogeneous.</span>\n",
    "\n",
    "    - <span>Local volatility models imply that future BS implied volatility\n",
    "surfaces will be flat (relative to today’s).</span>\n",
    "    - <span>Stochastic volatility models imply that future BS implied\n",
    "volatility surfaces will look like today’s.</span>"
   ]
  },
  {
   "cell_type": "markdown",
   "metadata": {
    "slideshow": {
     "slide_type": "slide"
    }
   },
   "source": [
    "### A heuristic illustration of flattening under local volatility\n",
    "\n",
    "Recall from equation (12) of Lecture 6 that (with a slight change of notation),\n",
    "\n",
    "$$\n",
    "v_0^\\ell(k,T)  \\approx \\xi_0(T)  + \\left(\\frac k{w}+\\frac12\\right)\\,(X\\dm \\xi)_0(T).\n",
    "$$\n",
    "\n",
    "Moreover, implied volatility is roughly given by the integral of local volatility along the most-likely-path (MLP).  Indeed, from equation (17) of Lecture 6, we have\n",
    "\n",
    "$$\n",
    "\\sigma_0^{BS}(k,T)^2 \\approx \\frac w T  + \\left(\\frac k {w}+\\frac12\\right)\\,\\frac{1}T\\,\\int_0^T\\,(X\\dm \\xi)_0(u)\\,du\n",
    "$$\n",
    "where $w=w_0(T)$."
   ]
  },
  {
   "cell_type": "markdown",
   "metadata": {
    "slideshow": {
     "slide_type": "subslide"
    }
   },
   "source": [
    "Moving forward in time to $t=\\Delta$, with $w=w_\\Delta(T+\\Delta)$, we find that\n",
    "\n",
    "$$\n",
    "\\sigma_\\Delta^{BS}(k,T+\\Delta)^2 \\approx \\frac w T  + \\left(\\frac k {w}+\\frac12\\right)\\,\\frac{1}T\\,\\int_\\Delta^{T+\\Delta}\\,(X\\dm \\xi)_\\Delta(u)\\,du.\n",
    "$$\n",
    "\n",
    "But under local volatility, $(X\\dm \\xi)_\\Delta(u) = (X\\dm \\xi)_0(u)$."
   ]
  },
  {
   "cell_type": "markdown",
   "metadata": {
    "slideshow": {
     "slide_type": "subslide"
    }
   },
   "source": [
    "Thus the ATM variance skew at the future time $\\Delta$ will be given by\n",
    "\n",
    "\\begin{eqnarray}\n",
    "\\p_k\\sigma_\\Delta^{BS}(k,T+\\Delta)^2 &\\approx& \\frac 1 {w}\\frac{1}T\\,\\int_\\Delta^{T+\\Delta}\\,(X\\dm \\xi)_0(u)\\,du\\\\\n",
    "&=& \\frac 1 {w}\\frac{1}T\\,\\left\\{(X \\dm M)_{0}(T+\\Delta)\n",
    "- (X \\dm M)_{0}(\\Delta)  \\right\\}\n",
    "\\end{eqnarray}\n",
    "\n",
    "Now, for a rough volatility model, consistent with a power-law skew term structure $T^{\\tfrac12-H}$,\n",
    "\n",
    "$$\n",
    "(X \\dm M)_{0}(T) \\sim T^{H+\\tfrac 12}.\n",
    "$$\n",
    "    "
   ]
  },
  {
   "cell_type": "markdown",
   "metadata": {
    "slideshow": {
     "slide_type": "subslide"
    }
   },
   "source": [
    "Translating this to a statement about the skew \n",
    "\n",
    "$$\n",
    "\\psi_t(T) = \\left.\\p_k \\sigma^{BS}_t(k,T)\\right|_{k=0},\n",
    "$$\n",
    "\n",
    "we see that under local volatility, the skew at a future date $\\Delta$ will be given by\n",
    "\n",
    "$$\n",
    "\\frac{\\psi_\\Delta(T+\\Delta)}{\\psi_0(T)} \\approx \\left( 1 + \\frac{\\Delta}T\\right)^{H+\\tfrac12} - \\left(\\frac\\Delta T\\right)^{H+\\tfrac12}. \n",
    "$$\n"
   ]
  },
  {
   "cell_type": "markdown",
   "metadata": {
    "slideshow": {
     "slide_type": "slide"
    }
   },
   "source": [
    "### Plot of skew flattening under local volatility"
   ]
  },
  {
   "cell_type": "code",
   "execution_count": 9,
   "metadata": {
    "collapsed": true,
    "slideshow": {
     "slide_type": "fragment"
    }
   },
   "outputs": [],
   "source": [
    "skewRatio <- function(T,Delta, H){\n",
    "    (1+Delta/T)^(H+1/2) -  (Delta/T)^(H+1/2)}"
   ]
  },
  {
   "cell_type": "code",
   "execution_count": 7,
   "metadata": {
    "collapsed": true,
    "slideshow": {
     "slide_type": "fragment"
    }
   },
   "outputs": [],
   "source": [
    "options(repr.plot.height=5)"
   ]
  },
  {
   "cell_type": "code",
   "execution_count": 21,
   "metadata": {
    "slideshow": {
     "slide_type": "subslide"
    }
   },
   "outputs": [
    {
     "data": {
      "image/png": "[encoded data removed]",
      "text/plain": [
       "plot without title"
      ]
     },
     "metadata": {},
     "output_type": "display_data"
    }
   ],
   "source": [
    "curve(skewRatio(1,x,.1),from=0,to=1,col=\"red\",\n",
    "     xlab=expression(paste(Delta, \" (Years)\")),\n",
    "      ylab=expression(psi[Delta](T+Delta)/psi[0](T)),ylim=c(0,1))\n",
    "curve(skewRatio(.25,x,.1),from=0,to=1,col=\"blue\",add=T)\n",
    "curve(skewRatio(1/12,x,.1),from=0,to=1,col=\"green4\",add=T)"
   ]
  },
  {
   "cell_type": "markdown",
   "metadata": {
    "slideshow": {
     "slide_type": "fragment"
    }
   },
   "source": [
    "Approximate ratio of forward starting skew to today's skew under rough volatility with $H=0.1$.  1y skew in red; 3m skew in blue; 1m skew in green."
   ]
  },
  {
   "cell_type": "markdown",
   "metadata": {
    "slideshow": {
     "slide_type": "slide"
    }
   },
   "source": [
    "### Stochastic implied volatility models\n",
    "\n",
    "- <span> Many authors have looked at models that allow the entire implied\n",
    "volatility surface to diffuse.</span>\n",
    "\n",
    "\n",
    "- <span>If the underlying price process is assumed continuous (with no\n",
    "jumps), the statics and dynamics of the implied volatility surface are\n",
    "highly constrained.</span>\n",
    "\n",
    "    - <span> In particular, non-discounted option prices are risk-neutral\n",
    "expectations of future cashflows and as such must be martingales.</span>"
   ]
  },
  {
   "cell_type": "markdown",
   "metadata": {
    "slideshow": {
     "slide_type": "subslide"
    }
   },
   "source": [
    "-  Changes in the call price reflect both changes in the underlying\n",
    "and changes in implied volatility.\n",
    "\n",
    "\n",
    "- Imposing the martingale constraint\n",
    "    \n",
    "    $$\\mathbb{E}[dC_t]=0$$ \n",
    "    \n",
    "    gives a\n",
    "tight relationship between the various sensitivities and many results\n",
    "such as equation [(3)](#eq:shortBS) follow immediately from this."
   ]
  },
  {
   "cell_type": "markdown",
   "metadata": {
    "slideshow": {
     "slide_type": "slide"
    }
   },
   "source": [
    "### Digital options\n",
    "\n",
    "- <span>The valuation of a digital option involves the volatility skew\n",
    "directly.</span>\n",
    "\n",
    "\n",
    "- <span> A digital (call) option $D(K,T)$ pays 1 if the stock price $S_T$\n",
    "at expiration $T$ is greater than the strike price $K$ and zero\n",
    "otherwise.</span>"
   ]
  },
  {
   "cell_type": "markdown",
   "metadata": {
    "slideshow": {
     "slide_type": "subslide"
    }
   },
   "source": [
    "- <span> It may be valued as the limit of a call spread as the spread between the\n",
    "strikes is reduced to zero.\n",
    "\n",
    "  <a name=\"eq:digital\"></a>(16)\n",
    "  $$D(K,T)\\,=\\,-\\frac{\\partial C(K,T)}{\\partial K} $$\n",
    "\n",
    "  where $C(K,T)$ represents the price of a European call option with\n",
    "strike $K$ expiring at time $T$.</span>"
   ]
  },
  {
   "cell_type": "markdown",
   "metadata": {
    "slideshow": {
     "slide_type": "slide"
    }
   },
   "source": [
    "### Sensitivity of digital to the volatility skew\n",
    "\n",
    "To see that the price of a digital is very sensitive to the volatility\n",
    "skew, we rewrite the European call price in equation [(16)](#eq:digital) in\n",
    "terms of its Black-Scholes implied volatility $\\sigma_{BS}(K,T)$:\n",
    "\n",
    "\\begin{eqnarray}\n",
    "D(K,T)&=&-\\frac{\\partial }{\\partial\n",
    "K}C_{BS}\\left(K,T,\\sigma_{BS}(K,T)\\right)\\nonumber\\\\\n",
    "&=&-\\frac{\\partial C_{BS}}{\\partial K}\\,-\\,\\frac{\\partial\n",
    "C_{BS}}{\\partial \\sigma_{BS}}\\frac{\\partial \\sigma_{BS}}{\\partial\n",
    "K}.\n",
    "\\end{eqnarray}"
   ]
  },
  {
   "cell_type": "markdown",
   "metadata": {
    "slideshow": {
     "slide_type": "slide"
    }
   },
   "source": [
    "### Impact of volatility skew in practice\n",
    "\n",
    "- <span> Consider a one year digital option struck at-the-money (with zero\n",
    "rates and dividends).</span>\n",
    "\n",
    "\n",
    "- <span> Suppose further that at-the-money volatility is 25% and the\n",
    "volatility skew (typical of SPX for example) is 3% per 10% change in\n",
    "strike. </span>"
   ]
  },
  {
   "cell_type": "markdown",
   "metadata": {
    "slideshow": {
     "slide_type": "subslide"
    }
   },
   "source": [
    "- <span> The value of a digital call is given by:\n",
    "\n",
    "\\begin{eqnarray}\n",
    "D(1,1) &=&-\\frac{\\partial C_{BS}}{\\partial K}\\,-\\,\\frac{\\partial\n",
    "C_{BS}}{\\partial \\sigma_{BS}}\\frac{\\partial \\sigma_{BS}}{\\partial\n",
    "K}\\nonumber\\\\&=& N\\left(-{\\frac{\\sigma}{2}}\\right)\\,-\\, {\\rm\n",
    "vega}\\times{\\rm skew}\\nonumber\\\\ &=&N\\left(-{\\frac{\\sigma}{\n",
    "2}}\\right)\\,+\\, \\frac{1}{\\sqrt{2\n",
    "\\pi}}{e^{-\\frac{d_1^2}{2}}}\\times{ 0.3}\\nonumber\\\\\n",
    "&\\approx&N\\left(-{\\frac{\\sigma}{ 2}}\\right)\\,+\\,\n",
    "0.4\\times{0.3}\\nonumber\\\\\n",
    "\\end{eqnarray}\n",
    "</span>"
   ]
  },
  {
   "cell_type": "markdown",
   "metadata": {
    "slideshow": {
     "slide_type": "subslide"
    }
   },
   "source": [
    "### Getting the skew right is critical!\n",
    "\n",
    "<blockquote>\n",
    "<div style=\"background-color:#E8E8E8; color:#000000; font-style: normal; \">\n",
    "\n",
    "\n",
    "If we had ignored the skew contribution, we would have got the price of\n",
    "the digital option wrong by 12% of notional!\n",
    "\n",
    "\n",
    "</div>\n",
    "\n",
    "</blockquote>"
   ]
  },
  {
   "cell_type": "markdown",
   "metadata": {
    "slideshow": {
     "slide_type": "slide"
    }
   },
   "source": [
    "### Digital cliquets\n",
    "\n",
    "Here is part of a definition of the word cliquet from the Dictionary of\n",
    "Financial Risk Management:\n",
    "\n",
    ">The French like the sound of ‘cliquet’ and seem prepared to apply the\n",
    "term to any remotely appropriate option structure. (1) Originally a\n",
    "periodic reset option with multiple payouts or a ratchet option (from\n",
    "vilbrequin à cliquet – ratchet brace). Also called Ratchet\n",
    "Option ...\n",
    "\n",
    "And since the word is originally French, here is an elegant definition\n",
    "of the “Effet-cliquet” from a French website:\n",
    "\n",
    ">Mécanisme qui permet de figer une performance même si l’actif\n",
    "correspondant baisse par la suite.\n",
    "\n",
    "<small>(Mechanism that permits a profit to be locked in even if the\n",
    "underlying subsequently declines.)</small>"
   ]
  },
  {
   "cell_type": "markdown",
   "metadata": {
    "slideshow": {
     "slide_type": "slide"
    }
   },
   "source": [
    "### Payoff of a digital cliquet\n",
    "\n",
    "<h3><img src=\"http://mfe.baruch.cuny.edu/wp-content/uploads/2014/10/cliquetExample.png\" align = \"left\" width=700></h3>"
   ]
  },
  {
   "cell_type": "markdown",
   "metadata": {
    "slideshow": {
     "slide_type": "fragment"
    }
   },
   "source": [
    "Figure 5: Illustration of a cliquet payoff. This hypothetical SPX cliquet resets\n",
    "at-the-money every year on October 31st. The thick solid lines represent\n",
    "nonzero cliquet payoffs. The payoff of a 5-year European option struck\n",
    "at the 10/31/2000 SPX level of 1429.40 would have been\n",
    "zero."
   ]
  },
  {
   "cell_type": "markdown",
   "metadata": {
    "slideshow": {
     "slide_type": "slide"
    }
   },
   "source": [
    "### Generic cliquets\n",
    "\n",
    "- <span> A cliquet is just a series of options whose strikes are set on a\n",
    "sequence of futures dates.</span>\n",
    "\n",
    "    - <span>A digital cliquet is a sequence of digital options whose strikes\n",
    "will be set (usually) at the prevailing stock price on the relevant\n",
    "reset date.</span>\n",
    "\n",
    "\n",
    "- <span> Denoting the set of reset dates by $\\{t_1,t_2,...,t_n \\}$, the\n",
    "digital cliquet pays $\\rm{Coupon}\n",
    "\\times \\theta{\\left( S_{t_i}-S_{t_{i-1}}\\right)}$ at $t_i$ where\n",
    "$\\theta(.)$ represents the Heaviside function. </span>"
   ]
  },
  {
   "cell_type": "markdown",
   "metadata": {
    "slideshow": {
     "slide_type": "slide"
    }
   },
   "source": [
    "### Economic motivation for cliquets\n",
    "\n",
    "- <span> The package consisting of a zero coupon bond together with a\n",
    "digital cliquet makes a very natural product for a risk-averse retail\n",
    "investor.</span>\n",
    "\n",
    "    - <span>The investor typically gets an above market coupon if the\n",
    "underlying stock index is up for the period (usually a year) and a below\n",
    "market coupon (usually zero) if the underlying stock index is\n",
    "down.</span>\n",
    "\n",
    "\n",
    "- <span>This product was very popular and as a result, many equity\n",
    "derivatives dealers had digital cliquets on their books.</span>"
   ]
  },
  {
   "cell_type": "markdown",
   "metadata": {
    "slideshow": {
     "slide_type": "slide"
    }
   },
   "source": [
    "### How to lose money\n",
    "\n",
    "- <span>We deduce that the price of a digital cliquet may vary very\n",
    "substantially depending on the modeling assumptions made by the\n",
    "seller.</span>\n",
    "\n",
    "\n",
    "- <span> Those sellers using local volatility models will certainly value\n",
    "a digital cliquet at a lower price than sellers using a stochastic\n",
    "volatility.</span>\n",
    "\n",
    "    - <span> Or more practically, those guessing that the forward skew should\n",
    "look like today’s.</span>"
   ]
  },
  {
   "cell_type": "markdown",
   "metadata": {
    "slideshow": {
     "slide_type": "subslide"
    }
   },
   "source": [
    "- <span> Perversely then, those sellers using an inadequate model will\n",
    "almost certainly win the deal and end up short a portfolio of misvalued\n",
    "forward-starting digital options.</span>\n",
    "\n",
    "\n",
    "- <span> Or even worse, a dealer could have an appropriate valuation\n",
    "approach but be pushed internally by the salespeople to match (mistaken)\n",
    "competitor’s lower prices. </span>"
   ]
  },
  {
   "cell_type": "markdown",
   "metadata": {
    "slideshow": {
     "slide_type": "slide"
    }
   },
   "source": [
    "### How wrong could the price of the digital cliquet be? \n",
    "\n",
    "- <span> Consider the example of a (not unrealistic) five year deal that\n",
    "has a $6\\%$ coupon annually if the underlying exceeds the prior annual\n",
    "setting and zero otherwise.</span>\n",
    "\n",
    "- <span> Neglecting the first coupon (because we suppose that all dealers\n",
    "can price a digital which sets today), the error could be up to 12% of\n",
    "the sum of the remaining coupons (48%) or 5.76% of Notional.</span>\n",
    "\n",
    "- <span> A pricing error of this magnitude is a big multiple of the\n",
    "typical margin on such a trade and would cause the dealer a substantial\n",
    "loss.</span>"
   ]
  },
  {
   "cell_type": "markdown",
   "metadata": {
    "slideshow": {
     "slide_type": "slide"
    }
   },
   "source": [
    "### References\n",
    "\n",
    "<br />\n",
    "\n",
    "<div class=\"reflist\" style=\"list-style-type: decimal;\">\n",
    "\n",
    "<ol>\n",
    "\n",
    "<li id=\"cite_note-AGR\"><span class=\"mw-cite-backlink\"><b><a href=\"#cite_ref-AGR\">^</a></b></span>\n",
    "Elisa Alòs, Jim Gatheral, and Radoš Radoičić, Exponentiation of conditional expectations under stochastic volatility, *Quantitative Finance* forthcoming, (2019).</li>\n",
    "</li>\n",
    "\n",
    "<li id=\"cite_note-Alos\"><span class=\"mw-cite-backlink\"><b><a href=\"#cite_ref-Alos\">^</a></b></span> \n",
    "Elisa Alòs, Jorge A León, and Josep Vives, On the short-time behavior of the implied volatility for jump-diffusion models with stochastic volatility, *Finance and Stochastics* **11**(4) 571-589 (2007).\n",
    "</li>\n",
    "\n",
    "  <li id=\"cite_note-BenaimFriz\"><span class=\"mw-cite-backlink\"><b><a href=\"#cite_ref-BenaimFriz\">^</a></b></span> Shalom Benaim and Peter Friz, Regular variation and smile asymptotics,\n",
    "<span>*Mathematical Finance*</span> <span>**19**</span>(1), 1–12,\n",
    "(2009).</li>\n",
    "\n",
    "\n",
    "\n",
    "\n",
    "  <li id=\"cite_note-BG\"><span class=\"mw-cite-backlink\"><b><a href=\"#cite_ref-BG\">^</a></b></span>   Lorenzo Bergomi and Julien Guyon, The smile in stochastic volatility models. <span>*SSRN*</span> (2011).</li>\n",
    "\n",
    "  <li id=\"cite_note-DragulescuYakovenko:2002\"><span class=\"mw-cite-backlink\"><b><a href=\"#cite_ref-DragulescuYakovenko:2002\">^</a></b></span> Adrian A Drăgulescu and Victor M Yakovenko, Probability distribution of\n",
    "returns in the Heston model with stochastic volatility,\n",
    "<span>*Quantitative Finance*</span> <span>**2**</span> 443–453 (2002).\n",
    "  </li>\n",
    "  \n",
    "  \n",
    "  \n",
    "  <li id=\"cite_note-FukasawaShort\"><span class=\"mw-cite-backlink\"><b><a href=\"#cite_ref-FukasawaShort\">^</a></b></span> Omar El Euch, Masaaki Fukasawa, Jim Gatheral, and Mathieu Rosenbaum, Short-term at-the-money asymptotics under stochastic volatility models,\n",
    "*SIAM Journal on Financial Mathematics* **10**(2), 491-511 (2019).</li>\n",
    "\n",
    "  \n",
    "  <li id=\"cite_note-FouquePapanicolaouSircar:1999\"><span class=\"mw-cite-backlink\"><b><a href=\"#cite_ref-FouquePapanicolaouSircar:1999\">^</a></b></span> \n",
    "  Jean-Pierre Fouque, George Papanicolaou and Ronnie Sircar, Financial\n",
    "modeling in a fast mean-reverting stochastic volatility environment,\n",
    "<span>*Asia-Pacific Financial Markets*</span> <span>**6**</span> 37-48\n",
    "(1999).  \n",
    "  </li>\n",
    "  \n",
    "  <li id=\"cite_note-Fukasawa\"><span class=\"mw-cite-backlink\"><b><a href=\"#cite_ref-Fukasawa\">^</a></b></span> \n",
    "Masaaki Fukasawa, Volatility derivatives and mode-free implied leverage, *International Journal of Theroetical and Applied Finance* **17**(01) 1450002 (2014).</li>\n",
    "    \n",
    "    \n",
    "    <li id=\"cite_note-Hagan:2002\"><span class=\"mw-cite-backlink\"><b><a href=\"#cite_ref-Hagan:2002\">^</a></b></span> Patrick S Hagan, Deep Kumar, Andrew S Lesniewski and Diana E Woodward,\n",
    "Managing smile risk, <span>*Wilmott Magazine*</span>\n",
    "<span>**1**</span>(1) 84–108 (2002).\n",
    "  </li>\n",
    "  \n",
    " <li id=\"cite_note-JacquierLorig\"><span class=\"mw-cite-backlink\"><b><a href=\"#cite_ref-JacquierLorig\">^</a></b></span> Antoine Jacquier and Matthew Lorig,  From characteristic functions to implied volatility expansions,  *Advances in Applied Probability* **47**(3), 837-857, (2015).\n",
    "  \n",
    "  \n",
    "    <li id=\"cite_note-Lewis\"><span class=\"mw-cite-backlink\"><b><a href=\"#cite_ref-Lewis\">^</a></b></span> Alan L. Lewis, *Option Valuation under Stochastic Volatility with\n",
    "Mathematica Code*, Finance Press: Newport Beach, CA (2000).\n",
    "  </li>\n",
    "  \n",
    "      <li id=\"cite_note-MedvedevScaillet:2004\"><span class=\"mw-cite-backlink\"><b><a href=\"#cite_ref-MedvedevScaillet:2004\">^</a></b></span> Alexey N Medvedev and Olivier Scaillet, Approximation and calibration of\n",
    "short-term implied volatilities under jump-diffusion stochastic\n",
    "volatility models with jumps by short term asymptotics, *Review of Financial Studies* **20**(2), 427–459 (2007).\n",
    "  </li>\n",
    "  \n",
    "</ol>"
   ]
  },
  {
   "cell_type": "code",
   "execution_count": null,
   "metadata": {
    "collapsed": true
   },
   "outputs": [],
   "source": []
  }
 ],
 "metadata": {
  "celltoolbar": "Slideshow",
  "kernelspec": {
   "display_name": "R",
   "language": "R",
   "name": "ir"
  },
  "language_info": {
   "codemirror_mode": "r",
   "file_extension": ".r",
   "mimetype": "text/x-r-source",
   "name": "R",
   "pygments_lexer": "r",
   "version": "3.5.1"
  },
  "latex_envs": {
   "LaTeX_envs_menu_present": true,
   "autoclose": false,
   "autocomplete": false,
   "bibliofile": "biblio.bib",
   "cite_by": "apalike",
   "current_citInitial": 1,
   "eqLabelWithNumbers": false,
   "eqNumInitial": 1,
   "hotkeys": {
    "equation": "Ctrl-E",
    "itemize": "Ctrl-I"
   },
   "labels_anchors": false,
   "latex_user_defs": false,
   "report_style_numbering": false,
   "user_envs_cfg": false
  },
  "varInspector": {
   "cols": {
    "lenName": 16,
    "lenType": 16,
    "lenVar": 40
   },
   "kernels_config": {
    "python": {
     "delete_cmd_postfix": "",
     "delete_cmd_prefix": "del ",
     "library": "var_list.py",
     "varRefreshCmd": "print(var_dic_list())"
    },
    "r": {
     "delete_cmd_postfix": ") ",
     "delete_cmd_prefix": "rm(",
     "library": "var_list.r",
     "varRefreshCmd": "cat(var_dic_list()) "
    }
   },
   "types_to_exclude": [
    "module",
    "function",
    "builtin_function_or_method",
    "instance",
    "_Feature"
   ],
   "window_display": false
  }
 },
 "nbformat": 4,
 "nbformat_minor": 1
}
