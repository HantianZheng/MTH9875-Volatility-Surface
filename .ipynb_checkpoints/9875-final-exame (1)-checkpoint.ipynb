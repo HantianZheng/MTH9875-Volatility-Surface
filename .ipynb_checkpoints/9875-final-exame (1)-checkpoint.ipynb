{
 "cells": [
  {
   "cell_type": "markdown",
   "metadata": {},
   "source": [
    "# Final Summary review"
   ]
  },
  {
   "cell_type": "markdown",
   "metadata": {},
   "source": [
    "Five question, 100"
   ]
  },
  {
   "cell_type": "markdown",
   "metadata": {},
   "source": [
    "one question that is same. why plot come from stochastic vol or local vol "
   ]
  },
  {
   "cell_type": "markdown",
   "metadata": {},
   "source": [
    "1. Local Volatility\n",
    "Assume $dS(t) = \\sigma_t(S_t, t)dZ_t$ \n",
    "$$C(S, K, T) = \\int_K^{\\infty} dS_T \\phi(S_t, T, S_0)(S_T-K)$$"
   ]
  },
  {
   "cell_type": "markdown",
   "metadata": {},
   "source": [
    "$$\\dfrac{1}{2} \\dfrac{\\partial^2}{\\partial S^2}(\\sigma^2(S_T, T) S_T^2\\phi) = \\dfrac{\\partial \\phi}{\\partial T}$$"
   ]
  },
  {
   "cell_type": "markdown",
   "metadata": {},
   "source": [
    "$$\\dfrac{\\partial C}{\\partial T} = \\sigma^2_l(K, T) \\dfrac{K^2}{2} *\\dfrac{\\partial ^2 C}{\\partial K^2}$$"
   ]
  },
  {
   "cell_type": "markdown",
   "metadata": {},
   "source": [
    "$$C = \\int^{\\infty}_0 dS_t{\\dfrac{1}{2} \\dfrac{\\partial^2}{\\partial S_T^2}(\\sigma^2_l(S_T, T) S_T^2\\phi)} (S_T-K)^{+} = \\dfrac{1}{2}\\sigma_l^w K^2 \\phi(k) = \\dfrac{1}{2} \\sigma^2_l K^2\\dfrac{\\partial^2\\phi}{\\partial K^2}$$"
   ]
  },
  {
   "cell_type": "markdown",
   "metadata": {},
   "source": [
    "(b)\n",
    "$$\\dfrac{d S_t}{S_t} = \\sqrt{v_t} dZ_t$$\n",
    "\n",
    "Show $\\sigma^2_l(K, T) = E[v_T| S_T = K]$"
   ]
  },
  {
   "cell_type": "markdown",
   "metadata": {},
   "source": [
    "$$ d(S_T - K)^{+} = \\partial(S_T - K ) dS_T + \\dfrac{1}{2}v_t S_T^2 \\delta(S_T - K) dT$$\n",
    "\n",
    "\\begin{align*}\n",
    "\\dfrac{\\partial C}{\\partial T} & = \\dfrac{dE[(S_T - K)^{+}]}{dT}\\\\\n",
    "&= \\dfrac{1}{2} K^2 E[v_T| S_T = K] E[\\delta(S_T - K) ]\n",
    "\\end{align*}"
   ]
  },
  {
   "cell_type": "markdown",
   "metadata": {},
   "source": [
    "2 $$\\dfrac{d S_t}{S_t} = \\sqrt{v_t} dZ_t$$\n",
    "$$dv_t = - x(v_t - \\bar{v} ) dt + \\alpha v_t dW_t$$\n",
    "Need to know what is the variance swap"
   ]
  },
  {
   "cell_type": "markdown",
   "metadata": {},
   "source": [
    "(a) $$\\xi_t(n) = E[v_n|F_t]$$\n",
    "$$\\dfrac{d E[v_t]}{dt} = -x(E[v_t] - \\bar{v})$$\n",
    "$$\\xi_t(n) = E_t[v_n] = (v_t - \\bar{v}) e^{-x(n-t)} +\\bar{v}$$\n",
    "$$d\\xi_t(n) = e^{-x(n-t) }\\alpha v_t dW_t$$"
   ]
  },
  {
   "cell_type": "markdown",
   "metadata": {},
   "source": [
    "(b)\n",
    "$$\\sigma_{BC}(K, t) = \\hat{\\sigma_T}+ S_T K + o(\\epsilon^2)$$\n",
    "$$S_T = \\sqrt{\\dfrac{w}{T}} \\dfrac{1}{2w^2} C^{x\\xi}$$\n",
    "$$C^{x\\xi} = \\int^T_0 dt \\int^T_t dn \\dfrac{E[ dn_t d\\xi_t(n)]}{dt}$$\n",
    "\n"
   ]
  },
  {
   "cell_type": "markdown",
   "metadata": {},
   "source": [
    "\\begin{align*}\n",
    "E_0[ dn_t d\\xi_t(n)] \n",
    "&= E[ \\sqrt{v_t} dZ_t e^{-x(n-t) } \\alpha v_t dW_t]\\\\\n",
    "&= E_0 [v_t^{\\dfrac{3}{2} }dt \\rho \\alpha e^{-x(n-t)}]\\\\\n",
    "&= \\xi_0(t)^{\\dfrac{3}{2} }\\rho*\\alpha e^{-x(n-t)} + o(\\epsilon^2)\n",
    "\\end{align*}"
   ]
  },
  {
   "cell_type": "markdown",
   "metadata": {},
   "source": [
    "$$ C^{n_\\xi} = \\xi_0(t)^\\dfrac{3}{2} \\rho \\alpha \\int^T_0 dt \\dfrac{1}{K} (1- e^{-x(T-t)})$$\n",
    "$$= \\xi_0(t)^{\\dfrac{3}{2} }\\rho \\dfrac{\\alpha}{ K} (T- \\dfrac{1}{K}(1-e^{-KT}))$$"
   ]
  },
  {
   "cell_type": "markdown",
   "metadata": {},
   "source": [
    "$$\\phi_l(T) = \\dfrac{\\partial}{\\partial K } \\sigma_{BS}(K, T)|_{k=0}$$"
   ]
  },
  {
   "cell_type": "markdown",
   "metadata": {},
   "source": [
    "(c) \n",
    "$$\\phi_L(T) = S_T = \\dfrac{1}{2T} \\dfrac{1}{\\bar{v}^{3/2}} \\bar{v}^{-3/2} \\dfrac{\\rho \\alpha}{K} ( T- \\dfrac{1-e^{-KT}}{K})\n",
    " = \\dfrac{\\rho \\alpha}{2} \\dfrac{1}{x^T}(1-\\dfrac{1-e^{-KT}}{K_T})$$"
   ]
  },
  {
   "cell_type": "markdown",
   "metadata": {},
   "source": [
    "(d)$$ \\phi_N(T) = \\dfrac{\\rho n}{2\\sqrt{\\bar{v}}} \\dfrac{1}{K_T}(1-\\dfrac{1-e^{-KT}}{K_T})$$"
   ]
  },
  {
   "cell_type": "markdown",
   "metadata": {},
   "source": [
    "3 $$w(k, T) = \\sigma_{BS}^2(K, T) T$$ \n",
    "$$w(k, T) = \\dfrac{\\theta(T)}{2}(1+ \\rho \\Phi(T) + \\sqrt{(\\Phi(T)K +\\rho)^2+1- \\rho^2})$$"
   ]
  },
  {
   "cell_type": "markdown",
   "metadata": {},
   "source": [
    "(a) $$w= \\theta (1-\\Phi_k)^{+}$$"
   ]
  },
  {
   "cell_type": "markdown",
   "metadata": {},
   "source": [
    "(b) convert\n",
    "\\begin{align}\n",
    "w(0, T)  = \\theta \\\\\n",
    "\\partial_k w(0,T) = -\\theta \\Phi I_{k < 1/\\Phi}\\\\\n",
    "\\partial_{k,k} w(0,T) =0\n",
    "\\end{align}"
   ]
  },
  {
   "cell_type": "markdown",
   "metadata": {},
   "source": [
    "(c) $$v_l(K,T) = \\dfrac{\\dfrac{\\partial w}{T}}{(1-\\dfrac{1}{2} \\dfrac{k}{w}\\dfrac{\\partial w}{\\partial k})^2 -\\dfrac{1}{4}(\\dfrac{1}{4} + \\dfrac{1}{w})(\\dfrac{\\partial w}{\\partial K})^2 + \\dfrac{1}{2} \\dfrac{\\partial^2 w}{\\partial K^2}}$$"
   ]
  },
  {
   "cell_type": "markdown",
   "metadata": {},
   "source": [
    "$$\\Phi(T) = \\dfrac{\\alpha}{T^{\\gamma}}, \\alpha >0$$\n",
    "\n",
    "Show $\\gamma >= 1$, T large and $\\gamma <= \\dfrac{1}{2}$ T small\n",
    "\n",
    "Large T \\begin{align*}\n",
    "f(T) &\\approx 1- \\dfrac{1}{4}(\\dfrac{1}{4} + \\dfrac{1}{w}) (\\dfrac{\\partial w}{\\partial K})^2 \\\\\n",
    "& \\approx 1- \\dfrac{1}{4}(\\theta \\Phi)^2\\\\\n",
    "& \\approx 1- \\dfrac{1}{16} \\alpha^2 T^{2-2\\gamma}, \\gamma>=1\n",
    "\\end{align*}"
   ]
  },
  {
   "cell_type": "markdown",
   "metadata": {},
   "source": [
    "(d) Show T \n",
    "\\begin{align*}\n",
    "f(T) &\\approx 1 - \\dfrac{1}{4}(\\dfrac{1}{4} + \\dfrac{1}{w}) (\\dfrac{\\partial w}{\\partial K}\\\\\n",
    "&\\approx 1- \\dfrac{1}{4 \\theta}(\\theta \\Phi)^2 \\\\\n",
    "&\\approx1- \\dfrac{1}{16}\\alpha^2 T^{1-2\\alpha}, \\gamma<= 1/2\n",
    "\\end{align*}"
   ]
  },
  {
   "cell_type": "markdown",
   "metadata": {},
   "source": [
    "(e) $$\\Phi(T)= \\dfrac{1}{T^\\gamma}\\dfrac{1}{(T_0 + T)^{1-\\gamma}}, \\gamma <=1/2$$"
   ]
  },
  {
   "cell_type": "markdown",
   "metadata": {},
   "source": [
    "4\n",
    "$$ 1+ max[ 0, maxcoupon + \\sum_{i=1}^N min(0, r_i)] $$\n",
    "$$r_i = \\dfrac{S_i- S_{i-1}}{S_{i-1}}$$"
   ]
  },
  {
   "cell_type": "markdown",
   "metadata": {},
   "source": [
    "(c) $$1+ maxCoupon +\\sum^N_{i=1} min(0,r_i)$$\n",
    "Short put"
   ]
  },
  {
   "cell_type": "markdown",
   "metadata": {},
   "source": [
    "(d) 1"
   ]
  },
  {
   "cell_type": "markdown",
   "metadata": {},
   "source": [
    "(e) Local vol is less than stochastic vol.\n",
    "Short a bunch of put spread. forward skew is small under local vol"
   ]
  },
  {
   "cell_type": "markdown",
   "metadata": {},
   "source": [
    "5\n",
    "Heston model.\n",
    "$$dS_t = \\sqrt{v_t} S_t dZ_t$$\n",
    "$$dv_t = -\\lambda(v_t-\\bar{v}) dt + n \\sqrt{v_t}dW_t$$"
   ]
  },
  {
   "cell_type": "markdown",
   "metadata": {},
   "source": [
    "(a)  $$\\hat{v}(t) = E[v_t]$$\n",
    "$$\\dfrac{d\\hat{v}}{dt} = -\\lambda(\\hat{v} - \\bar{v})$$"
   ]
  },
  {
   "cell_type": "markdown",
   "metadata": {},
   "source": [
    "(b) $$v(T) = \\dfrac{1}{T} E[ \\int_0^T v_t dt] = \\dfrac{1}{T} (v_0 - \\bar{v}) \\dfrac{1-e^{-\\lambda T}}{\\lambda} + \\bar{v} T)$$"
   ]
  },
  {
   "cell_type": "markdown",
   "metadata": {},
   "source": [
    "(c)\n",
    "\\begin{align*}\n",
    "u(t) = E[S_t v_t]\\\\\n",
    "d(S_t v_t) = S_t dv_t + v_tdS_t + dS_tdv_t\n",
    "\\end{align*}\n",
    "\\begin{align*}\n",
    "\\dfrac{du}{dt} = -\\lambda(u - S_t \\bar{v}) + \\rho n u\\\\\n",
    "= -\\lambda' ( u- \\bar{u}') dt\n",
    "\\end{align*}\n",
    "\\begin{align*}\n",
    "\\lambda' = \\lambda - \\rho n\\\\\n",
    "\\bar{u}' = \\dfrac{\\lambda S_0 \\bar{v}}{\\lambda'}\n",
    "\\end{align*}\n"
   ]
  },
  {
   "cell_type": "markdown",
   "metadata": {},
   "source": [
    "(d)\\begin{align*}\n",
    "g(T) = \\dfrac{1}{T} E[ \\int_0^T\\dfrac{S_t}{S_0} v_t dt] \\\\\n",
    "= \\dfrac{1}{T}((v_0 -\\bar{v}') \\dfrac{1-e^{-\\lambda' T}}{\\lambda'} + \\bar{v}'), \\bar{v}' = \\dfrac{\\lambda \\bar{v}}{\\lambda'}\n",
    "\\end{align*}\n"
   ]
  },
  {
   "cell_type": "markdown",
   "metadata": {},
   "source": [
    "(f) $$\\rho = 0,  h = g- v= 0$$\n",
    "\n",
    "$$L(T) = \\dfrac{1}{S_0} \\int^T_0 Cov[S_t, v_t] dt $$\n",
    "\\begin{align*}\n",
    "Cov(S_t,v_t) = E[S_t v_t] - E[S_t] E[v_T]\\\\\n",
    "L(T) = E[\\int_0^T \\dfrac{S_t}{S_0} v_t dt] -\\int_0^T E[v_t] dt\\\\\n",
    "G(T) - V(T)\n",
    "\\end{align*}"
   ]
  },
  {
   "cell_type": "code",
   "execution_count": null,
   "metadata": {
    "collapsed": true
   },
   "outputs": [],
   "source": []
  }
 ],
 "metadata": {
  "kernelspec": {
   "display_name": "Python 3",
   "language": "python",
   "name": "python3"
  },
  "language_info": {
   "codemirror_mode": {
    "name": "ipython",
    "version": 3
   },
   "file_extension": ".py",
   "mimetype": "text/x-python",
   "name": "python",
   "nbconvert_exporter": "python",
   "pygments_lexer": "ipython3",
   "version": "3.7.4"
  },
  "latex_envs": {
   "LaTeX_envs_menu_present": true,
   "autoclose": false,
   "autocomplete": false,
   "bibliofile": "biblio.bib",
   "cite_by": "apalike",
   "current_citInitial": 1,
   "eqLabelWithNumbers": false,
   "eqNumInitial": 1,
   "hotkeys": {
    "equation": "Ctrl-E",
    "itemize": "Ctrl-I"
   },
   "labels_anchors": false,
   "latex_user_defs": false,
   "report_style_numbering": false,
   "user_envs_cfg": false
  },
  "varInspector": {
   "cols": {
    "lenName": 16,
    "lenType": 16,
    "lenVar": 40
   },
   "kernels_config": {
    "python": {
     "delete_cmd_postfix": "",
     "delete_cmd_prefix": "del ",
     "library": "var_list.py",
     "varRefreshCmd": "print(var_dic_list())"
    },
    "r": {
     "delete_cmd_postfix": ") ",
     "delete_cmd_prefix": "rm(",
     "library": "var_list.r",
     "varRefreshCmd": "cat(var_dic_list()) "
    }
   },
   "types_to_exclude": [
    "module",
    "function",
    "builtin_function_or_method",
    "instance",
    "_Feature"
   ],
   "window_display": false
  }
 },
 "nbformat": 4,
 "nbformat_minor": 1
}
