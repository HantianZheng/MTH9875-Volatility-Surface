{
 "cells": [
  {
   "cell_type": "markdown",
   "metadata": {},
   "source": [
    "# MTH9875 Homework 4\n",
    "\n",
    "## Chenyu Zhao\n",
    "\n",
    "### R version: 3.5.1\n",
    "\n",
    "Assigned: September 26, 2019.\n",
    "Due: October 10, 2019 by 6pm.\n",
    "\n",
    "Late homework **will not be accepted**.\n",
    "\n",
    "$$\n",
    "\\newcommand{\\supp}{\\mathrm{supp}}\n",
    "\\newcommand{\\E}{\\mathbb{E} }\n",
    "\\def\\Cov{{ \\mbox{Cov} }}\n",
    "\\def\\Var{{ \\mbox{Var} }}\n",
    "\\newcommand{\\1}{\\mathbf{1} }\n",
    "\\newcommand{\\PP}{\\mathbb{P} }\n",
    "%\\newcommand{\\Pr}{\\mathrm{Pr} }\n",
    "\\newcommand{\\QQ}{\\mathbb{Q} }\n",
    "\\newcommand{\\RR}{\\mathbb{R} }\n",
    "\\newcommand{\\DD}{\\mathbb{D} }\n",
    "\\newcommand{\\HH}{\\mathbb{H} }\n",
    "\\newcommand{\\spn}{\\mathrm{span} }\n",
    "\\newcommand{\\cov}{\\mathrm{cov} }\n",
    "\\newcommand{\\sgn}{\\mathrm{sgn} }\n",
    "\\newcommand{\\HS}{\\mathcal{L}_{\\mathrm{HS}} }\n",
    "%\\newcommand{\\HS}{\\mathrm{HS} }\n",
    "\\newcommand{\\trace}{\\mathrm{trace} }\n",
    "\\newcommand{\\LL}{\\mathcal{L} }\n",
    "%\\newcommand{\\LL}{\\mathrm{L} }\n",
    "\\newcommand{\\s}{\\mathcal{S} }\n",
    "\\newcommand{\\ee}{\\mathcal{E} }\n",
    "\\newcommand{\\ff}{\\mathcal{F} }\n",
    "\\newcommand{\\hh}{\\mathcal{H} }\n",
    "\\newcommand{\\bb}{\\mathcal{B} }\n",
    "\\newcommand{\\dd}{\\mathcal{D} }\n",
    "\\newcommand{\\g}{\\mathcal{G} }\n",
    "\\newcommand{\\p}{\\partial}\n",
    "\\newcommand{\\half}{\\frac{1}{2} }\n",
    "\\newcommand{\\T}{\\mathcal{T} }\n",
    "\\newcommand{\\bi}{\\begin{itemize}}\n",
    "\\newcommand{\\ei}{\\end{itemize}}\n",
    "\\newcommand{\\beq}{\\begin{equation}}\n",
    "\\newcommand{\\eeq}{\\end{equation}}\n",
    "\\newcommand{\\beas}{\\begin{eqnarray*}}\n",
    "\\newcommand{\\eeas}{\\end{eqnarray*}}\n",
    "\\newcommand{\\cO}{\\mathcal{O}}\n",
    "\\newcommand{\\cF}{\\mathcal{F}}\n",
    "\\newcommand{\\cL}{\\mathcal{L}}\n",
    "$$"
   ]
  },
  {
   "cell_type": "markdown",
   "metadata": {},
   "source": [
    "<font color = \"red\">Homework is to be done by each student individually.  To receive full credit, you must email a completed copy of this iPython notebook to Allen Chen (allen.long.chen@gmail.com), Yassine Ghalem (yassine.ghalem@gmail.com) and Jim Gatheral (jim.gatheral@gmail.com) by the due date and time.  All R-code must run correctly and solutions must be written up neatly in Markdown/LaTeX format."
   ]
  },
  {
   "cell_type": "markdown",
   "metadata": {},
   "source": [
    "### Load some useful R-code\n",
    "\n",
    "The following code sources *BlackScholes.R* which has the Black-Scholes formula and implied volatility computation and *Heston.R* which has in particular the *impvolHeston* function."
   ]
  },
  {
   "cell_type": "code",
   "execution_count": 1,
   "metadata": {
    "ExecuteTime": {
     "end_time": "2019-10-04T14:53:07.341925Z",
     "start_time": "2019-10-04T14:53:05.973Z"
    },
    "collapsed": true
   },
   "outputs": [],
   "source": [
    "download.file(url=\"http://mfe.baruch.cuny.edu/wp-content/uploads/2019/09/9875-3.zip\", destfile=\"9875-3.zip\")\n",
    "unzip(zipfile=\"9875-3.zip\")"
   ]
  },
  {
   "cell_type": "code",
   "execution_count": 1,
   "metadata": {
    "ExecuteTime": {
     "end_time": "2019-10-04T14:53:07.408735Z",
     "start_time": "2019-10-04T14:53:05.976Z"
    }
   },
   "outputs": [],
   "source": [
    "source(\"BlackScholes.R\")\n",
    "source(\"Lewis.R\")\n",
    "source(\"Heston.R\")"
   ]
  },
  {
   "cell_type": "markdown",
   "metadata": {},
   "source": [
    "## Weak convergence of the Euler scheme"
   ]
  },
  {
   "cell_type": "markdown",
   "metadata": {},
   "source": [
    "#### 1. (8 points) \n",
    "\n",
    "(a)  Denote the Euler discretization of the Heston variance process by $\\hat v$ and let $\n",
    "\\Delta \\hat v_t = \\hat v_{t+\\Delta}- \\hat v_t\n",
    "$.  Derive formal expressions for $\\E[\\Delta \\hat v_t|v_t]$ and $\\Var[\\Delta \\hat v_t|v_t]$ (ignore the negative variance issue).  \n",
    " \n",
    "\n",
    "(b) Write down exact expressions for $\\E[v_{t+\\Delta}|v_t]$ and $\\Var[v_{t+\\Delta}|v_t]$ from Lecture 3.  Expand these in a power series to second order in $\\Delta$.\n",
    "\n",
    "(c) Using your results from (a) and (b), compute expressions for the discretization errors in expectation and variance to second order in $\\Delta$.  Verify that the Euler discretization scheme has an $\\cO(\\Delta^2)$ bias, consistent with order one weak convergence. \n",
    "\n",
    "Tip: Use Mathematica or Wolfram Alpha. "
   ]
  },
  {
   "cell_type": "markdown",
   "metadata": {},
   "source": [
    "### Answer\n",
    "\n",
    "(a) \n",
    "\n",
    "$$\n",
    "\\Delta \\hat{v}_t = - \\lambda\\Delta\\left(v_t-\\bar v\\right)+\\eta\\sqrt{\\Delta}\\sqrt{v_t}Z.\n",
    "$$\n",
    "\n",
    "therefore,\n",
    "\n",
    "$$\n",
    "\\E[\\Delta \\hat v_t|v_t] = - \\lambda\\Delta\\left(v_t-\\bar v\\right)\n",
    "$$\n",
    "\n",
    "$$\n",
    "\\Var[\\Delta \\hat v_t|v_t]=\\eta^2\\Delta v_t\n",
    "$$"
   ]
  },
  {
   "cell_type": "markdown",
   "metadata": {},
   "source": [
    "(b) \n",
    "\n",
    "In lecture 3,\n",
    "\n",
    "\n",
    "$$\n",
    "\\E[\\Delta v_t|v_t] = \\xi_t(t+\\Delta) - v_t = (v_t-\\bar v)( e^{-\\lambda\\Delta} - 1)= -(v_t-\\bar v)\\left(\\lambda \\Delta - \\frac{1}{2}\\lambda^2\\Delta^2+\\cO(\\Delta^3)\\right) \n",
    "$$\n",
    "\n",
    "$$\n",
    "\\Var[\\Delta v_t|v_t]  = \\eta^2v_t\\frac{1-e^{-2\\lambda\\Delta}}{2\\lambda} = \\eta^2 v_t \\left( \\Delta - \\lambda \\Delta^2 + \\cO(\\Delta^3)\\right)\n",
    "$$"
   ]
  },
  {
   "cell_type": "markdown",
   "metadata": {},
   "source": [
    "therefore\n",
    "\n",
    "$$\n",
    "\\E[v_{t+\\Delta}|v_t] = v_t + \\E[\\Delta v_t|v_t] = v_t -(v_t-\\bar v)\\left(\\lambda \\Delta - \\frac{1}{2}\\lambda^2\\Delta^2+\\cO(\\Delta^3)\\right) \n",
    "$$\n",
    "\n",
    "$$\n",
    "\\Var[v_{t+\\Delta}|v_t] = \\Var[\\Delta v_t|v_t] = \\eta^2 v_t \\left( \\Delta - \\lambda \\Delta^2 + \\cO(\\Delta^3)\\right)\n",
    "$$"
   ]
  },
  {
   "cell_type": "markdown",
   "metadata": {},
   "source": [
    "(c)\n",
    "\n",
    "$$\n",
    " \\E[\\Delta v_t|v_t]\\approx \\E[\\Delta \\hat v_t|v_t] + \\frac{1}{2}\\lambda^2(v_t-\\bar v)\\Delta^2\n",
    "$$\n",
    "\n",
    "so the discretization errors in expectation is \n",
    "\n",
    "$$\n",
    "\\E[\\Delta v_t|v_t] - \\E[\\Delta \\hat v_t|v_t] \\approx \\frac{1}{2}\\lambda^2(v_t-\\bar v)\\Delta^2\n",
    "$$\n",
    "\n",
    "And for\n",
    "$$\n",
    "\\Var [\\Delta v_t|v_t]  \\approx \\Var[\\Delta \\hat v_t|v_t] -\\lambda\\eta^2 v_t \\Delta^2\n",
    "$$\n",
    "\n",
    "so the discretization errors in variance is  \n",
    "\n",
    "$$\n",
    "\\Var [\\Delta v_t|v_t] - \\Var[\\Delta \\hat v_t|v_t] \\approx -\\lambda\\eta^2 v_t \\Delta^2\n",
    "$$\n",
    "\n",
    "\n",
    "These errors are second order and are consistent with order one weak convergence."
   ]
  },
  {
   "cell_type": "markdown",
   "metadata": {},
   "source": [
    "## The exponential martingale"
   ]
  },
  {
   "cell_type": "markdown",
   "metadata": {},
   "source": [
    "#### 2. (6 points)\n",
    "\n",
    "\n",
    "If $B_t$ is Brownian motion, show that\n",
    "\n",
    "$$\n",
    "X_t=e^{\\int_0^t \\sigma_s\\,dB_s-\\frac12\\,\\int_0^t\\,\\sigma_s^2\\,ds}\n",
    "$$\n",
    "\n",
    "is a martingale. (Hint:  Apply Itô's Lemma to $e^Y$ where $Y=\\log X$.)\n",
    "\n",
    "Deduce that\n",
    "\n",
    "$$\n",
    "e^{\\frac12\\,\\alpha^2\\,t}=\\E\\left[e^{\\alpha\\,\\sqrt{t}\\,Z}\\right]\n",
    "%\\label{eq:expmartingale}\n",
    "$$\n",
    "\n",
    "where $Z \\sim N(0,1)$.  Is this last equation still true if $\\alpha$ is a matrix?  Why?"
   ]
  },
  {
   "cell_type": "markdown",
   "metadata": {},
   "source": [
    "### Answer\n",
    "\n",
    "$$\n",
    "de^Y = e^Y dY+\\frac12 e^Yd[Y,Y]\n",
    "$$\n",
    "\n",
    "therefore\n",
    "$$\n",
    "dX_t = X_t(\\sigma_t dB_t-\\frac12 \\sigma_t^2dt) +\\frac12 X_t \\sigma_t^2dt = \\sigma_tX_tdB_t\n",
    "$$\n",
    "\n",
    "Because $dX_t$ has no drift term, so it is a martingale.\n",
    "\n",
    "Let $\\sigma_t = \\alpha$, we have $X_t=e^{ \\alpha B_t-\\frac12 \\alpha^2 t}$ is a martingale. So we have \n",
    "\n",
    "$$\n",
    "E[X_t] = X_0 = 0 =\\E\\left[e^{\\alpha B_t}\\right] - e^{\\frac12\\,\\alpha^2\\,t}\n",
    "$$\n",
    "\n",
    "Because $B_t = \\sqrt{t} Z$, we have\n",
    "\n",
    "$$\n",
    "e^{\\frac12\\,\\alpha^2\\,t}=\\E\\left[e^{\\alpha\\,\\sqrt{t}\\,Z}\\right]\n",
    "%\\label{eq:expmartingale}\n",
    "$$\n"
   ]
  },
  {
   "cell_type": "markdown",
   "metadata": {},
   "source": [
    "If $\\alpha$ is a matrix, we can apply Taylor expansion to RHS and use the fact that $E[Z] = 1$ and $E[Z^２]=1$, to get this formula is still true.\n",
    "\n",
    "$$\n",
    "\\E\\left[e^{\\alpha\\,\\sqrt{t}\\,Z}\\right] = \\E\\left[1+\\alpha\\,\\sqrt{t}\\,Z + \\frac12\\alpha^2tZ^2+\\dots \\right] = 1+\\frac12\\alpha^2tZ^2+\\dots=e^{\\frac12\\,\\alpha^2\\,t}\n",
    "$$"
   ]
  },
  {
   "cell_type": "markdown",
   "metadata": {},
   "source": [
    "## Strang splitting"
   ]
  },
  {
   "cell_type": "markdown",
   "metadata": {},
   "source": [
    "#### 3. (4 points) \n",
    "\n",
    "If $A$ and $B$ are (in general non-commutative) matrices, show that\n",
    "\n",
    "$$\n",
    "e^{(A+B)\\,\\Delta}=e^{A\\,\\Delta/2}\\,e^{B\\,\\Delta}\\,e^{A\\,\\Delta/2} + \\cO(\\Delta^3).\n",
    "$$"
   ]
  },
  {
   "cell_type": "markdown",
   "metadata": {},
   "source": [
    "### Answer\n",
    "\n",
    "Apply Taylor expansion to LHS\n",
    "$$\n",
    "e^{(A+B)\\Delta}=1+(A+B)\\Delta+\\frac12(A+B)^2\\Delta^2+\\cO(\\Delta^3)\n",
    "$$\n",
    "\n",
    "Apply Taylor expansion to each term on RHS and ignore the high order term\n",
    "$$\n",
    "e^{A\\Delta/2}e^{B\\Delta}e^{A\\Delta/2} = \\left[1+\\frac{1}{2}A\\Delta+\\frac{1}{8}A^2\\Delta^2+\\cO(\\Delta^3)\\right]\\left[1+B\\Delta+\\frac{1}{2}B^2\\Delta^2+\\cO(\\Delta^3)\\right]\\left[1+\\frac{1}{2}A\\Delta+\\frac{1}{8}A^2\\Delta^2+\\cO(\\Delta^3)\\right]\n",
    "= 1+(A+B)\\Delta+\\frac{1}{2}(A^2+B^2+AB+BA)\\Delta^2+\\cO(\\Delta^3)\n",
    "= 1+(A+B)\\Delta+\\frac{1}{2}(A+B)^2\\Delta^2+\\cO(\\Delta^3)\n",
    "$$\n",
    "\n",
    "They are identical, so we have\n",
    "$$\n",
    "e^{(A+B)\\Delta}=e^{A\\Delta/2}e^{B\\Delta}e^{A\\Delta/2}+\\cO(\\Delta^3)\n",
    "$$"
   ]
  },
  {
   "cell_type": "markdown",
   "metadata": {},
   "source": [
    "## Ninomiya-Victoir"
   ]
  },
  {
   "cell_type": "markdown",
   "metadata": {},
   "source": [
    "#### 4. (16 points)\n",
    "\n",
    "Consider the following variance  process:\n",
    "\n",
    "<a name=\"eq:varProcess\"></a>(1)\n",
    "$$\n",
    "dv_t = -\\lambda\\,(v_t-\\bar v)\\,dt+\\xi\\,v_t\\,dZ_t.\n",
    "%\\label{eq:vProcess}\n",
    "$$\n",
    "\n",
    "(a)\n",
    "Let $f(v,t)=\\E[g(v_T)|\\cF_t]$ be the fair value at time $t$ of some claim on $v_T$.  Apply Itô's Lemma to $f$ to find the infinitesimal generator $ \\cL$ of the diffusion such that \n",
    "\n",
    "$$\n",
    "\\frac{df}{dt}+ \\cL f=0.\n",
    "$$\n",
    "\n",
    "(b)\n",
    "Find first order differential operators $ V_0$ and $V_1$ such that\n",
    "\n",
    "$$\n",
    " \\cL= V_0+\\frac12\\,V_1^2.\n",
    "$$\n",
    "\n",
    "(c)  Solve the ODEs \n",
    "\n",
    "$$\n",
    " \\frac{d }{dt} v(t) = V_0 v(t) \\text{ and }  \\frac{d }{dt} v(t) = V_1 v(t)\n",
    "$$\n",
    "\n",
    "with boundary condition $v(0)=v_0$.\n",
    "\n",
    "(d)\n",
    "Deduce the form of the Ninomiya-Victoir Monte Carlo time step for the variance process [(1)](#eq:varProcess) over some small time interval from $t$ to $t+\\Delta$."
   ]
  },
  {
   "cell_type": "markdown",
   "metadata": {},
   "source": [
    "### Answer\n",
    "\n",
    "(a)\n",
    "\n",
    "\\begin{eqnarray}\n",
    "df &=& f_t dt+f_vdv+\\frac12f_{vv}d[v,v]\\\\\n",
    "&=&f_tdt -\\lambda(v_t-\\bar v)f_v dt+\\xi v_tf_vdZ_t+\\frac12 f_{vv}\\xi^2 v_t^2 dt\n",
    "\\end{eqnarray}\n",
    "\n",
    "Becuase $f$ is a martingale, so drift term is 0. \n",
    "\n",
    "$$\n",
    "f_t -\\lambda(v_t-\\bar v)f_v+\\frac12 f_{vv}\\xi^2 v_t^2 = 0\n",
    "$$\n",
    "\n",
    "therefore,\n",
    "\n",
    "$$\n",
    "\\cL = -\\lambda(v-\\bar v)\\frac{\\partial}{\\partial v}+\\frac12 \\xi^2 v^2\\frac{\\partial^2}{\\partial v^2}\n",
    "$$"
   ]
  },
  {
   "cell_type": "markdown",
   "metadata": {},
   "source": [
    "(b) \n",
    "\n",
    "let $V_1 = \\xi v\\frac{\\partial}{\\partial v}$, so\n",
    "\n",
    "$$\n",
    "V_1^2 =\\xi^2 v\\frac{\\partial}{\\partial v}\\left(v\\frac{\\partial}{\\partial v} \\right)= \\xi^2 v^2  \\frac{\\partial^2}{\\partial v^2}+\\xi^2 v \\frac{\\partial}{\\partial v}\n",
    "$$\n",
    "\n",
    "so $V_0 = \\cL - \\frac12 V_1^2 = -\\lambda(v-\\bar v )\\frac{\\partial}{\\partial v}-\\frac12 \\xi^2v \\frac{\\partial}{\\partial v}$"
   ]
  },
  {
   "cell_type": "markdown",
   "metadata": {},
   "source": [
    "(c)\n",
    "\n",
    "For the first ODE,\n",
    "\n",
    "$$\n",
    "\\frac{d }{dt} v(t) = V_0 v(t) = -\\lambda(v-\\bar v)-\\frac12 \\xi^2 v\n",
    "$$\n",
    "\n",
    "solve and we get\n",
    "\n",
    "$$\n",
    "v(t)=\\left(v_0-\\frac{\\lambda \\bar v}{\\lambda+\\frac{1}{2}\\xi^2}\\right)e^{\\left(-\\lambda-\\frac{1}{2}\\xi^2\\right)t}+\\frac{\\lambda \\bar v}{\\lambda+\\frac{1}{2}\\xi^2}\n",
    "$$"
   ]
  },
  {
   "cell_type": "markdown",
   "metadata": {},
   "source": [
    "For the second ODE, \n",
    "\n",
    "$$\n",
    "\\frac{d }{dt} v(t) = V_1 v(t) = \\xi v \n",
    "$$\n",
    "\n",
    "solve and we get\n",
    "\n",
    "$$\n",
    "v(t) = e^{\\xi t}v_0\n",
    "$$"
   ]
  },
  {
   "cell_type": "markdown",
   "metadata": {},
   "source": [
    "(d)\n",
    "\n",
    "To make notation simple, let $\\bar v' = \\frac{\\lambda \\bar v}{\\lambda+\\frac{1}{2}\\xi^2}$\n",
    "\\begin{eqnarray}\n",
    "v(t+\\Delta)&=&e^{V_0\\Delta+V_1\\sqrt{\\Delta}Z}v(t)\\\\\n",
    "&=& e^{V_0\\Delta/2}e^{V_1\\sqrt{\\Delta}Z}e^{V_0\\Delta/2}v(t)\\\\\n",
    "&=&e^{V_0\\Delta/2}e^{\\xi\\sqrt{\\Delta}Z}\\left[(v(t)-\\bar v')e^{\\left(-\\lambda-\\frac{1}{2}\\xi^2\\right)\\Delta/2}+\\bar v'\\right]\\\\\n",
    "&=&\\left(e^{\\xi\\sqrt{\\Delta}Z}\\left[(v(t)-\\bar v')e^{\\left(-\\lambda-\\frac{1}{2}\\xi^2\\right)\\Delta/2}+\\bar v'\\right]-\\bar v'\\right)e^{\\left(-\\lambda-\\frac{1}{2}\\xi^2\\right)\\Delta/2}+\\bar v'\n",
    "\\end{eqnarray}"
   ]
  },
  {
   "cell_type": "markdown",
   "metadata": {},
   "source": [
    "## Amend the Monte Carlo code and generate samples"
   ]
  },
  {
   "cell_type": "markdown",
   "metadata": {},
   "source": [
    "First we need to load libraries."
   ]
  },
  {
   "cell_type": "code",
   "execution_count": 2,
   "metadata": {
    "ExecuteTime": {
     "end_time": "2019-10-04T14:53:07.424596Z",
     "start_time": "2019-10-04T14:53:06.181Z"
    }
   },
   "outputs": [],
   "source": [
    "library(repr)\n",
    "options(repr.plot.height=5)"
   ]
  },
  {
   "cell_type": "markdown",
   "metadata": {},
   "source": [
    "#### 5. (20 points) \n",
    "\n",
    "(a)\n",
    "\n",
    "Amend the Monte Carlo code (`HestonMC2`) from Lecture 4 to return vectors of $x_T=\\log S_T/S_0$ and instantaneous variance $v_T$ with $T = 1$ year.\n",
    "\n",
    "(b)\n",
    "\n",
    "Run this amended routine with BCC parameters,  $N=1,000,000$, $m=8$ (16 steps), `evolve=evolveAlfonsiF` .  Save the results so you can reuse these samples of $x$ and $v$. (This takes around 7 seconds on my machine).\n",
    "\n",
    "(c)\n",
    "\n",
    "Plot the Heston implied volatility smile from the quasi-closed-form Heston formula.  Superimpose the Monte Carlo (MC) smile to reproduce something like Figure 10 in Lecture 4.\n",
    "\n",
    "(d)\n",
    "\n",
    "Using your MC samples of $x_T$ and $v_T$, numerically estimate the local volatility function\n",
    "\n",
    "$$\n",
    "v_\\ell(x,1)=\\E[v_1|x_1=x]\n",
    "$$\n",
    "\n",
    "and plot $v_\\ell(x,1)$ as a function of $x$.  (Tip: I recommend binning the data rather than running *e.g.* kernel regression.)\n",
    "\n",
    "(e)\n",
    "\n",
    "Superimpose the Heston implied variance smile from part (c) on your local variance smile from part (d) to reproduce something like Figure 11 of Lecture 4.  \n",
    "\n",
    "(f)\n",
    "Comment on the qualitative features of the implied volatility and local volatility smiles."
   ]
  },
  {
   "cell_type": "markdown",
   "metadata": {},
   "source": [
    "### Answer \n",
    "\n",
    "(a)"
   ]
  },
  {
   "cell_type": "code",
   "execution_count": 3,
   "metadata": {
    "ExecuteTime": {
     "end_time": "2019-10-04T14:53:07.440336Z",
     "start_time": "2019-10-04T14:53:06.200Z"
    }
   },
   "outputs": [],
   "source": [
    "HestonMC2 <- function(params){\n",
    "    \n",
    "    is.even <- function(j){as.logical((j+1) %% 2)}\n",
    "    \n",
    "    res <- function(S0, T, AK, N, m, evolve,exactVols=NULL)\n",
    "    {\n",
    "  \n",
    "    lambda <<- params$lambda;\n",
    "    rho <<- params$rho;\n",
    "    eta <<- params$eta;\n",
    "    vbar <<- params$vbar;\n",
    "    v0 <<- params$v;\n",
    "  \n",
    "    n <- m*2; #n is number of timesteps = 2*m so we can use Romberg extrapolation\n",
    "    sqrt2 <- sqrt(2);\n",
    "    rho2m1 <<- sqrt(1-rho*rho);\n",
    "    vbarp <<- vbar - eta^2/(4*lambda);\n",
    "    \n",
    "    negCount <- 0;\n",
    "    \n",
    "    # We use a vertical array, one element per M.C. path\n",
    "    x <- rep(0,N); v <- rep(1,N)*v0;\n",
    "    xm <- x; vm <- v;\n",
    "    W1m <- rep(0,N); W2m <- rep(0,N); \n",
    "  \n",
    "    # Loop for bias computation (N small, n big)\n",
    "    for (i in 1:n)\n",
    "    {\n",
    "        # Two sets of correlated normal random vars.\n",
    "        \n",
    "        W1 <- rnorm(N);\n",
    "        W2 <- rnorm(N);\n",
    "        W1 <- W1 - mean(W1); W1 <- W1/sd(W1);\n",
    "        W2 <- W2 - mean(W2); W2 <- W2/sd(W2);\n",
    "        # Now W1 and W2 are forced to have mean=0 and sd=1\n",
    "        \n",
    "        W2p <- W2 - cor(W1,W2)*W1; # Eliminate actual correlation\n",
    "        W2p <- W2p - mean(W2p); W2 <- W2p/sd(W2p); \n",
    "        # Now W1 and W2 have mean=0, sd=1 and correlation=0\n",
    "        \n",
    "        L <- rbinom(N, size=1, prob=1/2); # Bernoulli rv for NV step\n",
    "    \n",
    "        # Add code for subgrid\n",
    "        W1m <- W1m + W1/sqrt2; W2m <- W2m + W2/sqrt2; # N(0,1) rv's for subgrid\n",
    "       \n",
    "        if (is.even(i)) {\n",
    "            #print(c(i,mean(W1m),mean(W2m),sd(W1m),sd(W2m),cor(W1m,W2m)));\n",
    "            resm <- evolve(vm,xm,T/m,W1m,W2m,L);\n",
    "            xm <- resm[,1];\n",
    "            vm <- resm[,2];\n",
    "            W1m <- rep(0,N); W2m <- rep(0,N);\n",
    "        }\n",
    "    \n",
    "        res <- evolve(v,x,T/n,W1,W2,L);\n",
    "        x <- res[,1];\n",
    "        v <- res[,2];\n",
    "        negCount <- negCount +mean(v<0)/n; #Probability of negative variance per path per timestep\n",
    "    \n",
    "  }\n",
    "\n",
    "    S <- S0*exp(x);\n",
    "    Sm <- S0*exp(xm);\n",
    "\n",
    "    # Now we have three vectors of final stock prices\n",
    "  \n",
    "    M <- length(AK);\n",
    "    AV <- numeric(M); AVdev <- numeric(M);\n",
    "    BSV <- numeric(M); BSVH <- numeric(M); BSVL <- numeric(M);\n",
    "    iv2SD <- numeric(M); bias <- numeric(M);\n",
    "    AVm <- numeric(M); AVmdev <- numeric(M);\n",
    "    BSVm <- numeric(M); BSVHm <- numeric(M); BSVLm <- numeric(M);\n",
    "    iv2SDm <- numeric(M);\n",
    "    AV1 <- numeric(M); AV1dev <- numeric(M);\n",
    "    BSV1 <- numeric(M); BSVH1 <- numeric(M); BSVL1 <- numeric(M);\n",
    "    iv2SDrom <- numeric(M);biasRom <- numeric(M);\n",
    "  \n",
    "  # Evaluate mean call value for each path\n",
    "  for (i in 1:M)\n",
    "  {\n",
    "    # 2*m timesteps\n",
    "    K <- AK[i];\n",
    "    V <- (S>K)*(S - K); # Boundary condition for European call\n",
    "    AV[i] <- mean(V);\n",
    "    AVdev[i] <- sqrt(var(V)/length(V));  \n",
    "    \n",
    "    BSV[i] <- BSImpliedVolCall(S0, K, T, 0, AV[i]);\n",
    "    BSVL[i] <- BSImpliedVolCall(S0, K, T, 0, AV[i] - AVdev[i]);\n",
    "    BSVH[i] <- BSImpliedVolCall(S0, K, T, 0, AV[i] + AVdev[i]);\n",
    "    iv2SD[i] <- (BSVH[i]-BSVL[i]);\n",
    "    \n",
    "    # m timesteps\n",
    "    Vm <- (Sm>K)*(Sm - K); # Boundary condition for European call\n",
    "    AVm[i] <- mean(Vm);\n",
    "    AVmdev[i] <- sd(Vm) / sqrt(N);\n",
    "    BSVm[i] <- BSImpliedVolCall(S0, K, T, 0, AVm[i]);\n",
    "    BSVLm[i] <- BSImpliedVolCall(S0, K, T, 0, AVm[i] - AVmdev[i]);\n",
    "    BSVHm[i] <- BSImpliedVolCall(S0, K, T, 0, AVm[i] + AVmdev[i]);\n",
    "    iv2SDm[i] <- (BSVH[i]-BSVL[i]);\n",
    "    \n",
    "    # Richardson extrapolation estimates \n",
    "    V1 <- 2*V - Vm;\n",
    "    AV1[i] <- mean(V1);\n",
    "    AV1dev[i] <- sd(V1) / sqrt(N);\n",
    "    BSV1[i] <- BSImpliedVolCall(S0, K, T, 0, AV1[i]);\n",
    "    BSVL1[i] <- BSImpliedVolCall(S0, K, T, 0, AV1[i] - AV1dev[i]);\n",
    "    BSVH1[i] <- BSImpliedVolCall(S0, K, T, 0, AV1[i] + AV1dev[i]);\n",
    "    iv2SDrom[i] <- (BSVH1[i]-BSVL1[i]);\n",
    "    \n",
    "    if(!is.null(exactVols)) {bias <- BSV-exactVols};\n",
    "    if(!is.null(exactVols)) {biasRom <- BSV1-exactVols};\n",
    "  }\n",
    "  \n",
    "  \n",
    "  l.AK <- length(AK)      \n",
    "  data.out <- data.frame(AK,rep(N,l.AK),rep(2*m,l.AK),BSV,bias,iv2SD,BSVm,BSV1,biasRom,iv2SDrom) \n",
    "  names(data.out) <- c(\"Strikes\",\"Paths\",\"Steps\",\"ivol\",\"bias\",\"twoSd\",\"ivolm\", \"ivolRichardson\", \"biasRichardson\",\"twoSdRichardson\") \n",
    "  results <- list(\"impliedVol\"=data.out,\"x\"=x,\"v\"=v)\n",
    "  return(results) \n",
    "}\n",
    "return(res)\n",
    "}"
   ]
  },
  {
   "cell_type": "markdown",
   "metadata": {},
   "source": [
    "(b)"
   ]
  },
  {
   "cell_type": "code",
   "execution_count": 4,
   "metadata": {
    "ExecuteTime": {
     "end_time": "2019-10-04T14:53:07.459012Z",
     "start_time": "2019-10-04T14:53:06.207Z"
    }
   },
   "outputs": [],
   "source": [
    "evolveAlfonsiF <- function(v,x,dt,W1,W2,L=NULL){\n",
    "\n",
    "    eldt2 <- exp(-lambda*dt/2);\n",
    "\n",
    "    #Variance process\n",
    "    vbarp <- vbar - eta^2/(4*lambda);\n",
    "    psi <- (1-eldt2)/lambda;\n",
    "    v1 <- v*eldt2+lambda*vbarp*psi;\n",
    "    v2 <- (v1 > 0) * v1; # Take v2 = 0 if v1<0, else v2=v1\n",
    "    par <- sqrt(v2) + eta/2 * sqrt(dt)*W2;\n",
    "    vf <- eldt2*par*par +lambda*vbarp*psi + v1 - v2;\n",
    "\n",
    "    # Log-stock process (Andersen equation (33))\n",
    "    vvf <- (v+vf > 0) * (v+vf);\n",
    "    dw <- vvf/2*dt;\n",
    "    x <- x  - dw/2 + rho2m1*sqrt(dw)*W1 + rho/eta*(lambda*dw + vf-v -lambda*vbar*dt) ;\n",
    "    # Impose martingale constraint\n",
    "    x <- x - log(mean(exp(x)));\n",
    "    v <- vf;\n",
    "    return(cbind(x,v));\n",
    "}\n",
    "\n",
    "paramsBCC <- list(lambda = 1.15,rho = -0.64,eta = 0.39,vbar = 0.04,v = 0.04)"
   ]
  },
  {
   "cell_type": "code",
   "execution_count": 5,
   "metadata": {
    "ExecuteTime": {
     "end_time": "2019-10-04T14:53:07.564244Z",
     "start_time": "2019-10-04T14:53:06.209Z"
    }
   },
   "outputs": [],
   "source": [
    "impvolHeston <- function(K)\n",
    "{\n",
    "    impvol.phi(phiHeston(paramsBCC))(log(K), 1.0)\n",
    "}\n",
    "\n",
    "impvolHeston <- Vectorize(impvolHeston)\n",
    "\n",
    "Ks<-c(0.8,1.0,1.2)\n",
    "HestonVols <- sapply(Ks, impvolHeston)"
   ]
  },
  {
   "cell_type": "code",
   "execution_count": 6,
   "metadata": {
    "ExecuteTime": {
     "end_time": "2019-10-04T14:53:13.803431Z",
     "start_time": "2019-10-04T14:53:06.213Z"
    }
   },
   "outputs": [
    {
     "name": "stdout",
     "output_type": "stream",
     "text": [
      "  Strikes Paths Steps      ivol          bias        twoSd     ivolm\n",
      "1     0.8 1e+06    16 0.2289730 -2.271467e-05 0.0013878797 0.2288643\n",
      "2     1.0 1e+06    16 0.1817397  1.155262e-05 0.0004938545 0.1816400\n",
      "3     1.2 1e+06    16 0.1521745  1.266992e-04 0.0003566589 0.1521956\n",
      "  ivolRichardson biasRichardson twoSdRichardson\n",
      "1      0.2290817   8.593313e-05    0.0014110118\n",
      "2      0.1818394   1.112142e-04    0.0005073696\n",
      "3      0.1521533   1.055675e-04    0.0003723614\n"
     ]
    }
   ],
   "source": [
    "res <- HestonMC2(paramsBCC)(S0=1, T=1, AK=Ks, N=1000000, m=8, evolve=evolveAlfonsiF, exactVols=HestonVols)\n",
    "xMC <- res$x\n",
    "vMC <- res$v\n",
    "print(res$impliedVol)"
   ]
  },
  {
   "cell_type": "markdown",
   "metadata": {},
   "source": [
    "(c)"
   ]
  },
  {
   "cell_type": "code",
   "execution_count": 7,
   "metadata": {
    "ExecuteTime": {
     "end_time": "2019-10-04T14:53:13.814707Z",
     "start_time": "2019-10-04T14:53:06.220Z"
    }
   },
   "outputs": [],
   "source": [
    "impvolMC <- function(K)\n",
    "{\n",
    "    S <- exp(xMC);\n",
    "    V <- (S > K) * (S - K);\n",
    "    mean_V <- mean(V);\n",
    "    res <- BSImpliedVolCall(1, K, 1, 0, mean_V);\n",
    "    return (res)\n",
    "}"
   ]
  },
  {
   "cell_type": "code",
   "execution_count": 8,
   "metadata": {
    "ExecuteTime": {
     "end_time": "2019-10-04T14:53:14.254260Z",
     "start_time": "2019-10-04T14:53:06.224Z"
    }
   },
   "outputs": [],
   "source": [
    "Ks<-seq(0.5,1.5,0.05)\n",
    "impvol_MC<-sapply(Ks,impvolMC)\n",
    "impvol_heston<-sapply(Ks,impvolHeston)"
   ]
  },
  {
   "cell_type": "code",
   "execution_count": 9,
   "metadata": {
    "ExecuteTime": {
     "end_time": "2019-10-04T14:53:14.318989Z",
     "start_time": "2019-10-04T14:53:06.228Z"
    }
   },
   "outputs": [
    {
     "data": {
      "image/png": "[encoded data removed]",
      "text/plain": [
       "plot without title"
      ]
     },
     "metadata": {},
     "output_type": "display_data"
    }
   ],
   "source": [
    "plot(Ks,impvol_heston,type=\"l\", lty=1, col=\"blue\", xlab=\"Strike K\", ylab=\"Implied vol.\")\n",
    "lines(Ks,impvol_MC, col=\"red\", lty=2)"
   ]
  },
  {
   "cell_type": "markdown",
   "metadata": {},
   "source": [
    "(d)(e)"
   ]
  },
  {
   "cell_type": "code",
   "execution_count": 10,
   "metadata": {
    "ExecuteTime": {
     "end_time": "2019-10-04T14:53:14.345814Z",
     "start_time": "2019-10-04T14:53:06.237Z"
    }
   },
   "outputs": [],
   "source": [
    "xvMC<-cbind(xMC,vMC)\n",
    "xvMC<-data.frame(xvMC)\n",
    "colnames(xvMC)<-c(\"x_sample\",\"v_sample\")\n",
    "x_min<-min(xvMC[,\"x_sample\"])\n",
    "x_max<-max(xvMC[,\"x_sample\"])\n",
    "bins<-100\n",
    "itv<-(x_max-x_min)/bins"
   ]
  },
  {
   "cell_type": "code",
   "execution_count": 11,
   "metadata": {
    "ExecuteTime": {
     "end_time": "2019-10-04T14:53:14.357109Z",
     "start_time": "2019-10-04T14:53:06.239Z"
    }
   },
   "outputs": [],
   "source": [
    "localVar<-function(x)\n",
    "{\n",
    "    i<-floor((x-x_min)/itv)\n",
    "    xl<-x_min+i*itv\n",
    "    xh<-x_min+(i+1)*itv\n",
    "    xvMC.subset<-subset(xvMC,x_sample>=xl&x_sample<xh)\n",
    "    v_mean<-mean(xvMC.subset[,\"v_sample\"])\n",
    "    v_std<-sd(xvMC.subset[,\"v_sample\"])/sqrt(dim(xvMC.subset)[1])\n",
    "    return(cbind(v_mean,v_std))\n",
    "}"
   ]
  },
  {
   "cell_type": "code",
   "execution_count": 12,
   "metadata": {
    "ExecuteTime": {
     "end_time": "2019-10-04T14:53:16.233634Z",
     "start_time": "2019-10-04T14:53:06.242Z"
    }
   },
   "outputs": [
    {
     "data": {
      "image/png": "[encoded data removed]",
      "text/plain": [
       "plot without title"
      ]
     },
     "metadata": {},
     "output_type": "display_data"
    }
   ],
   "source": [
    "strike<-seq(-0.5,0.5,0.02)\n",
    "localVarList<-sapply(strike,localVar)\n",
    "impVarList<-sapply(strike,function(x){(impvolMC(exp(x)))^2})\n",
    "\n",
    "plot(strike,localVarList[1,],type=\"l\",col=\"black\",xlab=\"Log strike\",ylab=\"Implied Variance\")\n",
    "lines(strike,impVarList,col=\"blue\")\n",
    "\n",
    "# plot error bars\n",
    "ds<-0.001\n",
    "for(i in 1:length(strike)) {\n",
    "    high<-localVarList[1,i]+localVarList[2,i]\n",
    "    low<-localVarList[1,i]-localVarList[2,i]\n",
    "    segments(strike[i],low,strike[i],high)\n",
    "    segments(strike[i]-ds, high , strike[i]+ds, high)\n",
    "    segments(strike[i]-ds, low , strike[i]+ds, low)\n",
    "}"
   ]
  },
  {
   "cell_type": "markdown",
   "metadata": {},
   "source": [
    "(f)\n",
    "\n",
    "Implied variance is bigger than local variance when log strike is between 0 and 0.4, and for other value, the sign is inversed. This can be interpreted by BBF formula \n",
    "\n",
    "When $T=0$,\n",
    "\n",
    "$$\n",
    "\\frac{1}{\\sigma_{BS}(k)}=\\frac{1}{k}\\,\\int_0^k\\,\\frac{dy}{\\sigma(y,0)}\n",
    "$$\n",
    "\n",
    "Because $\\frac{1}{\\sigma(k,0)}$ decreases with $k$. For larger K, to make the equation holds, $\\frac{1}{\\sigma_{BS}(k)}$ is  bigger than $\\frac{1}{\\sigma(k,0)}$. Means $\\sigma_{BS}(k)<\\sigma(k,0)$ Also, for small $k\\approx 0$, $\\sigma_{BS}(k) > \\sigma(k,0)$."
   ]
  },
  {
   "cell_type": "markdown",
   "metadata": {},
   "source": [
    "<font color='red'>COMMENT: -1 pt. You can also comment on the skew behavior.</font>"
   ]
  }
 ],
 "metadata": {
  "kernelspec": {
   "display_name": "R",
   "language": "R",
   "name": "ir"
  },
  "language_info": {
   "codemirror_mode": "r",
   "file_extension": ".r",
   "mimetype": "text/x-r-source",
   "name": "R",
   "pygments_lexer": "r",
   "version": "3.5.1"
  },
  "latex_envs": {
   "LaTeX_envs_menu_present": true,
   "autoclose": false,
   "autocomplete": false,
   "bibliofile": "biblio.bib",
   "cite_by": "apalike",
   "current_citInitial": 1,
   "eqLabelWithNumbers": false,
   "eqNumInitial": 1,
   "hotkeys": {
    "equation": "Ctrl-E",
    "itemize": "Ctrl-I"
   },
   "labels_anchors": false,
   "latex_user_defs": false,
   "report_style_numbering": false,
   "user_envs_cfg": false
  },
  "varInspector": {
   "cols": {
    "lenName": 16,
    "lenType": 16,
    "lenVar": 40
   },
   "kernels_config": {
    "python": {
     "delete_cmd_postfix": "",
     "delete_cmd_prefix": "del ",
     "library": "var_list.py",
     "varRefreshCmd": "print(var_dic_list())"
    },
    "r": {
     "delete_cmd_postfix": ") ",
     "delete_cmd_prefix": "rm(",
     "library": "var_list.r",
     "varRefreshCmd": "cat(var_dic_list()) "
    }
   },
   "types_to_exclude": [
    "module",
    "function",
    "builtin_function_or_method",
    "instance",
    "_Feature"
   ],
   "window_display": false
  }
 },
 "nbformat": 4,
 "nbformat_minor": 1
}
