{
 "cells": [
  {
   "cell_type": "markdown",
   "metadata": {},
   "source": [
    "# MTH9875 Homework 11\n",
    "\n",
    "## Chenyu Zhao\n",
    "\n",
    "### R version: 3.5.1\n",
    "\n",
    "Assigned: November 14, 2019.\n",
    "Due: November 28, 2019 (yes, Thanksgiving Day!) by 6pm. \n",
    "\n",
    "Late homework **will not be accepted**."
   ]
  },
  {
   "cell_type": "markdown",
   "metadata": {},
   "source": [
    "<font color = \"red\">Homework is to be done by each student individually.  To receive full credit, you must email a completed copy of this iPython notebook to Allen Chen (allen.long.chen@gmail.com), Yassine Ghalem (yassine.ghalem@gmail.com) and Jim Gatheral (jim.gatheral@gmail.com) by the due date and time.  All R-code must run correctly and solutions must be written up neatly in Markdown/LaTeX format."
   ]
  },
  {
   "cell_type": "markdown",
   "metadata": {},
   "source": [
    "### 0. (0 points)\n",
    "\n",
    "Read Chapters 9 and 10 of The Volatility Surface"
   ]
  },
  {
   "cell_type": "markdown",
   "metadata": {},
   "source": [
    "## Comparing stochastic and local volatility pricing of lookback options\n",
    "\n",
    "$$\n",
    "\\newcommand{\\supp}{\\mathrm{supp}}\n",
    "\\newcommand{\\E}{\\mathbb{E} }\n",
    "\\def\\Cov{{ \\mbox{Cov} }}\n",
    "\\def\\Var{{ \\mbox{Var} }}\n",
    "\\newcommand{\\1}{\\mathbf{1} }\n",
    "\\newcommand{\\PP}{\\mathbb{P} }\n",
    "%\\newcommand{\\Pr}{\\mathrm{Pr} }\n",
    "\\newcommand{\\QQ}{\\mathbb{Q} }\n",
    "\\newcommand{\\RR}{\\mathbb{R} }\n",
    "\\newcommand{\\DD}{\\mathbb{D} }\n",
    "\\newcommand{\\HH}{\\mathbb{H} }\n",
    "\\newcommand{\\spn}{\\mathrm{span} }\n",
    "\\newcommand{\\cov}{\\mathrm{cov} }\n",
    "\\newcommand{\\sgn}{\\mathrm{sgn} }\n",
    "\\newcommand{\\HS}{\\mathcal{L}_{\\mathrm{HS}} }\n",
    "%\\newcommand{\\HS}{\\mathrm{HS} }\n",
    "\\newcommand{\\trace}{\\mathrm{trace} }\n",
    "\\newcommand{\\LL}{\\mathcal{L} }\n",
    "%\\newcommand{\\LL}{\\mathrm{L} }\n",
    "\\newcommand{\\s}{\\mathcal{S} }\n",
    "\\newcommand{\\ee}{\\mathcal{E} }\n",
    "\\newcommand{\\ff}{\\mathcal{F} }\n",
    "\\newcommand{\\hh}{\\mathcal{H} }\n",
    "\\newcommand{\\bb}{\\mathcal{B} }\n",
    "\\newcommand{\\dd}{\\mathcal{D} }\n",
    "\\newcommand{\\g}{\\mathcal{G} }\n",
    "\\newcommand{\\p}{\\partial}\n",
    "\\newcommand{\\half}{\\frac{1}{2} }\n",
    "\\newcommand{\\T}{\\mathcal{T} }\n",
    "\\newcommand{\\bi}{\\begin{itemize}}\n",
    "\\newcommand{\\ei}{\\end{itemize}}\n",
    "\\newcommand{\\beq}{\\begin{equation}}\n",
    "\\newcommand{\\eeq}{\\end{equation}}\n",
    "\\newcommand{\\beas}{\\begin{eqnarray*}}\n",
    "\\newcommand{\\eeas}{\\end{eqnarray*}}\n",
    "\\newcommand{\\cO}{\\mathcal{O}}\n",
    "\\newcommand{\\cF}{\\mathcal{F}}\n",
    "\\newcommand{\\cL}{\\mathcal{L}}\n",
    "$$\n",
    "\n"
   ]
  },
  {
   "cell_type": "markdown",
   "metadata": {},
   "source": [
    "In the following, a lookback call is defined to pay\n",
    "\n",
    "$$\n",
    "\\left(S_{\\text{max}}-K\\right)^+\n",
    "$$\n",
    "where $S_{\\text{max}}$ is the maximum and $K$ is the strike price."
   ]
  },
  {
   "cell_type": "markdown",
   "metadata": {},
   "source": [
    "### 1. (8 points)\n",
    "\n",
    "Use (for example) the stochastic volatility and local volatility Monte Carlo codes (`HestonMCxmax` and `HestonLvMCxmax` respectively) from Lecture 11 to price a one year at-the-money lookback call\n",
    "that is monitored once a day (assume 252 working days in a year).\n",
    "\n",
    "Use the usual HN parameters  - namely:\n",
    "\n",
    "\n",
    "\\begin{eqnarray*}\n",
    "v&=& 0.04\\\\ \\bar v &=& 0.04\\\\ \\lambda&=&10\\\\ \\eta&=&1\\\\\\rho&=&-1.\n",
    "\\end{eqnarray*}\n",
    "\n",
    "\n",
    "Use 252 time steps and 20,000 paths.  Do not use Richardson extrapolation."
   ]
  },
  {
   "cell_type": "markdown",
   "metadata": {},
   "source": [
    "### Answer"
   ]
  },
  {
   "cell_type": "code",
   "execution_count": 1,
   "metadata": {
    "ExecuteTime": {
     "end_time": "2019-11-18T20:50:32.027931Z",
     "start_time": "2019-11-18T20:50:31.994Z"
    },
    "code_folding": [
     2,
     84,
     164
    ]
   },
   "outputs": [],
   "source": [
    "params <- list(vbar = 0.04,v = 0.04, lambda = 10,eta = 1, rho = -1)\n",
    "\n",
    "HestonMCxmax <- function(params){\n",
    "\n",
    "  is.even <- function(j){as.logical((j+1) %% 2)}\n",
    "  \n",
    "  res <- function(S0, T, AK, N, m, evolve,exactVols=NULL)\n",
    "  {\n",
    "    \n",
    "    lambda <<- params$lambda \n",
    "    rho <<- params$rho \n",
    "    eta <<- params$eta \n",
    "    vbar <<- params$vbar \n",
    "    v0 <<- params$v \n",
    "    \n",
    "    n <- m*2  #n is number of timesteps = 2*m so we can use Romberg extrapolation\n",
    "    sqrt2 <- sqrt(2) \n",
    "    rho2m1 <<- sqrt(1-rho*rho) \n",
    "    vbarp <<- vbar - eta^2/(4*lambda) \n",
    "    \n",
    "    negCount <- 0 \n",
    "    \n",
    "    # We use a vertical array, one element per M.C. path\n",
    "    x <- numeric(N);  v <- rep(1,N)*v0  \n",
    "    xmax <- x \n",
    "    xm <- x  \n",
    "    vm <- v\n",
    "    xmaxm <- xmax \n",
    "    xmin <- numeric(N)  \n",
    "    xminm <- numeric(N) \n",
    "    W1m <- numeric(N) \n",
    "    W2m <- numeric(N)  \n",
    "    \n",
    "    # Loop for bias computation (N small, n big)\n",
    "    for (i in 1:n)\n",
    "    {\n",
    "      # Two sets of correlated normal random vars.\n",
    "      \n",
    "      W1 <- rnorm(N) \n",
    "      W2 <- rnorm(N) \n",
    "      W1 <- W1 - mean(W1)\n",
    "      W1 <- W1/sd(W1) \n",
    "      W2 <- W2 - mean(W2)\n",
    "      W2 <- W2/sd(W2) \n",
    "      # Now W1 and W2 are forced to have mean=0 and sd=1\n",
    "      \n",
    "      W2p <- W2 - cor(W1,W2)*W1  # Eliminate actual correlation\n",
    "      W2p <- W2p - mean(W2p)  \n",
    "      W2 <- W2p/sd(W2p)  \n",
    "      # Now W1 and W2 have mean=0, sd=1 and correlation=0\n",
    "      \n",
    "      L <- rbinom(N, size=1, prob=1/2)  # Bernoulli rv for NV step\n",
    "      \n",
    "      # Add code for subgrid\n",
    "      W1m <- W1m + W1/sqrt2\n",
    "      W2m <- W2m + W2/sqrt2  # N(0,1) rv's for subgrid\n",
    "      \n",
    "      if (is.even(i)) {\n",
    "        #print(c(i,mean(W1m),mean(W2m),sd(W1m),sd(W2m),cor(W1m,W2m))) \n",
    "        resm <- evolve(vm,xm,T/m,W1m,W2m,L) \n",
    "        xnewm <- resm[,1] \n",
    "        xmaxm <- (xnewm>xmaxm)*(xnewm-xmaxm)+xmaxm \n",
    "        xminm <- (xnewm<xminm)*(xnewm-xminm)+xminm \n",
    "        xm <- xnewm \n",
    "        vm <- resm[,2] \n",
    "        W1m <- numeric(N)  \n",
    "        W2m <- numeric(N) \n",
    "      }\n",
    "      \n",
    "      res <- evolve(v,x,T/n,W1,W2,L) \n",
    "      xnew <- res[,1] \n",
    "      xmax <- (xnew>xmax)*(xnew-xmax)+xmax \n",
    "      xmin <- (xnew<xmin)*(xnew-xmin)+xmin \n",
    "      x <- xnew \n",
    "      v <- res[,2] \n",
    "      \n",
    "    }\n",
    "    \n",
    "    return(data.frame(x,xm,v,vm,xmax,xmaxm,xmin,xminm)) \n",
    "    \n",
    "  }\n",
    "  return(res) \n",
    "}\n",
    "\n",
    "HestonLvMCxmax <- function(params){\n",
    "\n",
    "  is.even <- function(j){as.logical((j+1) %% 2)}\n",
    "  \n",
    "  res <- function(S0, T, N, m)\n",
    "  {\n",
    "    \n",
    "    lambda <- params$lambda;\n",
    "    rho <- params$rho;\n",
    "    eta <- params$eta;\n",
    "    vbar <- params$vbar;\n",
    "    v0 <- params$v;\n",
    "    \n",
    "    lambdap <- lambda+eta/2;\n",
    "    vbarp <- vbar*lambda/lambdap;\n",
    "    \n",
    "    n <- m*2;\n",
    "    dt <- T/n;\n",
    "    dtm <- dt*2;\n",
    "    \n",
    "    sqrtdt <- sqrt(dt);\n",
    "    sqrtdtm <- sqrt(dtm);\n",
    "    sqrt2 <- sqrt(2);\n",
    "    \n",
    "    # We use a vertical array, one element per M.C. path\n",
    "    x <- numeric(N); vloc <- rep(v0,N); \n",
    "    xm <- numeric(N); vlocm <- rep(v0,N); \n",
    "    xmax <- numeric(N); xmaxm <- numeric(N);\n",
    "    xmin <- numeric(N); xminm <- numeric(N);\n",
    "    W1m <- numeric(N);\n",
    "    \n",
    "    # Loop over timesteps\n",
    "    for (i in 1:n)\n",
    "    {\n",
    "      W1 <- rnorm(N);\n",
    "      W1 <- W1 - mean(W1); W1 <- W1/sd(W1);\n",
    "      # Now W1 is forced to have mean=0 and sd=1  \n",
    "      \n",
    "      # Add code for subgrid\n",
    "      W1m <- W1m + W1/sqrt2; # N(0,1) rv's for subgrid\n",
    "      \n",
    "      # Compute local variance from formula 4.1 of TVS\n",
    "      ti <- i*dt;\n",
    "      elti <- exp(-lambdap*ti);\t\n",
    "      vlocf <- (v0-vbarp)*elti+vbarp-eta*x*(1-elti)/(lambdap*ti);\n",
    "      vlocf <- (vlocf>=0)*vlocf;\n",
    "      \n",
    "      # Approximate integrated variance\n",
    "      w <- (vlocf +vloc)/2*dt;\n",
    "      \n",
    "      xnew <- x - w/2 + sqrt(w)*W1;\n",
    "      xmax <- (xnew>xmax)*(xnew-xmax)+xmax;\n",
    "      xmin <- (xnew<xmin)*(xnew-xmin)+xmin;\n",
    "      x <- xnew;\n",
    "      vloc <- vlocf;\n",
    "      \n",
    "      \n",
    "      if (is.even(i)) {\n",
    "        \n",
    "        vlocfm <- (v0-vbarp)*elti+vbarp-eta*xm*(1-elti)/(lambdap*ti);\n",
    "        vlocfm <- (vlocfm>=0)*vlocfm;\n",
    "        \n",
    "        wm <- (vlocfm+vlocm)/2*dtm;\n",
    "        xnewm <- xm - wm/2 + sqrt(wm)*W1m;\n",
    "        xmaxm <- (xnewm>xmaxm)*(xnewm-xmaxm)+xmaxm;\n",
    "        xminm <- (xnewm<xminm)*(xnewm-xminm)+xminm;\n",
    "        xm <- xnewm;\n",
    "        vlocm <- vlocf;\n",
    "        W1m <- numeric(N);\n",
    "      } \n",
    "      \n",
    "      \n",
    "    }\n",
    "    \n",
    "    return(data.frame(x,xm,vloc,vlocm,xmax,xmaxm,xmin, xminm));\n",
    "    \n",
    "  }\n",
    "  return(res);\n",
    "}\n",
    "\n",
    "evolveAlfonsiF <- function(v,x,dt,W1,W2,L){\n",
    "  \n",
    "  eldt2 <- exp(-lambda*dt/2);\n",
    "  \n",
    "  #Variance process \n",
    "  vbarp <- vbar - eta^2/(4*lambda);\n",
    "  psi <- (1-eldt2)/lambda;\n",
    "  v1 <- v*eldt2+lambda*vbarp*psi;\n",
    "  v2 <- (v1 > 0) * v1; # Take v2 = 0 if v1<0, else v2=v1\n",
    "  par <- sqrt(v2) + eta/2 * sqrt(dt)*W2;\n",
    "  vf <- eldt2*par*par +lambda*vbarp*psi + v1 - v2;\n",
    "  # Full truncation\n",
    "  \n",
    "  # Log-stock process (Andersen equation (33))\n",
    "  vvf <- (v+vf > 0) * (v+vf);\n",
    "  dw <- vvf/2*dt;\n",
    "  x <- x  - dw/2 + rho2m1*sqrt(dw)*W1 +\n",
    "    rho/eta*(lambda*dw + vf-v -lambda*vbar*dt) ;\n",
    "  # Impose martingale constraint\n",
    "  x <- x - log(mean(exp(x)));\n",
    "  v <- vf;\n",
    "  return(cbind(x,v));\n",
    "}"
   ]
  },
  {
   "cell_type": "code",
   "execution_count": 2,
   "metadata": {
    "ExecuteTime": {
     "end_time": "2019-11-18T20:50:34.613272Z",
     "start_time": "2019-11-18T20:50:31.997Z"
    },
    "code_folding": []
   },
   "outputs": [],
   "source": [
    "HestonMC <- HestonMCxmax(params)(S0=1, T=1, N=20000, m=252/2,evolve=evolveAlfonsiF)\n",
    "HestonLvMC <- HestonLvMCxmax(params)(S0=1, T=1, N=20000, m=252/2)\n",
    "\n",
    "payoff <- function(paths,strike){\n",
    "  Smax <- exp(paths$xmax)\n",
    "  V <- (Smax>strike)*(Smax-strike)\n",
    "  return(mean(V))  \n",
    "}\n",
    "\n",
    "res<-payoff(HestonMC,strike=1)\n",
    "res_Lv<-payoff(HestonLvMC,strike=1)"
   ]
  },
  {
   "cell_type": "code",
   "execution_count": 3,
   "metadata": {
    "ExecuteTime": {
     "end_time": "2019-11-18T20:50:34.632148Z",
     "start_time": "2019-11-18T20:50:32.000Z"
    }
   },
   "outputs": [
    {
     "name": "stdout",
     "output_type": "stream",
     "text": [
      "[1] \"stochastic volatility MC:\"\n",
      "[1] 0.1257952\n",
      "[1] \"local volatility MC\"\n",
      "[1] 0.134318\n"
     ]
    }
   ],
   "source": [
    "print(\"stochastic volatility MC:\")\n",
    "print(res)\n",
    "print(\"local volatility MC\")\n",
    "print(res_Lv)"
   ]
  },
  {
   "cell_type": "markdown",
   "metadata": {},
   "source": [
    "### 2. (4 points) \n",
    "\n",
    "Plot local volatility and stochastic volatility prices of lookback options for a range of strikes from $1.0$ to $1.4$, reproducing Figure 8 of Lecture 11."
   ]
  },
  {
   "cell_type": "markdown",
   "metadata": {},
   "source": [
    "### Answer"
   ]
  },
  {
   "cell_type": "code",
   "execution_count": 4,
   "metadata": {
    "ExecuteTime": {
     "end_time": "2019-11-18T20:50:34.742280Z",
     "start_time": "2019-11-18T20:50:32.011Z"
    }
   },
   "outputs": [
    {
     "data": {
      "image/png": "[encoded data removed]",
      "text/plain": [
       "plot without title"
      ]
     },
     "metadata": {},
     "output_type": "display_data"
    }
   ],
   "source": [
    "strikes <- seq(1,1.4,0.02)\n",
    "\n",
    "res_2 <- sapply(strikes,function(K){payoff(HestonMC,K)})\n",
    "res_Lv_2 <- sapply(strikes,function(K){payoff(HestonLvMC,K)})\n",
    "\n",
    "plot(strikes, res_2, col=\"red\",type=\"l\",ylab=\"Value\",xlab=\"Strike\",ylim=c(0,0.15))\n",
    "points(strikes, res_Lv_2, col=\"blue\",type=\"l\",lty=2)\n",
    "legend(\"topright\",c(\"stochastic volatility\",\"local volatility\"),col=c(\"red\",\"blue\"),lty=c(1,2))"
   ]
  },
  {
   "cell_type": "markdown",
   "metadata": {},
   "source": [
    "### 3. (6 points) \n",
    "\n",
    "What is the intuition behind the difference in price under stochastic volatility and local volatility assumptions respectively?  Appeal to the dynamics of the implied volatility skew in\n",
    "your answer. "
   ]
  },
  {
   "cell_type": "markdown",
   "metadata": {},
   "source": [
    "### Answer\n",
    "\n",
    "We replicate a lookback option by longing 2 vanilla call option strike $K$. When the underlying price reaches $K$, we will liquidate our position and long 2 vanilla strike $K+\\Delta K$. The cost of this rebalancing is $2 C(K+\\Delta K)-2C(K)$, which depends on volatility skew.\n",
    "\n",
    "In local volatility model, the volatility skew is flatter, which means we cost less. So the price under local volatility model is higher. In the plot, we can see the dash line is above the solid line, which is consistence with this intuition\n",
    "."
   ]
  },
  {
   "cell_type": "markdown",
   "metadata": {},
   "source": [
    "## The effect of discreteness"
   ]
  },
  {
   "cell_type": "markdown",
   "metadata": {},
   "source": [
    "### 4. (6 points) \n",
    "\n",
    "Repeat Problem 1 with weekly monitoring (assume 52 weeks).  Estimate the difference in price using the Broadie, Glasserman and Kou adjustment.  Compare with your Monte Carlo results and comment."
   ]
  },
  {
   "cell_type": "code",
   "execution_count": 5,
   "metadata": {
    "ExecuteTime": {
     "end_time": "2019-11-18T20:50:34.763390Z",
     "start_time": "2019-11-18T20:50:32.032Z"
    },
    "code_folding": [
     3,
     10,
     20,
     39,
     44,
     67,
     75
    ]
   },
   "outputs": [],
   "source": [
    "# Heston model\n",
    "\n",
    "callOption <- function(phi, k, t)\n",
    "{\n",
    "    integrand <-  function(u){Re(exp(-1i*u*k)*phi(u - 1i/2, t)/(u^2 + 1/4))};\n",
    "    res <- 1 - exp(k/2)/pi*integrate(integrand,lower=0,upper=Inf,rel.tol=0.0000000001,subdivisions=1000)$value;\n",
    "    return(res);\n",
    "}\n",
    "\n",
    "BSFormula <- function(S0, K, T, r, sigma)\n",
    "{\n",
    "    x <- log(S0/K)+r*T;\n",
    "    sig <- sigma*sqrt(T);\n",
    "    d1 <- x/sig+sig/2;\n",
    "    d2 <- d1 - sig;\n",
    "    pv <- exp(-r*T);\n",
    "    return( S0*pnorm(d1) - pv*K*pnorm(d2));\n",
    "}\n",
    "\n",
    "BSImpliedVolCall <- function(S0, K, T, r, C)\n",
    "{\n",
    "    nK <- length(K);\n",
    "    sigmaL <- rep(1e-10,nK);\n",
    "    CL <- BSFormula(S0, K, T, r, sigmaL);\n",
    "    sigmaH <- rep(10,nK);\n",
    "    CH <- BSFormula(S0, K, T, r, sigmaH);\n",
    "    while (mean(sigmaH - sigmaL) > 1e-10)\n",
    "    {\n",
    "        sigma <- (sigmaL + sigmaH)/2;\n",
    "        CM <- BSFormula(S0, K, T, r, sigma);\n",
    "        CL <- CL + (CM < C)*(CM-CL);\n",
    "        sigmaL <- sigmaL + (CM < C)*(sigma-sigmaL);\n",
    "        CH <- CH + (CM >= C)*(CM-CH);\n",
    "        sigmaH <- sigmaH + (CM >= C)*(sigma-sigmaH);\n",
    "    }\n",
    "    return(sigma);\n",
    "}\n",
    "\n",
    "bsvol <- function(phi,k, t)\n",
    "{\n",
    "    BSImpliedVolCall(1, exp(k), t, 0, callOption(phi,k,t))\n",
    "}\n",
    "\n",
    "phiHeston <- function(params)\n",
    "{\n",
    "    lambda <- params$lambda;\n",
    "    rho <- params$rho;\n",
    "    eta <- params$eta;\n",
    "    vbar <- params$vbar;\n",
    "    v <- params$v;\n",
    "    \n",
    "    function(u, t)\n",
    "    {\n",
    "        al <- -u*u/2 - 1i*u/2;\n",
    "        bet <- lambda - rho*eta*1i*u;\n",
    "        gam <- eta^2/2;\n",
    "        d <- sqrt(bet*bet - 4*al*gam);\n",
    "        rp <- (bet + d)/(2*gam);\n",
    "        rm <- (bet - d)/(2*gam);\n",
    "        g <- rm / rp;\n",
    "        D <- rm * (1 - exp(-d*t))/ (1 - g*exp(-d*t));\n",
    "        C <- lambda * (rm * t - 2/eta^2 * log( (1 - g*exp(-(d*t)))/(1 - g) ) );\n",
    "        return(exp(C*vbar + D*v));\n",
    "    }\n",
    "}\n",
    "\n",
    "impvolHeston <- function(params)\n",
    "{\n",
    "    function(k, t)\n",
    "    {\n",
    "        bsvol(phiHeston(params),k,t)\n",
    "    }\n",
    "}\n",
    "\n",
    "LookBackCtn <- function(strike)\n",
    "{\n",
    "    return(2*BSFormula(S0=1, K=strike, T=1, r=0, sigma=sigma))\n",
    "}"
   ]
  },
  {
   "cell_type": "code",
   "execution_count": 11,
   "metadata": {
    "ExecuteTime": {
     "end_time": "2019-11-18T20:52:37.924093Z",
     "start_time": "2019-11-18T20:52:37.372Z"
    }
   },
   "outputs": [],
   "source": [
    "HestonMC_weekly <- HestonMCxmax(params)(S0=1, T=1, N=20000, m=52/2,evolve=evolveAlfonsiF)\n",
    "HestonLvMC_weekly  <- HestonLvMCxmax(params)(S0=1, T=1, N=20000, m=52/2)\n",
    "\n",
    "res_weekly<-payoff(HestonMC_weekly,strike=1)\n",
    "res_Lv_weekly<-payoff(HestonLvMC_weekly,strike=1)"
   ]
  },
  {
   "cell_type": "code",
   "execution_count": 7,
   "metadata": {
    "ExecuteTime": {
     "end_time": "2019-11-18T20:50:35.405965Z",
     "start_time": "2019-11-18T20:50:32.037Z"
    }
   },
   "outputs": [],
   "source": [
    "beta<-0.5826\n",
    "sigma <- impvolHeston(params)(k=0,t=1)\n",
    "\n",
    "lookback<- LookBackCtn(exp(-beta*sigma*sqrt(1/252)))-(1-exp(-beta*sigma*sqrt(1/252)))\n",
    "lookback_weekly <- LookBackCtn(exp(-beta*sigma*sqrt(1/52)))-(1-exp(-beta*sigma*sqrt(1/52)))"
   ]
  },
  {
   "cell_type": "code",
   "execution_count": 12,
   "metadata": {
    "ExecuteTime": {
     "end_time": "2019-11-18T20:52:39.983342Z",
     "start_time": "2019-11-18T20:52:39.963Z"
    }
   },
   "outputs": [
    {
     "name": "stdout",
     "output_type": "stream",
     "text": [
      "[1] \"daily price, in order of stochastic vol, local vol, and BGK adjustment:\"\n",
      "0.1257952 0.134318 0.1487919"
     ]
    }
   ],
   "source": [
    "print(\"daily price, in order of stochastic vol, local vol, and BGK adjustment:\")\n",
    "cat(res,res_Lv,lookback)"
   ]
  },
  {
   "cell_type": "code",
   "execution_count": 13,
   "metadata": {
    "ExecuteTime": {
     "end_time": "2019-11-18T20:52:40.388806Z",
     "start_time": "2019-11-18T20:52:40.368Z"
    }
   },
   "outputs": [
    {
     "name": "stdout",
     "output_type": "stream",
     "text": [
      "[1] \"weekly price, in order of stochastic vol, local vol, and BGK adjustment:\"\n",
      "0.1229144 0.1292701 0.1485644"
     ]
    }
   ],
   "source": [
    "print(\"weekly price, in order of stochastic vol, local vol, and BGK adjustment:\")\n",
    "cat(res_weekly,res_Lv_weekly,lookback_weekly)"
   ]
  },
  {
   "cell_type": "code",
   "execution_count": 14,
   "metadata": {
    "ExecuteTime": {
     "end_time": "2019-11-18T20:52:42.955807Z",
     "start_time": "2019-11-18T20:52:42.937Z"
    }
   },
   "outputs": [
    {
     "name": "stdout",
     "output_type": "stream",
     "text": [
      "[1] \"different between daily and weekly, in order of stochastic vol, local vol, and BGK adjustment:\"\n",
      "0.002880827 0.00504791 0.0002274794"
     ]
    }
   ],
   "source": [
    "print(\"different between daily and weekly, in order of stochastic vol, local vol, and BGK adjustment:\")\n",
    "cat(res-res_weekly,res_Lv-res_Lv_weekly,lookback-lookback_weekly)"
   ]
  },
  {
   "cell_type": "markdown",
   "metadata": {},
   "source": [
    "We can see the difference between daily and weekly in BGK adjustment is much smaller than in stochastic vol and local vol model. So BGK adjustment is a better numerical method."
   ]
  }
 ],
 "metadata": {
  "kernelspec": {
   "display_name": "R",
   "language": "R",
   "name": "ir"
  },
  "language_info": {
   "codemirror_mode": "r",
   "file_extension": ".r",
   "mimetype": "text/x-r-source",
   "name": "R",
   "pygments_lexer": "r",
   "version": "3.5.1"
  },
  "latex_envs": {
   "LaTeX_envs_menu_present": true,
   "autoclose": false,
   "autocomplete": false,
   "bibliofile": "biblio.bib",
   "cite_by": "apalike",
   "current_citInitial": 1,
   "eqLabelWithNumbers": false,
   "eqNumInitial": 1,
   "hotkeys": {
    "equation": "Ctrl-E",
    "itemize": "Ctrl-I"
   },
   "labels_anchors": false,
   "latex_user_defs": false,
   "report_style_numbering": false,
   "user_envs_cfg": false
  },
  "varInspector": {
   "cols": {
    "lenName": 16,
    "lenType": 16,
    "lenVar": 40
   },
   "kernels_config": {
    "python": {
     "delete_cmd_postfix": "",
     "delete_cmd_prefix": "del ",
     "library": "var_list.py",
     "varRefreshCmd": "print(var_dic_list())"
    },
    "r": {
     "delete_cmd_postfix": ") ",
     "delete_cmd_prefix": "rm(",
     "library": "var_list.r",
     "varRefreshCmd": "cat(var_dic_list()) "
    }
   },
   "types_to_exclude": [
    "module",
    "function",
    "builtin_function_or_method",
    "instance",
    "_Feature"
   ],
   "window_display": false
  }
 },
 "nbformat": 4,
 "nbformat_minor": 1
}
