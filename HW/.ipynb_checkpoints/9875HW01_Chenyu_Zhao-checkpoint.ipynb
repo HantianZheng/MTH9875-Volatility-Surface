{
 "cells": [
  {
   "cell_type": "markdown",
   "metadata": {},
   "source": [
    "# MTH9875 Homework 1 \n",
    "\n",
    "## Chenyu Zhao\n",
    "\n",
    "### R version: 3.5.1\n",
    "\n",
    "Assigned: September 12, 2018.\n",
    "Due: September 26, 2018 by 6pm.\n",
    "\n",
    "Late homework **will not be accepted**.\n",
    "$$\\newcommand{\\bi}{\\begin{itemize}}\n",
    "\\newcommand{\\ei}{\\end{itemize}}\n",
    "\\newcommand{\\beq}{\\begin{equation}}\n",
    "\\newcommand{\\eeq}{\\end{equation}}\n",
    "\\newcommand{\\beas}{\\begin{eqnarray*}}\n",
    "\\newcommand{\\eeas}{\\end{eqnarray*}}\n",
    "\\newcommand{\\supp}{\\mathrm{supp}}\n",
    "\\newcommand{\\E}{\\mathbb{E} }\n",
    "\\def\\Cov{{ \\mbox{Cov} }}\n",
    "\\def\\Var{{ \\mbox{Var} }}\n",
    "\\newcommand{\\1}{\\mathbf{1} }\n",
    "\\newcommand{\\PP}{\\mathbb{P} }\n",
    "\\newcommand{\\QQ}{\\mathbb{Q} }\n",
    "\\newcommand{\\RR}{\\mathbb{R} }\n",
    "\\newcommand{\\DD}{\\mathbb{D} }\n",
    "\\newcommand{\\HH}{\\mathbb{H} }\n",
    "\\newcommand{\\spn}{\\mathrm{span} }\n",
    "\\newcommand{\\cov}{\\mathrm{cov} }\n",
    "\\newcommand{\\HS}{\\mathcal{L}_{\\mathrm{HS}} }\n",
    "\\newcommand{\\trace}{\\mathrm{trace} }\n",
    "\\newcommand{\\LL}{\\mathcal{L} }\n",
    "\\newcommand{\\s}{\\mathcal{S} }\n",
    "\\newcommand{\\ee}{\\mathcal{E} }\n",
    "\\newcommand{\\ff}{\\mathcal{F} }\n",
    "\\newcommand{\\hh}{\\mathcal{H} }\n",
    "\\newcommand{\\bb}{\\mathcal{B} }\n",
    "\\newcommand{\\dd}{\\mathcal{D} }\n",
    "\\newcommand{\\g}{\\mathcal{G} }\n",
    "\\newcommand{\\half}{\\frac{1}{2} }\n",
    "\\newcommand{\\T}{\\mathcal{T} }\n",
    "$$"
   ]
  },
  {
   "cell_type": "markdown",
   "metadata": {},
   "source": [
    "<font color = \"red\">Homework is to be done by each student individually.  To receive full credit, you must email a completed copy of this iPython notebook to Allen Chen (allen.long.chen@gmail.com), Yassine Ghalem (yassine.ghalem@gmail.com) and Jim Gatheral (jim.gatheral@gmail.com) by the due date and time.  All R-code must run correctly and solutions must be written up neatly in Markdown/LaTeX format."
   ]
  },
  {
   "cell_type": "markdown",
   "metadata": {},
   "source": [
    "\n",
    "The following code snippet loads the data required for this homework assignment."
   ]
  },
  {
   "cell_type": "code",
   "execution_count": 1,
   "metadata": {
    "ExecuteTime": {
     "end_time": "2019-09-17T17:56:29.752533Z",
     "start_time": "2019-09-17T17:56:29.724Z"
    }
   },
   "outputs": [],
   "source": [
    "library(repr)\n",
    "options(repr.plot.height=5)"
   ]
  },
  {
   "cell_type": "code",
   "execution_count": 2,
   "metadata": {
    "ExecuteTime": {
     "end_time": "2019-09-17T17:56:30.850328Z",
     "start_time": "2019-09-17T17:56:30.085Z"
    }
   },
   "outputs": [],
   "source": [
    "download.file(url=\"http://mfe.baruch.cuny.edu/wp-content/uploads/2019/09/9875HW1.zip\", destfile=\"9875HW1.zip\")\n",
    "unzip(zipfile=\"9875HW1.zip\")"
   ]
  },
  {
   "cell_type": "markdown",
   "metadata": {},
   "source": [
    "## Power laws"
   ]
  },
  {
   "cell_type": "markdown",
   "metadata": {},
   "source": [
    "### The 80/20 rule again"
   ]
  },
  {
   "cell_type": "markdown",
   "metadata": {},
   "source": [
    "\n",
    "#### 1. (6 points)\n",
    "\n",
    "Recall from the lecture that assuming Pareto distribution, the proportion of wealth $W$ owned by a proportion $P$ of the population is given by\n",
    "<p>\n",
    "$$\n",
    "W=  P^{1-\\frac1{\\alpha}}\n",
    "$$\n",
    "where $\\alpha$ is the tail exponent.\n",
    "\n",
    "(a) Code a function in R that returns W for a given $P$ and $\\alpha$.\n",
    "\n",
    "(b) What proportion of wealth is owned by the top $20\\%$ of the population assuming $\\alpha=1.16$?  What proportion of wealth is owned by the top $4\\%$ of the population assuming $\\alpha=1.16$?\n",
    "\n",
    "(c) Superimpose plots of $W$ (on the y-axis) vs $P$ (on the x-axis) for the following values of $\\alpha$:\n",
    "<p>\n",
    "$$\\alpha = \\left\\{1.1,1.2,1.3,1.4,1.5\\right\\}.$$\n",
    "<p>\n",
    "Draw a vertical dotted line at $P=0.2$."
   ]
  },
  {
   "cell_type": "markdown",
   "metadata": {},
   "source": [
    "#### Answer\n",
    "\n",
    "(a)"
   ]
  },
  {
   "cell_type": "code",
   "execution_count": 7,
   "metadata": {
    "ExecuteTime": {
     "end_time": "2019-09-17T18:02:31.197629Z",
     "start_time": "2019-09-17T18:02:31.173Z"
    }
   },
   "outputs": [],
   "source": [
    "W <- function(P, alpha){\n",
    "    return (P^(1-1/alpha))\n",
    "}"
   ]
  },
  {
   "cell_type": "markdown",
   "metadata": {},
   "source": [
    "(b)"
   ]
  },
  {
   "cell_type": "code",
   "execution_count": 9,
   "metadata": {
    "ExecuteTime": {
     "end_time": "2019-09-17T18:03:49.252023Z",
     "start_time": "2019-09-17T18:03:49.207Z"
    }
   },
   "outputs": [
    {
     "name": "stdout",
     "output_type": "stream",
     "text": [
      "[1] 0.8009222\n",
      "[1] 0.6414764\n"
     ]
    }
   ],
   "source": [
    "print(W(0.2,1.16))\n",
    "print(W(0.04,1.16))"
   ]
  },
  {
   "cell_type": "markdown",
   "metadata": {},
   "source": [
    "80% wealth is owned by the top 20%; 64% wealth is owned by the top 4%"
   ]
  },
  {
   "cell_type": "markdown",
   "metadata": {},
   "source": [
    "(c)"
   ]
  },
  {
   "cell_type": "code",
   "execution_count": 22,
   "metadata": {
    "ExecuteTime": {
     "end_time": "2019-09-17T18:15:35.270670Z",
     "start_time": "2019-09-17T18:15:35.173Z"
    }
   },
   "outputs": [
    {
     "data": {
      "image/png": "[encoded data removed]",
      "text/plain": [
       "plot without title"
      ]
     },
     "metadata": {},
     "output_type": "display_data"
    }
   ],
   "source": [
    "x <- seq(0, 1, by=0.01)\n",
    "plot(x, W(x, 1.1), type='l', col='red', xlab='P', ylab='W')\n",
    "lines(x, W(x, 1.2), type='l', col='green')\n",
    "lines(x, W(x, 1.3), type='l', col='blue')\n",
    "lines(x, W(x, 1.4), type='l', col='orange')\n",
    "lines(x, W(x, 1.5), type='l', col='brown')\n",
    "\n",
    "abline(v = 0.2, lty = 2)"
   ]
  },
  {
   "cell_type": "markdown",
   "metadata": {},
   "source": [
    "### Zipf's Law"
   ]
  },
  {
   "cell_type": "markdown",
   "metadata": {},
   "source": [
    "#### 2. (8 points)\n",
    "\n",
    "(a) Convert the file `SSRN.csv` (which contains paper download numbers and ranks) to a data frame.\n",
    "\n",
    "(b) Draw a log-log plot of number of paper downloads ($y$) vs download rank ($x$).\n",
    "\n",
    "(c) Regress $y$ vs $x$ and superimpose the resulting fit on your plot from part (b).\n",
    "\n",
    "(d) Write down the empirical power-law you have found in the form\n",
    "\n",
    "$$\n",
    "y = C x^\\alpha.\n",
    "$$"
   ]
  },
  {
   "cell_type": "markdown",
   "metadata": {},
   "source": [
    "#### Answer\n",
    "\n",
    "(a)"
   ]
  },
  {
   "cell_type": "code",
   "execution_count": 23,
   "metadata": {
    "ExecuteTime": {
     "end_time": "2019-09-17T18:16:52.587344Z",
     "start_time": "2019-09-17T18:16:52.540Z"
    }
   },
   "outputs": [
    {
     "data": {
      "text/html": [
       "<table>\n",
       "<thead><tr><th scope=col>Rank</th><th scope=col>Author</th><th scope=col>Total.New.Downloads</th></tr></thead>\n",
       "<tbody>\n",
       "\t<tr><td>1                  </td><td>Fernandez, Pablo   </td><td>139046             </td></tr>\n",
       "\t<tr><td>2                  </td><td>Jensen, Michael C. </td><td> 66341             </td></tr>\n",
       "\t<tr><td>3                  </td><td>Jackson, Matthew O.</td><td> 41335             </td></tr>\n",
       "\t<tr><td>4                  </td><td>Faber, Mebane T.   </td><td> 37648             </td></tr>\n",
       "\t<tr><td>5                  </td><td>Damodaran, Aswath  </td><td> 35219             </td></tr>\n",
       "\t<tr><td>6                  </td><td>Harvey, Campbell R.</td><td> 33425             </td></tr>\n",
       "</tbody>\n",
       "</table>\n"
      ],
      "text/latex": [
       "\\begin{tabular}{r|lll}\n",
       " Rank & Author & Total.New.Downloads\\\\\n",
       "\\hline\n",
       "\t 1                   & Fernandez, Pablo    & 139046             \\\\\n",
       "\t 2                   & Jensen, Michael C.  &  66341             \\\\\n",
       "\t 3                   & Jackson, Matthew O. &  41335             \\\\\n",
       "\t 4                   & Faber, Mebane T.    &  37648             \\\\\n",
       "\t 5                   & Damodaran, Aswath   &  35219             \\\\\n",
       "\t 6                   & Harvey, Campbell R. &  33425             \\\\\n",
       "\\end{tabular}\n"
      ],
      "text/markdown": [
       "\n",
       "| Rank | Author | Total.New.Downloads |\n",
       "|---|---|---|\n",
       "| 1                   | Fernandez, Pablo    | 139046              |\n",
       "| 2                   | Jensen, Michael C.  |  66341              |\n",
       "| 3                   | Jackson, Matthew O. |  41335              |\n",
       "| 4                   | Faber, Mebane T.    |  37648              |\n",
       "| 5                   | Damodaran, Aswath   |  35219              |\n",
       "| 6                   | Harvey, Campbell R. |  33425              |\n",
       "\n"
      ],
      "text/plain": [
       "  Rank Author              Total.New.Downloads\n",
       "1 1    Fernandez, Pablo    139046             \n",
       "2 2    Jensen, Michael C.   66341             \n",
       "3 3    Jackson, Matthew O.  41335             \n",
       "4 4    Faber, Mebane T.     37648             \n",
       "5 5    Damodaran, Aswath    35219             \n",
       "6 6    Harvey, Campbell R.  33425             "
      ]
     },
     "metadata": {},
     "output_type": "display_data"
    }
   ],
   "source": [
    "df = read.csv('SSRN.csv')\n",
    "head(df)"
   ]
  },
  {
   "cell_type": "markdown",
   "metadata": {},
   "source": [
    "(b) & (c)"
   ]
  },
  {
   "cell_type": "code",
   "execution_count": 24,
   "metadata": {
    "ExecuteTime": {
     "end_time": "2019-09-17T18:17:59.148083Z",
     "start_time": "2019-09-17T18:17:59.035Z"
    }
   },
   "outputs": [
    {
     "data": {
      "image/png": "[encoded data removed]",
      "text/plain": [
       "plot without title"
      ]
     },
     "metadata": {},
     "output_type": "display_data"
    }
   ],
   "source": [
    "plot(log(df$Rank), log(df$Total.New.Downloads), ylab = \"Paper downloads\", xlab = \"Ranks\")\n",
    "lm <- lm(log(df$Total.New.Downloads) ~ log(df$Rank)) \n",
    "abline(lm, col = \"red\")"
   ]
  },
  {
   "cell_type": "markdown",
   "metadata": {},
   "source": [
    "(d)"
   ]
  },
  {
   "cell_type": "code",
   "execution_count": 27,
   "metadata": {
    "ExecuteTime": {
     "end_time": "2019-09-17T18:20:07.394130Z",
     "start_time": "2019-09-17T18:20:07.366Z"
    }
   },
   "outputs": [
    {
     "name": "stdout",
     "output_type": "stream",
     "text": [
      "(Intercept) \n",
      "   90312.34 \n",
      "log(df$Rank) \n",
      "   -0.546707 \n"
     ]
    }
   ],
   "source": [
    "print( exp(lm$coefficients[1]))\n",
    "print( lm$coefficients[2] )"
   ]
  },
  {
   "cell_type": "markdown",
   "metadata": {},
   "source": [
    "$y=90312\\times x^{-0.5467}$."
   ]
  },
  {
   "cell_type": "markdown",
   "metadata": {},
   "source": [
    "#### 3. (8 points)\n",
    "\n",
    "Repeat all four parts of question 2. for the dataset `Cities.csv`."
   ]
  },
  {
   "cell_type": "markdown",
   "metadata": {},
   "source": [
    "#### Answer \n",
    "\n",
    "(a)"
   ]
  },
  {
   "cell_type": "code",
   "execution_count": 31,
   "metadata": {
    "ExecuteTime": {
     "end_time": "2019-09-17T18:21:42.538157Z",
     "start_time": "2019-09-17T18:21:42.502Z"
    }
   },
   "outputs": [
    {
     "data": {
      "text/html": [
       "<table>\n",
       "<thead><tr><th scope=col>Name</th><th scope=col>Population</th></tr></thead>\n",
       "<tbody>\n",
       "\t<tr><td>New York City</td><td>8491079      </td></tr>\n",
       "\t<tr><td>Los Angeles  </td><td>3928864      </td></tr>\n",
       "\t<tr><td>Chicago      </td><td>2722389      </td></tr>\n",
       "\t<tr><td>Houston      </td><td>2239558      </td></tr>\n",
       "\t<tr><td>Philadelphia </td><td>1560297      </td></tr>\n",
       "\t<tr><td>Phoenix      </td><td>1537058      </td></tr>\n",
       "</tbody>\n",
       "</table>\n"
      ],
      "text/latex": [
       "\\begin{tabular}{r|ll}\n",
       " Name & Population\\\\\n",
       "\\hline\n",
       "\t New York City & 8491079      \\\\\n",
       "\t Los Angeles   & 3928864      \\\\\n",
       "\t Chicago       & 2722389      \\\\\n",
       "\t Houston       & 2239558      \\\\\n",
       "\t Philadelphia  & 1560297      \\\\\n",
       "\t Phoenix       & 1537058      \\\\\n",
       "\\end{tabular}\n"
      ],
      "text/markdown": [
       "\n",
       "| Name | Population |\n",
       "|---|---|\n",
       "| New York City | 8491079       |\n",
       "| Los Angeles   | 3928864       |\n",
       "| Chicago       | 2722389       |\n",
       "| Houston       | 2239558       |\n",
       "| Philadelphia  | 1560297       |\n",
       "| Phoenix       | 1537058       |\n",
       "\n"
      ],
      "text/plain": [
       "  Name          Population\n",
       "1 New York City 8491079   \n",
       "2 Los Angeles   3928864   \n",
       "3 Chicago       2722389   \n",
       "4 Houston       2239558   \n",
       "5 Philadelphia  1560297   \n",
       "6 Phoenix       1537058   "
      ]
     },
     "metadata": {},
     "output_type": "display_data"
    }
   ],
   "source": [
    "df = read.csv('Cities.csv')\n",
    "head(df)"
   ]
  },
  {
   "cell_type": "markdown",
   "metadata": {},
   "source": [
    "(b) & (c)"
   ]
  },
  {
   "cell_type": "code",
   "execution_count": 37,
   "metadata": {
    "ExecuteTime": {
     "end_time": "2019-09-17T18:34:24.010971Z",
     "start_time": "2019-09-17T18:34:23.920Z"
    }
   },
   "outputs": [
    {
     "data": {
      "image/png": "[encoded data removed]",
      "text/plain": [
       "plot without title"
      ]
     },
     "metadata": {},
     "output_type": "display_data"
    }
   ],
   "source": [
    "plot(log(rank(-df$Population)), log(df$Population), ylab = \"City population\", xlab = \"Ranks\")\n",
    "lm <- lm(log(df$Population) ~ log(rank(-df$Population))) \n",
    "abline(lm, col = \"red\")"
   ]
  },
  {
   "cell_type": "markdown",
   "metadata": {},
   "source": [
    "(d)"
   ]
  },
  {
   "cell_type": "code",
   "execution_count": 35,
   "metadata": {
    "ExecuteTime": {
     "end_time": "2019-09-17T18:23:06.848536Z",
     "start_time": "2019-09-17T18:23:06.806Z"
    }
   },
   "outputs": [
    {
     "name": "stdout",
     "output_type": "stream",
     "text": [
      "(Intercept) \n",
      "    6172140 \n",
      "log(rank(-df$Population)) \n",
      "               -0.7206535 \n"
     ]
    }
   ],
   "source": [
    "print( exp(lm$coefficients[1]))\n",
    "print( lm$coefficients[2] )"
   ]
  },
  {
   "cell_type": "markdown",
   "metadata": {},
   "source": [
    "$y=6172140 \\times x^{-0.7206}$."
   ]
  },
  {
   "cell_type": "markdown",
   "metadata": {},
   "source": [
    "## Stylized facts"
   ]
  },
  {
   "cell_type": "markdown",
   "metadata": {},
   "source": [
    "#### 4. (12 points.)\n",
    "\n",
    "(a) Assuming that SPX daily returns are Student-t distributed with $\\nu=3$, mean $0$ and standard deviation of $1\\%$,  what is the chance of a daily move of more than $10\\%$?  Of more than $20\\%$? How many years should we expect to wait to get moves of over $10\\%$ and $20\\%$ respectively? \n",
    "(Over $10\\%$ means $|return|>0.1!)$.\n",
    "\n",
    "(b) Repeat the same computation assuming SPX daily returns are normally distributed.  Include in your answer all steps in your computation.\n",
    "\n",
    "Recall that the SPX dropped $23\\%$ on October 19, 1987.  \n",
    "   \n",
    "(c) Should this one-day move have been unexpected?  \n",
    "\n",
    "(d) How many years would we expect to wait to get a move of this magnitude assuming SPX returns are normally distributed?  \n",
    "\n",
    "(e) Compare your answer with the life of the universe so far (around 13.7 billion years)."
   ]
  },
  {
   "cell_type": "markdown",
   "metadata": {},
   "source": [
    "#### Answer\n",
    "\n",
    "(a) a student-t variable's std is $\\sqrt{\\frac{v}{v-2}}$, when $v=3$, its std should be $\\sqrt{3}$. So $y = 0.01 \\frac{x}{\\sqrt{3}}$, where x is a standard student-t variable, has std 1%."
   ]
  },
  {
   "cell_type": "code",
   "execution_count": 41,
   "metadata": {
    "ExecuteTime": {
     "end_time": "2019-09-17T18:44:44.767616Z",
     "start_time": "2019-09-17T18:44:44.721Z"
    }
   },
   "outputs": [
    {
     "data": {
      "text/html": [
       "0.000419374230653524"
      ],
      "text/latex": [
       "0.000419374230653524"
      ],
      "text/markdown": [
       "0.000419374230653524"
      ],
      "text/plain": [
       "[1] 0.0004193742"
      ]
     },
     "metadata": {},
     "output_type": "display_data"
    },
    {
     "data": {
      "text/html": [
       "5.28929179597348e-05"
      ],
      "text/latex": [
       "5.28929179597348e-05"
      ],
      "text/markdown": [
       "5.28929179597348e-05"
      ],
      "text/plain": [
       "[1] 5.289292e-05"
      ]
     },
     "metadata": {},
     "output_type": "display_data"
    },
    {
     "data": {
      "text/html": [
       "9.46232190296984"
      ],
      "text/latex": [
       "9.46232190296984"
      ],
      "text/markdown": [
       "9.46232190296984"
      ],
      "text/plain": [
       "[1] 9.462322"
      ]
     },
     "metadata": {},
     "output_type": "display_data"
    },
    {
     "data": {
      "text/html": [
       "75.024296660563"
      ],
      "text/latex": [
       "75.024296660563"
      ],
      "text/markdown": [
       "75.024296660563"
      ],
      "text/plain": [
       "[1] 75.0243"
      ]
     },
     "metadata": {},
     "output_type": "display_data"
    }
   ],
   "source": [
    "p1 = 2 * (1 - pt(sqrt(3) * 10, 3) )\n",
    "p1\n",
    "p2 = 2 * (1 - pt(sqrt(3) * 20, 3) )\n",
    "p2\n",
    "t1 = 1/p1/252\n",
    "t1\n",
    "t2 = 1/p2/252\n",
    "t2"
   ]
  },
  {
   "cell_type": "markdown",
   "metadata": {},
   "source": [
    "the chance of a daily move of more than 10% is 0.00042, expected year is 9.5.\n",
    "\n",
    "the chance of a daily move of more than 20% is 0.000053, expected year is 75."
   ]
  },
  {
   "cell_type": "markdown",
   "metadata": {},
   "source": [
    "(b)"
   ]
  },
  {
   "cell_type": "code",
   "execution_count": 48,
   "metadata": {
    "ExecuteTime": {
     "end_time": "2019-09-17T18:48:29.241700Z",
     "start_time": "2019-09-17T18:48:29.186Z"
    }
   },
   "outputs": [
    {
     "data": {
      "text/html": [
       "1.52397060483211e-23"
      ],
      "text/latex": [
       "1.52397060483211e-23"
      ],
      "text/markdown": [
       "1.52397060483211e-23"
      ],
      "text/plain": [
       "[1] 1.523971e-23"
      ]
     },
     "metadata": {},
     "output_type": "display_data"
    },
    {
     "data": {
      "text/html": [
       "5.50724823721247e-89"
      ],
      "text/latex": [
       "5.50724823721247e-89"
      ],
      "text/markdown": [
       "5.50724823721247e-89"
      ],
      "text/plain": [
       "[1] 5.507248e-89"
      ]
     },
     "metadata": {},
     "output_type": "display_data"
    },
    {
     "data": {
      "text/html": [
       "2.6038914108131e+20"
      ],
      "text/latex": [
       "2.6038914108131e+20"
      ],
      "text/markdown": [
       "2.6038914108131e+20"
      ],
      "text/plain": [
       "[1] 2.603891e+20"
      ]
     },
     "metadata": {},
     "output_type": "display_data"
    },
    {
     "data": {
      "text/html": [
       "7.20551135037001e+85"
      ],
      "text/latex": [
       "7.20551135037001e+85"
      ],
      "text/markdown": [
       "7.20551135037001e+85"
      ],
      "text/plain": [
       "[1] 7.205511e+85"
      ]
     },
     "metadata": {},
     "output_type": "display_data"
    }
   ],
   "source": [
    "p1 = 2 * pnorm(10,lower.tail = FALSE) \n",
    "p1\n",
    "p2 = 2 * pnorm(20,lower.tail = FALSE) \n",
    "p2\n",
    "t1 = 1/p1/252\n",
    "t1\n",
    "t2 = 1/p2/252\n",
    "t2"
   ]
  },
  {
   "cell_type": "markdown",
   "metadata": {},
   "source": [
    "the chance of a daily move of more than 10% is 1.5e-23, expected year is 2.6e+20.\n",
    "\n",
    "the chance of a daily move of more than 20% is 5.5e-89, expected year is 7.2e+85."
   ]
  },
  {
   "cell_type": "markdown",
   "metadata": {},
   "source": [
    "(c) this one-day move was unexpected"
   ]
  },
  {
   "cell_type": "markdown",
   "metadata": {},
   "source": [
    "(d)"
   ]
  },
  {
   "cell_type": "code",
   "execution_count": 50,
   "metadata": {
    "ExecuteTime": {
     "end_time": "2019-09-17T18:51:05.500149Z",
     "start_time": "2019-09-17T18:51:05.470Z"
    }
   },
   "outputs": [
    {
     "data": {
      "text/html": [
       "8.51323899359358e+113"
      ],
      "text/latex": [
       "8.51323899359358e+113"
      ],
      "text/markdown": [
       "8.51323899359358e+113"
      ],
      "text/plain": [
       "[1] 8.513239e+113"
      ]
     },
     "metadata": {},
     "output_type": "display_data"
    }
   ],
   "source": [
    "p = 2 * pnorm(23, lower.tail = FALSE)\n",
    "t = 1/p/252\n",
    "t"
   ]
  },
  {
   "cell_type": "markdown",
   "metadata": {},
   "source": [
    "we expect to wait 8.5e+113 years"
   ]
  },
  {
   "cell_type": "markdown",
   "metadata": {},
   "source": [
    "(e)\n",
    "\n",
    "It is much longer than the universe's life"
   ]
  },
  {
   "cell_type": "markdown",
   "metadata": {},
   "source": [
    "#### 5.  (0 points)\n",
    "Run my R-code in `9875Lecture1-2019.ipynb` and try to understand how it works."
   ]
  },
  {
   "cell_type": "markdown",
   "metadata": {},
   "source": [
    "#### 6. (6 points) \n",
    "\n",
    "The code snippet below loads the data file `spxVIX.rData`.  \n",
    "\n",
    "(a) Write R-code to compute \n",
    "   - The average log-return of SPX conditional on the log-return being non-negative.\n",
    "   - The average log-return of SPX conditional on the log-return being negative.\n",
    "\n",
    "(b) What proportion of all moves are up-moves? Down-moves?  \n",
    "   \n",
    "(c) Relate your findings to one of the Rama Cont stylized facts.\n"
   ]
  },
  {
   "cell_type": "code",
   "execution_count": 51,
   "metadata": {
    "ExecuteTime": {
     "end_time": "2019-09-17T18:53:28.654932Z",
     "start_time": "2019-09-17T18:53:28.382Z"
    }
   },
   "outputs": [
    {
     "name": "stderr",
     "output_type": "stream",
     "text": [
      "Loading required package: xts\n",
      "Loading required package: zoo\n",
      "\n",
      "Attaching package: ‘zoo’\n",
      "\n",
      "The following objects are masked from ‘package:base’:\n",
      "\n",
      "    as.Date, as.Date.numeric\n",
      "\n",
      "Loading required package: TTR\n",
      "Version 0.4-0 included new data defaults. See ?getSymbols.\n"
     ]
    }
   ],
   "source": [
    "library(quantmod)\n",
    "load(\"spxVix.rData\")"
   ]
  },
  {
   "cell_type": "code",
   "execution_count": 52,
   "metadata": {
    "ExecuteTime": {
     "end_time": "2019-09-17T18:53:28.953578Z",
     "start_time": "2019-09-17T18:53:28.800Z"
    }
   },
   "outputs": [
    {
     "data": {
      "text/plain": [
       "           Cl.GSPC Cl.VIX\n",
       "2019-08-29 2924.58  17.88\n",
       "2019-08-30 2926.46  18.98\n",
       "2019-09-03 2906.27  19.66\n",
       "2019-09-04 2937.78  17.33\n",
       "2019-09-05 2976.00  16.27\n",
       "2019-09-06 2978.71  15.00"
      ]
     },
     "metadata": {},
     "output_type": "display_data"
    }
   ],
   "source": [
    "tail(spxVixData)"
   ]
  },
  {
   "cell_type": "markdown",
   "metadata": {},
   "source": [
    "#### Answer\n",
    "\n",
    "(a)"
   ]
  },
  {
   "cell_type": "code",
   "execution_count": 56,
   "metadata": {
    "ExecuteTime": {
     "end_time": "2019-09-17T18:57:46.746682Z",
     "start_time": "2019-09-17T18:57:46.694Z"
    }
   },
   "outputs": [
    {
     "data": {
      "text/html": [
       "0.00720033643653314"
      ],
      "text/latex": [
       "0.00720033643653314"
      ],
      "text/markdown": [
       "0.00720033643653314"
      ],
      "text/plain": [
       "[1] 0.007200336"
      ]
     },
     "metadata": {},
     "output_type": "display_data"
    },
    {
     "data": {
      "text/html": [
       "-0.00768602697081843"
      ],
      "text/latex": [
       "-0.00768602697081843"
      ],
      "text/markdown": [
       "-0.00768602697081843"
      ],
      "text/plain": [
       "[1] -0.007686027"
      ]
     },
     "metadata": {},
     "output_type": "display_data"
    }
   ],
   "source": [
    "spx <- spxVixData[,\"Cl.GSPC\"]\n",
    "ret <- log(spx/lag(spx))\n",
    "ret <- ret[!is.na(ret)]\n",
    "\n",
    "avg_non_neg <- mean(ret[ret >= 0])\n",
    "avg_neg <- mean(ret[ret < 0])\n",
    "\n",
    "avg_non_neg\n",
    "avg_neg"
   ]
  },
  {
   "cell_type": "markdown",
   "metadata": {},
   "source": [
    "The average log-return of SPX conditional on the log-return being non-negative is 0.0072\n",
    "\n",
    "The average log-return of SPX conditional on the log-return being negative is -0.0077"
   ]
  },
  {
   "cell_type": "markdown",
   "metadata": {},
   "source": [
    "(b)"
   ]
  },
  {
   "cell_type": "code",
   "execution_count": 58,
   "metadata": {
    "ExecuteTime": {
     "end_time": "2019-09-17T18:59:15.962502Z",
     "start_time": "2019-09-17T18:59:15.926Z"
    }
   },
   "outputs": [
    {
     "data": {
      "text/html": [
       "0.534634929125435"
      ],
      "text/latex": [
       "0.534634929125435"
      ],
      "text/markdown": [
       "0.534634929125435"
      ],
      "text/plain": [
       "[1] 0.5346349"
      ]
     },
     "metadata": {},
     "output_type": "display_data"
    },
    {
     "data": {
      "text/html": [
       "0.464696442899171"
      ],
      "text/latex": [
       "0.464696442899171"
      ],
      "text/markdown": [
       "0.464696442899171"
      ],
      "text/plain": [
       "[1] 0.4646964"
      ]
     },
     "metadata": {},
     "output_type": "display_data"
    }
   ],
   "source": [
    "up <- length(ret[ret > 0])/length(ret)\n",
    "down <- length(ret[ret < 0])/length(ret)\n",
    "up\n",
    "down"
   ]
  },
  {
   "cell_type": "markdown",
   "metadata": {},
   "source": [
    "proportion of all moves are up-moves is 53.5%\n",
    "\n",
    "proportion of all moves are down-moves is 46.5%"
   ]
  },
  {
   "cell_type": "markdown",
   "metadata": {},
   "source": [
    "(c)\n",
    "\n",
    "Gain/loss asymmetry: one observes large drawdowns in stock prices and stock index values but not\n",
    "equally large upward movements"
   ]
  },
  {
   "cell_type": "markdown",
   "metadata": {},
   "source": [
    "#### 7. (8 points) \n",
    "\n",
    "The DAX is a German stock index analogous to the SPX index.  VDAX is the volatility index (VIX) of DAX.\n",
    "\n",
    "(a) Using the lecture code as a template, use the quantmod package to download time series of DAX and VDAX.\n",
    "\n",
    "(b) Regress VDAX log returns vs DAX log returns. What is the $R^2$ of this regression? What is the correlation? \n",
    "\n",
    "(c) Draw a scatter plot of VDAX log returns vs DAX log returns. Superimpose your linear fit from part (b) to make a diagram exactly like Figure 19 of Lecture 1.\n",
    "\n",
    "**Note** Yahoo tickers for the DAX and VDAX are `\"^GDAXI\"` and `\"^VDAX\"` respectively."
   ]
  },
  {
   "cell_type": "markdown",
   "metadata": {},
   "source": [
    "#### Answer\n",
    "\n",
    "(a)"
   ]
  },
  {
   "cell_type": "code",
   "execution_count": 60,
   "metadata": {
    "ExecuteTime": {
     "end_time": "2019-09-17T19:03:48.561102Z",
     "start_time": "2019-09-17T19:03:47.847Z"
    }
   },
   "outputs": [
    {
     "name": "stderr",
     "output_type": "stream",
     "text": [
      "Warning message:\n",
      "“^GDAXI contains missing values. Some functions will not work if objects contain missing values in the middle of the series. Consider using na.omit(), na.approx(), na.fill(), etc to remove or replace them.”"
     ]
    },
    {
     "data": {
      "text/html": [
       "'GDAXI'"
      ],
      "text/latex": [
       "'GDAXI'"
      ],
      "text/markdown": [
       "'GDAXI'"
      ],
      "text/plain": [
       "[1] \"GDAXI\""
      ]
     },
     "metadata": {},
     "output_type": "display_data"
    },
    {
     "name": "stderr",
     "output_type": "stream",
     "text": [
      "Warning message:\n",
      "“^VDAX contains missing values. Some functions will not work if objects contain missing values in the middle of the series. Consider using na.omit(), na.approx(), na.fill(), etc to remove or replace them.”"
     ]
    },
    {
     "data": {
      "text/html": [
       "'VDAX'"
      ],
      "text/latex": [
       "'VDAX'"
      ],
      "text/markdown": [
       "'VDAX'"
      ],
      "text/plain": [
       "[1] \"VDAX\""
      ]
     },
     "metadata": {},
     "output_type": "display_data"
    },
    {
     "data": {
      "text/plain": [
       "           Cl.GDAXI Cl.VDAX\n",
       "2005-11-16  5081.46   14.65\n",
       "2005-11-17  5099.72   14.54\n",
       "2005-11-18  5123.50   14.35\n",
       "2005-11-21  5170.61   13.56\n",
       "2005-11-22  5174.72   13.69\n",
       "2005-11-23  5196.08   13.11"
      ]
     },
     "metadata": {},
     "output_type": "display_data"
    }
   ],
   "source": [
    "library(xts)\n",
    "library(zoo)\n",
    "library(quantmod)\n",
    "library(boot)\n",
    "getSymbols(\"^GDAXI\",from=\"1927-01-01\") \n",
    "getSymbols(\"^VDAX\",from=\"1927-01-01\")\n",
    "\n",
    "m <- specifyModel(Cl(GDAXI)~Cl(VDAX))\n",
    "DaxData <- modelData(m)\n",
    "head(DaxData)"
   ]
  },
  {
   "cell_type": "markdown",
   "metadata": {},
   "source": [
    "(b)"
   ]
  },
  {
   "cell_type": "code",
   "execution_count": 64,
   "metadata": {
    "ExecuteTime": {
     "end_time": "2019-09-17T19:04:56.802521Z",
     "start_time": "2019-09-17T19:04:56.737Z"
    }
   },
   "outputs": [
    {
     "data": {
      "text/html": [
       "0.512964478828395"
      ],
      "text/latex": [
       "0.512964478828395"
      ],
      "text/markdown": [
       "0.512964478828395"
      ],
      "text/plain": [
       "[1] 0.5129645"
      ]
     },
     "metadata": {},
     "output_type": "display_data"
    },
    {
     "data": {
      "text/html": [
       "<table>\n",
       "<thead><tr><th></th><th scope=col>Cl.GDAXI</th></tr></thead>\n",
       "<tbody>\n",
       "\t<tr><th scope=row>Cl.VDAX</th><td>-0.7162154</td></tr>\n",
       "</tbody>\n",
       "</table>\n"
      ],
      "text/latex": [
       "\\begin{tabular}{r|l}\n",
       "  & Cl.GDAXI\\\\\n",
       "\\hline\n",
       "\tCl.VDAX & -0.7162154\\\\\n",
       "\\end{tabular}\n"
      ],
      "text/markdown": [
       "\n",
       "| <!--/--> | Cl.GDAXI |\n",
       "|---|---|\n",
       "| Cl.VDAX | -0.7162154 |\n",
       "\n"
      ],
      "text/plain": [
       "        Cl.GDAXI  \n",
       "Cl.VDAX -0.7162154"
      ]
     },
     "metadata": {},
     "output_type": "display_data"
    }
   ],
   "source": [
    "dax <- DaxData[,\"Cl.GDAXI\"]\n",
    "vdax <- DaxData[,\"Cl.VDAX\"]\n",
    "\n",
    "dax_ret <- log(dax/lag(dax))\n",
    "dax_ret <- dax_ret[!is.na(dax_ret)]\n",
    "vdax_ret <- log(vdax/lag(vdax))\n",
    "vdax_ret <- vdax_ret[!is.na(vdax_ret)]\n",
    "\n",
    "lm = lm(vdax_ret ~ dax_ret)\n",
    "r2 = summary(lm)$r.squared\n",
    "r2\n",
    "corr = cor(vdax_ret, dax_ret)\n",
    "corr"
   ]
  },
  {
   "cell_type": "markdown",
   "metadata": {},
   "source": [
    "R-square is 0.513, correlation is  -0.716"
   ]
  },
  {
   "cell_type": "markdown",
   "metadata": {},
   "source": [
    "(c)"
   ]
  },
  {
   "cell_type": "code",
   "execution_count": 65,
   "metadata": {
    "ExecuteTime": {
     "end_time": "2019-09-17T19:06:34.320390Z",
     "start_time": "2019-09-17T19:06:34.167Z"
    }
   },
   "outputs": [
    {
     "data": {
      "image/png": "[encoded data removed]",
      "text/plain": [
       "plot without title"
      ]
     },
     "metadata": {},
     "output_type": "display_data"
    }
   ],
   "source": [
    "plot(as.numeric(dax_ret), as.numeric(vdax_ret), xlab = \"DAX log-returns\", ylab = \"VDAX log-returns\", pch=20, col=\"blue\" )\n",
    "abline(lm, col = 'red', lwd=2)"
   ]
  }
 ],
 "metadata": {
  "kernelspec": {
   "display_name": "R",
   "language": "R",
   "name": "ir"
  },
  "language_info": {
   "codemirror_mode": "r",
   "file_extension": ".r",
   "mimetype": "text/x-r-source",
   "name": "R",
   "pygments_lexer": "r",
   "version": "3.5.1"
  },
  "latex_envs": {
   "LaTeX_envs_menu_present": true,
   "autoclose": false,
   "autocomplete": false,
   "bibliofile": "biblio.bib",
   "cite_by": "apalike",
   "current_citInitial": 1,
   "eqLabelWithNumbers": false,
   "eqNumInitial": 1,
   "hotkeys": {
    "equation": "Ctrl-E",
    "itemize": "Ctrl-I"
   },
   "labels_anchors": false,
   "latex_user_defs": false,
   "report_style_numbering": false,
   "user_envs_cfg": false
  },
  "varInspector": {
   "cols": {
    "lenName": 16,
    "lenType": 16,
    "lenVar": 40
   },
   "kernels_config": {
    "python": {
     "delete_cmd_postfix": "",
     "delete_cmd_prefix": "del ",
     "library": "var_list.py",
     "varRefreshCmd": "print(var_dic_list())"
    },
    "r": {
     "delete_cmd_postfix": ") ",
     "delete_cmd_prefix": "rm(",
     "library": "var_list.r",
     "varRefreshCmd": "cat(var_dic_list()) "
    }
   },
   "types_to_exclude": [
    "module",
    "function",
    "builtin_function_or_method",
    "instance",
    "_Feature"
   ],
   "window_display": false
  }
 },
 "nbformat": 4,
 "nbformat_minor": 1
}
