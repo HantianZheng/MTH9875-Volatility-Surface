{
 "cells": [
  {
   "cell_type": "markdown",
   "metadata": {},
   "source": [
    "# MTH9875 Homework 5\n",
    "\n",
    "## Chenyu Zhao\n",
    "\n",
    "### R version: 3.5.1\n",
    "\n",
    "Assigned: October 3, 2019.\n",
    "Due: October 17, 2019 by 6pm.\n",
    "\n",
    "Late homework **will not be accepted**.\n",
    " $$\n",
    "\\newcommand{\\bea}{\\begin{eqnarray}}\n",
    "\\newcommand{\\eea}{\\end{eqnarray}}\n",
    "\\newcommand{\\beas}{\\begin{eqnarray*}}\n",
    "\\newcommand{\\eeas}{\\end{eqnarray*}}\n",
    "\\newcommand{\\supp}{\\mathrm{supp}}\n",
    "\\newcommand{\\E}{\\mathbb{E} }\n",
    "\\def\\Cov{{ \\mbox{Cov} }}\n",
    "\\def\\Var{{ \\mbox{Var} }}\n",
    "\\newcommand{\\dm}{\\diamond}\n",
    "\\newcommand{\\1}{\\mathbf{1} }\n",
    "\\newcommand{\\cF}{\\mathcal{F} }\n",
    "\\newcommand{\\cG}{\\mathcal{G} }\n",
    "\\newcommand{\\cV}{\\mathcal{V} }\n",
    "\\newcommand{\\cL}{\\mathcal{L} }\n",
    "\\newcommand{\\PP}{\\mathbb{P} }\n",
    "\\newcommand{\\QQ}{\\mathbb{Q} }\n",
    "\\newcommand{\\RR}{\\mathbb{R} }\n",
    "\\newcommand{\\DD}{\\mathbb{D} }\n",
    "\\newcommand{\\HH}{\\mathbb{H} }\n",
    "\\newcommand{\\spn}{\\mathrm{span} }\n",
    "\\newcommand{\\cov}{\\mathrm{cov} }\n",
    "\\newcommand{\\HS}{\\mathcal{L}_{\\mathrm{HS}} }\n",
    "\\newcommand{\\trace}{\\mathrm{trace} }\n",
    "\\newcommand{\\LL}{\\mathcal{L} }\n",
    "\\newcommand{\\s}{\\mathcal{S} }\n",
    "\\newcommand{\\ee}{\\mathcal{E} }\n",
    "\\newcommand{\\ff}{\\mathcal{F} }\n",
    "\\newcommand{\\hh}{\\mathcal{H} }\n",
    "\\newcommand{\\bb}{\\mathcal{B} }\n",
    "\\newcommand{\\dd}{\\mathcal{D} }\n",
    "\\newcommand{\\g}{\\mathcal{G} }\n",
    "\\newcommand{\\half}{\\frac{1}{2} }\n",
    "\\newcommand{\\T}{\\mathcal{T} }\n",
    "\\newcommand{\\bi}{\\begin{itemize}}\n",
    "\\newcommand{\\ei}{\\end{itemize}}\n",
    "\\newcommand{\\beq}{\\begin{equation}}\n",
    "\\newcommand{\\eeq}{\\end{equation}}\n",
    "\\newcommand{\\ee}[1]{\\mathbb{E}\\left[{#1}\\right]}\n",
    "\\newcommand{\\eef}[1]{\\mathbb{E}\\left[\\left.{#1}\\right|\\cF_t\\right]}\n",
    "\\newcommand{\\Rplus}{\\mathbb{R}_{\\geqslant 0}}\n",
    "\\newcommand{\\Rpplus}{\\mathbb{R}_{> 0}}\n",
    "\\newcommand{\\Rminus}{\\mathbb{R}_{\\leqslant 0}}\n",
    "\\newcommand{\\p}{\\partial}\n",
    "\\newcommand{\\ui}{\\textrm{i}}\n",
    "\\newcommand{\\mP}{\\mathbb{P}}\n",
    "\\newcommand{\\mQ}{\\mathbb{Q}}\n",
    "\\newcommand{\\angl}[1]{\\langle{#1}\\rangle}\n",
    "\\newcommand{\\var}{{\\rm var}}\n",
    "\\newcommand{\\cov}{{\\rm cov}}\n",
    "\\newcommand{\\covf}[1]{\\cov\\left[\\left.{#1}\\right|\\cF_t\\right]}\n",
    "\\newcommand{\\varf}[1]{\\var\\left[\\left.{#1}\\right|\\cF_t\\right]}\n",
    "$$  "
   ]
  },
  {
   "cell_type": "markdown",
   "metadata": {},
   "source": [
    "<font color = \"red\">Homework is to be done by each student individually.  To receive full credit, you must email a completed copy of this iPython notebook to Allen Chen (allen.long.chen@gmail.com), Yassine Ghalem (yassine.ghalem@gmail.com) and Jim Gatheral (jim.gatheral@gmail.com) by the due date and time.  All R-code must run correctly and solutions must be written up neatly in Markdown/LaTeX format."
   ]
  },
  {
   "cell_type": "markdown",
   "metadata": {},
   "source": [
    "### 0. (0 points)\n",
    "\n",
    "Read Chapter 11 of The Volatility Surface"
   ]
  },
  {
   "cell_type": "markdown",
   "metadata": {},
   "source": [
    "### As usual, set up your R-environment\n",
    "\n",
    "The following code sources the Heston Monte Carlo simulation code `HestonMC2.R` from Lecture 4."
   ]
  },
  {
   "cell_type": "code",
   "execution_count": 1,
   "metadata": {
    "ExecuteTime": {
     "end_time": "2019-10-07T01:56:31.661168Z",
     "start_time": "2019-10-07T01:56:30.804Z"
    },
    "collapsed": true
   },
   "outputs": [],
   "source": [
    "#download.file(url=\"http://mfe.baruch.cuny.edu/wp-content/uploads/2018/09/9875-5.zip\", destfile=\"9875-5.zip\")\n",
    "#unzip(zipfile=\"9875-5.zip\")\n",
    "\n",
    "source(\"HestonMC2.R\")"
   ]
  },
  {
   "cell_type": "code",
   "execution_count": 2,
   "metadata": {
    "ExecuteTime": {
     "end_time": "2019-10-07T01:56:31.731654Z",
     "start_time": "2019-10-07T01:56:30.807Z"
    },
    "collapsed": true
   },
   "outputs": [],
   "source": [
    "library(repr)\n",
    "options(repr.plot.height=5)"
   ]
  },
  {
   "cell_type": "markdown",
   "metadata": {},
   "source": [
    "## Demonstrate variance swap replication path-by-path"
   ]
  },
  {
   "cell_type": "markdown",
   "metadata": {},
   "source": [
    "### 1. (8 points) \n",
    "\n",
    "(a)\n",
    "\n",
    "Amend the Heston Monte Carlo code `HestonMC2` from `HestonMC2.R` to return the variance swap hedging error (total profit or loss on rebalancing) for each Monte Carlo path.\n",
    "\n",
    "(b) \n",
    "\n",
    "With BCC parameters:\n",
    "\n",
    "\n",
    "\\begin{eqnarray*} \n",
    "v&=& 0.04\\\\ \\bar v &=& 0.04\\\\ \\lambda&=&1.15\\\\\n",
    "\\eta&=&0.39\\\\\\rho&=&-0.64\n",
    "\\end{eqnarray*}\n",
    "\n",
    "\n",
    "demonstrate that the \n",
    "variance swap hedging strategy outlined on page 136 of *The\n",
    "Volatility Surface* replicates the variance swap payoff path-by-path independently of the dynamical assumptions.  Assume a 1-year variance swap, use 252 time steps and 1,000 paths.  \n",
    "\n",
    "(c) \n",
    "\n",
    "Compute the mean and standard deviation of the hedging errors.\n",
    "\n",
    "(d)\n",
    "\n",
    "Draw a histogram of the variance swap replication errors.  Use `breaks=200`."
   ]
  },
  {
   "cell_type": "markdown",
   "metadata": {},
   "source": [
    "### Answer\n",
    "\n",
    "(a)"
   ]
  },
  {
   "cell_type": "code",
   "execution_count": 3,
   "metadata": {
    "ExecuteTime": {
     "end_time": "2019-10-07T01:56:31.743660Z",
     "start_time": "2019-10-07T01:56:30.840Z"
    },
    "code_folding": [],
    "collapsed": true
   },
   "outputs": [],
   "source": [
    "HestonMC2 <- function (params) \n",
    "{\n",
    "    is.even <- function(j) {\n",
    "        as.logical((j + 1)%%2)\n",
    "    }\n",
    "    \n",
    "    res <- function(S0, T, AK, N, m, evolve, exactVols = NULL) {\n",
    "        lambda <<- params$lambda\n",
    "        rho <<- params$rho\n",
    "        eta <<- params$eta\n",
    "        vbar <<- params$vbar\n",
    "        v0 <<- params$v\n",
    "        \n",
    "        #n is number of timesteps = 2*m so we can use Romberg extrapolation\n",
    "        n <- m * 2\n",
    "        sqrt2 <- sqrt(2)\n",
    "        rho2m1 <<- sqrt(1 - rho * rho)\n",
    "        vbarp <<- vbar - eta^2/(4 * lambda)\n",
    "        negCount <- 0\n",
    "        \n",
    "        # We use a vertical array, one element per M.C. path\n",
    "        x <- rep(0, N)\n",
    "        v <- rep(1, N) * v0\n",
    "        xm <- x\n",
    "        vm <- v\n",
    "        W1m <- rep(0, N)\n",
    "        W2m <- rep(0, N)\n",
    "        \n",
    "        # add variance swap\n",
    "        varswap<-numeric(N)\n",
    "        varswap_replication<-numeric(N)\n",
    "        \n",
    "        for (i in 1:n) {\n",
    "            \n",
    "            # Two sets of correlated normal random vars.\n",
    "            W1 <- rnorm(N)\n",
    "            W2 <- rnorm(N)\n",
    "            W1 <- W1 - mean(W1)\n",
    "            W1 <- W1/sd(W1)\n",
    "            W2 <- W2 - mean(W2)\n",
    "            W2 <- W2/sd(W2)\n",
    "            # Now W1 and W2 are forced to have mean=0 and sd=1\n",
    "            \n",
    "            # Orthogonalization, remove correlation\n",
    "            W2p <- W2 - cor(W1, W2) * W1\n",
    "            W2p <- W2p - mean(W2p)\n",
    "            W2 <- W2p/sd(W2p)\n",
    "            # Now W1 and W2 have mean=0, sd=1 and correlation=0\n",
    "            \n",
    "            # Bernoulli rv for NV step\n",
    "            L <- rbinom(N, size = 1, prob = 1/2)\n",
    "            \n",
    "            # Code N(0,1) rv's for subgrid\n",
    "            W1m <- W1m + W1/sqrt2\n",
    "            W2m <- W2m + W2/sqrt2\n",
    "            \n",
    "            if (is.even(i)) {\n",
    "                resm <- evolve(vm, xm, T/m, W1m, W2m, L)\n",
    "                xm <- resm[, 1]\n",
    "                vm <- resm[, 2]\n",
    "                W1m <- rep(0, N)\n",
    "                W2m <- rep(0, N)\n",
    "            }\n",
    "            res <- evolve(v, x, T/n, W1, W2, L)\n",
    "            xnew <- res[,1]\n",
    "            xold <- x\n",
    "            x <- xnew\n",
    "            v <- res[, 2]\n",
    "            varswap<-varswap+v*T/n\n",
    "            varswap_replication<-varswap_replication+(exp(x)-exp(xold))/exp(xold)\n",
    "            negCount <- negCount + mean(v < 0)/n\n",
    "        }\n",
    "        \n",
    "        varswap_replication<-2*varswap_replication-2*log(exp(x)/S0)\n",
    "\n",
    "        results <- list(\"varswap\"=varswap,\"varswap_replication\"=varswap_replication)\n",
    "        return(results)\n",
    "    }\n",
    "    return(res)\n",
    "}"
   ]
  },
  {
   "cell_type": "markdown",
   "metadata": {},
   "source": [
    "(b)"
   ]
  },
  {
   "cell_type": "code",
   "execution_count": 4,
   "metadata": {
    "ExecuteTime": {
     "end_time": "2019-10-07T01:57:06.339518Z",
     "start_time": "2019-10-07T01:57:05.373Z"
    },
    "code_folding": [
     0
    ]
   },
   "outputs": [
    {
     "name": "stdout",
     "output_type": "stream",
     "text": [
      "[1] \"variance swap is: \"\n",
      "[1] 0.04003036\n",
      "[1] \"replication is: \"\n",
      "[1] 0.03999178\n",
      "[1] \"their difference, which is hedging error:\"\n",
      "[1] -3.858321e-05\n"
     ]
    }
   ],
   "source": [
    "evolveAlfonsiF <- function(v,x,dt,W1,W2,L=NULL){\n",
    "\n",
    "    eldt2 <- exp(-lambda*dt/2);\n",
    "\n",
    "    #Variance process\n",
    "    vbarp <- vbar - eta^2/(4*lambda);\n",
    "    psi <- (1-eldt2)/lambda;\n",
    "    v1 <- v*eldt2+lambda*vbarp*psi;\n",
    "    v2 <- (v1 > 0) * v1; # Take v2 = 0 if v1<0, else v2=v1\n",
    "    par <- sqrt(v2) + eta/2 * sqrt(dt)*W2;\n",
    "    vf <- eldt2*par*par +lambda*vbarp*psi + v1 - v2;\n",
    "\n",
    "    # Log-stock process (Andersen equation (33))\n",
    "    vvf <- (v+vf > 0) * (v+vf);\n",
    "    dw <- vvf/2*dt;\n",
    "    x <- x  - dw/2 + rho2m1*sqrt(dw)*W1 + rho/eta*(lambda*dw + vf-v -lambda*vbar*dt) ;\n",
    "    # Impose martingale constraint\n",
    "    x <- x - log(mean(exp(x)));\n",
    "    v <- vf;\n",
    "    return(cbind(x,v));\n",
    "}\n",
    "\n",
    "paramsBCC <- list(lambda=1.15,rho=-0.64,eta=0.39,vbar=0.04,v=0.04)\n",
    "\n",
    "Ks<- c()\n",
    "res<- HestonMC2(paramsBCC)(S0=1, T=1, AK=Ks, N=10000, m=126, evolve=evolveAlfonsiF)\n",
    "\n",
    "varswap <- res$varswap\n",
    "varswap_replication <- res$varswap_replication\n",
    "\n",
    "varswap_mean<-mean(varswap)\n",
    "varswap_replication_mean<-mean(varswap_replication)\n",
    "\n",
    "print(\"variance swap is: \")\n",
    "print(varswap_mean)\n",
    "print(\"replication is: \")\n",
    "print(varswap_replication_mean)\n",
    "print(\"their difference, which is hedging error:\")\n",
    "print(varswap_replication_mean-varswap_mean)"
   ]
  },
  {
   "cell_type": "markdown",
   "metadata": {},
   "source": [
    "(c)"
   ]
  },
  {
   "cell_type": "code",
   "execution_count": 5,
   "metadata": {
    "ExecuteTime": {
     "end_time": "2019-10-07T01:57:08.406121Z",
     "start_time": "2019-10-07T01:57:08.388Z"
    }
   },
   "outputs": [
    {
     "name": "stdout",
     "output_type": "stream",
     "text": [
      "[1] \"mean of hedging error:\"\n",
      "[1] -3.858321e-05\n",
      "[1] \"std of hedging error\"\n",
      "[1] 0.004942333\n"
     ]
    }
   ],
   "source": [
    "print(\"mean of hedging error:\")\n",
    "print(varswap_replication_mean-varswap_mean)\n",
    "print(\"std of hedging error\")\n",
    "print(sd(varswap_replication-varswap))"
   ]
  },
  {
   "cell_type": "markdown",
   "metadata": {},
   "source": [
    "(d)"
   ]
  },
  {
   "cell_type": "code",
   "execution_count": 6,
   "metadata": {
    "ExecuteTime": {
     "end_time": "2019-10-07T01:57:09.790914Z",
     "start_time": "2019-10-07T01:57:09.724Z"
    }
   },
   "outputs": [
    {
     "data": {
      "image/png": "[encoded data removed]",
      "text/plain": [
       "Plot with title “Histogram of varswap_replication - varswap”"
      ]
     },
     "metadata": {},
     "output_type": "display_data"
    }
   ],
   "source": [
    "hist(varswap_replication-varswap, xlab=\"replication errors\", breaks=200)"
   ]
  },
  {
   "cell_type": "markdown",
   "metadata": {},
   "source": [
    "## The gamma swap"
   ]
  },
  {
   "cell_type": "markdown",
   "metadata": {},
   "source": [
    "### 2. (8 points)\n",
    "\n",
    "Assume a stock process of the form\n",
    "\n",
    "$$\n",
    "\\frac{dS_t}{S_t}=\\sqrt{v_t}\\,dZ_t\n",
    "$$\n",
    "\n",
    "where $v_t$ may be stochastic.\n",
    "\n",
    "Wlog, let $S_t=1$.  A continuous time version of the payoff of a gamma swap is\n",
    "$\n",
    "\\int_t^T\\,S_u\\,v_u\\,du\n",
    "$.\n",
    "\n",
    "(a)\n",
    "\n",
    "Compute $d(S_t\\,\\log S_t)$ using Itô's Lemma.\n",
    "\n",
    "(b)\n",
    "\n",
    "Deduce the semi-static model-free hedging strategy involving a static hedge in European options and continuous rebalancing in the stock. \n",
    "\n",
    "(c) \n",
    "\n",
    "Using the spanning formula, derive an expression for the weights of the options in the static hedge."
   ]
  },
  {
   "cell_type": "markdown",
   "metadata": {},
   "source": [
    "### Answer\n",
    "\n",
    "(a)\n",
    "\n",
    "\\begin{eqnarray}\n",
    "d\\left(S_t\\,\\log S_t\\right)&=&\\log S_t dS_t+S_t d\\log S_t + dS_t d\\log S_t\\\\\n",
    "&=& \\log S_t dS_t+(S_t+dS_t)(\\frac{1}{S_t}dS_t-\\frac{1}{2S_t}v_tS_t^2dt)\\\\\n",
    "&=&S_t\\log S_t\\sqrt{v_t}dZ_t+S_t\\sqrt{v_t}dZ_t-\\frac{S_t}{2}v_tdt+S_tv_tdt\\\\\n",
    "&=&(1+\\log S_t)S_t\\sqrt v_t dt + \\frac{S_t}{2}v_tdt\n",
    "\\end{eqnarray}"
   ]
  },
  {
   "cell_type": "markdown",
   "metadata": {},
   "source": [
    "(b)\n",
    "\n",
    "The gamma swap's payoff, can be replicated by integrate (a)'s result on both side\n",
    "\n",
    "$$ \n",
    "\\int_t^T\\,S_u\\,v_u\\,du = 2S_T\\log S_T - 2S_t\\log S_t -2\\int_t^T(1+\\log S_u)dS_u\n",
    "$$\n",
    "\n",
    "$2S_t\\log S_t$ is the static hedging part, and $2\\int_t^T(1+\\log S_u)dS_u$ is rebalancing part, with holding position $(1+\\log S_u)$"
   ]
  },
  {
   "cell_type": "markdown",
   "metadata": {},
   "source": [
    "(c)\n",
    "let $g(S_T)= 2S_T\\log S_T$\n",
    "$$\n",
    "g(S_T)=g(F) + g'(F)(S_T-F) +  \\int_0^F g''(K)(K-S_T)^+\\,dK + \\int_F^\\infty g''(K)(S_T-K)^+ dK\n",
    "$$\n",
    "Let $F=S_0$, we have\n",
    "$$\n",
    "g'(S_T)=2(\\log S_T+1), \\quad\n",
    "g''(S_T)=\\frac{2}{S_T}.\n",
    "$$\n",
    "substitute in first formula, we get weights for call and put options is $\\dfrac{2}{K}$.Weight of stocks is $2\\log S_0+ 2$. "
   ]
  },
  {
   "cell_type": "markdown",
   "metadata": {},
   "source": [
    "### 3. (9 points) \n",
    "\n",
    "\n",
    "Recall the Heston model which reads\n",
    "\n",
    "\n",
    "\\begin{eqnarray*} \n",
    "\\frac{dS_t}{S_t} &=& \\sqrt{v_t}\\,dZ_t\\\\\n",
    "dv_t &=& -\\lambda\\,(v - \\bar v)\\,dt +\\eta\\,\\sqrt{v_t}\\,dW_t.\n",
    "\\end{eqnarray*} \n",
    "\n",
    "with $d\\angl{W,Z}_t = \\rho\\,dt$.\n",
    "\n",
    "(a) Apply Itô's Formula to $g(u)=\\eef{S_u\\,v_u}$ to obtain an ODE for $g(u)$.\n",
    "\n",
    "\n",
    "\n",
    "(b) Solve this ODE for $g(u) = \\eef{S_u\\,v_u}$ \n",
    "to show that\n",
    "<p>\n",
    "$$\n",
    "\\frac{1}{S_t}\\,\\eef{S_u\\,v_u}= v_t\\,e^{-\\lambda'\\,(u-t)}+\\frac{\\lambda}{\\lambda'}\\,\\bar v\\,\\left\\{1- e^{-\\lambda'\\,(u-t)}\\right\\}\n",
    "$$\n",
    "<p>\n",
    "where $\\lambda'=\\lambda-\\rho\\,\\eta$."
   ]
  },
  {
   "cell_type": "markdown",
   "metadata": {},
   "source": [
    "### Answer\n",
    "\n",
    "(a)\n",
    "\n",
    "\\begin{eqnarray}\n",
    "dg(u)&=&\\eef{v_udS_u+S_udv_u+dS_udv_u}\\\\\n",
    "&=&\\eef{S_uv_u\\sqrt{v_u} dZ_u -\\lambda(v_u-\\bar v)S_udt+\\eta S_u\\sqrt {v_u} dW_u+\\eta S_u v_u \\rho dt}\\\\\n",
    "&=&\\eef{-\\lambda(v_u-\\bar v)S_udt+\\rho\\eta S_u v_u  dt}\\\\\n",
    "&=&\\eef{-(\\lambda-\\rho \\eta)S_uv_u dt+\\lambda\\bar vS_udt}\\\\\n",
    "&=&-(\\lambda-\\rho \\eta)g(u)dt+\\lambda\\bar v\\eef{S_u}dt\\\\\n",
    "&=&-(\\lambda-\\rho \\eta)g(u)dt+\\lambda\\bar vS_tdt\n",
    "\\end{eqnarray}"
   ]
  },
  {
   "cell_type": "markdown",
   "metadata": {},
   "source": [
    "(b)\n",
    "\n",
    "solve $g(u)$ explicitly\n",
    "\n",
    "\\begin{eqnarray}\n",
    "g(u)&=&  g(t)\\,e^{-\\lambda'\\,(u-t)}+\\frac{\\lambda}{\\lambda'}\\,\\bar v\\,S_t\\left\\{1- e^{-\\lambda'\\,(u-t)}\\right\\}\\\\\n",
    "&=&S_tv_t\\,e^{-\\lambda'\\,(u-t)}+\\frac{\\lambda}{\\lambda'}\\,\\bar v\\,S_t\\left\\{1- e^{-\\lambda'\\,(u-t)}\\right\\}\n",
    "\\end{eqnarray}\n",
    "\n",
    "divide both side by $S_t$,\n",
    "\n",
    "$$\n",
    "\\frac{1}{S_t}\\,\\eef{S_u\\,v_u}= v_t\\,e^{-\\lambda'\\,(u-t)}+\\frac{\\lambda}{\\lambda'}\\,\\bar v\\,\\left\\{1- e^{-\\lambda'\\,(u-t)}\\right\\}\n",
    "$$"
   ]
  },
  {
   "cell_type": "markdown",
   "metadata": {},
   "source": [
    "### 4. (9 points) \n",
    "\n",
    "\n",
    "Recall the definition of the gamma swap:\n",
    "$$\\cG_t(T) =2\\,\\E\\left[\\frac{S_T}{S_t}\\,\\log \\frac{S_T}{S_t}\\right]= {\\mathbb{E} }\\left [\\left. \\int_t^T\\,\\frac{S_u}{S_t}\\,v_u\\,du \\right| {\\mathcal{F} }_t\\right].$$\n",
    "\n",
    "(a) Use your expression for $\\eef{S_u\\,v_u}$ from Problem 3 to perform the above integration explicitly and derive a closed-form expression for the gamma swap rate\n",
    "$\n",
    "\\frac{1}{T-t}\\,\\cG_t(T).\n",
    "$\n",
    "\n",
    "(b) Compute the 1-Year Heston gamma swap rate with BCC parameters.\n",
    "\n",
    "(c) With BCC parameters, plot the Heston leverage swap rate $\n",
    "\\frac{1}{T-t}\\cL_t(T) = \\frac{1}{T-t}\\,\\cG_t(T)- \\frac{1}{T-t}\\,\\cV_t(T)= \\frac{1}{T-t}\\,\\cG_t(T)- \\bar v.\n",
    "$\n",
    "as a function of $\\tau =T-t$ from $\\tau=0$ to $\\tau=3$."
   ]
  },
  {
   "cell_type": "markdown",
   "metadata": {},
   "source": [
    "### Answer\n",
    "\n",
    "(a)\n",
    "\n",
    "\\begin{eqnarray}\n",
    "\\cG_t(T) &=& \\eef{\\int_t^T \\left[ v_t\\,e^{-\\lambda'\\,(u-t)}+\\frac{\\lambda}{\\lambda'}\\,\\bar v\\,\\left\\{1- e^{-\\lambda'\\,(u-t)}\\right\\} \\right]dt}\\\\\n",
    "&=&v_t \\frac{1 - e^{-\\lambda'\\,(T-t)} }{\\lambda'} \n",
    "+  \\bar v \\frac{\\lambda(T-t)}{\\lambda'}-  \\bar v \\frac{\\lambda }{\\lambda'^2}\\left[ 1 - e^{-\\lambda'\\,(T-t)} \\right]\n",
    "\\end{eqnarray}\n",
    "\n",
    "thus,\n",
    "$$\n",
    "\\frac{1}{T-t}\\cG_t(T)=v_t \\frac{1 - e^{-\\lambda'\\,(T-t)} }{(T-t)\\lambda'} \n",
    "+  \\bar v \\frac{\\lambda}{\\lambda'}-  \\bar v \\frac{\\lambda }{\\lambda'^2(T-t)}\\left[ 1 - e^{-\\lambda'\\,(T-t)} \\right]\n",
    "$$"
   ]
  },
  {
   "cell_type": "markdown",
   "metadata": {},
   "source": [
    "(b)"
   ]
  },
  {
   "cell_type": "code",
   "execution_count": 8,
   "metadata": {
    "ExecuteTime": {
     "end_time": "2019-10-07T01:57:18.107272Z",
     "start_time": "2019-10-07T01:57:18.075Z"
    }
   },
   "outputs": [
    {
     "data": {
      "text/html": [
       "0.0367059672018852"
      ],
      "text/latex": [
       "0.0367059672018852"
      ],
      "text/markdown": [
       "0.0367059672018852"
      ],
      "text/plain": [
       "[1] 0.03670597"
      ]
     },
     "metadata": {},
     "output_type": "display_data"
    }
   ],
   "source": [
    "GammaSwapRate <- function (params, tau) {\n",
    "    lambda <- params$lambda\n",
    "    rho <- params$rho\n",
    "    eta <- params$eta\n",
    "    vbar <- params$vbar\n",
    "    v0 <- params$v\n",
    "    \n",
    "    lambda_p <- lambda-rho*eta\n",
    "    temp <- (1-exp(-lambda_p*tau))/(lambda_p*tau)\n",
    "    gamma_swap <- v0*temp + (1-temp)*lambda*vbar/lambda_p\n",
    "    \n",
    "    return(gamma_swap)\n",
    "}\n",
    "\n",
    "GammaSwapRate(paramsBCC, 1)"
   ]
  },
  {
   "cell_type": "markdown",
   "metadata": {},
   "source": [
    "1-Year Heston gamma swap rate with BCC parameters is 0.0367059672018852"
   ]
  },
  {
   "cell_type": "markdown",
   "metadata": {},
   "source": [
    "(c)"
   ]
  },
  {
   "cell_type": "code",
   "execution_count": 9,
   "metadata": {
    "ExecuteTime": {
     "end_time": "2019-10-07T01:57:18.295306Z",
     "start_time": "2019-10-07T01:57:18.087Z"
    }
   },
   "outputs": [
    {
     "data": {
      "image/png": "[encoded data removed]",
      "text/plain": [
       "plot without title"
      ]
     },
     "metadata": {},
     "output_type": "display_data"
    }
   ],
   "source": [
    "HestonLeverageSwapRate <- function(params) {    \n",
    "    helper <- function(tau) {\n",
    "        vbar <- params$vbar\n",
    "        gamma_swap_rate <- GammaSwapRate(params,tau)\n",
    "        return (gamma_swap_rate-vbar)\n",
    "    }   \n",
    "    return (helper)\n",
    "}\n",
    "\n",
    "HestonLeverageSwapRateBCC <- HestonLeverageSwapRate(paramsBCC)\n",
    "\n",
    "ts <- seq(0, 3, 0.0001)\n",
    "HestonLeverageSwapRateBCCVectorized <- Vectorize(HestonLeverageSwapRateBCC)\n",
    "HestonLeverageSwapRateBCC_results <- HestonLeverageSwapRateBCCVectorized(ts)\n",
    "plot(ts, HestonLeverageSwapRateBCC_results, col=\"red\",ylab=\"Heston Leverage Swap Rate With BCC parameters\",xlab=\"tau\", pch='.')"
   ]
  },
  {
   "cell_type": "markdown",
   "metadata": {},
   "source": [
    "### 5. (8 points) \n",
    "\n",
    "(a) Repeat Problem 1 for a gamma swap with the static hedge you derived for the gamma swap in Problem 2.\n",
    "\n",
    "(b) Compute the 1-Year gamma swap rate from your Monte Carlo simulation and compare with the closed-form computation in Problem 4."
   ]
  },
  {
   "cell_type": "markdown",
   "metadata": {
    "collapsed": true
   },
   "source": [
    "### Answer\n",
    "\n",
    "(a)"
   ]
  },
  {
   "cell_type": "code",
   "execution_count": 7,
   "metadata": {
    "ExecuteTime": {
     "end_time": "2019-10-07T01:57:18.306457Z",
     "start_time": "2019-10-07T01:57:18.100Z"
    },
    "code_folding": [],
    "collapsed": true
   },
   "outputs": [],
   "source": [
    "HestonMC2GammaSwap <- function (params) \n",
    "{\n",
    "    is.even <- function(j) {\n",
    "        as.logical((j + 1)%%2)\n",
    "    }\n",
    "    \n",
    "    res <- function(S0, T, AK, N, m, evolve, exactVols = NULL) {\n",
    "        lambda <<- params$lambda\n",
    "        rho <<- params$rho\n",
    "        eta <<- params$eta\n",
    "        vbar <<- params$vbar\n",
    "        v0 <<- params$v\n",
    "        \n",
    "        #n is number of timesteps = 2*m so we can use Romberg extrapolation\n",
    "        n <- m * 2\n",
    "        sqrt2 <- sqrt(2)\n",
    "        rho2m1 <<- sqrt(1 - rho * rho)\n",
    "        vbarp <<- vbar - eta^2/(4 * lambda)\n",
    "        negCount <- 0\n",
    "        \n",
    "        # We use a vertical array, one element per M.C. path\n",
    "        x <- rep(0, N)\n",
    "        v <- rep(1, N) * v0\n",
    "        xm <- x\n",
    "        vm <- v\n",
    "        W1m <- rep(0, N)\n",
    "        W2m <- rep(0, N)\n",
    "        \n",
    "        # add gamma swap\n",
    "        gammaswap<-numeric(N)\n",
    "        gammaswap_replication<-numeric(N)\n",
    "        \n",
    "        for (i in 1:n) {\n",
    "            \n",
    "            # Two sets of correlated normal random vars.\n",
    "            W1 <- rnorm(N)\n",
    "            W2 <- rnorm(N)\n",
    "            W1 <- W1 - mean(W1)\n",
    "            W1 <- W1/sd(W1)\n",
    "            W2 <- W2 - mean(W2)\n",
    "            W2 <- W2/sd(W2)\n",
    "            # Now W1 and W2 are forced to have mean=0 and sd=1\n",
    "            \n",
    "            # Orthogonalization, remove correlation\n",
    "            W2p <- W2 - cor(W1, W2) * W1\n",
    "            W2p <- W2p - mean(W2p)\n",
    "            W2 <- W2p/sd(W2p)\n",
    "            # Now W1 and W2 have mean=0, sd=1 and correlation=0\n",
    "            \n",
    "            # Bernoulli rv for NV step\n",
    "            L <- rbinom(N, size = 1, prob = 1/2)\n",
    "            \n",
    "            # Code N(0,1) rv's for subgrid\n",
    "            W1m <- W1m + W1/sqrt2\n",
    "            W2m <- W2m + W2/sqrt2\n",
    "            \n",
    "            if (is.even(i)) {\n",
    "                #print(c(i,mean(W1m),mean(W2m),sd(W1m),sd(W2m),cor(W1m,W2m))) \n",
    "                resm <- evolve(vm, xm, T/m, W1m, W2m, L)\n",
    "                xm <- resm[, 1]\n",
    "                vm <- resm[, 2]\n",
    "                W1m <- rep(0, N)\n",
    "                W2m <- rep(0, N)\n",
    "            }\n",
    "            res <- evolve(v, x, T/n, W1, W2, L)\n",
    "            xnew <- res[,1]\n",
    "            xold <- x\n",
    "            x <- xnew\n",
    "            v <- res[, 2]\n",
    "            gammaswap<-gammaswap+v*exp(x)*T/n\n",
    "            gammaswap_replication<-gammaswap_replication+(1+xold)*(exp(xnew)-exp(xold))\n",
    "            negCount <- negCount + mean(v < 0)/n\n",
    "        }\n",
    "        \n",
    "        gammaswap_replication<-2*exp(x)*x-2*S0*log(S0)-2*gammaswap_replication\n",
    "\n",
    "        results <- list(\"gammaswap\"=gammaswap,\"gammaswap_replication\"=gammaswap_replication)\n",
    "        return(results)\n",
    "    }\n",
    "    return(res)\n",
    "}"
   ]
  },
  {
   "cell_type": "code",
   "execution_count": 8,
   "metadata": {
    "ExecuteTime": {
     "end_time": "2019-10-07T01:57:19.366015Z",
     "start_time": "2019-10-07T01:57:18.102Z"
    }
   },
   "outputs": [
    {
     "name": "stdout",
     "output_type": "stream",
     "text": [
      "[1] \"Gamma swap is:\"\n",
      "[1] 0.03658873\n",
      "[1] \"replication is:\"\n",
      "[1] 0.03657754\n",
      "[1] \"their difference, which is hedging error:\"\n",
      "[1] -1.119083e-05\n"
     ]
    }
   ],
   "source": [
    "Ks<- c()\n",
    "res <- HestonMC2GammaSwap(paramsBCC)(S0=1, T=1, AK=Ks, N=10000, m=126, evolve=evolveAlfonsiF)\n",
    "\n",
    "gammaswap <- res$gammaswap\n",
    "gammaswap_replication <- res$gammaswap_replication\n",
    "\n",
    "gammaswap_mean<-mean(gammaswap)\n",
    "gammaswap_replication_mean<-mean(gammaswap_replication)\n",
    "\n",
    "print(\"Gamma swap is:\")\n",
    "print(gammaswap_mean)\n",
    "print(\"replication is:\")\n",
    "print(gammaswap_replication_mean)\n",
    "print(\"their difference, which is hedging error:\")\n",
    "print(gammaswap_replication_mean-gammaswap_mean)"
   ]
  },
  {
   "cell_type": "code",
   "execution_count": 9,
   "metadata": {
    "ExecuteTime": {
     "end_time": "2019-10-07T01:57:19.391389Z",
     "start_time": "2019-10-07T01:57:18.104Z"
    }
   },
   "outputs": [
    {
     "name": "stdout",
     "output_type": "stream",
     "text": [
      "[1] \"mean of hedging error:\"\n",
      "[1] -1.119083e-05\n",
      "[1] \"std of hedging error\"\n",
      "[1] 0.004370419\n"
     ]
    }
   ],
   "source": [
    "print(\"mean of hedging error:\")\n",
    "print(gammaswap_replication_mean-gammaswap_mean)\n",
    "print(\"std of hedging error\")\n",
    "print(sd(gammaswap_replication-gammaswap))"
   ]
  },
  {
   "cell_type": "code",
   "execution_count": 10,
   "metadata": {
    "ExecuteTime": {
     "end_time": "2019-10-07T01:57:19.446875Z",
     "start_time": "2019-10-07T01:57:18.106Z"
    }
   },
   "outputs": [
    {
     "data": {
      "image/png": "[encoded data removed]",
      "text/plain": [
       "Plot with title “Histogram of gammaswap_replication - gammaswap”"
      ]
     },
     "metadata": {},
     "output_type": "display_data"
    }
   ],
   "source": [
    "hist(gammaswap_replication-gammaswap, xlab=\"replication errors\", breaks=200)"
   ]
  },
  {
   "cell_type": "markdown",
   "metadata": {},
   "source": [
    "(b)\n",
    "\n",
    "The one-year gamma swap rate from Monte Carlo simulation is $0.0367059672018852$, and the closed-form gives $0.03670597$. The relative error is around 0.1%. They are very close."
   ]
  }
 ],
 "metadata": {
  "kernelspec": {
   "display_name": "R",
   "language": "R",
   "name": "ir"
  },
  "language_info": {
   "codemirror_mode": "r",
   "file_extension": ".r",
   "mimetype": "text/x-r-source",
   "name": "R",
   "pygments_lexer": "r",
   "version": "3.5.1"
  },
  "latex_envs": {
   "LaTeX_envs_menu_present": true,
   "autoclose": false,
   "autocomplete": false,
   "bibliofile": "biblio.bib",
   "cite_by": "apalike",
   "current_citInitial": 1,
   "eqLabelWithNumbers": false,
   "eqNumInitial": 1,
   "hotkeys": {
    "equation": "Ctrl-E",
    "itemize": "Ctrl-I"
   },
   "labels_anchors": false,
   "latex_user_defs": false,
   "report_style_numbering": false,
   "user_envs_cfg": false
  },
  "varInspector": {
   "cols": {
    "lenName": 16,
    "lenType": 16,
    "lenVar": 40
   },
   "kernels_config": {
    "python": {
     "delete_cmd_postfix": "",
     "delete_cmd_prefix": "del ",
     "library": "var_list.py",
     "varRefreshCmd": "print(var_dic_list())"
    },
    "r": {
     "delete_cmd_postfix": ") ",
     "delete_cmd_prefix": "rm(",
     "library": "var_list.r",
     "varRefreshCmd": "cat(var_dic_list()) "
    }
   },
   "types_to_exclude": [
    "module",
    "function",
    "builtin_function_or_method",
    "instance",
    "_Feature"
   ],
   "window_display": false
  }
 },
 "nbformat": 4,
 "nbformat_minor": 1
}
