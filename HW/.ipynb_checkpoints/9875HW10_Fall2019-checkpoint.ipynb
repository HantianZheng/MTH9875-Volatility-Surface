{
 "cells": [
  {
   "cell_type": "markdown",
   "metadata": {},
   "source": [
    "# MTH9875 Homework 10\n",
    "\n",
    "## Chenyu Zhao\n",
    "\n",
    "### R version: 3.5.1\n",
    "\n",
    "\n",
    "Assigned: November 7, 2019.\n",
    "Due: November 21, 2019 by 6pm.\n",
    "\n",
    "Late homework **will not be accepted**.\n",
    "\n",
    "$$\n",
    "\\newcommand{\\beas}{\\begin{eqnarray*}}\n",
    "\\newcommand{\\eeas}{\\end{eqnarray*}}\n",
    "\\newcommand{\\bea}{\\begin{eqnarray}}\n",
    "\\newcommand{\\eea}{\\end{eqnarray}}\n",
    "\\newcommand{\\ben}{\\begin{enumerate}}\n",
    "\\newcommand{\\een}{\\end{enumerate}}\n",
    "\\newcommand{\\bi}{\\begin{itemize}}\n",
    "\\newcommand{\\ei}{\\end{itemize}}\n",
    "\\newcommand{\\beq}{\\begin{equation}}\n",
    "\\newcommand{\\eeq}{\\end{equation}}\n",
    "\\newcommand{\\bv}{\\begin{verbatim}}\n",
    "\\newcommand{\\ev}{\\end{verbatim}}\n",
    "\\newcommand{\\E}{\\mathbb{E}}\n",
    "\\newcommand{\\R}{\\mathbb{R}}\n",
    "\\newcommand{\\mP}{\\mathbbm{P}}\n",
    "\\newcommand{\\mQ}{\\mathbbm{Q}}\n",
    "\\newcommand{\\sigl}{\\sigma_L}\n",
    "\\newcommand{\\BS}{\\rm BS}\n",
    "\\newcommand{\\vix}{\\text{VIX}}\n",
    "\\newcommand{\\p}{\\partial}\n",
    "\\newcommand{\\var}{{\\rm var}}\n",
    "\\newcommand{\\cov}{{\\rm cov}}\n",
    "\\newcommand{\\mt}{\\mathbf{t}}\n",
    "\\newcommand{\\mS}{\\mathbf{S}}\n",
    "\\newcommand{\\tC}{\\widetilde{C}}\n",
    "\\newcommand{\\hC}{\\widehat{C}}\n",
    "\\newcommand{\\cE}{\\mathcal{E}}\n",
    "\\newcommand{\\tH}{\\widetilde{H}}\n",
    "\\newcommand{\\cD}{\\mathcal{D}}\n",
    "\\newcommand{\\cM}{\\mathcal{M}}\n",
    "\\newcommand{\\cS}{\\mathcal{S}}\n",
    "\\newcommand{\\cR}{\\mathcal{R}}\n",
    "\\newcommand{\\cF}{\\mathcal{F}}\n",
    "\\newcommand{\\cV}{\\mathcal{V}}\n",
    "\\newcommand{\\cG}{\\mathcal{G}}\n",
    "\\newcommand{\\cv}{\\mathcal{v}}\n",
    "\\newcommand{\\cg}{\\mathcal{g}}\n",
    "\\newcommand{\\cL}{\\mathcal{L}}\n",
    "\\newcommand{\\cC}{\\mathcal{C}}\n",
    "\\newcommand{\\cO}{\\mathcal{O}}\n",
    "\\newcommand{\\dt}{\\Delta t}\n",
    "\\newcommand{\\dm}{\\diamond}\n",
    "\\newcommand{\\mA}{\\mathbb{A}}\n",
    "\\newcommand{\\mF}{\\mathbb{F}}\n",
    "\\newcommand{\\ui}{\\textrm{i}}\n",
    "\\newcommand{\\tr}{{\\rm tr}}\n",
    "\\newcommand{\\sgn}{\\mathrm{sign}}\n",
    "\\newcommand{\\ee}[1]{\\mathbb{E}\\left[{#1}\\right]}\n",
    "\\newcommand{\\eef}[1]{{\\mathbb{E}\\left[\\left.{#1}\\right|\\cF_t\\right]}}\n",
    "\\newcommand{\\eefm}[2]{{\\mathbb{E}^{#2}\\left[\\left.{#1}\\right|\\cF_t\\right]}}\n",
    "\\newcommand{\\angl}[1]{{\\langle{#1}\\rangle}}\n",
    "\\newcommand{\\covf}[1]{{\\cov\\left[\\left.{#1}\\right|\\cF_t\\right]}}\n",
    "\\newcommand{\\varf}[1]{{\\var\\left[\\left.{#1}\\right|\\cF_t\\right]}}\n",
    "$$"
   ]
  },
  {
   "cell_type": "markdown",
   "metadata": {},
   "source": [
    "<font color = \"red\">Homework is to be done by each student individually.  To receive full credit, you must email a completed copy of this iPython notebook to Allen Chen (allen.long.chen@gmail.com), Yassine Ghalem (yassine.ghalem@gmail.com) and Jim Gatheral (jim.gatheral@gmail.com) by the due date and time.  All R-code must run correctly and solutions must be written up neatly in Markdown/LaTeX format."
   ]
  },
  {
   "cell_type": "markdown",
   "metadata": {},
   "source": [
    "### 0. (0 points) \n",
    "\n",
    "Read Chapters 7 and 8 of The Volatility Surface."
   ]
  },
  {
   "cell_type": "markdown",
   "metadata": {},
   "source": [
    "## Diamonds"
   ]
  },
  {
   "cell_type": "markdown",
   "metadata": {},
   "source": [
    "### 1. (8 points) \n",
    "\n",
    "(a) Prove Lemma 1 of Lecture 10, namely: Let $A$ and $B$ be martingales in the same filtered probability space.  Then\n",
    "<p>\n",
    "$$\n",
    "(A \\dm B)_t(T) = \\eef{A_T B_T} - A_t\\,B_t  = \\covf{A_T,B_T}.\n",
    "$$\n",
    "(Hint: Use Itô's Lemma.)\n",
    "\n",
    "(b) Let $M_t(T) = \\eef{\\angl{X}_T}$.  Deduce that $(M \\dm M)_t(T) = \\var[M_t(T)] = \\varf{\\angl{X}_T}$. "
   ]
  },
  {
   "cell_type": "markdown",
   "metadata": {},
   "source": [
    "### Answer\n",
    "\n",
    "(a)\n",
    "\n",
    "from Ito lemma, we have\n",
    "$$ d(AB) = AdB + B dA + dA dB $$\n",
    "\n",
    "which is equivalent to \n",
    "$$\n",
    "dAdB=d(AB)-AdB-BdA\n",
    "$$\n",
    "\n",
    "Integrate both side and take condition expectation\n",
    "\\begin{eqnarray}\n",
    "(A \\dm B) _ t(T) &=&  \\eef{\\int_t^T dA_s dB_s}\\\\\n",
    "&=& \\eef{\\int_t^T d(AB) _ s - A_s dB_s - B_s dA_s } \\\\\n",
    "&=& \\eef{\\int_t^T d(AB) _ s } \\\\\n",
    "&=& \\eef{A_T B_T} - A_t\\,B_t  \\\\\n",
    "&=& \\eef{A_T B_T} - \\eef {A_T}\\eef{B_T}\\\\\n",
    "&=&\\covf{A_T,B_T}.\n",
    "\\end{eqnarray}"
   ]
  },
  {
   "cell_type": "markdown",
   "metadata": {},
   "source": [
    "(b)\n",
    "\n",
    "Use result form (a), \n",
    "\\begin{eqnarray}\n",
    "(M \\dm M)_t(T)&=&\\covf{M_T,M_T}\\\\\n",
    "&=&\\var[M_t(T)]\\\\\n",
    "&=& \\varf{\\eef{\\angl{X}_T}}\\\\\n",
    "&=& \\varf{\\angl{X}_T}\n",
    "\\end{eqnarray}"
   ]
  },
  {
   "cell_type": "markdown",
   "metadata": {},
   "source": [
    "## The ATM skew approximation"
   ]
  },
  {
   "cell_type": "markdown",
   "metadata": {},
   "source": [
    "### 2. (12 points) \n",
    "\n",
    "\n",
    "Consider the following stochastic volatility dynamics (known variously as Hull-White, GARCH or lognormal):\n",
    "\n",
    "\n",
    "\\begin{eqnarray*}\n",
    "\\frac{dS_t}{S_t} &=& \\sqrt{v_t}\\,S_t \\,dZ_t\\\\\n",
    "dv_t &=&  - \\kappa \\,(v_t - \\bar v)\\,dt + \\alpha \\,v_t \\,dW_t\n",
    "\\end{eqnarray*}\n",
    "\n",
    "\n",
    "with $\n",
    "\\ee {dZ_t \\,{dW_t} } = \\rho \\, dt\n",
    "$ and where $\\kappa$ is the speed of reversion of $v_t$ to its long term\n",
    "mean $\\bar v$.\n",
    "\n",
    "(a)\n",
    "Compute the forward variance curve $\\xi_t(u)$ for $ u \\geq t$.  Deduce that $d\\xi_t(u) = \\alpha\\,v_t\\,e^{-\\kappa\\,(u-t)}\\,dW_t$.\n",
    "\n",
    "(b) Compute $dM_t(T)$ where $M_t(T) = \\eef{\\angl{X}_T}$.\n",
    "\n",
    "\n",
    "(c) \n",
    "Assuming $v_t = \\bar v$ for simplicity, compute $ (X \\dm M)_t(T)$. (Hint: Use that $\\eef{v_s^{3/2}} \\approx \\xi_t(s)^{3/2}$.)\n",
    "\n",
    "(d) Use equation (3) from Lecture 10 to approximate the ATM volatility skew $\\psi_t^L(T)$ under the above lognormal dynamics with a flat forward variance curve.\n",
    "\n",
    "(e)  Recall from Lecture 6 that the Heston term structure of ATM skew is given (again with $v_t = \\bar v$) by\n",
    "\n",
    "$$\n",
    "\\psi_t^H(T) =\n",
    "\\frac {\\rho\\,\\eta}{2\\,\\sqrt{\\bar v}}\\,\\frac{1}{\\kappa\\,\\tau}\\,\\left\\{1-\\frac{1-e^{-\\kappa\\,\\tau}}{\\kappa\\,\\tau}\\right\\}\n",
    "$$\n",
    "\n",
    "where $\\tau = T-t$.  Given a time series of volatility smiles, how would you distinguish between Heston and lognormal dynamics empirically?"
   ]
  },
  {
   "cell_type": "markdown",
   "metadata": {},
   "source": [
    "### Answer\n",
    "\n",
    "(a)\n",
    "\n",
    "solve the sde, we have\n",
    "$$ v_u = e^{\\kappa(t - u)}v_t + \\bar v(1 - e^{\\kappa(t - u)}) + \\alpha\\int_t^u e^{\\kappa(s - u)}v_sdW_s. $$\n",
    "\n",
    "then\n",
    "$$\n",
    "\\xi_t(u) = \\eef{v_u} = e^{\\kappa\\,(t - u)}v_t + \\bar v\\,(1 - e^{\\kappa\\,(t - u)}) \n",
    "$$\n",
    "\n",
    "thus\n",
    "$$\n",
    "d\\xi_t(u) = e^{\\kappa\\,(t - u)} dv_t +\\kappa e^{\\kappa\\,(t - u)}v_tdt-\\bar v\\kappa e^{\\kappa\\,(t - u)} dt=\\alpha\\,v_t\\,e^{-\\kappa\\,(u-t)}\\,dW_t\n",
    "$$"
   ]
  },
  {
   "cell_type": "markdown",
   "metadata": {},
   "source": [
    "(b)\n",
    "\n",
    "\\begin{eqnarray}\n",
    "dM_t &=& \\int_t^T d\\xi_t(u)du \\\\\n",
    "&=& \\int_t^T \\alpha e^{-\\kappa\\,(u - t)} v_t\\,dW_t du \\\\\n",
    "&=& \\alpha v_t\\,dW_t \\int_t^T e^{-\\kappa\\,(u - t)} du\\\\\n",
    "&=& \\alpha v_t \\frac{1- e^{-\\kappa\\,(T - t)}}{\\kappa} dW_t.\n",
    "\\end{eqnarray}"
   ]
  },
  {
   "cell_type": "markdown",
   "metadata": {},
   "source": [
    "(c)\n",
    "\n",
    "$$\n",
    "dX=d\\log S = \\sqrt vdZ-vdt\n",
    "$$\n",
    "\n",
    "so\n",
    "\n",
    "$$\n",
    "dX_tdM_t =\\rho \\alpha \\frac{1- e^{-\\kappa\\,(T - t)}}{\\kappa} v_t^{3/2}dt\n",
    "$$\n",
    "\n",
    "thus\n",
    "\n",
    "\\begin{eqnarray}\n",
    "(X \\dm M) _ t(T)&=&\\eef{\\int_t^T dX_s dM_s}\\\\\n",
    "&=&\\frac{\\rho\\alpha}{\\kappa}\\bar v^{3/2}\\int_t^T(1-e^{-\\kappa(T-s)})ds\\\\\n",
    "&=&\\frac{\\alpha\\rho \\bar{v}^{3/2}(T-t)}{\\kappa}\\left\\{ 1 - \\frac{ 1- e^{-\\kappa\\,(T - t)}}{\\kappa(T-t)} \\right\\}\n",
    "\\end{eqnarray}"
   ]
  },
  {
   "cell_type": "markdown",
   "metadata": {},
   "source": [
    "(d)\n",
    "\n",
    "with flat forward variance curve,\n",
    "\n",
    "$$\n",
    "w_t(T)=v_t(T-t)=\\bar v(T-t)\n",
    "$$\n",
    "\n",
    "then ATM volatility skew\n",
    "\n",
    "$$\n",
    "\\psi_t(T) = \\frac{1}{2\\sqrt{w_t(T)(T-t)}}\\left.\\p_k w_{\\BS}(k,T)\\right|_{k=0}  = \\frac{1}{2\\sqrt{w_t(T)(T-t)}}\\frac{(Y \\dm M)_t(T)}{w_t(T)} =\\frac{\\alpha\\rho }{2\\kappa (T-t)}\\left\\{ 1 - \\frac{ 1- e^{-\\kappa\\,(T - t)}}{\\kappa(T-t)} \\right\\}\n",
    "$$"
   ]
  },
  {
   "cell_type": "markdown",
   "metadata": {},
   "source": [
    "(e)\n",
    "\n",
    "The difference is Heston's ATM volatility skew is proportional to $\\frac{1}{\\sqrt{\\bar v}}$, while lognormal dynamics is not. We can check if the empirical ATM skew is proportional to $\\frac{1}{\\sqrt{\\bar v}}$ or not. If positive, then Heston model, otherwise, lognormal model."
   ]
  },
  {
   "cell_type": "markdown",
   "metadata": {},
   "source": [
    "## Internal politics"
   ]
  },
  {
   "cell_type": "markdown",
   "metadata": {},
   "source": [
    "### 3. (10 points) \n",
    "\n",
    "Pretend that you are a quantitative analyst at an investment bank\n",
    "(Banque Prix Bas) and your boss passes you the following email\n",
    "asking you to draft a (careful) reply quickly:\n",
    "\n",
    ">From: The Head of Marketing\n",
    "\n",
    ">To: Your Boss and the Head of Trading\n",
    "\n",
    ">Subject: **We are Uncompetitive in Digital Cliquets**\n",
    "\n",
    ">Over the last two weeks, we have lost no fewer than four digital\n",
    "cliquet deals by substantial margins.  Our pricing of these\n",
    "transactions is so uncompetitive that we end up embarrassing ourselves\n",
    "in front of clients.  Indeed, we are in serious danger of losing\n",
    "clients.\n",
    "\n",
    ">I have spoken with contacts at two of our most sophisticated\n",
    "competitors (Banca Sbagliata and Deutsche FehlerBank). They insist\n",
    "that they are pricing digital cliquets perfectly consistently with\n",
    "the volatility skew using the latest financial modeling techniques.\n",
    "Our brilliant traders tell me that these banks are incorrectly\n",
    "projecting the volatility skew. Why is it always the competition\n",
    "that is getting it wrong? Could it be that we are being stupid?\n",
    "\n",
    ">I will need to see some pretty convincing arguments very soon or I shall\n",
    "be forced to take this issue to the next level.\n",
    "\n",
    ">Regards,\n",
    "\n",
    ">Very Unhappy Head of Marketing\n",
    "\n",
    "\n",
    "When drafting your reply, remember that the Head of Marketing is not\n",
    "a mathematician -- so no math!  Also, if it really is the case that\n",
    "your bank is losing deals by a huge margin, consider how you might\n",
    "be able to make money out of the situation."
   ]
  },
  {
   "cell_type": "markdown",
   "metadata": {},
   "source": [
    "### Answer\n",
    "\n",
    "The digital cliquet is a basket of digital option with different strike date. The pricing depends on volatility skew. The reason that our competitor beats us for now is they underestimate the volatility skew. Maybe their model contains jump thus match the volatility skew. But their model is not correct and will lose money in long run.\n",
    "\n",
    "I suggest we could buy cliquet from our competitor, as they underestimate the price. The market will realize our model is correct and the price would rise in the future. Then we could make money from them."
   ]
  }
 ],
 "metadata": {
  "kernelspec": {
   "display_name": "R",
   "language": "R",
   "name": "ir"
  },
  "language_info": {
   "codemirror_mode": "r",
   "file_extension": ".r",
   "mimetype": "text/x-r-source",
   "name": "R",
   "pygments_lexer": "r",
   "version": "3.5.1"
  },
  "latex_envs": {
   "LaTeX_envs_menu_present": true,
   "autoclose": false,
   "autocomplete": false,
   "bibliofile": "biblio.bib",
   "cite_by": "apalike",
   "current_citInitial": 1,
   "eqLabelWithNumbers": false,
   "eqNumInitial": 1,
   "hotkeys": {
    "equation": "Ctrl-E",
    "itemize": "Ctrl-I"
   },
   "labels_anchors": false,
   "latex_user_defs": false,
   "report_style_numbering": false,
   "user_envs_cfg": false
  },
  "varInspector": {
   "cols": {
    "lenName": 16,
    "lenType": 16,
    "lenVar": 40
   },
   "kernels_config": {
    "python": {
     "delete_cmd_postfix": "",
     "delete_cmd_prefix": "del ",
     "library": "var_list.py",
     "varRefreshCmd": "print(var_dic_list())"
    },
    "r": {
     "delete_cmd_postfix": ") ",
     "delete_cmd_prefix": "rm(",
     "library": "var_list.r",
     "varRefreshCmd": "cat(var_dic_list()) "
    }
   },
   "types_to_exclude": [
    "module",
    "function",
    "builtin_function_or_method",
    "instance",
    "_Feature"
   ],
   "window_display": false
  }
 },
 "nbformat": 4,
 "nbformat_minor": 1
}
