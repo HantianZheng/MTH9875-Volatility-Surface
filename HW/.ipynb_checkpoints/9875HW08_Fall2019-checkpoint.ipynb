{
 "cells": [
  {
   "cell_type": "markdown",
   "metadata": {},
   "source": [
    "## MTH9875 Homework 8\n",
    "\n",
    "Assigned: October 24, 2019.\n",
    "Due: November 7, 2019 by 6pm.\n",
    "\n",
    "Late homework **will not be accepted**."
   ]
  },
  {
   "cell_type": "markdown",
   "metadata": {},
   "source": [
    "<font color = \"red\">Homework is to be done by each student individually.  To receive full credit, you must email a completed copy of this iPython notebook to Allen Chen (allen.long.chen@gmail.com), Yassine Ghalem (yassine.ghalem@gmail.com) and Jim Gatheral (jim.gatheral@gmail.com) by the due date and time.  All R-code must run correctly and solutions must be written up neatly in Markdown/LaTeX format."
   ]
  },
  {
   "cell_type": "markdown",
   "metadata": {},
   "source": [
    "### Download some R-code\n"
   ]
  },
  {
   "cell_type": "code",
   "execution_count": 1,
   "metadata": {
    "ExecuteTime": {
     "end_time": "2019-10-27T16:20:33.853440Z",
     "start_time": "2019-10-27T16:20:33.079Z"
    }
   },
   "outputs": [],
   "source": [
    "download.file(url=\"http://mfe.baruch.cuny.edu/wp-content/uploads/2018/10/9875-8.zip\", destfile=\"9875-8.zip\")\n",
    "unzip(zipfile=\"9875-8.zip\")"
   ]
  },
  {
   "cell_type": "code",
   "execution_count": 2,
   "metadata": {
    "ExecuteTime": {
     "end_time": "2019-10-27T16:20:33.910129Z",
     "start_time": "2019-10-27T16:20:33.308Z"
    }
   },
   "outputs": [],
   "source": [
    "source(\"BlackScholes.R\")\n",
    "source(\"Lewis.R\")\n",
    "source(\"roughHestonPade.R\")"
   ]
  },
  {
   "cell_type": "code",
   "execution_count": 3,
   "metadata": {
    "ExecuteTime": {
     "end_time": "2019-10-27T16:20:33.952652Z",
     "start_time": "2019-10-27T16:20:33.616Z"
    }
   },
   "outputs": [],
   "source": [
    "library(repr)\n",
    "options(repr.plot.height=5)"
   ]
  },
  {
   "cell_type": "markdown",
   "metadata": {},
   "source": [
    "### 0. (0 points) \n",
    "\n",
    "Read Chapter 6 of The Volatility Surface. "
   ]
  },
  {
   "cell_type": "markdown",
   "metadata": {},
   "source": [
    "## The Kou double-exponential jump diffusion model\n",
    "\n",
    "\n",
    "In the Kou model, the underlying follows a jump-diffusion process of the form\n",
    "\n",
    "$$\n",
    "x_t=\\alpha\\,t+\\sigma\\,W_t+\\sum_{i=1}^{N_t}\\,y_i\n",
    "$$\n",
    "\n",
    "where $\\{N_t\\}$ is the Poisson process counting the jumps of $x$, and $y_i$ are jump sizes.  The distribution of jump sizes is an asymmetric exponential with density\n",
    "\n",
    "<a name=\"eq:KouDensity\"></a>(1)\n",
    "$$\n",
    "\\nu(x)=p\\,\\lambda_+\\,e^{-\\lambda_+\\,x}\\,{\\mathbb 1}_{x>0}+(1-p)\\,\\lambda_-\\,e^{+\\lambda_-\\,x}\\,{\\mathbb 1}_{x \\leq 0}.\n",
    "$$"
   ]
  },
  {
   "cell_type": "markdown",
   "metadata": {},
   "source": [
    "### 1. (2 points)\n",
    "\n",
    "Conditional on an up-jump, what is the expected size of the jump?\n",
    "\n",
    "\n",
    "$$\n",
    "\\newcommand{\\supp}{\\mathrm{supp}}\n",
    "\\newcommand{\\E}{\\mathbb{E} }\n",
    "\\def\\Cov{{ \\mbox{Cov} }}\n",
    "\\def\\Var{{ \\mbox{Var} }}\n",
    "\\newcommand{\\1}{\\mathbf{1} }\n",
    "\\newcommand{\\PP}{\\mathbb{P} }\n",
    "%\\newcommand{\\Pr}{\\mathrm{Pr} }\n",
    "\\newcommand{\\QQ}{\\mathbb{Q} }\n",
    "\\newcommand{\\RR}{\\mathbb{R} }\n",
    "\\newcommand{\\DD}{\\mathbb{D} }\n",
    "\\newcommand{\\HH}{\\mathbb{H} }\n",
    "\\newcommand{\\spn}{\\mathrm{span} }\n",
    "\\newcommand{\\cov}{\\mathrm{cov} }\n",
    "\\newcommand{\\sgn}{\\mathrm{sgn} }\n",
    "\\newcommand{\\HS}{\\mathcal{L}_{\\mathrm{HS}} }\n",
    "%\\newcommand{\\HS}{\\mathrm{HS} }\n",
    "\\newcommand{\\trace}{\\mathrm{trace} }\n",
    "\\newcommand{\\LL}{\\mathcal{L} }\n",
    "%\\newcommand{\\LL}{\\mathrm{L} }\n",
    "\\newcommand{\\s}{\\mathcal{S} }\n",
    "\\newcommand{\\ee}{\\mathcal{E} }\n",
    "\\newcommand{\\ff}{\\mathcal{F} }\n",
    "\\newcommand{\\hh}{\\mathcal{H} }\n",
    "\\newcommand{\\bb}{\\mathcal{B} }\n",
    "\\newcommand{\\dd}{\\mathcal{D} }\n",
    "\\newcommand{\\g}{\\mathcal{G} }\n",
    "\\newcommand{\\p}{\\partial}\n",
    "\\newcommand{\\half}{\\frac{1}{2} }\n",
    "\\newcommand{\\T}{\\mathcal{T} }\n",
    "\\newcommand{\\bi}{\\begin{itemize}}\n",
    "\\newcommand{\\ei}{\\end{itemize}}\n",
    "\\newcommand{\\beq}{\\begin{equation}}\n",
    "\\newcommand{\\eeq}{\\end{equation}}\n",
    "\\newcommand{\\beas}{\\begin{eqnarray*}}\n",
    "\\newcommand{\\eeas}{\\end{eqnarray*}}\n",
    "\\newcommand{\\cO}{\\mathcal{O}}\n",
    "\\newcommand{\\cF}{\\mathcal{F}}\n",
    "\\newcommand{\\cL}{\\mathcal{L}}\n",
    "$$\n",
    "\n"
   ]
  },
  {
   "cell_type": "markdown",
   "metadata": {},
   "source": [
    "### Answer\n",
    "\n",
    "$$\\mathbb{E}[x|x>0]=\\frac{\\int_0^\\infty xv(x)}{\\int_0^\\infty v(x)}=\\frac{\\int_0^\\infty px\\lambda_+e^{-\\lambda_+x}}{\\int_0^\\infty p\\lambda_+e^{-\\lambda_+x}}=\\frac{1}{\\lambda_+}$$"
   ]
  },
  {
   "cell_type": "markdown",
   "metadata": {},
   "source": [
    "### 2. (8 points) \n",
    "\n",
    "Using the Lévy Khintchine formula, derive the characteristic function \n",
    "$\n",
    "\\phi_T(u)=\\exp\\{\\psi(u)\\,T\\}\n",
    "$\n",
    "with\n",
    "\n",
    "<a name=\"eq:KouPsi\"></a>(2)\n",
    "$$\n",
    "\\psi(u)=-\\frac{\\sigma^2}{2}\\,u^2+i\\,\\omega\\,u+i\\,u\\,\\lambda\\,\\left\\{\\frac{p}{\\lambda_+-i\\,u}-\\frac{1-p}{\\lambda_-+i\\,u}\\right\\}\n",
    "$$\n",
    "\n",
    "where $\\lambda$ is the mean jump arrival rate and\n",
    "\n",
    "$$\n",
    "\\omega=-\\frac{\\sigma^2}{2}-\\lambda\\,\\left\\{\\frac{p}{\\lambda_+-1}-\\frac{1-p}{\\lambda_-+1}\\right\\}.\n",
    "$$\n",
    "\n",
    "$\\psi(u)$ is known as the *characteristic exponent* of the Lévy process."
   ]
  },
  {
   "cell_type": "markdown",
   "metadata": {},
   "source": [
    "### Answer\n",
    "\n",
    "From Lévy Khintchine formula, we have\n",
    "\n",
    "$$\n",
    "\\phi_T(u)=\\exp\\{iu\\omega T-\\frac12u^2\\sigma^2T+T\\int[e^{iu\\xi}-1]\\mu(\\xi)d\\xi\\}\n",
    "$$\n",
    "\n",
    "Using $\\mu=\\lambda v$, the integration part is \n",
    "\\begin{eqnarray}\n",
    "\\int[e^{iu\\xi}-1]\\mu(\\xi)d\\xi&=&\\int_{-\\infty}^0 \\lambda \\left(e^{iux}-1\\right)(1-p)\\lambda_{-}e^{\\lambda_- x}dx +\n",
    "\\int_0^{\\infty} p\\lambda \\lambda_{+} \\left( e^{iux}-1\\right)e^{-\\lambda_{+}x}dx \\\\\n",
    "&=&i\\,u\\,\\lambda\\,\\left\\{\\frac{p}{\\lambda_+-i\\,u}-\\frac{1-p}{\\lambda_-+i\\,u}\\right\\}\n",
    "\\end{eqnarray}\n",
    "\n",
    "So  from $\\phi_T(u)=\\exp\\{\\psi(u)\\,T\\}$, we have \n",
    "\n",
    "$$\n",
    "\\psi(u)=-\\frac{\\sigma^2}{2}\\,u^2+i\\,\\omega\\,u+i\\,u\\,\\lambda\\,\\left\\{\\frac{p}{\\lambda_+-i\\,u}-\\frac{1-p}{\\lambda_-+i\\,u}\\right\\}\n",
    "$$"
   ]
  },
  {
   "cell_type": "markdown",
   "metadata": {},
   "source": [
    "Using the martingale condition $\\phi_T(-i)=1$, we have\n",
    "\n",
    "$$\n",
    "\\psi(-i)=-\\frac{\\sigma^2}{2}+\\omega-\\lambda\\left\\{\\frac{p}{\\lambda_+-i\\,u}-\\frac{1-p}{\\lambda_-+i\\,u}\\right\\}=0\n",
    "$$\n",
    "\n",
    "we finally have\n",
    "\n",
    "$$\n",
    "\\omega=-\\frac{\\sigma^2}{2}-\\lambda\\,\\left\\{\\frac{p}{\\lambda_+-1}-\\frac{1-p}{\\lambda_-+1}\\right\\}.\n",
    "$$"
   ]
  },
  {
   "cell_type": "markdown",
   "metadata": {},
   "source": [
    "### 3. (6 points) \n",
    "\n",
    "Use the characteristic exponent [(2)](#eq:KouPsi) and Lewis's formula (6) from Lecture 8 as implemented in `Lewis.R` to plot the one-year Kou model implied volatility smile assuming the following parameters:\n",
    "\n",
    "$$\n",
    "\\sigma=0.1; \\,\\lambda=1.0;\\,p=0.25;\\,\\lambda_-=8;\\,\\lambda_+=25;\n",
    "$$\n",
    "\n",
    "The log-strike range should be from $k=-1.0$ to $k=1.0$.  "
   ]
  },
  {
   "cell_type": "code",
   "execution_count": 4,
   "metadata": {
    "ExecuteTime": {
     "end_time": "2019-10-27T16:45:06.865602Z",
     "start_time": "2019-10-27T16:45:06.849Z"
    }
   },
   "outputs": [],
   "source": [
    "phiKou <- function(params)\n",
    "{   \n",
    "    sig <- params$sig\n",
    "    lambda <- params$lambda\n",
    "    p <- params$p\n",
    "    lambdaM <- params$lambdaM\n",
    "    lambdaP <- params$lambdaP\n",
    "       \n",
    "    res <- function(u, t)\n",
    "    {\n",
    "        omega <- -sig * sig / 2.0 - lambda * (p / (lambdaP - 1) - (1-p) / (lambdaM + 1))\n",
    "        psi <- -sig * sig / 2.0 * u * u + (0+1i) * omega * u \n",
    "        psi <- psi + (0+1i) * u * lambda * ((p / (lambdaP - (0+1i) * u)) - (1-p) / (lambdaM + (0+1i) * u))\n",
    "        res <- exp(psi * t)\n",
    "        return(res)\n",
    "    }\n",
    "    \n",
    "    return(res)\n",
    "}\n",
    "\n",
    "paramsKou <- list(sig = 0.1, lambda = 1.0, p = 0.25, lambdaM = 8.0, lambdaP = 25.0)"
   ]
  },
  {
   "cell_type": "code",
   "execution_count": 5,
   "metadata": {
    "ExecuteTime": {
     "end_time": "2019-10-27T16:45:53.526396Z",
     "start_time": "2019-10-27T16:45:53.275Z"
    }
   },
   "outputs": [
    {
     "data": {
      "image/png": "[encoded data removed]",
      "text/plain": [
       "plot without title"
      ]
     },
     "metadata": {},
     "output_type": "display_data"
    }
   ],
   "source": [
    "impvol <- function(k){sapply(k,function(x){impvol.phi(phiKou(paramsKou))(x,1)})}\n",
    "curve(impvol(x),from=-1.0,to=1.0, xlab=\"log-strike k\", ylab=\"implied volatility\")"
   ]
  },
  {
   "cell_type": "markdown",
   "metadata": {},
   "source": [
    "## Jump-Diffusion Monte Carlo"
   ]
  },
  {
   "cell_type": "markdown",
   "metadata": {},
   "source": [
    "### 4. (10 points) \n",
    "\n",
    "(a) \n",
    "Write Monte Carlo code to price European options in the Kou model. \n",
    "\n",
    "(b) With the same parameters as in Problem 3, run your Monte Carlo code with $T=1$ year and 2 million paths.\n",
    "\n",
    "(c) \n",
    "Use your output from (b) to plot the one-year implied volatility smile from $k=-1.0$ to $k=1.0$.  \n",
    "\n",
    "(d) Superimpose your plot from (c) on the exact smile from Problem 3.  Verify that you obtain the same implied volatilities."
   ]
  },
  {
   "cell_type": "markdown",
   "metadata": {},
   "source": [
    "## Term structure of ATM skew"
   ]
  },
  {
   "cell_type": "markdown",
   "metadata": {},
   "source": [
    "### 5. (16 points) \n",
    "\n",
    "(a) Implement in R the ATM volatility skew using formula (8) from the lecture notes:\n",
    "\n",
    "\\begin{equation}\n",
    "\\left.\\frac{\\partial \\sigma_{BS} }{\\partial k }\\right|_{k=0}=-\n",
    "e^{\\frac{\\sigma_{BS}^2 T}{8}} \\sqrt{\\frac{2}{ \\pi}}\\frac{1}{\n",
    "\\sqrt{T}}\\,\\int_0^\\infty\\,du \\, \\frac{u\\,\n",
    "\\mathrm{Im}\\left[\\phi_T(u-i/2)\\right]}\n",
    "{u^2+\\frac{1}{4}},\n",
    "\\end{equation}\n",
    "\n",
    "\n",
    "Your function should look like \n",
    "\n",
    "`atmSkew.phi <- function(phi)function(t){...}`\n",
    "\n",
    "Remember to vectorize this function!\n",
    "\n",
    "(b) Use your function `atmSkew.phi` to plot the Kou model ATM volatility skew with Kou parameters from Problem 3,  from 0 to 10 years.  \n",
    "\n",
    "\n",
    "(c) Using the rough Heston parameters\n",
    "\n",
    "$$\n",
    "H=0.05; \\eta=0.1; \\rho=-.65;\n",
    "$$\n",
    "\n",
    "with a flat forward variance curve $\\xi = 0.035$, superimpose the rough Heston ATM skew curve on the plot from part (b).  Use the Padé 3-3 approximation as in \n",
    "\n",
    "`phi.rHeston <- phiRoughHestonDhApprox(params.rHeston, xiCurve, dh.approx= d.h.Pade33, n=20)`.\n",
    "\n",
    "(d) \n",
    "\n",
    "Superimpose a plot of the function $\\psi_1/T^{.45}$ where $\\psi_1$ is the rough Heston model 1-year ATM volatility skew.  Why did I choose the exponent $0.45$?\n",
    "\n",
    "(e) Which model is more realistic: Kou or rough Heston?  Why?"
   ]
  },
  {
   "cell_type": "markdown",
   "metadata": {},
   "source": [
    "### 6. (6 points)  \n",
    "\n",
    "Explain qualitatively to a non-specialist (*e.g.* your boss who is a trader) what happens to the volatility surface when there is a large negative jump in the Kou model.  Compare this to what happens in the rough Heston model when there is a large negative move in the underlying."
   ]
  }
 ],
 "metadata": {
  "kernelspec": {
   "display_name": "R",
   "language": "R",
   "name": "ir"
  },
  "language_info": {
   "codemirror_mode": "r",
   "file_extension": ".r",
   "mimetype": "text/x-r-source",
   "name": "R",
   "pygments_lexer": "r",
   "version": "3.5.1"
  },
  "latex_envs": {
   "LaTeX_envs_menu_present": true,
   "autoclose": false,
   "autocomplete": false,
   "bibliofile": "biblio.bib",
   "cite_by": "apalike",
   "current_citInitial": 1,
   "eqLabelWithNumbers": false,
   "eqNumInitial": 1,
   "hotkeys": {
    "equation": "Ctrl-E",
    "itemize": "Ctrl-I"
   },
   "labels_anchors": false,
   "latex_user_defs": false,
   "report_style_numbering": false,
   "user_envs_cfg": false
  },
  "varInspector": {
   "cols": {
    "lenName": 16,
    "lenType": 16,
    "lenVar": 40
   },
   "kernels_config": {
    "python": {
     "delete_cmd_postfix": "",
     "delete_cmd_prefix": "del ",
     "library": "var_list.py",
     "varRefreshCmd": "print(var_dic_list())"
    },
    "r": {
     "delete_cmd_postfix": ") ",
     "delete_cmd_prefix": "rm(",
     "library": "var_list.r",
     "varRefreshCmd": "cat(var_dic_list()) "
    }
   },
   "types_to_exclude": [
    "module",
    "function",
    "builtin_function_or_method",
    "instance",
    "_Feature"
   ],
   "window_display": false
  }
 },
 "nbformat": 4,
 "nbformat_minor": 1
}
